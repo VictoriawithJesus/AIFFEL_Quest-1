{
  "nbformat": 4,
  "nbformat_minor": 0,
  "metadata": {
    "colab": {
      "provenance": [],
      "authorship_tag": "ABX9TyM7wsG5D4l1rg/9PmK7pvkW",
      "include_colab_link": true
    },
    "kernelspec": {
      "name": "python3",
      "display_name": "Python 3"
    },
    "language_info": {
      "name": "python"
    }
  },
  "cells": [
    {
      "cell_type": "markdown",
      "metadata": {
        "id": "view-in-github",
        "colab_type": "text"
      },
      "source": [
        "<a href=\"https://colab.research.google.com/github/inseonseo/AIFFEL_Quest/blob/main/DS1_230108.ipynb\" target=\"_parent\"><img src=\"https://colab.research.google.com/assets/colab-badge.svg\" alt=\"Open In Colab\"/></a>"
      ]
    },
    {
      "cell_type": "code",
      "source": [
        "import random\n",
        "from datetime import datetime\n",
        "from time import strftime\n",
        "\n",
        "class Account:\n",
        "    def __init__(self, owner, balance):\n",
        "        # 입금 횟수 초기화\n",
        "        self.count = 0\n",
        "        # 입금 내역 [(시간, \"입금\", 금액), ...]\n",
        "        self.deposit_record = []\n",
        "        # 출금 내역 [(시간, \"출금\", 금액), ...]\n",
        "        self.withdraw_record = []\n",
        "        # 거래 시간 기록\n",
        "        self.tx_record = []\n",
        "        # 1회 출금 한도 설정(초기값)\n",
        "        self._w_limit = 5000000\n",
        "\n",
        "        self.owner = owner\n",
        "        self.balance = balance\n",
        "        self.bank = 'SC은행'\n",
        "        self.account_number = self.generate_account_number()\n",
        "\n",
        "    def generate_account_number(self):\n",
        "        \"\"\"\n",
        "        랜덤 계좌번호 생성 메서드\n",
        "\n",
        "        Returns:\n",
        "        str: 생성된 계좌번호\n",
        "        \"\"\"\n",
        "        a_num1 = random.randint(0, 999)\n",
        "        a_num2 = random.randint(0, 99)\n",
        "        a_num3 = random.randint(0, 999999)\n",
        "\n",
        "        a_num1 = str(a_num1).zfill(3)  # 1 => 001\n",
        "        a_num2 = str(a_num2).zfill(2)\n",
        "        a_num3 = str(a_num3).zfill(6)\n",
        "\n",
        "        return f\"{a_num1}-{a_num2}-{a_num3}\"\n",
        "\n",
        "    def deposit(self, amount):\n",
        "        \"\"\"\n",
        "        입금 메서드\n",
        "\n",
        "        Args:\n",
        "        amount (int): 입금할 금액\n",
        "        \"\"\"\n",
        "        if amount >= 1:\n",
        "            self.balance += amount\n",
        "            self.count += 1\n",
        "            if self.count % 5 == 0:\n",
        "                self.balance *= 1.01\n",
        "                self.balance = int(self.balance)\n",
        "\n",
        "            # 입금 내역 기록\n",
        "            transaction_time = datetime.now()\n",
        "            self.deposit_record.append((transaction_time, \"입금\", amount))\n",
        "\n",
        "    def withdraw(self, amount):\n",
        "        \"\"\"\n",
        "        출금 메서드\n",
        "\n",
        "        Args:\n",
        "        amount (int): 출금할 금액\n",
        "        \"\"\"\n",
        "        if amount < self.balance:\n",
        "            if self._w_limit >= amount:\n",
        "                self.balance -= amount\n",
        "\n",
        "                # 출금 내역 기록\n",
        "                transaction_time = datetime.now()\n",
        "                self.withdraw_record.append((transaction_time, \"출금\", amount))\n",
        "            else:\n",
        "                print(f\"1회 출금한도를 초과하였습니다. 출금한도는 {self._w_limit:,}원 입니다.\")\n",
        "        else:\n",
        "            print(\"잔액이 부족하여 출금할 수 없습니다.\")\n",
        "\n",
        "    def display_info(self):\n",
        "        \"\"\"\n",
        "        계좌 정보 출력 메서드\n",
        "        \"\"\"\n",
        "        print(\"은행이름: {}, 예금주: {}, 계좌번호: {}, 잔고: {:,}원\".format(\n",
        "            self.bank, self.owner, self.account_number, self.balance))\n",
        "\n",
        "    def deposit_history(self):\n",
        "        \"\"\"\n",
        "        입금 내역 출력 메서드\n",
        "        \"\"\"\n",
        "        for record in self.deposit_record:\n",
        "            time, type, amount = record\n",
        "            time_str = time.strftime(\"%Y-%m-%d %I:%M:%S %p\")\n",
        "            print(f\"{time_str} - {type}: {amount:,}원\")\n",
        "\n",
        "    def withdraw_history(self):\n",
        "        \"\"\"\n",
        "        출금 내역 출력 메서드\n",
        "        \"\"\"\n",
        "        for record in self.withdraw_record:\n",
        "            time, type, amount = record\n",
        "            time_str = time.strftime(\"%Y-%m-%d %I:%M:%S %p\")\n",
        "            print(f\"{time_str} - {type}: {amount:,}원\")\n",
        "\n",
        "    def all_history(self):\n",
        "        \"\"\"\n",
        "        모든(입금, 출금) 거래 내역 출력 메서드\n",
        "        \"\"\"\n",
        "        all_transaction = sorted(\n",
        "            self.deposit_record + self.withdraw_record, key=lambda x: x[0])\n",
        "        for record in all_transaction:\n",
        "            time, type, amount = record\n",
        "            time_str = time.strftime(\"%Y-%m-%d %I:%M:%S %p\")\n",
        "            print(f\"{time_str} - {type}: {amount:,}원\")\n",
        "        print(\"잔고: {:,}원\".format(self.balance))\n",
        "\n",
        "    def get_withdraw_limit(self):\n",
        "        \"\"\"\n",
        "        출금 한도 반환 메서드\n",
        "\n",
        "        Returns:\n",
        "        int: 현재 출금 한도\n",
        "        \"\"\"\n",
        "        return self._w_limit\n",
        "\n",
        "    def set_withdraw_limit(self):\n",
        "        \"\"\"\n",
        "        출금 한도 설정 메서드\n",
        "        \"\"\"\n",
        "        try:\n",
        "            new_limit = int(input(\"1회 출금 한도를 입력하세요, 초기 한도는 500만원 입니다.\"))\n",
        "            if new_limit >= 0:\n",
        "                self._w_limit = new_limit\n",
        "                print(\"출금한도가 {:,}원으로 변경되었습니다.\".format(self._w_limit))\n",
        "            else:\n",
        "              print(\"오류 : 음수 값은 허용되지 않습니다. 출금한도 설정을 취소합니다.\")\n",
        "        except ValueError:\n",
        "          print(\"오류 : 잘못된 입력입니다. 숫자를 입력하세요. 출금한도 설정을 취소합니다.\")\n"
      ],
      "metadata": {
        "id": "yg17QAc8JQbx"
      },
      "execution_count": null,
      "outputs": []
    },
    {
      "cell_type": "code",
      "source": [
        "# 신규 계좌 개설 및 계좌 정보 확인\n",
        "Son = Account(\"손흥민\", 1000000)\n",
        "Son.display_info()"
      ],
      "metadata": {
        "colab": {
          "base_uri": "https://localhost:8080/"
        },
        "id": "2-7YjGYBMC27",
        "outputId": "4e37dfb0-8e56-4199-ea0a-4db2c90eb687"
      },
      "execution_count": null,
      "outputs": [
        {
          "output_type": "stream",
          "name": "stdout",
          "text": [
            "은행이름: SC은행, 예금주: 손흥민, 계좌번호: 472-66-931799, 잔고: 1,000,000원\n"
          ]
        }
      ]
    },
    {
      "cell_type": "code",
      "source": [
        "# 입금 메서드 및 입금 내역 출금\n",
        "Son.deposit(1000000)\n",
        "Son.display_info()\n",
        "Son.deposit_history()"
      ],
      "metadata": {
        "colab": {
          "base_uri": "https://localhost:8080/"
        },
        "id": "vv7bMCguMDGW",
        "outputId": "d69b550b-c240-4bab-a5d2-7362cd468840"
      },
      "execution_count": null,
      "outputs": [
        {
          "output_type": "stream",
          "name": "stdout",
          "text": [
            "은행이름: SC은행, 예금주: 손흥민, 계좌번호: 472-66-931799, 잔고: 2,000,000원\n",
            "2024-01-08 07:40:43 AM - 입금: 1,000,000원\n"
          ]
        }
      ]
    },
    {
      "cell_type": "code",
      "source": [
        "# 출금 메서드 및 출금 내역 출금\n",
        "Son.withdraw(1000000)\n",
        "Son.display_info()\n",
        "Son.withdraw_history()"
      ],
      "metadata": {
        "colab": {
          "base_uri": "https://localhost:8080/"
        },
        "id": "Zp4CxjzjMDMr",
        "outputId": "cdc3119d-f515-4a3d-a147-0a0394d1bc1b"
      },
      "execution_count": null,
      "outputs": [
        {
          "output_type": "stream",
          "name": "stdout",
          "text": [
            "은행이름: SC은행, 예금주: 손흥민, 계좌번호: 472-66-931799, 잔고: 1,000,000원\n",
            "2024-01-08 07:40:46 AM - 출금: 1,000,000원\n"
          ]
        }
      ]
    },
    {
      "cell_type": "code",
      "source": [
        "# 출금 한도 변경\n",
        "Son.set_withdraw_limit()"
      ],
      "metadata": {
        "colab": {
          "base_uri": "https://localhost:8080/"
        },
        "id": "ih2o2jKBM4t0",
        "outputId": "15602dad-c9f7-4b78-86d0-3b977add58d2"
      },
      "execution_count": null,
      "outputs": [
        {
          "output_type": "stream",
          "name": "stdout",
          "text": [
            "1회 출금 한도를 입력하세요, 초기 한도는 500만원 입니다.500000\n",
            "출금한도가 500,000원으로 변경되었습니다.\n"
          ]
        }
      ]
    },
    {
      "cell_type": "code",
      "source": [
        "Son.display_info()"
      ],
      "metadata": {
        "colab": {
          "base_uri": "https://localhost:8080/"
        },
        "id": "zAYzR9aZNCWO",
        "outputId": "41cae042-9d4e-450f-acd2-92b270d71d67"
      },
      "execution_count": null,
      "outputs": [
        {
          "output_type": "stream",
          "name": "stdout",
          "text": [
            "은행이름: SC은행, 예금주: 손흥민, 계좌번호: 472-66-931799, 잔고: 1,000,000원\n"
          ]
        }
      ]
    },
    {
      "cell_type": "code",
      "source": [
        "# 입금 5회 시 이자 1%\n",
        "# ( 위에서 1번, 여기서 4번 진행)\n",
        "Son.deposit(1000000)\n",
        "Son.display_info()\n",
        "Son.deposit(1000000)\n",
        "Son.display_info()\n",
        "Son.deposit(1000000)\n",
        "Son.display_info()\n",
        "Son.deposit(1000000)\n",
        "Son.display_info()"
      ],
      "metadata": {
        "colab": {
          "base_uri": "https://localhost:8080/"
        },
        "id": "EWxA8RmAPoCe",
        "outputId": "5da617ca-5919-4c91-b2b4-8415c73ca6af"
      },
      "execution_count": null,
      "outputs": [
        {
          "output_type": "stream",
          "name": "stdout",
          "text": [
            "은행이름: SC은행, 예금주: 손흥민, 계좌번호: 472-66-931799, 잔고: 2,000,000원\n",
            "은행이름: SC은행, 예금주: 손흥민, 계좌번호: 472-66-931799, 잔고: 3,000,000원\n",
            "은행이름: SC은행, 예금주: 손흥민, 계좌번호: 472-66-931799, 잔고: 4,000,000원\n",
            "은행이름: SC은행, 예금주: 손흥민, 계좌번호: 472-66-931799, 잔고: 5,050,000원\n"
          ]
        }
      ]
    },
    {
      "cell_type": "code",
      "source": [
        "# 출금 한도 초과 시\n",
        "Son.withdraw(1000000)"
      ],
      "metadata": {
        "colab": {
          "base_uri": "https://localhost:8080/"
        },
        "id": "O4m9RyDSQIB6",
        "outputId": "8f7f5b87-ae47-48b0-d7da-4d4eb229a103"
      },
      "execution_count": null,
      "outputs": [
        {
          "output_type": "stream",
          "name": "stdout",
          "text": [
            "1회 출금한도를 초과하였습니다. 출금한도는 500,000원 입니다.\n"
          ]
        }
      ]
    },
    {
      "cell_type": "code",
      "source": [
        "# 전체 입출금 내역 시간 순 출력\n",
        "Son.all_history()"
      ],
      "metadata": {
        "colab": {
          "base_uri": "https://localhost:8080/"
        },
        "id": "5JiippBwQMED",
        "outputId": "363772ac-a000-402d-a103-871b3b761cde"
      },
      "execution_count": null,
      "outputs": [
        {
          "output_type": "stream",
          "name": "stdout",
          "text": [
            "2024-01-08 07:40:43 AM - 입금: 1,000,000원\n",
            "2024-01-08 07:40:46 AM - 출금: 1,000,000원\n",
            "2024-01-08 07:40:59 AM - 입금: 1,000,000원\n",
            "2024-01-08 07:40:59 AM - 입금: 1,000,000원\n",
            "2024-01-08 07:40:59 AM - 입금: 1,000,000원\n",
            "2024-01-08 07:40:59 AM - 입금: 1,000,000원\n",
            "잔고: 5,050,000원\n"
          ]
        }
      ]
    },
    {
      "cell_type": "code",
      "source": [
        "# 출금한도 설정 예외 상황\n",
        "Son.set_withdraw_limit()"
      ],
      "metadata": {
        "colab": {
          "base_uri": "https://localhost:8080/"
        },
        "id": "OJFxvvExQQCO",
        "outputId": "0b5ec71a-697c-48af-d7d4-d1880fa86078"
      },
      "execution_count": null,
      "outputs": [
        {
          "output_type": "stream",
          "name": "stdout",
          "text": [
            "1회 출금 한도를 입력하세요, 초기 한도는 500만원 입니다.ㅁㄴㅇㄹㅎㅁ\n",
            "오류 : 잘못된 입력입니다. 숫자를 입력하세요. 출금한도 설정을 취소합니다.\n"
          ]
        }
      ]
    },
    {
      "cell_type": "code",
      "source": [
        "# 출금한도 설정 예외 상황\n",
        "Son.set_withdraw_limit()"
      ],
      "metadata": {
        "colab": {
          "base_uri": "https://localhost:8080/"
        },
        "id": "v5KVCAbcg2pw",
        "outputId": "702dd324-f3bd-477a-e561-79005d18a799"
      },
      "execution_count": null,
      "outputs": [
        {
          "output_type": "stream",
          "name": "stdout",
          "text": [
            "1회 출금 한도를 입력하세요, 초기 한도는 500만원 입니다.-100\n",
            "오류 : 음수 값은 허용되지 않습니다. 출금한도 설정을 취소합니다.\n"
          ]
        }
      ]
    },
    {
      "cell_type": "markdown",
      "source": [
        "## 회고\n",
        "###작성자 : 서인선\n",
        "\n",
        "이런 식으로 라이브 코딩하는 건 처음이라서 새롭고 재밌으면서 긴박하게 진행되었다.\n",
        "차근차근 잘 진행되었는데 내가 알고 있는 것과 팀원이 알고 있는 걸 싱크 맞추면서 진행하는 게 가장 중요했다고 생각한다.\n",
        "그러니까 서로가 같은 페이지에 있도록 이해한 부분이 동일하도록 소통을 잘 하는 게 중요했다.\n",
        "중간에 어려운 부분이 생기면 같이 잠시 고민하는 시간을 갖고 나아가는 것도 재밌었다. 아무래도 확인하는 사람이 한 명 더 있는 거니까 실수하는 부분을 잡아내는 것도 효율적이었다.\n",
        "\n",
        "익숙해지면 협업을 빠르고 재미있게 잘 할 수 있는 즐거운 방식이라고 생각한다.\n",
        "\n",
        "- 우리 팀이 오늘 잘한 것 : 으쌰으쌰, 자칫 조급해질 수 있는 상황에서 컴다운 시켜주며 차근차근 진행한 것\n",
        "- 오늘 활동을 토대로 다음 활동에서 더 잘하고 싶은 것: 내 코드(혹은 코딩할 내용)와 의도를 더 간결하고 명확하게 설명하기"
      ],
      "metadata": {
        "id": "QlgksK6iJQHU"
      }
    },
    {
      "cell_type": "code",
      "source": [],
      "metadata": {
        "id": "b6ufD4MZBNdn"
      },
      "execution_count": null,
      "outputs": []
    }
  ]
}