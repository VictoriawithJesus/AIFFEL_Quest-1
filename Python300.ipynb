{
  "nbformat": 4,
  "nbformat_minor": 0,
  "metadata": {
    "colab": {
      "provenance": []
    },
    "kernelspec": {
      "name": "python3",
      "display_name": "Python 3"
    },
    "language_info": {
      "name": "python"
    }
  },
  "cells": [
    {
      "cell_type": "markdown",
      "source": [
        "#파이썬 시작하기, 파이썬 변수"
      ],
      "metadata": {
        "id": "ZEh2dJqGP04S"
      }
    },
    {
      "cell_type": "code",
      "execution_count": null,
      "metadata": {
        "colab": {
          "base_uri": "https://localhost:8080/"
        },
        "id": "SFi21ESuLVFK",
        "outputId": "7954d7b1-a663-4439-925f-ff296ea15684"
      },
      "outputs": [
        {
          "output_type": "stream",
          "name": "stdout",
          "text": [
            "Hello World\n"
          ]
        }
      ],
      "source": [
        "print(\"Hello World\")"
      ]
    },
    {
      "cell_type": "code",
      "source": [
        "print(\"Mary's cosmetics\")"
      ],
      "metadata": {
        "colab": {
          "base_uri": "https://localhost:8080/"
        },
        "id": "vsswxoAMLf7f",
        "outputId": "01feab11-bdc7-4702-a13c-d5b528e1571b"
      },
      "execution_count": null,
      "outputs": [
        {
          "output_type": "stream",
          "name": "stdout",
          "text": [
            "Mary's cosmetics\n"
          ]
        }
      ]
    },
    {
      "cell_type": "code",
      "source": [
        "print('신씨가 소리질렀다. \"도둑이야\".')"
      ],
      "metadata": {
        "colab": {
          "base_uri": "https://localhost:8080/"
        },
        "id": "EKNyV-gELnZw",
        "outputId": "80281f7f-2ebe-4daf-b621-fe3370652c46"
      },
      "execution_count": null,
      "outputs": [
        {
          "output_type": "stream",
          "name": "stdout",
          "text": [
            "신씨가 소리질렀다. \"도둑이야\".\n"
          ]
        }
      ]
    },
    {
      "cell_type": "code",
      "source": [
        "print(\"C:\\Windows\")"
      ],
      "metadata": {
        "colab": {
          "base_uri": "https://localhost:8080/"
        },
        "id": "YG1yWkE4LuYF",
        "outputId": "f2a23f03-eddd-4c39-d774-812dc1abdef2"
      },
      "execution_count": null,
      "outputs": [
        {
          "output_type": "stream",
          "name": "stdout",
          "text": [
            "C:\\Windows\n"
          ]
        }
      ]
    },
    {
      "cell_type": "code",
      "source": [
        "print(\"안녕하세요.\\n만나서\\t\\t반갑습니다.\")\n",
        "# \\n 줄바꿈 \\t 탭"
      ],
      "metadata": {
        "colab": {
          "base_uri": "https://localhost:8080/"
        },
        "id": "M1znuP6XL5Ht",
        "outputId": "6b001cda-299b-45b5-868e-d8e98cbf4539"
      },
      "execution_count": null,
      "outputs": [
        {
          "output_type": "stream",
          "name": "stdout",
          "text": [
            "안녕하세요.\n",
            "만나서\t\t반갑습니다.\n"
          ]
        }
      ]
    },
    {
      "cell_type": "code",
      "source": [
        "print(\"오늘은\", \"일요일\")"
      ],
      "metadata": {
        "colab": {
          "base_uri": "https://localhost:8080/"
        },
        "id": "XmozVCXAMBkL",
        "outputId": "d372e1a4-fc27-4695-d3e3-3b05f534d0b3"
      },
      "execution_count": null,
      "outputs": [
        {
          "output_type": "stream",
          "name": "stdout",
          "text": [
            "오늘은 일요일\n"
          ]
        }
      ]
    },
    {
      "cell_type": "code",
      "source": [
        "print(\"naver;kakao;sk;samsung\")"
      ],
      "metadata": {
        "colab": {
          "base_uri": "https://localhost:8080/"
        },
        "id": "BE_Rmp7bMgSv",
        "outputId": "d0441dbd-fb6b-4148-e6db-8629aea74faa"
      },
      "execution_count": null,
      "outputs": [
        {
          "output_type": "stream",
          "name": "stdout",
          "text": [
            "naver;kakao;sk;samsung\n"
          ]
        }
      ]
    },
    {
      "cell_type": "code",
      "source": [
        "print(\"naver\", \"kakao\", \"sk\", \"samsung\", sep=\";\")"
      ],
      "metadata": {
        "colab": {
          "base_uri": "https://localhost:8080/"
        },
        "id": "G0av5ly6MmjC",
        "outputId": "256bf3a6-f6b1-460f-a881-0cdad05215d0"
      },
      "execution_count": null,
      "outputs": [
        {
          "output_type": "stream",
          "name": "stdout",
          "text": [
            "naver;kakao;sk;samsung\n"
          ]
        }
      ]
    },
    {
      "cell_type": "code",
      "source": [
        "print(\"naver\", \"kakao\", \"sk\", \"samsung\", sep=\"/\")"
      ],
      "metadata": {
        "colab": {
          "base_uri": "https://localhost:8080/"
        },
        "id": "ETOSNsIMMvAd",
        "outputId": "17fb0ab2-4dfe-4148-9bbb-cb3fa4f1efcf"
      },
      "execution_count": null,
      "outputs": [
        {
          "output_type": "stream",
          "name": "stdout",
          "text": [
            "naver/kakao/sk/samsung\n"
          ]
        }
      ]
    },
    {
      "cell_type": "code",
      "source": [
        "print(\"first\", end=\"\");print(\"second\")\n"
      ],
      "metadata": {
        "colab": {
          "base_uri": "https://localhost:8080/"
        },
        "id": "8Dbd94YUMylP",
        "outputId": "de91f94f-70bf-4861-8052-9ef0d04be049"
      },
      "execution_count": null,
      "outputs": [
        {
          "output_type": "stream",
          "name": "stdout",
          "text": [
            "firstsecond\n"
          ]
        }
      ]
    },
    {
      "cell_type": "code",
      "source": [
        "print(5/3)"
      ],
      "metadata": {
        "colab": {
          "base_uri": "https://localhost:8080/"
        },
        "id": "Juc5eok-M1rC",
        "outputId": "6e277cee-4bcb-4907-a39b-2a8a66662aaa"
      },
      "execution_count": null,
      "outputs": [
        {
          "output_type": "stream",
          "name": "stdout",
          "text": [
            "1.6666666666666667\n"
          ]
        }
      ]
    },
    {
      "cell_type": "code",
      "source": [
        "삼성전자=50000\n",
        "총평가금액 = 삼성전자 * 10\n",
        "print(총평가금액)"
      ],
      "metadata": {
        "colab": {
          "base_uri": "https://localhost:8080/"
        },
        "id": "jGtYunt8NCjn",
        "outputId": "d5d39861-fe96-4394-d853-bee11809d602"
      },
      "execution_count": null,
      "outputs": [
        {
          "output_type": "stream",
          "name": "stdout",
          "text": [
            "500000\n"
          ]
        }
      ]
    },
    {
      "cell_type": "code",
      "source": [
        "시가총액 = 2900000000\n",
        "현재가 = 50000\n",
        "PER = 15.79\n",
        "print(시가총액, type(시가총액))\n",
        "print(현재가, type(현재가))\n",
        "print(PER, type(PER))\n"
      ],
      "metadata": {
        "colab": {
          "base_uri": "https://localhost:8080/"
        },
        "id": "M2BeA4BgNM1T",
        "outputId": "3b932afe-7e43-44be-933d-96c7db77e771"
      },
      "execution_count": null,
      "outputs": [
        {
          "output_type": "stream",
          "name": "stdout",
          "text": [
            "2900000000 <class 'int'>\n",
            "50000 <class 'int'>\n",
            "15.79 <class 'float'>\n"
          ]
        }
      ]
    },
    {
      "cell_type": "code",
      "source": [
        "s = \"hello\"\n",
        "t = \"python\"\n",
        "print(s+\"!\" ,t)"
      ],
      "metadata": {
        "colab": {
          "base_uri": "https://localhost:8080/"
        },
        "id": "t93SLvSENcv-",
        "outputId": "74ed636f-96d3-46dd-e689-b53830445046"
      },
      "execution_count": null,
      "outputs": [
        {
          "output_type": "stream",
          "name": "stdout",
          "text": [
            "hello! python\n"
          ]
        }
      ]
    },
    {
      "cell_type": "code",
      "source": [
        "a = \"132\"\n",
        "print(type(a))"
      ],
      "metadata": {
        "colab": {
          "base_uri": "https://localhost:8080/"
        },
        "id": "rw4TSLfjNxPz",
        "outputId": "2ba7fb02-8b1b-4480-a1f6-628a49762dec"
      },
      "execution_count": null,
      "outputs": [
        {
          "output_type": "stream",
          "name": "stdout",
          "text": [
            "<class 'str'>\n"
          ]
        }
      ]
    },
    {
      "cell_type": "code",
      "source": [
        "num_str = \"720\"\n",
        "num_int=int(num_str)\n",
        "print(num_int+1, type(num_int))\n"
      ],
      "metadata": {
        "colab": {
          "base_uri": "https://localhost:8080/"
        },
        "id": "Z7OIaaf7N6ts",
        "outputId": "f0fe9dd7-c8fd-44f2-edbf-c48d661797c2"
      },
      "execution_count": null,
      "outputs": [
        {
          "output_type": "stream",
          "name": "stdout",
          "text": [
            "721 <class 'int'>\n"
          ]
        }
      ]
    },
    {
      "cell_type": "code",
      "source": [
        "num = 100\n",
        "result=str(num)\n",
        "print(result, type(result))"
      ],
      "metadata": {
        "colab": {
          "base_uri": "https://localhost:8080/"
        },
        "id": "H9FbI-mOODvQ",
        "outputId": "bc61b07a-b3ef-4d78-cc4d-d67ebedcda89"
      },
      "execution_count": null,
      "outputs": [
        {
          "output_type": "stream",
          "name": "stdout",
          "text": [
            "100 <class 'str'>\n"
          ]
        }
      ]
    },
    {
      "cell_type": "code",
      "source": [
        "data=\"15.79\"\n",
        "data = float(data)\n",
        "print(data, type(data))"
      ],
      "metadata": {
        "colab": {
          "base_uri": "https://localhost:8080/"
        },
        "id": "A3K3A_E6OhNI",
        "outputId": "84555986-0f65-4e25-ddf9-c98b8fd572c7"
      },
      "execution_count": null,
      "outputs": [
        {
          "output_type": "stream",
          "name": "stdout",
          "text": [
            "15.79 <class 'float'>\n"
          ]
        }
      ]
    },
    {
      "cell_type": "code",
      "source": [
        "year = \"2020\"\n",
        "year = int(year)\n",
        "print(year, year-1, year-2)"
      ],
      "metadata": {
        "colab": {
          "base_uri": "https://localhost:8080/"
        },
        "id": "tJcu__QCOoBF",
        "outputId": "c302afb6-b15b-4c2f-889e-4f42a9f2b82a"
      },
      "execution_count": null,
      "outputs": [
        {
          "output_type": "stream",
          "name": "stdout",
          "text": [
            "2020 2019 2018\n"
          ]
        }
      ]
    },
    {
      "cell_type": "code",
      "source": [
        "price = 48584\n",
        "month = 36\n",
        "total = price * month\n",
        "print(total)"
      ],
      "metadata": {
        "colab": {
          "base_uri": "https://localhost:8080/"
        },
        "id": "C_f3p-BTOxKk",
        "outputId": "06b0ce19-247d-4920-e3de-5b195b54431c"
      },
      "execution_count": null,
      "outputs": [
        {
          "output_type": "stream",
          "name": "stdout",
          "text": [
            "1749024\n"
          ]
        }
      ]
    },
    {
      "cell_type": "markdown",
      "source": [
        "#파이썬 문자열"
      ],
      "metadata": {
        "id": "RdEZwLxNQCLW"
      }
    },
    {
      "cell_type": "code",
      "source": [
        "letters = 'python'\n",
        "print(letters[0], letters[2])"
      ],
      "metadata": {
        "colab": {
          "base_uri": "https://localhost:8080/"
        },
        "id": "X3mW2hbrO8CP",
        "outputId": "ac933832-6fed-464f-cb58-86d7fee309f9"
      },
      "execution_count": null,
      "outputs": [
        {
          "output_type": "stream",
          "name": "stdout",
          "text": [
            "p t\n"
          ]
        }
      ]
    },
    {
      "cell_type": "code",
      "source": [
        "license_plate = \"24가 2210\"\n",
        "print(license_plate[-4:])"
      ],
      "metadata": {
        "colab": {
          "base_uri": "https://localhost:8080/"
        },
        "id": "80co6_Y8QEEo",
        "outputId": "526b873f-f749-4fa6-b428-3972c97acf6a"
      },
      "execution_count": null,
      "outputs": [
        {
          "output_type": "stream",
          "name": "stdout",
          "text": [
            "2210\n"
          ]
        }
      ]
    },
    {
      "cell_type": "code",
      "source": [
        "string = \"홀짝홀짝홀짝\"\n",
        "print(string[::2])\n",
        "# 슬라이싱 [시작인덱스:끝인덱스:오프셋]"
      ],
      "metadata": {
        "colab": {
          "base_uri": "https://localhost:8080/"
        },
        "id": "zaXqZmelUsql",
        "outputId": "a77d74d3-6a37-4f6a-ed55-e101b5c1cbea"
      },
      "execution_count": null,
      "outputs": [
        {
          "output_type": "stream",
          "name": "stdout",
          "text": [
            "홀홀홀\n"
          ]
        }
      ]
    },
    {
      "cell_type": "code",
      "source": [
        "string = \"PYTHON\"\n",
        "print(string[::-1])"
      ],
      "metadata": {
        "colab": {
          "base_uri": "https://localhost:8080/"
        },
        "id": "HcQCnZNAVenY",
        "outputId": "ace45aab-9c73-41bc-e71a-dfe0ceec7e9f"
      },
      "execution_count": null,
      "outputs": [
        {
          "output_type": "stream",
          "name": "stdout",
          "text": [
            "NOHTYP\n"
          ]
        }
      ]
    },
    {
      "cell_type": "code",
      "source": [
        "from os import replace\n",
        "phone_number = \"010-1111-2222\"\n",
        "phone_number1=phone_number.replace(\"-\", \" \")\n",
        "print(phone_number1)"
      ],
      "metadata": {
        "colab": {
          "base_uri": "https://localhost:8080/"
        },
        "id": "QLPfxgotW2k4",
        "outputId": "362ac7ab-e347-42c0-908c-aab5fe925abe"
      },
      "execution_count": null,
      "outputs": [
        {
          "output_type": "stream",
          "name": "stdout",
          "text": [
            "010 1111 2222\n"
          ]
        }
      ]
    },
    {
      "cell_type": "code",
      "source": [
        "from os import replace\n",
        "phone_number = \"010-1111-2222\"\n",
        "phone_number2=phone_number.replace(\"-\", \"\")\n",
        "print(phone_number2)"
      ],
      "metadata": {
        "colab": {
          "base_uri": "https://localhost:8080/"
        },
        "id": "Ys1WHEb7X30n",
        "outputId": "a3f09ce7-e02f-4da6-b0fe-8c9860cbc789"
      },
      "execution_count": null,
      "outputs": [
        {
          "output_type": "stream",
          "name": "stdout",
          "text": [
            "01011112222\n"
          ]
        }
      ]
    },
    {
      "cell_type": "code",
      "source": [
        "url = \"http://sharebook.kr\"\n",
        "url_split = url.split(\".\")\n",
        "print(url_split[-1])"
      ],
      "metadata": {
        "colab": {
          "base_uri": "https://localhost:8080/"
        },
        "id": "KBwxgITBaziD",
        "outputId": "44a085e7-fc23-4334-a18b-99f9ee142028"
      },
      "execution_count": null,
      "outputs": [
        {
          "output_type": "stream",
          "name": "stdout",
          "text": [
            "kr\n"
          ]
        }
      ]
    },
    {
      "cell_type": "code",
      "source": [
        "lang = 'python'\n",
        "lang[0] = 'P'\n",
        "print(lang)\n",
        "# 문자열은 수정할 수 없음 할당(assignment)메서도 지원 안 함"
      ],
      "metadata": {
        "colab": {
          "base_uri": "https://localhost:8080/",
          "height": 215
        },
        "id": "_t6AcG9qbIRJ",
        "outputId": "7eb1649a-aa28-4449-9335-44a3cbfde277"
      },
      "execution_count": null,
      "outputs": [
        {
          "output_type": "error",
          "ename": "TypeError",
          "evalue": "ignored",
          "traceback": [
            "\u001b[0;31m---------------------------------------------------------------------------\u001b[0m",
            "\u001b[0;31mTypeError\u001b[0m                                 Traceback (most recent call last)",
            "\u001b[0;32m<ipython-input-64-ba8eb7824ab8>\u001b[0m in \u001b[0;36m<cell line: 2>\u001b[0;34m()\u001b[0m\n\u001b[1;32m      1\u001b[0m \u001b[0mlang\u001b[0m \u001b[0;34m=\u001b[0m \u001b[0;34m'python'\u001b[0m\u001b[0;34m\u001b[0m\u001b[0;34m\u001b[0m\u001b[0m\n\u001b[0;32m----> 2\u001b[0;31m \u001b[0mlang\u001b[0m\u001b[0;34m[\u001b[0m\u001b[0;36m0\u001b[0m\u001b[0;34m]\u001b[0m \u001b[0;34m=\u001b[0m \u001b[0;34m'P'\u001b[0m\u001b[0;34m\u001b[0m\u001b[0;34m\u001b[0m\u001b[0m\n\u001b[0m\u001b[1;32m      3\u001b[0m \u001b[0mprint\u001b[0m\u001b[0;34m(\u001b[0m\u001b[0mlang\u001b[0m\u001b[0;34m)\u001b[0m\u001b[0;34m\u001b[0m\u001b[0;34m\u001b[0m\u001b[0m\n",
            "\u001b[0;31mTypeError\u001b[0m: 'str' object does not support item assignment"
          ]
        }
      ]
    },
    {
      "cell_type": "code",
      "source": [
        "string = 'abcdfe2a354a32a'\n",
        "string1 = string.replace(\"a\", \"A\")\n",
        "print(string1)"
      ],
      "metadata": {
        "colab": {
          "base_uri": "https://localhost:8080/"
        },
        "id": "rKqyu9LCbbSg",
        "outputId": "f89e1483-eda7-41d8-96f1-3cd54655cc99"
      },
      "execution_count": null,
      "outputs": [
        {
          "output_type": "stream",
          "name": "stdout",
          "text": [
            "Abcdfe2A354A32A\n"
          ]
        }
      ]
    },
    {
      "cell_type": "code",
      "source": [
        "string = 'abcd'\n",
        "string1= string.replace('b', 'B')\n",
        "print(string)\n",
        "print(string1)\n",
        "\n",
        "# 문자열은 변경할 수 없는 자료형\n"
      ],
      "metadata": {
        "colab": {
          "base_uri": "https://localhost:8080/"
        },
        "id": "AsEMHJh8b3h-",
        "outputId": "45740d89-1990-45fd-f4f5-967f07a9107c"
      },
      "execution_count": null,
      "outputs": [
        {
          "output_type": "stream",
          "name": "stdout",
          "text": [
            "abcd\n",
            "aBcd\n"
          ]
        }
      ]
    },
    {
      "cell_type": "code",
      "source": [
        "a = \"3\"\n",
        "b = \"4\"\n",
        "print(a + b) #34"
      ],
      "metadata": {
        "colab": {
          "base_uri": "https://localhost:8080/"
        },
        "id": "c4X-LrfjcovL",
        "outputId": "b6dfc51b-6058-4bba-b5dd-873261fd6e5f"
      },
      "execution_count": null,
      "outputs": [
        {
          "output_type": "stream",
          "name": "stdout",
          "text": [
            "34\n"
          ]
        }
      ]
    },
    {
      "cell_type": "code",
      "source": [
        "print(\"Hi\" * 3) #HiHiHi"
      ],
      "metadata": {
        "colab": {
          "base_uri": "https://localhost:8080/"
        },
        "id": "upnwV2gGeNvZ",
        "outputId": "9ecef2a5-8343-4153-ae0e-74938ef0e5cf"
      },
      "execution_count": null,
      "outputs": [
        {
          "output_type": "stream",
          "name": "stdout",
          "text": [
            "HiHiHi\n"
          ]
        }
      ]
    },
    {
      "cell_type": "code",
      "source": [
        "print(\"-\"*80)"
      ],
      "metadata": {
        "colab": {
          "base_uri": "https://localhost:8080/"
        },
        "id": "toTU1sWBeREN",
        "outputId": "957006b7-c2f3-4b47-8da0-700d2887f0e0"
      },
      "execution_count": null,
      "outputs": [
        {
          "output_type": "stream",
          "name": "stdout",
          "text": [
            "--------------------------------------------------------------------------------\n"
          ]
        }
      ]
    },
    {
      "cell_type": "code",
      "source": [
        "t1 = 'python'\n",
        "t2 = 'java'\n",
        "t3 = t1 + \" \" + t2 + \" \"\n",
        "print( t3 * 4)"
      ],
      "metadata": {
        "colab": {
          "base_uri": "https://localhost:8080/"
        },
        "id": "PxV0wDU-eUst",
        "outputId": "0b235da6-8f5f-4860-d7c1-a71be3b619bf"
      },
      "execution_count": null,
      "outputs": [
        {
          "output_type": "stream",
          "name": "stdout",
          "text": [
            "python java python java python java python java \n"
          ]
        }
      ]
    },
    {
      "cell_type": "code",
      "source": [
        "name1 = \"김민수\"\n",
        "age1 = 10\n",
        "name2 = \"이철희\"\n",
        "age2 = 13\n",
        "formatted_string1 = \"이름: %s 나이: %d\" % (name1, age1)\n",
        "formatted_string2 = f\"이름: {name2} 나이: {age2}\"\n",
        "print(formatted_string1)\n",
        "print(formatted_string2)"
      ],
      "metadata": {
        "colab": {
          "base_uri": "https://localhost:8080/"
        },
        "id": "XfwLcPYdecrM",
        "outputId": "320c44fe-21f1-4852-fc3a-83c2a031dbc4"
      },
      "execution_count": null,
      "outputs": [
        {
          "output_type": "stream",
          "name": "stdout",
          "text": [
            "이름: 김민수 나이: 10\n",
            "이름: 이철희 나이: 13\n"
          ]
        }
      ]
    },
    {
      "cell_type": "code",
      "source": [
        "print(\"이름: %s 나이: %d\" % (name1, age1))"
      ],
      "metadata": {
        "colab": {
          "base_uri": "https://localhost:8080/"
        },
        "id": "2CW4RjnNfGG_",
        "outputId": "bf93d314-d0da-4d22-eb89-72ff4f8ea7e7"
      },
      "execution_count": null,
      "outputs": [
        {
          "output_type": "stream",
          "name": "stdout",
          "text": [
            "이름: 김민수 나이: 10\n"
          ]
        }
      ]
    },
    {
      "cell_type": "code",
      "source": [
        "print(\"이름: {} 나이: {}\".format(name2, age2))"
      ],
      "metadata": {
        "colab": {
          "base_uri": "https://localhost:8080/"
        },
        "id": "hwPsQDnhgRgL",
        "outputId": "9d55c94a-4ae4-4987-c926-ef31092f103c"
      },
      "execution_count": null,
      "outputs": [
        {
          "output_type": "stream",
          "name": "stdout",
          "text": [
            "이름: 이철희 나이: 13\n"
          ]
        }
      ]
    },
    {
      "cell_type": "code",
      "source": [
        "print(f\"이름: {name1} 나이: {age2}\")"
      ],
      "metadata": {
        "colab": {
          "base_uri": "https://localhost:8080/"
        },
        "id": "iDvBCz-ygXGR",
        "outputId": "6ad19f34-5321-43ec-e538-f761f986ff07"
      },
      "execution_count": null,
      "outputs": [
        {
          "output_type": "stream",
          "name": "stdout",
          "text": [
            "이름: 김민수 나이: 13\n"
          ]
        }
      ]
    },
    {
      "cell_type": "code",
      "source": [
        "상장주식수 = \"5,969,782,550\"\n",
        "컴마제거 = 상장주식수.replace(\",\", \"\")\n",
        "타입변환 = int(컴마제거)\n",
        "print(타입변환, type(타입변환))\n",
        "타입변환+1"
      ],
      "metadata": {
        "colab": {
          "base_uri": "https://localhost:8080/"
        },
        "id": "cDmxCieMggSi",
        "outputId": "d1859383-b2e8-4aa2-fd38-f039c77000eb"
      },
      "execution_count": null,
      "outputs": [
        {
          "output_type": "stream",
          "name": "stdout",
          "text": [
            "5969782550 <class 'int'>\n"
          ]
        },
        {
          "output_type": "execute_result",
          "data": {
            "text/plain": [
              "5969782551"
            ]
          },
          "metadata": {},
          "execution_count": 89
        }
      ]
    },
    {
      "cell_type": "code",
      "source": [
        "분기 = \"2020/03(E) (IFRS연결)\"\n",
        "print(분기[:7])"
      ],
      "metadata": {
        "colab": {
          "base_uri": "https://localhost:8080/"
        },
        "id": "6iUlYqP4gpuT",
        "outputId": "4427dfc1-2872-4f2b-8376-5335ba59befe"
      },
      "execution_count": null,
      "outputs": [
        {
          "output_type": "stream",
          "name": "stdout",
          "text": [
            "2020/03\n"
          ]
        }
      ]
    },
    {
      "cell_type": "code",
      "source": [
        "data = \"   삼성전자    \"\n",
        "data.replace(\" \", \"\")"
      ],
      "metadata": {
        "colab": {
          "base_uri": "https://localhost:8080/",
          "height": 36
        },
        "id": "BwV3qAIdg61w",
        "outputId": "d9f2251e-a885-4366-c42a-6d4b622db65b"
      },
      "execution_count": null,
      "outputs": [
        {
          "output_type": "execute_result",
          "data": {
            "text/plain": [
              "'삼성전자'"
            ],
            "application/vnd.google.colaboratory.intrinsic+json": {
              "type": "string"
            }
          },
          "metadata": {},
          "execution_count": 93
        }
      ]
    },
    {
      "cell_type": "code",
      "source": [
        "data = \"   삼성전자    \"\n",
        "data1 = data.strip()\n",
        "print(data1)"
      ],
      "metadata": {
        "colab": {
          "base_uri": "https://localhost:8080/"
        },
        "id": "ArZprAzthAb6",
        "outputId": "cc0389b5-a697-4af3-c070-d180389df677"
      },
      "execution_count": null,
      "outputs": [
        {
          "output_type": "stream",
          "name": "stdout",
          "text": [
            "삼성전자\n"
          ]
        }
      ]
    },
    {
      "cell_type": "code",
      "source": [
        "ticker = \"btc_krw\"\n",
        "ticker1 = ticker.upper()\n",
        "print(ticker1)\n",
        "\n",
        "ticker = \"BTC_KRW\"\n",
        "ticker2 = ticker.lower()\n",
        "print(ticker2)\n",
        "\n"
      ],
      "metadata": {
        "colab": {
          "base_uri": "https://localhost:8080/"
        },
        "id": "1Ilo1Z15hHIz",
        "outputId": "9ddce6c4-f2d2-4828-ffce-f1383192688e"
      },
      "execution_count": null,
      "outputs": [
        {
          "output_type": "stream",
          "name": "stdout",
          "text": [
            "BTC_KRW\n",
            "btc_krw\n"
          ]
        }
      ]
    },
    {
      "cell_type": "code",
      "source": [
        "data= \"hello\"\n",
        "data = data.capitalize()\n",
        "print(data)"
      ],
      "metadata": {
        "colab": {
          "base_uri": "https://localhost:8080/"
        },
        "id": "4xZuciFIhaBu",
        "outputId": "458f7ad0-9a6f-4948-967b-8aec2fea784d"
      },
      "execution_count": null,
      "outputs": [
        {
          "output_type": "stream",
          "name": "stdout",
          "text": [
            "Hello\n"
          ]
        }
      ]
    },
    {
      "cell_type": "code",
      "source": [
        "file_name = \"보고서.xls\"\n",
        "file_name.endswith(\"xlsx\")"
      ],
      "metadata": {
        "colab": {
          "base_uri": "https://localhost:8080/"
        },
        "id": "yHYrT7dYhopy",
        "outputId": "799b7e14-72aa-4549-e41f-a8f935f3ebb9"
      },
      "execution_count": null,
      "outputs": [
        {
          "output_type": "execute_result",
          "data": {
            "text/plain": [
              "False"
            ]
          },
          "metadata": {},
          "execution_count": 109
        }
      ]
    },
    {
      "cell_type": "code",
      "source": [
        "file_name.endswith((\"xlsx\", \"xls\"))"
      ],
      "metadata": {
        "colab": {
          "base_uri": "https://localhost:8080/"
        },
        "id": "FlEeWrWfh97j",
        "outputId": "eb8679e3-ee17-459f-b844-ff3ed7486c49"
      },
      "execution_count": null,
      "outputs": [
        {
          "output_type": "execute_result",
          "data": {
            "text/plain": [
              "True"
            ]
          },
          "metadata": {},
          "execution_count": 110
        }
      ]
    },
    {
      "cell_type": "code",
      "source": [
        "file_name = \"2020_보고서.xlsx\"\n",
        "file_name.startswith(\"2020\")"
      ],
      "metadata": {
        "colab": {
          "base_uri": "https://localhost:8080/"
        },
        "id": "1d1q2_VfiE9-",
        "outputId": "d34e2d48-435d-4237-c693-47c2f7f28cf3"
      },
      "execution_count": null,
      "outputs": [
        {
          "output_type": "execute_result",
          "data": {
            "text/plain": [
              "True"
            ]
          },
          "metadata": {},
          "execution_count": 111
        }
      ]
    },
    {
      "cell_type": "code",
      "source": [
        "a = \"hello world\"\n",
        "a = a.split(\" \")\n",
        "print(a)"
      ],
      "metadata": {
        "colab": {
          "base_uri": "https://localhost:8080/"
        },
        "id": "oGFJ7aJJiUH2",
        "outputId": "1de49924-02cf-4aaa-c7cc-af918b8c96de"
      },
      "execution_count": null,
      "outputs": [
        {
          "output_type": "stream",
          "name": "stdout",
          "text": [
            "['hello', 'world']\n"
          ]
        }
      ]
    },
    {
      "cell_type": "code",
      "source": [
        "ticker = \"btc_krw\"\n",
        "ticker.split(\"_\")"
      ],
      "metadata": {
        "colab": {
          "base_uri": "https://localhost:8080/"
        },
        "id": "FEDh8j_OiZKy",
        "outputId": "5151c6d8-c066-4556-cc07-b720c30cc558"
      },
      "execution_count": null,
      "outputs": [
        {
          "output_type": "execute_result",
          "data": {
            "text/plain": [
              "['btc', 'krw']"
            ]
          },
          "metadata": {},
          "execution_count": 113
        }
      ]
    },
    {
      "cell_type": "code",
      "source": [
        "date = \"2020-05-01\"\n",
        "date = date.split(\"-\")"
      ],
      "metadata": {
        "id": "P3Sgm8EridB1"
      },
      "execution_count": null,
      "outputs": []
    },
    {
      "cell_type": "code",
      "source": [
        "print(\"연도:\", date[0])\n",
        "print(\"월:\", date[1])\n",
        "print(\"일:\", date[2])"
      ],
      "metadata": {
        "colab": {
          "base_uri": "https://localhost:8080/"
        },
        "id": "-oUHLXlJignD",
        "outputId": "992f23af-69ec-4621-c905-88e146648304"
      },
      "execution_count": null,
      "outputs": [
        {
          "output_type": "stream",
          "name": "stdout",
          "text": [
            "연도: 2020\n",
            "월: 05\n",
            "일: 01\n"
          ]
        }
      ]
    },
    {
      "cell_type": "code",
      "source": [
        "data = \"039490     \"\n",
        "data.rstrip()"
      ],
      "metadata": {
        "colab": {
          "base_uri": "https://localhost:8080/",
          "height": 36
        },
        "id": "_8fAB6IlirBy",
        "outputId": "de0e88eb-c57e-420d-9888-5ca7ea9f59df"
      },
      "execution_count": null,
      "outputs": [
        {
          "output_type": "execute_result",
          "data": {
            "text/plain": [
              "'039490'"
            ],
            "application/vnd.google.colaboratory.intrinsic+json": {
              "type": "string"
            }
          },
          "metadata": {},
          "execution_count": 118
        }
      ]
    },
    {
      "cell_type": "code",
      "source": [
        "data = \"       039490     \"\n",
        "data.rstrip()"
      ],
      "metadata": {
        "colab": {
          "base_uri": "https://localhost:8080/",
          "height": 36
        },
        "id": "FZx_u5fWiyrb",
        "outputId": "bd95601e-1de5-4475-c756-eb2aa1f16695"
      },
      "execution_count": null,
      "outputs": [
        {
          "output_type": "execute_result",
          "data": {
            "text/plain": [
              "'       039490'"
            ],
            "application/vnd.google.colaboratory.intrinsic+json": {
              "type": "string"
            }
          },
          "metadata": {},
          "execution_count": 119
        }
      ]
    },
    {
      "cell_type": "markdown",
      "source": [
        "#파이썬 리스트"
      ],
      "metadata": {
        "id": "OWWaINQyi3Kg"
      }
    },
    {
      "cell_type": "code",
      "source": [
        "movie_rank = [\"닥터 스트레인지\", \"스플릿\", \"럭키\"]"
      ],
      "metadata": {
        "id": "ZL5z7fR5i10E"
      },
      "execution_count": null,
      "outputs": []
    },
    {
      "cell_type": "code",
      "source": [
        "movie_rank.append(\"배트맨\")"
      ],
      "metadata": {
        "id": "GrN0ffmLi5QD"
      },
      "execution_count": null,
      "outputs": []
    },
    {
      "cell_type": "code",
      "source": [
        "movie_rank.insert(1, \"슈퍼맨\")\n",
        "print(movie_rank)"
      ],
      "metadata": {
        "colab": {
          "base_uri": "https://localhost:8080/"
        },
        "id": "qYR78WN_nyFK",
        "outputId": "037a2d61-5544-4c7e-9d04-9a28b2ebe817"
      },
      "execution_count": null,
      "outputs": [
        {
          "output_type": "stream",
          "name": "stdout",
          "text": [
            "['닥터 스트레인지', '슈퍼맨', '슈퍼맨', '슈퍼맨', '스플릿', '럭키', '배트맨']\n"
          ]
        }
      ]
    },
    {
      "cell_type": "code",
      "source": [
        "del movie_rank[2]\n",
        "print(movie_rank)"
      ],
      "metadata": {
        "colab": {
          "base_uri": "https://localhost:8080/"
        },
        "id": "O3Rn_w7-n5Vx",
        "outputId": "70d127ad-bffc-469b-949c-3fc9a6fd491c"
      },
      "execution_count": null,
      "outputs": [
        {
          "output_type": "stream",
          "name": "stdout",
          "text": [
            "['닥터 스트레인지', '슈퍼맨', '스플릿', '럭키', '배트맨']\n"
          ]
        }
      ]
    },
    {
      "cell_type": "code",
      "source": [
        "del movie_rank[3]\n",
        "print(movie_rank)"
      ],
      "metadata": {
        "colab": {
          "base_uri": "https://localhost:8080/"
        },
        "id": "8Endk_3koOuN",
        "outputId": "6f569ee1-e541-4040-a6d2-750cd46b26d7"
      },
      "execution_count": null,
      "outputs": [
        {
          "output_type": "stream",
          "name": "stdout",
          "text": [
            "['닥터 스트레인지', '슈퍼맨', '스플릿', '배트맨']\n"
          ]
        }
      ]
    },
    {
      "cell_type": "code",
      "source": [
        "del movie_rank[2]\n",
        "print(movie_rank)"
      ],
      "metadata": {
        "colab": {
          "base_uri": "https://localhost:8080/"
        },
        "id": "Dhka6yMhobxI",
        "outputId": "6adce14e-554a-4173-e8d0-54939a1d881f"
      },
      "execution_count": null,
      "outputs": [
        {
          "output_type": "stream",
          "name": "stdout",
          "text": [
            "['닥터 스트레인지', '슈퍼맨']\n"
          ]
        }
      ]
    },
    {
      "cell_type": "code",
      "source": [
        "lang1 = [\"C\", \"C++\", \"JAVA\"]\n",
        "lang2 = [\"Python\", \"Go\", \"C#\"]\n",
        "langs = lang1 + lang2\n",
        "print(langs)"
      ],
      "metadata": {
        "colab": {
          "base_uri": "https://localhost:8080/"
        },
        "id": "WysdvttMoja6",
        "outputId": "b351ac00-9e83-4ad4-b676-546bf3bed8f0"
      },
      "execution_count": null,
      "outputs": [
        {
          "output_type": "stream",
          "name": "stdout",
          "text": [
            "['C', 'C++', 'JAVA', 'Python', 'Go', 'C#']\n"
          ]
        }
      ]
    },
    {
      "cell_type": "code",
      "source": [
        "nums = [1, 2, 3, 4, 5, 6, 7]\n",
        "print(\"max:\", max(nums))\n",
        "print(\"min:\", min(nums))"
      ],
      "metadata": {
        "colab": {
          "base_uri": "https://localhost:8080/"
        },
        "id": "EfwD2iJxoq9V",
        "outputId": "3a9b3634-d192-49dd-d835-5a6cb8a73655"
      },
      "execution_count": null,
      "outputs": [
        {
          "output_type": "stream",
          "name": "stdout",
          "text": [
            "max: 7\n",
            "min: 1\n"
          ]
        }
      ]
    },
    {
      "cell_type": "code",
      "source": [
        "del sum\n",
        "nums = [1, 2, 3, 4, 5]\n",
        "print(sum(nums))"
      ],
      "metadata": {
        "colab": {
          "base_uri": "https://localhost:8080/"
        },
        "id": "CWNhYRMao3SP",
        "outputId": "49c90ef9-b4ad-491c-c483-1c36c8ce53c5"
      },
      "execution_count": null,
      "outputs": [
        {
          "output_type": "stream",
          "name": "stdout",
          "text": [
            "15\n"
          ]
        }
      ]
    },
    {
      "cell_type": "code",
      "source": [
        "\n",
        "cook = [\"피자\", \"김밥\", \"만두\", \"양념치킨\", \"족발\", \"피자\", \"김치만두\", \"쫄면\", \"소시지\", \"라면\", \"팥빙수\", \"김치전\"]\n",
        "print(len(cook))"
      ],
      "metadata": {
        "colab": {
          "base_uri": "https://localhost:8080/"
        },
        "id": "ugnGS6_-o9V5",
        "outputId": "5792347b-94af-4cdb-8966-62acbb4261a3"
      },
      "execution_count": null,
      "outputs": [
        {
          "output_type": "stream",
          "name": "stdout",
          "text": [
            "12\n"
          ]
        }
      ]
    },
    {
      "cell_type": "code",
      "source": [
        "nums = [1, 2, 3, 4, 5]\n",
        "average = sum(nums) / len(nums)\n",
        "print(average)"
      ],
      "metadata": {
        "colab": {
          "base_uri": "https://localhost:8080/"
        },
        "id": "tdR9zpZepBjb",
        "outputId": "79927901-4d79-4623-845b-1b363cb85456"
      },
      "execution_count": null,
      "outputs": [
        {
          "output_type": "stream",
          "name": "stdout",
          "text": [
            "3.0\n"
          ]
        }
      ]
    },
    {
      "cell_type": "code",
      "source": [
        "price = ['20180728', 100, 130, 140, 150, 160, 170]\n",
        "print(price[1:])"
      ],
      "metadata": {
        "colab": {
          "base_uri": "https://localhost:8080/"
        },
        "id": "ZfYDOUXQpJkQ",
        "outputId": "57538a97-1818-409c-a7bb-d443fc2ed8af"
      },
      "execution_count": null,
      "outputs": [
        {
          "output_type": "stream",
          "name": "stdout",
          "text": [
            "[100, 130, 140, 150, 160, 170]\n"
          ]
        }
      ]
    },
    {
      "cell_type": "code",
      "source": [
        "nums = [1, 2, 3, 4, 5, 6, 7, 8, 9, 10]\n",
        "print(nums[::2])\n",
        "print(nums[1::2])"
      ],
      "metadata": {
        "colab": {
          "base_uri": "https://localhost:8080/"
        },
        "id": "HAF87AVnq98w",
        "outputId": "1920ad00-4c9a-4c0f-de97-15904f78c9b5"
      },
      "execution_count": null,
      "outputs": [
        {
          "output_type": "stream",
          "name": "stdout",
          "text": [
            "[1, 3, 5, 7, 9]\n",
            "[2, 4, 6, 8, 10]\n"
          ]
        }
      ]
    },
    {
      "cell_type": "code",
      "source": [
        "nums = [1, 2, 3, 4, 5]\n",
        "print(nums[::-1])"
      ],
      "metadata": {
        "colab": {
          "base_uri": "https://localhost:8080/"
        },
        "id": "narRagogrBlQ",
        "outputId": "2a2a0bd7-4c23-4e34-ac8a-f77e2392b57f"
      },
      "execution_count": null,
      "outputs": [
        {
          "output_type": "stream",
          "name": "stdout",
          "text": [
            "[5, 4, 3, 2, 1]\n"
          ]
        }
      ]
    },
    {
      "cell_type": "code",
      "source": [
        "interest = ['삼성전자', 'LG전자', 'Naver']\n",
        "print(interest[0], interest[2])"
      ],
      "metadata": {
        "colab": {
          "base_uri": "https://localhost:8080/"
        },
        "id": "hLglFyQrrKG6",
        "outputId": "834c1938-c614-4a5f-bb9e-3d96783e1e0f"
      },
      "execution_count": null,
      "outputs": [
        {
          "output_type": "stream",
          "name": "stdout",
          "text": [
            "삼성전자 Naver\n"
          ]
        }
      ]
    },
    {
      "cell_type": "code",
      "source": [
        "interest = ['삼성전자', 'LG전자', 'Naver', 'SK하이닉스', '미래에셋대우']\n",
        "a = \" \".join(interest)\n",
        "print(a)"
      ],
      "metadata": {
        "colab": {
          "base_uri": "https://localhost:8080/"
        },
        "id": "YsPVgj9erTjf",
        "outputId": "6afd0853-8c76-45ce-eac8-9812a2208e84"
      },
      "execution_count": null,
      "outputs": [
        {
          "output_type": "stream",
          "name": "stdout",
          "text": [
            "삼성전자 LG전자 Naver SK하이닉스 미래에셋대우\n"
          ]
        }
      ]
    },
    {
      "cell_type": "code",
      "source": [
        "result = \"/\".join(interest)\n",
        "print(result)"
      ],
      "metadata": {
        "colab": {
          "base_uri": "https://localhost:8080/"
        },
        "id": "TQdLe4AlrxX3",
        "outputId": "5401b5dd-da20-4d8d-d4b6-f269e6672b30"
      },
      "execution_count": null,
      "outputs": [
        {
          "output_type": "stream",
          "name": "stdout",
          "text": [
            "삼성전자/LG전자/Naver/SK하이닉스/미래에셋대우\n"
          ]
        }
      ]
    },
    {
      "cell_type": "code",
      "source": [
        "result2 = \"\\n\".join(interest)\n",
        "print(result2)"
      ],
      "metadata": {
        "colab": {
          "base_uri": "https://localhost:8080/"
        },
        "id": "bR3JlNLar9r3",
        "outputId": "6b82aab4-ded7-41da-f843-82922d132175"
      },
      "execution_count": null,
      "outputs": [
        {
          "output_type": "stream",
          "name": "stdout",
          "text": [
            "삼성전자\n",
            "LG전자\n",
            "Naver\n",
            "SK하이닉스\n",
            "미래에셋대우\n"
          ]
        }
      ]
    },
    {
      "cell_type": "code",
      "source": [
        "string = \"삼성전자/LG전자/Naver\"\n",
        "interest = string.split(\"/\")\n",
        "print(interest)"
      ],
      "metadata": {
        "colab": {
          "base_uri": "https://localhost:8080/"
        },
        "id": "rZ4ZeEPssBlQ",
        "outputId": "53e85158-ada8-410e-ee6c-e60d6348035c"
      },
      "execution_count": null,
      "outputs": [
        {
          "output_type": "stream",
          "name": "stdout",
          "text": [
            "['삼성전자', 'LG전자', 'Naver']\n"
          ]
        }
      ]
    },
    {
      "cell_type": "code",
      "source": [
        "data = [2, 4, 3, 1, 5, 10, 9]\n",
        "data.sort()\n",
        "print(data)"
      ],
      "metadata": {
        "colab": {
          "base_uri": "https://localhost:8080/"
        },
        "id": "-4nRRE8GsLsH",
        "outputId": "bb5e5f33-f1cd-40b2-ec34-93d273d729c1"
      },
      "execution_count": null,
      "outputs": [
        {
          "output_type": "stream",
          "name": "stdout",
          "text": [
            "[1, 2, 3, 4, 5, 9, 10]\n"
          ]
        }
      ]
    },
    {
      "cell_type": "code",
      "source": [
        "data = [2, 4, 3, 1, 5, 10, 9]\n",
        "\n",
        "data2 = sorted(data)\n",
        "print(data2)"
      ],
      "metadata": {
        "colab": {
          "base_uri": "https://localhost:8080/"
        },
        "id": "fSxqIiVysQ3i",
        "outputId": "271773ab-7230-473c-8bfd-f5f42451fa74"
      },
      "execution_count": null,
      "outputs": [
        {
          "output_type": "stream",
          "name": "stdout",
          "text": [
            "[1, 2, 3, 4, 5, 9, 10]\n"
          ]
        }
      ]
    },
    {
      "cell_type": "markdown",
      "source": [
        "#파이썬튜플"
      ],
      "metadata": {
        "id": "CWC2pkJKsdnk"
      }
    },
    {
      "cell_type": "code",
      "source": [
        "my_variable = ()\n",
        "print(type(my_variable))"
      ],
      "metadata": {
        "colab": {
          "base_uri": "https://localhost:8080/"
        },
        "id": "2qFj2wTysb3n",
        "outputId": "81fbaaf8-367e-4170-b552-b8c8a3f677ee"
      },
      "execution_count": null,
      "outputs": [
        {
          "output_type": "stream",
          "name": "stdout",
          "text": [
            "<class 'tuple'>\n"
          ]
        }
      ]
    },
    {
      "cell_type": "code",
      "source": [
        "movie_rank = (\"닥터스트레인지\", \"스플릿\", \"럭키\")\n",
        "print(type(movie_rank))"
      ],
      "metadata": {
        "colab": {
          "base_uri": "https://localhost:8080/"
        },
        "id": "oDK7RV5tsffV",
        "outputId": "660741cc-adc3-4d87-c73c-ab0c94d39813"
      },
      "execution_count": null,
      "outputs": [
        {
          "output_type": "stream",
          "name": "stdout",
          "text": [
            "<class 'tuple'>\n"
          ]
        }
      ]
    },
    {
      "cell_type": "code",
      "source": [
        "one = (1)\n",
        "print(type(one)) #int\n",
        "\n",
        "one1 = (1, )\n",
        "print(type(one1)) #tuple"
      ],
      "metadata": {
        "colab": {
          "base_uri": "https://localhost:8080/"
        },
        "id": "5A80ZzyCsxH8",
        "outputId": "4b96ed5c-566e-407e-d755-493125c49963"
      },
      "execution_count": null,
      "outputs": [
        {
          "output_type": "stream",
          "name": "stdout",
          "text": [
            "<class 'int'>\n",
            "<class 'tuple'>\n"
          ]
        }
      ]
    },
    {
      "cell_type": "code",
      "source": [
        "t = (1, 2, 3)\n",
        "t[0] = 'a' #튜플은 원소(elemen) 값을 변경할 수 없음"
      ],
      "metadata": {
        "colab": {
          "base_uri": "https://localhost:8080/",
          "height": 198
        },
        "id": "ZOYBxuYvs0qx",
        "outputId": "d0e2ce88-2930-492e-bbf5-9bbba48494cc"
      },
      "execution_count": null,
      "outputs": [
        {
          "output_type": "error",
          "ename": "TypeError",
          "evalue": "ignored",
          "traceback": [
            "\u001b[0;31m---------------------------------------------------------------------------\u001b[0m",
            "\u001b[0;31mTypeError\u001b[0m                                 Traceback (most recent call last)",
            "\u001b[0;32m<ipython-input-178-30ae5ed3acb9>\u001b[0m in \u001b[0;36m<cell line: 2>\u001b[0;34m()\u001b[0m\n\u001b[1;32m      1\u001b[0m \u001b[0mt\u001b[0m \u001b[0;34m=\u001b[0m \u001b[0;34m(\u001b[0m\u001b[0;36m1\u001b[0m\u001b[0;34m,\u001b[0m \u001b[0;36m2\u001b[0m\u001b[0;34m,\u001b[0m \u001b[0;36m3\u001b[0m\u001b[0;34m)\u001b[0m\u001b[0;34m\u001b[0m\u001b[0;34m\u001b[0m\u001b[0m\n\u001b[0;32m----> 2\u001b[0;31m \u001b[0mt\u001b[0m\u001b[0;34m[\u001b[0m\u001b[0;36m0\u001b[0m\u001b[0;34m]\u001b[0m \u001b[0;34m=\u001b[0m \u001b[0;34m'a'\u001b[0m\u001b[0;34m\u001b[0m\u001b[0;34m\u001b[0m\u001b[0m\n\u001b[0m",
            "\u001b[0;31mTypeError\u001b[0m: 'tuple' object does not support item assignment"
          ]
        }
      ]
    },
    {
      "cell_type": "code",
      "source": [
        "t = 1, 2, 3, 4\n",
        "print(type(t))"
      ],
      "metadata": {
        "colab": {
          "base_uri": "https://localhost:8080/"
        },
        "id": "IIKw4luNtDUK",
        "outputId": "bf4e9509-cfcc-4897-cabf-09bd37ce645d"
      },
      "execution_count": null,
      "outputs": [
        {
          "output_type": "stream",
          "name": "stdout",
          "text": [
            "<class 'tuple'>\n"
          ]
        }
      ]
    },
    {
      "cell_type": "code",
      "source": [
        "movie_rank = \"닥터스트레인지\", \"스플릿\", \"럭키\"\n",
        "print(type(movie_rank)) #괄호 없이도 동작"
      ],
      "metadata": {
        "colab": {
          "base_uri": "https://localhost:8080/"
        },
        "id": "Qwbrxu0GtM74",
        "outputId": "051f064d-8554-4e78-d54a-19a2a981a1c8"
      },
      "execution_count": null,
      "outputs": [
        {
          "output_type": "stream",
          "name": "stdout",
          "text": [
            "<class 'tuple'>\n"
          ]
        }
      ]
    },
    {
      "cell_type": "code",
      "source": [
        "#t[0] = 'A' # 튜플은 값 변경 못함\n",
        "t = ('A', 'b', 'c')"
      ],
      "metadata": {
        "id": "TRLxODtPtRG-"
      },
      "execution_count": null,
      "outputs": []
    },
    {
      "cell_type": "code",
      "source": [
        "interest = ('삼성전자', 'LG전자', 'SK Hynix')\n",
        "data = list(interest)\n",
        "print(data, type(data))"
      ],
      "metadata": {
        "colab": {
          "base_uri": "https://localhost:8080/"
        },
        "id": "dveol2rttUx1",
        "outputId": "0765a143-9c1b-4cbd-cb1d-9ec9915dcac2"
      },
      "execution_count": null,
      "outputs": [
        {
          "output_type": "stream",
          "name": "stdout",
          "text": [
            "['삼성전자', 'LG전자', 'SK Hynix'] <class 'list'>\n"
          ]
        }
      ]
    },
    {
      "cell_type": "code",
      "source": [
        "data2 = tuple(data)\n",
        "print(data2, type(data2))"
      ],
      "metadata": {
        "colab": {
          "base_uri": "https://localhost:8080/"
        },
        "id": "I3SwYgwBtmLl",
        "outputId": "f7e00414-039c-4b24-bfd5-5e0ed1bbdd73"
      },
      "execution_count": null,
      "outputs": [
        {
          "output_type": "stream",
          "name": "stdout",
          "text": [
            "('삼성전자', 'LG전자', 'SK Hynix') <class 'tuple'>\n"
          ]
        }
      ]
    },
    {
      "cell_type": "code",
      "source": [
        "temp = ('apple', 'banana', 'cake')\n",
        "a, b, c = temp\n",
        "print(a, b, c)"
      ],
      "metadata": {
        "colab": {
          "base_uri": "https://localhost:8080/"
        },
        "id": "XNdrRsH8t0Uu",
        "outputId": "dbc0bfe3-5ebe-4622-bff3-4d0f1e125efc"
      },
      "execution_count": null,
      "outputs": [
        {
          "output_type": "stream",
          "name": "stdout",
          "text": [
            "apple banana cake\n"
          ]
        }
      ]
    },
    {
      "cell_type": "code",
      "source": [
        "even = ()\n",
        "for i in range(1,99):\n",
        "  if i%2==0:\n",
        "    even = even + (i,)\n",
        "print(even)"
      ],
      "metadata": {
        "colab": {
          "base_uri": "https://localhost:8080/"
        },
        "id": "3X9_Xq_9t5AP",
        "outputId": "548a0dc0-cc7b-4f7d-aaa6-502b39a1de30"
      },
      "execution_count": null,
      "outputs": [
        {
          "output_type": "stream",
          "name": "stdout",
          "text": [
            "(2, 4, 6, 8, 10, 12, 14, 16, 18, 20, 22, 24, 26, 28, 30, 32, 34, 36, 38, 40, 42, 44, 46, 48, 50, 52, 54, 56, 58, 60, 62, 64, 66, 68, 70, 72, 74, 76, 78, 80, 82, 84, 86, 88, 90, 92, 94, 96, 98)\n"
          ]
        }
      ]
    },
    {
      "cell_type": "code",
      "source": [
        "data = tuple(range(2, 100, 2))\n",
        "print(data)"
      ],
      "metadata": {
        "colab": {
          "base_uri": "https://localhost:8080/"
        },
        "id": "mDknLBEiuHOK",
        "outputId": "ab06bd9f-e58b-4a4f-cb57-3b256f8a39f3"
      },
      "execution_count": null,
      "outputs": [
        {
          "output_type": "stream",
          "name": "stdout",
          "text": [
            "(2, 4, 6, 8, 10, 12, 14, 16, 18, 20, 22, 24, 26, 28, 30, 32, 34, 36, 38, 40, 42, 44, 46, 48, 50, 52, 54, 56, 58, 60, 62, 64, 66, 68, 70, 72, 74, 76, 78, 80, 82, 84, 86, 88, 90, 92, 94, 96, 98)\n"
          ]
        }
      ]
    },
    {
      "cell_type": "markdown",
      "source": [
        "#파이썬 딕셔너리"
      ],
      "metadata": {
        "id": "wchPO-S_vWvX"
      }
    },
    {
      "cell_type": "code",
      "source": [
        "scores = [8.8, 8.9, 8.7, 9.2, 9.3, 9.7, 9.9, 9.5, 7.8, 9.4]\n",
        "*valid_score, a, b = scores\n",
        "print(valid_score)"
      ],
      "metadata": {
        "colab": {
          "base_uri": "https://localhost:8080/"
        },
        "id": "rS1WbY9CvU_x",
        "outputId": "6cf6a50a-1ca4-4b80-9b15-3df84e2966a0"
      },
      "execution_count": null,
      "outputs": [
        {
          "output_type": "stream",
          "name": "stdout",
          "text": [
            "[8.8, 8.9, 8.7, 9.2, 9.3, 9.7, 9.9, 9.5]\n"
          ]
        }
      ]
    },
    {
      "cell_type": "code",
      "source": [
        "a, b, *valid_score= scores\n",
        "print(valid_score)"
      ],
      "metadata": {
        "colab": {
          "base_uri": "https://localhost:8080/"
        },
        "id": "KZHFm7lRvX12",
        "outputId": "5d27ec01-87ad-4024-d623-ba0e06c0b4de"
      },
      "execution_count": null,
      "outputs": [
        {
          "output_type": "stream",
          "name": "stdout",
          "text": [
            "[8.7, 9.2, 9.3, 9.7, 9.9, 9.5, 7.8, 9.4]\n"
          ]
        }
      ]
    },
    {
      "cell_type": "code",
      "source": [
        "temp = { }"
      ],
      "metadata": {
        "id": "wb5I7bQ15sl3"
      },
      "execution_count": null,
      "outputs": []
    },
    {
      "cell_type": "code",
      "source": [
        "ice = {\"메로나\": 1000, \"폴라포\": 1200, \"빵빠레\": 1800}\n",
        "print(ice)"
      ],
      "metadata": {
        "colab": {
          "base_uri": "https://localhost:8080/"
        },
        "id": "mKWx2ODZ5v4U",
        "outputId": "9b2e3862-134d-45da-ee73-90e60c6b91c6"
      },
      "execution_count": null,
      "outputs": [
        {
          "output_type": "stream",
          "name": "stdout",
          "text": [
            "{'메로나': 1000, '폴라포': 1200, '빵빠레': 1800}\n"
          ]
        }
      ]
    },
    {
      "cell_type": "code",
      "source": [
        "ice[\"죠스바\"] = 1200\n",
        "ice[\"월드콘\"] = 1500\n",
        "print(ice)"
      ],
      "metadata": {
        "colab": {
          "base_uri": "https://localhost:8080/"
        },
        "id": "RDofBacW57qN",
        "outputId": "bc3866a5-755f-4104-c3fb-59c6cad9ea54"
      },
      "execution_count": null,
      "outputs": [
        {
          "output_type": "stream",
          "name": "stdout",
          "text": [
            "{'메로나': 1000, '폴라포': 1200, '빵빠레': 1800, '죠스바': 1200, '월드콘': 1500}\n"
          ]
        }
      ]
    },
    {
      "cell_type": "code",
      "source": [
        "print(\"메로나 가격: \", ice.get('메로나'))"
      ],
      "metadata": {
        "colab": {
          "base_uri": "https://localhost:8080/"
        },
        "id": "LK5R_L8w6TUt",
        "outputId": "63cd939c-ae43-4d8b-c699-aa9b6347bf86"
      },
      "execution_count": null,
      "outputs": [
        {
          "output_type": "stream",
          "name": "stdout",
          "text": [
            "메로나 가격:  1000\n"
          ]
        }
      ]
    },
    {
      "cell_type": "code",
      "source": [
        "ice['메로나'] = 1300"
      ],
      "metadata": {
        "id": "UkD_om5a6Xe8"
      },
      "execution_count": null,
      "outputs": []
    },
    {
      "cell_type": "code",
      "source": [
        "ice.pop('메로나')"
      ],
      "metadata": {
        "colab": {
          "base_uri": "https://localhost:8080/"
        },
        "id": "awzo3EHK6sqM",
        "outputId": "5671276c-0739-4a4c-cb92-21014fef0e0e"
      },
      "execution_count": null,
      "outputs": [
        {
          "output_type": "execute_result",
          "data": {
            "text/plain": [
              "1300"
            ]
          },
          "metadata": {},
          "execution_count": 229
        }
      ]
    },
    {
      "cell_type": "code",
      "source": [
        "print(ice)"
      ],
      "metadata": {
        "colab": {
          "base_uri": "https://localhost:8080/"
        },
        "id": "DFhM7v0r60xl",
        "outputId": "7d1014c2-eb24-4c71-ac5a-b98276c05551"
      },
      "execution_count": null,
      "outputs": [
        {
          "output_type": "stream",
          "name": "stdout",
          "text": [
            "{'폴라포': 1200, '빵빠레': 1800, '죠스바': 1200, '월드콘': 1500}\n"
          ]
        }
      ]
    },
    {
      "cell_type": "code",
      "source": [
        "del ice['메로나'] #딕셔너리에 없는 키 사용하여 인덱싱하면 에러 발생"
      ],
      "metadata": {
        "colab": {
          "base_uri": "https://localhost:8080/",
          "height": 180
        },
        "id": "LGBOQ6Oo61jq",
        "outputId": "b3010f69-242c-4187-a381-4ce1e97063ac"
      },
      "execution_count": null,
      "outputs": [
        {
          "output_type": "error",
          "ename": "KeyError",
          "evalue": "ignored",
          "traceback": [
            "\u001b[0;31m---------------------------------------------------------------------------\u001b[0m",
            "\u001b[0;31mKeyError\u001b[0m                                  Traceback (most recent call last)",
            "\u001b[0;32m<ipython-input-231-62d65770e923>\u001b[0m in \u001b[0;36m<cell line: 1>\u001b[0;34m()\u001b[0m\n\u001b[0;32m----> 1\u001b[0;31m \u001b[0;32mdel\u001b[0m \u001b[0mice\u001b[0m\u001b[0;34m[\u001b[0m\u001b[0;34m'메로나'\u001b[0m\u001b[0;34m]\u001b[0m\u001b[0;34m\u001b[0m\u001b[0;34m\u001b[0m\u001b[0m\n\u001b[0m",
            "\u001b[0;31mKeyError\u001b[0m: '메로나'"
          ]
        }
      ]
    },
    {
      "cell_type": "code",
      "source": [
        "inventory = {\"메로나\": [300, 20],\n",
        "             \"비비빅\": [400, 3],\n",
        "             \"죠스바\": [250, 100]}\n",
        "print(inventory)"
      ],
      "metadata": {
        "colab": {
          "base_uri": "https://localhost:8080/"
        },
        "id": "o2yI8GsM65rU",
        "outputId": "6dcccc50-bf65-4729-cf3f-043b70a5c582"
      },
      "execution_count": null,
      "outputs": [
        {
          "output_type": "stream",
          "name": "stdout",
          "text": [
            "{'메로나': [300, 20], '비비빅': [400, 3], '죠스바': [250, 100]}\n"
          ]
        }
      ]
    },
    {
      "cell_type": "code",
      "source": [
        "print(inventory['메로나'][0], \"원\")"
      ],
      "metadata": {
        "colab": {
          "base_uri": "https://localhost:8080/"
        },
        "id": "NLOp-7V47Rwh",
        "outputId": "2a265c4b-f543-4f9f-f419-04d790911935"
      },
      "execution_count": null,
      "outputs": [
        {
          "output_type": "stream",
          "name": "stdout",
          "text": [
            "300 원\n"
          ]
        }
      ]
    },
    {
      "cell_type": "code",
      "source": [
        "print(inventory['메로나'][1], \"개\")"
      ],
      "metadata": {
        "colab": {
          "base_uri": "https://localhost:8080/"
        },
        "id": "NvSDc9fh7pxj",
        "outputId": "b642cce7-d171-4e10-8f6b-63bdcfadd566"
      },
      "execution_count": null,
      "outputs": [
        {
          "output_type": "stream",
          "name": "stdout",
          "text": [
            "20 개\n"
          ]
        }
      ]
    },
    {
      "cell_type": "code",
      "source": [
        "inventory[\"월드콘\"] = (500, 7)\n",
        "print(inventory)"
      ],
      "metadata": {
        "colab": {
          "base_uri": "https://localhost:8080/"
        },
        "id": "df6l-9L07yrL",
        "outputId": "2b79bef7-7a1d-4d6e-b641-cdeae077dbef"
      },
      "execution_count": null,
      "outputs": [
        {
          "output_type": "stream",
          "name": "stdout",
          "text": [
            "{'메로나': [300, 20], '비비빅': [400, 3], '죠스바': [250, 100], '월드콘': (500, 7)}\n"
          ]
        }
      ]
    },
    {
      "cell_type": "code",
      "source": [
        "icecream = {'탱크보이': 1200, '폴라포': 1200, '빵빠레': 1800, '월드콘': 1500, '메로나': 1000}\n",
        "keylist = list(icecream.keys())\n",
        "ice = []\n",
        "ice = icecream.keys()\n",
        "print(keylist)\n",
        "print(ice)"
      ],
      "metadata": {
        "colab": {
          "base_uri": "https://localhost:8080/"
        },
        "id": "E7hVJ-TM7550",
        "outputId": "f3b02a4d-48fb-4c13-a209-dda76c5f4504"
      },
      "execution_count": null,
      "outputs": [
        {
          "output_type": "stream",
          "name": "stdout",
          "text": [
            "['탱크보이', '폴라포', '빵빠레', '월드콘', '메로나']\n",
            "dict_keys(['탱크보이', '폴라포', '빵빠레', '월드콘', '메로나'])\n"
          ]
        }
      ]
    },
    {
      "cell_type": "code",
      "source": [
        "icecream[\"거북알\"] = 1500\n",
        "print(keylist)\n",
        "print(ice)"
      ],
      "metadata": {
        "colab": {
          "base_uri": "https://localhost:8080/"
        },
        "id": "mf1LlXeB8DNi",
        "outputId": "86579ccb-33b1-4d47-ce34-ff1b36045040"
      },
      "execution_count": null,
      "outputs": [
        {
          "output_type": "stream",
          "name": "stdout",
          "text": [
            "['탱크보이', '폴라포', '빵빠레', '월드콘', '메로나']\n",
            "dict_keys(['탱크보이', '폴라포', '빵빠레', '월드콘', '메로나', '거북알'])\n"
          ]
        }
      ]
    },
    {
      "cell_type": "code",
      "source": [
        "icecream = {'탱크보이': 1200, '폴라포': 1200, '빵빠레': 1800, '월드콘': 1500, '메로나': 1000}\n",
        "valuelist = list(icecream.values())\n",
        "print(valuelist)"
      ],
      "metadata": {
        "colab": {
          "base_uri": "https://localhost:8080/"
        },
        "id": "_aCdvPzt83yZ",
        "outputId": "34f574d7-fb2f-48e5-851b-428bc684773a"
      },
      "execution_count": null,
      "outputs": [
        {
          "output_type": "stream",
          "name": "stdout",
          "text": [
            "[1200, 1200, 1800, 1500, 1000]\n"
          ]
        }
      ]
    },
    {
      "cell_type": "code",
      "source": [
        "print(sum(icecream.values()))"
      ],
      "metadata": {
        "colab": {
          "base_uri": "https://localhost:8080/"
        },
        "id": "MMHa5yWA9Awl",
        "outputId": "f810f1f3-2e2c-4600-db14-54f97e3af23a"
      },
      "execution_count": null,
      "outputs": [
        {
          "output_type": "stream",
          "name": "stdout",
          "text": [
            "6700\n"
          ]
        }
      ]
    },
    {
      "cell_type": "code",
      "source": [
        "new_product = {'팥빙수':2700, '아맛나':1000}\n",
        "icecream.update(new_product)\n",
        "print(icecream)"
      ],
      "metadata": {
        "colab": {
          "base_uri": "https://localhost:8080/"
        },
        "id": "DCT_NLJp9KCF",
        "outputId": "f62161b8-8fde-4d44-f3b8-d1a4ffe7bcc1"
      },
      "execution_count": null,
      "outputs": [
        {
          "output_type": "stream",
          "name": "stdout",
          "text": [
            "{'탱크보이': 1200, '폴라포': 1200, '빵빠레': 1800, '월드콘': 1500, '메로나': 1000, '팥빙수': 2700, '아맛나': 1000}\n"
          ]
        }
      ]
    },
    {
      "cell_type": "code",
      "source": [
        "keys = (\"apple\", \"pear\", \"peach\")\n",
        "vals = (300, 250, 400)\n",
        "result = dict(zip(keys,vals))\n",
        "\n",
        "print(result)"
      ],
      "metadata": {
        "colab": {
          "base_uri": "https://localhost:8080/"
        },
        "id": "tYHyCnQA9Rl3",
        "outputId": "4fcd9d15-1916-48a6-c213-f99234727b8d"
      },
      "execution_count": null,
      "outputs": [
        {
          "output_type": "stream",
          "name": "stdout",
          "text": [
            "{'apple': 300, 'pear': 250, 'peach': 400}\n"
          ]
        }
      ]
    },
    {
      "cell_type": "code",
      "source": [
        "date = ['09/05', '09/06', '09/07', '09/08', '09/09']\n",
        "close_price = [10500, 10300, 10100, 10800, 11000]\n",
        "\n",
        "close_table = dict(zip(date, close_price))\n",
        "\n",
        "print(close_table)"
      ],
      "metadata": {
        "colab": {
          "base_uri": "https://localhost:8080/"
        },
        "id": "k35Wmv0a9fYF",
        "outputId": "e8070d49-3406-4bae-a123-2354fef4fca2"
      },
      "execution_count": null,
      "outputs": [
        {
          "output_type": "stream",
          "name": "stdout",
          "text": [
            "{'09/05': 10500, '09/06': 10300, '09/07': 10100, '09/08': 10800, '09/09': 11000}\n"
          ]
        }
      ]
    },
    {
      "cell_type": "markdown",
      "source": [
        "#파이썬 분기문"
      ],
      "metadata": {
        "id": "Frog8ts_9ytz"
      }
    },
    {
      "cell_type": "code",
      "source": [
        "type(True)"
      ],
      "metadata": {
        "colab": {
          "base_uri": "https://localhost:8080/"
        },
        "id": "ACPXOSo19tub",
        "outputId": "c7dc4149-53bf-4ce0-ca40-a0ed34b3e754"
      },
      "execution_count": null,
      "outputs": [
        {
          "output_type": "execute_result",
          "data": {
            "text/plain": [
              "bool"
            ]
          },
          "metadata": {},
          "execution_count": 256
        }
      ]
    },
    {
      "cell_type": "code",
      "source": [
        "print(3 == 5) #f\n",
        "print(3 < 5) #t\n",
        "\n",
        "x = 4\n",
        "print(1 < x < 5) #t\n",
        "\n",
        "print ((3 == 3) and (4 != 3)) #t\n"
      ],
      "metadata": {
        "colab": {
          "base_uri": "https://localhost:8080/"
        },
        "id": "KKOc1KnF9235",
        "outputId": "ed89825d-040b-4295-9b7c-b9a49ea3597b"
      },
      "execution_count": null,
      "outputs": [
        {
          "output_type": "stream",
          "name": "stdout",
          "text": [
            "False\n",
            "True\n",
            "True\n",
            "True\n"
          ]
        }
      ]
    },
    {
      "cell_type": "code",
      "source": [
        "#print(3 => 4)\n",
        "print(3 >= 4)\n"
      ],
      "metadata": {
        "colab": {
          "base_uri": "https://localhost:8080/"
        },
        "id": "06WkvxNk94qw",
        "outputId": "f266d40e-7490-4aff-87b7-4d4bf859af03"
      },
      "execution_count": null,
      "outputs": [
        {
          "output_type": "stream",
          "name": "stdout",
          "text": [
            "False\n"
          ]
        }
      ]
    },
    {
      "cell_type": "code",
      "source": [
        "if 4 < 3:\n",
        "    print(\"Hello World\")"
      ],
      "metadata": {
        "id": "eouzHn4W-FxS"
      },
      "execution_count": null,
      "outputs": []
    },
    {
      "cell_type": "code",
      "source": [
        "if 4 < 3:\n",
        "    print(\"Hello World.\")\n",
        "else:\n",
        "    print(\"Hi, there.\")"
      ],
      "metadata": {
        "colab": {
          "base_uri": "https://localhost:8080/"
        },
        "id": "Y13_Yfuv-JSw",
        "outputId": "18741543-25a5-4888-d3ec-04274a435638"
      },
      "execution_count": null,
      "outputs": [
        {
          "output_type": "stream",
          "name": "stdout",
          "text": [
            "Hi, there.\n"
          ]
        }
      ]
    },
    {
      "cell_type": "code",
      "source": [
        "if True :\n",
        "    print (\"1\")\n",
        "    print (\"2\")\n",
        "else :\n",
        "    print(\"3\")\n",
        "print(\"4\")\n",
        "#1\n",
        "#2\n",
        "#4"
      ],
      "metadata": {
        "colab": {
          "base_uri": "https://localhost:8080/"
        },
        "id": "Wr42pYm0-L32",
        "outputId": "46ff00a7-b5bc-4400-da6e-e70f72dc0620"
      },
      "execution_count": null,
      "outputs": [
        {
          "output_type": "stream",
          "name": "stdout",
          "text": [
            "1\n",
            "2\n",
            "4\n"
          ]
        }
      ]
    },
    {
      "cell_type": "code",
      "source": [
        "if True :\n",
        "    if False:\n",
        "        print(\"1\")\n",
        "        print(\"2\")\n",
        "    else:\n",
        "        print(\"3\")\n",
        "else :\n",
        "    print(\"4\")\n",
        "print(\"5\")\n",
        "#3\n",
        "#5"
      ],
      "metadata": {
        "colab": {
          "base_uri": "https://localhost:8080/"
        },
        "id": "nZCeOx3--SBI",
        "outputId": "f3750909-8446-4a87-e38c-fe3a9fe794aa"
      },
      "execution_count": null,
      "outputs": [
        {
          "output_type": "stream",
          "name": "stdout",
          "text": [
            "3\n",
            "5\n"
          ]
        }
      ]
    },
    {
      "cell_type": "code",
      "source": [
        "user = input(\"입력:\")\n",
        "print(user * 2)"
      ],
      "metadata": {
        "colab": {
          "base_uri": "https://localhost:8080/"
        },
        "id": "vVQTnYNh-XZN",
        "outputId": "45c150e6-e68b-4fb2-9fb1-5ee8eddfa064"
      },
      "execution_count": null,
      "outputs": [
        {
          "output_type": "stream",
          "name": "stdout",
          "text": [
            "입력:d\n",
            "dd\n"
          ]
        }
      ]
    },
    {
      "cell_type": "code",
      "source": [
        "a = input(\"숫자를 입력하세요: \")\n",
        "result = int(a) +10\n",
        "print( result )"
      ],
      "metadata": {
        "colab": {
          "base_uri": "https://localhost:8080/"
        },
        "id": "EF2VrTus-hd0",
        "outputId": "789e2227-2a70-4310-f38a-a9cd878e25d0"
      },
      "execution_count": null,
      "outputs": [
        {
          "output_type": "stream",
          "name": "stdout",
          "text": [
            "숫자를 입력하세요: 1535\n",
            "1545\n"
          ]
        }
      ]
    },
    {
      "cell_type": "code",
      "source": [
        "user = input()\n",
        "if(int(user)%2==0):\n",
        "  print(\"짝수\")\n",
        "else:\n",
        "  print(\"홀수\")"
      ],
      "metadata": {
        "colab": {
          "base_uri": "https://localhost:8080/"
        },
        "id": "FlBqeIam-osb",
        "outputId": "8a81ad85-008e-4e5e-8297-88d2b70b2db1"
      },
      "execution_count": null,
      "outputs": [
        {
          "output_type": "stream",
          "name": "stdout",
          "text": [
            "1513535\n",
            "홀수\n"
          ]
        }
      ]
    },
    {
      "cell_type": "code",
      "source": [
        "user = input(\"\")\n",
        "result = int(user) + 20\n",
        "if result > 255:\n",
        "  print(255)\n",
        "else:\n",
        "  print(result)"
      ],
      "metadata": {
        "colab": {
          "base_uri": "https://localhost:8080/"
        },
        "id": "U0rJHLGK_LQS",
        "outputId": "466003f8-89fc-45e7-a26f-8eab2bb6fed8"
      },
      "execution_count": null,
      "outputs": [
        {
          "output_type": "stream",
          "name": "stdout",
          "text": [
            "255\n",
            "255\n"
          ]
        }
      ]
    },
    {
      "cell_type": "code",
      "source": [
        "user = input(\"\")\n",
        "result = int(user) - 20\n",
        "if result < 0:\n",
        "  print(0)\n",
        "elif result > 255:\n",
        "  print(255)\n",
        "else:\n",
        "  print(result)\n"
      ],
      "metadata": {
        "colab": {
          "base_uri": "https://localhost:8080/"
        },
        "id": "KFQTvKhxC8sC",
        "outputId": "8f043159-28f7-4f81-cc18-ffb3a2db33ac"
      },
      "execution_count": null,
      "outputs": [
        {
          "output_type": "stream",
          "name": "stdout",
          "text": [
            "280\n",
            "255\n"
          ]
        }
      ]
    },
    {
      "cell_type": "code",
      "source": [
        "user = input(\"현재시간: \")\n",
        "split = user.split(\":\")\n",
        "if split[-1] == \"00\":\n",
        "    print(\"정각 입니다.\")\n",
        "else:\n",
        "    print(\"정각이 아닙니다.\")\n"
      ],
      "metadata": {
        "colab": {
          "base_uri": "https://localhost:8080/"
        },
        "id": "rFYOnTS8DV5m",
        "outputId": "133c4edb-817c-433e-adf3-f29dddc639b1"
      },
      "execution_count": null,
      "outputs": [
        {
          "output_type": "stream",
          "name": "stdout",
          "text": [
            "현재시간:02:09\n",
            "정각이 아닙니다.\n"
          ]
        }
      ]
    },
    {
      "cell_type": "code",
      "source": [
        "time = input(\"현재시간: \")\n",
        "if time[-2:] == \"00\":\n",
        "    print(\"정각 입니다.\")\n",
        "else:\n",
        "    print(\"정각이 아닙니다.\")"
      ],
      "metadata": {
        "colab": {
          "base_uri": "https://localhost:8080/"
        },
        "id": "wgGCKxnvD2aU",
        "outputId": "8b87f35b-8b05-48fc-e981-27d6cd2a416a"
      },
      "execution_count": null,
      "outputs": [
        {
          "output_type": "stream",
          "name": "stdout",
          "text": [
            "현재시간: 01:00\n",
            "정각 입니다.\n"
          ]
        }
      ]
    },
    {
      "cell_type": "code",
      "source": [
        "fruit = [\"사과\", \"포도\", \"홍시\"]\n",
        "user = input(\"좋아하는 과일은? \")\n",
        "\n",
        "if user in fruit:\n",
        "  print(\"정답입니다.\")\n",
        "else:\n",
        "    print(\"오답입니다.\")"
      ],
      "metadata": {
        "colab": {
          "base_uri": "https://localhost:8080/"
        },
        "id": "-pjkHF9-EBRh",
        "outputId": "baa562e6-1042-4e52-fc13-56728f2650da"
      },
      "execution_count": null,
      "outputs": [
        {
          "output_type": "stream",
          "name": "stdout",
          "text": [
            "좋아하는 과일은? ㅁ\n",
            "오답입니다.\n"
          ]
        }
      ]
    },
    {
      "cell_type": "code",
      "source": [
        "warn_investment_list = [\"Microsoft\", \"Google\", \"Naver\", \"Kakao\", \"SAMSUNG\", \"LG\"]\n",
        "\n",
        "user = input(\"투자 종목을 입력하세요: \")\n",
        "if user in warn_investment_list:\n",
        "  print(\"투자 경고 종목입니다\")\n",
        "else:\n",
        "  print(\"투자 경고 종목이 아닙니다\")\n"
      ],
      "metadata": {
        "colab": {
          "base_uri": "https://localhost:8080/"
        },
        "id": "aqLNsP0cEWVr",
        "outputId": "9d3ad461-8935-44dd-bc5a-55492268d10a"
      },
      "execution_count": null,
      "outputs": [
        {
          "output_type": "stream",
          "name": "stdout",
          "text": [
            "투자 종목을 입력하세요: LG\n",
            "투자 경고 종목입니다\n"
          ]
        }
      ]
    },
    {
      "cell_type": "code",
      "source": [
        "fruit = {\"봄\" : \"딸기\", \"여름\" : \"토마토\", \"가을\" : \"사과\"}\n",
        "user = input(\"제가좋아하는계절은: \")\n",
        "if user in fruit:\n",
        "  print(\"정답입니다\")\n",
        "else:\n",
        "  print(\"오답입니다\")"
      ],
      "metadata": {
        "colab": {
          "base_uri": "https://localhost:8080/"
        },
        "id": "r7PHRET9Eq_J",
        "outputId": "54bda300-a111-47ad-e158-b27ac280ea71"
      },
      "execution_count": null,
      "outputs": [
        {
          "output_type": "stream",
          "name": "stdout",
          "text": [
            "제가좋아하는계절은: 딸기\n",
            "오답입니다\n"
          ]
        }
      ]
    },
    {
      "cell_type": "code",
      "source": [
        "user = input(\"제가좋아하는과일은: \")\n",
        "if user in fruit.values():\n",
        "  print(\"정답입니다\")\n",
        "else:\n",
        "  print(\"오답입니다\")"
      ],
      "metadata": {
        "colab": {
          "base_uri": "https://localhost:8080/"
        },
        "id": "4noMEedqE8zO",
        "outputId": "c1ae0e38-cfed-41c2-a131-7041fbdfd222"
      },
      "execution_count": null,
      "outputs": [
        {
          "output_type": "stream",
          "name": "stdout",
          "text": [
            "제가좋아하는과일은: 토마토\n",
            "정답입니다\n"
          ]
        }
      ]
    },
    {
      "cell_type": "code",
      "source": [
        "user = input(\"\")\n",
        "\n",
        "if user.islower():\n",
        "  print(user.upper())\n",
        "else:\n",
        "  print(user.lower())"
      ],
      "metadata": {
        "colab": {
          "base_uri": "https://localhost:8080/"
        },
        "id": "mT06qpCvFIWy",
        "outputId": "1109aa31-d087-4fcf-c730-16f394b08b08"
      },
      "execution_count": null,
      "outputs": [
        {
          "output_type": "stream",
          "name": "stdout",
          "text": [
            "B\n",
            "b\n"
          ]
        }
      ]
    },
    {
      "cell_type": "code",
      "source": [
        "score = input(\"점수를 입력하세요: \")\n",
        "score = int(score)\n",
        "\n",
        "if score >= 81 and score <= 100:\n",
        "  grade = \"A\"\n",
        "elif score >= 61 and score <= 80:\n",
        "  grade = \"B\"\n",
        "elif score >= 41 and score <= 60:\n",
        "  grade = \"C\"\n",
        "elif score >= 21 and score <= 40:\n",
        "  grade = \"D\"\n",
        "else:\n",
        "  grade = \"E\"\n",
        "\n",
        "print(\"grade is\", grade)"
      ],
      "metadata": {
        "colab": {
          "base_uri": "https://localhost:8080/"
        },
        "id": "xvwmOz4Eli1c",
        "outputId": "cb94b9c3-c7a8-4cd5-cb82-81ca4fe4ede1"
      },
      "execution_count": null,
      "outputs": [
        {
          "output_type": "stream",
          "name": "stdout",
          "text": [
            "점수를 입력하세요: 91\n",
            "grade is A\n"
          ]
        }
      ]
    },
    {
      "cell_type": "code",
      "source": [
        "money = input(\"입력: \")\n",
        "money = money.split(\" \")\n",
        "currency = int(money[0])\n",
        "unit = money[1]\n",
        "\n",
        "if unit == \"달러\":\n",
        "  print( currency * 1167 )\n",
        "elif unit == \"엔\":\n",
        "  print( currency * 1.096 )\n",
        "elif unit == \"유로\":\n",
        "  print( currency * 1268 )\n",
        "else:\n",
        "  print(currency * 171)"
      ],
      "metadata": {
        "colab": {
          "base_uri": "https://localhost:8080/"
        },
        "id": "GKe0a4PqmanE",
        "outputId": "6b3f33b9-2cd9-4870-fc7f-9d61b54a810a"
      },
      "execution_count": null,
      "outputs": [
        {
          "output_type": "stream",
          "name": "stdout",
          "text": [
            "입력: 100 유로\n",
            "126800\n"
          ]
        }
      ]
    },
    {
      "cell_type": "code",
      "source": [
        "환율 = { \"달러\": 1167,\n",
        "      \"엔\": 1.096,\n",
        "       \"유로\": 1268,\n",
        "       \"위안\": 171}\n",
        "user = input(\"입력\")\n",
        "unit, currency = user.split()\n",
        "print(float(unit)*환율[currency], \"원\")"
      ],
      "metadata": {
        "colab": {
          "base_uri": "https://localhost:8080/"
        },
        "id": "z0eJ9--wndgn",
        "outputId": "84a40827-8821-412f-987d-dc318d809769"
      },
      "execution_count": null,
      "outputs": [
        {
          "output_type": "stream",
          "name": "stdout",
          "text": [
            "입력100 유로\n",
            "126800.0 원\n"
          ]
        }
      ]
    },
    {
      "cell_type": "code",
      "source": [
        "num = []\n",
        "for i in range(3):\n",
        "  number = int(input(f\"input number{i+1}: \"))\n",
        "  num.append(number)\n",
        "print(max(num))\n"
      ],
      "metadata": {
        "colab": {
          "base_uri": "https://localhost:8080/"
        },
        "id": "HxYlGie5n9oL",
        "outputId": "d7c00a67-6b28-4726-ed41-b4d390b6f325"
      },
      "execution_count": null,
      "outputs": [
        {
          "output_type": "stream",
          "name": "stdout",
          "text": [
            "input number1: 40\n",
            "input number2: 20\n",
            "input number3: 0\n",
            "40\n"
          ]
        }
      ]
    },
    {
      "cell_type": "code",
      "source": [
        "\n",
        "통신사 = {\"011\" : \"SKT\",\n",
        "       \"016\": \"KT\",\n",
        "       \"019\": \"LGU\",\n",
        "       \"010\": \"알수없음\"}\n",
        "\n",
        "phone = input(\"휴대전화 번호 입력:\" )\n",
        "phone = phone.split(\"-\")\n",
        "\n",
        "print(\"당신은\", 통신사[phone[0]], \"사용자입니다.\")\n",
        "print(f\"당신은 {통신사[phone[0]]} 사용자입니다.\")"
      ],
      "metadata": {
        "colab": {
          "base_uri": "https://localhost:8080/"
        },
        "id": "HXUXpQDdoehW",
        "outputId": "c596bb58-2710-47ee-cfac-e01ae380e6e5"
      },
      "execution_count": null,
      "outputs": [
        {
          "output_type": "stream",
          "name": "stdout",
          "text": [
            "휴대전화 번호 입력:011-324-1453\n",
            "당신은 SKT 사용자입니다.\n",
            "당신은 SKT 사용자입니다.\n"
          ]
        }
      ]
    },
    {
      "cell_type": "code",
      "source": [
        "우편번호 = {\"강북구\": [\"010\", \"011\", \"012\"],\n",
        "        \"도봉구\": [\"013\",\"014\",\"015\"],\n",
        "        \"노원구\": [\"016\",\"017\",\"018\", \"019\"]}\n",
        "\n",
        "postcode = input(\"우편번호: \")\n",
        "n = postcode[:3]\n",
        "\n",
        "if n in 우편번호[\"강북구\"]:\n",
        "  print(\"강북구\")\n",
        "elif n in 우편번호[\"도봉구\"]:\n",
        "  print(\"도봉구\")\n",
        "else:\n",
        "  print(\"노원구\")"
      ],
      "metadata": {
        "colab": {
          "base_uri": "https://localhost:8080/"
        },
        "id": "IbRT5OEa08U7",
        "outputId": "5aecaab1-77e2-4993-a821-79167fc37a25"
      },
      "execution_count": null,
      "outputs": [
        {
          "output_type": "stream",
          "name": "stdout",
          "text": [
            "우편번호: 01034\n",
            "강북구\n"
          ]
        }
      ]
    },
    {
      "cell_type": "code",
      "source": [
        "우편번호 = {\"강북구\": [\"010\", \"011\", \"012\"],\n",
        "        \"도봉구\": [\"013\",\"014\",\"015\"],\n",
        "        \"노원구\": [\"016\",\"017\",\"018\", \"019\"]}\n",
        "\n",
        "postcode = input(\"우편번호: \")\n",
        "n = postcode[:3]\n",
        "\n",
        "for 구, 우편번호들 in 우편번호.items():\n",
        "  if n in 우편번호들:\n",
        "    print(구)\n",
        "    break\n",
        "else: # 검색 실패 시 수행\n",
        "    print(f\"{postcode}는 등록되지 않은 우편번호 입니다.\")"
      ],
      "metadata": {
        "colab": {
          "base_uri": "https://localhost:8080/"
        },
        "id": "6STiHf862bik",
        "outputId": "d623197a-0acc-491a-d1c6-83c6cc5f53dd"
      },
      "execution_count": null,
      "outputs": [
        {
          "output_type": "stream",
          "name": "stdout",
          "text": [
            "우편번호: 02000\n",
            "02000는 등록되지 않은 우편번호 입니다.\n"
          ]
        }
      ]
    },
    {
      "cell_type": "code",
      "source": [
        "user = input(\"주민등록번호: \")\n",
        "if int(user[7]) in(1, 3):\n",
        "  print(\"남자\")\n",
        "else:\n",
        "  print(\"여자\")"
      ],
      "metadata": {
        "colab": {
          "base_uri": "https://localhost:8080/"
        },
        "id": "YKefH6zA5uUo",
        "outputId": "ccda8524-02e0-4f2a-b86c-cef990f418cd"
      },
      "execution_count": null,
      "outputs": [
        {
          "output_type": "stream",
          "name": "stdout",
          "text": [
            "주민등록번호: 294837-3029182\n",
            "남자\n"
          ]
        }
      ]
    },
    {
      "cell_type": "code",
      "source": [
        "user = input(\"주민등록번호: \")\n",
        "user = user.split(\"-\")[1]\n",
        "if user[:1] in(\"09\", \"10\", \"11\", \"12\"):\n",
        "  print(\"서울이 아닙니다.\")\n",
        "else:\n",
        "  print(\"서울 입니다.\")\n"
      ],
      "metadata": {
        "colab": {
          "base_uri": "https://localhost:8080/"
        },
        "id": "xfxxnv267Q4q",
        "outputId": "62a4f202-6435-44f6-cafa-ae6e429c2e0c"
      },
      "execution_count": null,
      "outputs": [
        {
          "output_type": "stream",
          "name": "stdout",
          "text": [
            "주민등록번호: 0395834-30204345\n",
            "서울 입니다.\n"
          ]
        }
      ]
    },
    {
      "cell_type": "code",
      "source": [
        "주민번호 = input(\"주민등록번호: \")\n",
        "뒷자리 = 주민번호.split(\"-\")[1]\n",
        "if 0<=int(뒷자리[1:3])<=8:\n",
        "  print(\"서울 입니다\")\n",
        "else:\n",
        "  print(\"서울이 아닙니다.\")"
      ],
      "metadata": {
        "colab": {
          "base_uri": "https://localhost:8080/"
        },
        "id": "G2F1VBsT85Rd",
        "outputId": "54628c7d-09ea-4959-dd2e-4d9020501503"
      },
      "execution_count": null,
      "outputs": [
        {
          "output_type": "stream",
          "name": "stdout",
          "text": [
            "주민등록번호: 13413535-010304234\n",
            "서울이 아닙니다.\n"
          ]
        }
      ]
    },
    {
      "cell_type": "code",
      "source": [
        "import requests\n",
        "btc = requests.get(\"https://api.bithumb.com/public/ticker/\").json()['data']\n",
        "btc"
      ],
      "metadata": {
        "colab": {
          "base_uri": "https://localhost:8080/"
        },
        "id": "GgT8NNxt9Uvo",
        "outputId": "4dc6a5a7-2542-4112-d2d8-d917893edc00"
      },
      "execution_count": null,
      "outputs": [
        {
          "output_type": "execute_result",
          "data": {
            "text/plain": [
              "{'opening_price': '59060000',\n",
              " 'closing_price': '59133000',\n",
              " 'min_price': '58835000',\n",
              " 'max_price': '60080000',\n",
              " 'units_traded': '4108.71702679',\n",
              " 'acc_trade_value': '244123483757.7556',\n",
              " 'prev_closing_price': '59060000',\n",
              " 'units_traded_24H': '4180.09233414',\n",
              " 'acc_trade_value_24H': '248351075267.6828',\n",
              " 'fluctate_24H': '-265000',\n",
              " 'fluctate_rate_24H': '-0.45',\n",
              " 'date': '1703256126985'}"
            ]
          },
          "metadata": {},
          "execution_count": 355
        }
      ]
    },
    {
      "cell_type": "code",
      "source": [
        "시가 = float(btc[\"opening_price\"])\n",
        "최고가 = float(btc[\"max_price\"])\n",
        "최저가 = float(btc[\"min_price\"])\n",
        "변동폭 = 최고가-최저가\n",
        "\n",
        "\n",
        "if 시가 + 변동폭 > 최고가:\n",
        "  print(\"상승장\")\n",
        "else:\n",
        "  print(\"하락장\")\n"
      ],
      "metadata": {
        "colab": {
          "base_uri": "https://localhost:8080/"
        },
        "id": "bk0YH2nm-EJ3",
        "outputId": "95a4f957-bbee-47d8-b6f9-6224113d981e"
      },
      "execution_count": null,
      "outputs": [
        {
          "output_type": "stream",
          "name": "stdout",
          "text": [
            "상승장\n"
          ]
        }
      ]
    },
    {
      "cell_type": "code",
      "source": [
        "주민번호 = input(\"주민등록번호:  \" ).replace(\"-\", \"\")\n",
        "result = 0\n",
        "\n",
        "for i in range(12):\n",
        "  result += int(주민번호[i]) * (i+2) if i <= 7 else int(주민번호[i]) * (i-6)\n",
        "\n",
        "check_digit = 11 - (result % 11)\n",
        "check_digit %= 10 if check_digit >= 10 else check_digit\n",
        "\n",
        "if check_digit == int(주민번호[-1]):\n",
        "    print(\"유효한 주민등록번호입니다.\")\n",
        "else:\n",
        "    print(\"유효하지 않은 주민등록번호입니다.\")\n",
        "\n",
        "# 주민등록번호:  394810-2049312"
      ],
      "metadata": {
        "colab": {
          "base_uri": "https://localhost:8080/"
        },
        "id": "9qp2244e-Z2v",
        "outputId": "03211910-bfb0-4fe9-91b8-96260c4236f1"
      },
      "execution_count": null,
      "outputs": [
        {
          "output_type": "stream",
          "name": "stdout",
          "text": [
            "주민등록번호:  394810-2049312\n",
            "유효하지 않은 주민등록번호입니다.\n"
          ]
        }
      ]
    },
    {
      "cell_type": "markdown",
      "source": [
        "#파이썬 반복문"
      ],
      "metadata": {
        "id": "SJUE9cOvqy5r"
      }
    },
    {
      "cell_type": "code",
      "source": [
        "과일 = [\"사과\", \"귤\", \"수박\"]\n",
        "for 변수 in 과일:\n",
        "    print(변수)"
      ],
      "metadata": {
        "colab": {
          "base_uri": "https://localhost:8080/"
        },
        "id": "B78eC93XqP8T",
        "outputId": "9392e185-12bc-4436-e54d-de2187a5471d"
      },
      "execution_count": null,
      "outputs": [
        {
          "output_type": "stream",
          "name": "stdout",
          "text": [
            "사과\n",
            "귤\n",
            "수박\n"
          ]
        }
      ]
    },
    {
      "cell_type": "code",
      "source": [
        "과일 = [\"사과\", \"귤\", \"수박\"]\n",
        "for 변수 in 과일:\n",
        "  print(\"#####\")"
      ],
      "metadata": {
        "colab": {
          "base_uri": "https://localhost:8080/"
        },
        "id": "FPT7MpvUq0hi",
        "outputId": "b76e831f-f90f-42ec-f8fa-a6020e3c26dc"
      },
      "execution_count": null,
      "outputs": [
        {
          "output_type": "stream",
          "name": "stdout",
          "text": [
            "#####\n",
            "#####\n",
            "#####\n"
          ]
        }
      ]
    },
    {
      "cell_type": "code",
      "source": [
        "for 변수 in [\"A\", \"B\", \"C\"]:\n",
        "  print(변수)\n",
        "\n",
        "알파벳 = [\"A\", \"B\", \"C\"]\n",
        "for 변수 in 알파벳:\n",
        "  print(변수)"
      ],
      "metadata": {
        "colab": {
          "base_uri": "https://localhost:8080/"
        },
        "id": "2XKdQ6YPq6dP",
        "outputId": "cfdac2d3-7cf9-4851-e346-263904294197"
      },
      "execution_count": null,
      "outputs": [
        {
          "output_type": "stream",
          "name": "stdout",
          "text": [
            "A\n",
            "B\n",
            "C\n",
            "A\n",
            "B\n",
            "C\n"
          ]
        }
      ]
    },
    {
      "cell_type": "code",
      "source": [
        "print(\"A\")\n",
        "print(\"B\")\n",
        "print(\"C\")"
      ],
      "metadata": {
        "colab": {
          "base_uri": "https://localhost:8080/"
        },
        "id": "CsTdgOC4rUnW",
        "outputId": "b73a6ad0-4957-44e7-b62b-3ce7def4a84a"
      },
      "execution_count": null,
      "outputs": [
        {
          "output_type": "stream",
          "name": "stdout",
          "text": [
            "A\n",
            "B\n",
            "C\n"
          ]
        }
      ]
    },
    {
      "cell_type": "code",
      "source": [
        "for 변수 in [\"A\", \"B\", \"C\"]:\n",
        "  print(\"출력:\", 변수)\n",
        "\n",
        "print(\"출력: A\")\n",
        "print(\"출력: B\")\n",
        "print(\"출력: C\")\n"
      ],
      "metadata": {
        "colab": {
          "base_uri": "https://localhost:8080/"
        },
        "id": "wf_dTOkbrbRw",
        "outputId": "798815e7-8bde-49a2-c2bd-f2473e58a937"
      },
      "execution_count": null,
      "outputs": [
        {
          "output_type": "stream",
          "name": "stdout",
          "text": [
            "출력: A\n",
            "출력: B\n",
            "출력: C\n",
            "출력: A\n",
            "출력: B\n",
            "출력: C\n"
          ]
        }
      ]
    },
    {
      "cell_type": "code",
      "source": [
        "for 변수 in [\"A\", \"B\", \"C\"]:\n",
        "  b = 변수.lower()\n",
        "  print(\"변환:\", b)\n",
        "\n",
        "변수 = \"A\"\n",
        "b = 변수.lower()\n",
        "print(\"변환:\", b)\n",
        "변수 = \"B\"\n",
        "b = 변수.lower()\n",
        "print(\"변환:\", b)\n",
        "변수 = \"C\"\n",
        "b = 변수.lower()\n",
        "print(\"변환:\", b)"
      ],
      "metadata": {
        "colab": {
          "base_uri": "https://localhost:8080/"
        },
        "id": "t8gJZmMbrkFM",
        "outputId": "1c8142c2-2682-4a3c-b323-cec690adcb38"
      },
      "execution_count": null,
      "outputs": [
        {
          "output_type": "stream",
          "name": "stdout",
          "text": [
            "변환: a\n",
            "변환: b\n",
            "변환: c\n",
            "변환: a\n",
            "변환: b\n",
            "변환: c\n"
          ]
        }
      ]
    },
    {
      "cell_type": "code",
      "source": [
        "숫자 = [10, 20, 30]\n",
        "for 변수 in 숫자:\n",
        "  print(변수)"
      ],
      "metadata": {
        "colab": {
          "base_uri": "https://localhost:8080/"
        },
        "id": "Z0_5-xd0rrmL",
        "outputId": "92b457a4-914b-4a1d-81cf-13d4932effe5"
      },
      "execution_count": null,
      "outputs": [
        {
          "output_type": "stream",
          "name": "stdout",
          "text": [
            "10\n",
            "20\n",
            "30\n"
          ]
        }
      ]
    },
    {
      "cell_type": "code",
      "source": [
        "for 변수 in [10, 20, 30]:\n",
        "  print(변수)"
      ],
      "metadata": {
        "colab": {
          "base_uri": "https://localhost:8080/"
        },
        "id": "DFTmzmVjsu2N",
        "outputId": "741ef372-89da-4912-e4b5-90685123797b"
      },
      "execution_count": null,
      "outputs": [
        {
          "output_type": "stream",
          "name": "stdout",
          "text": [
            "10\n",
            "20\n",
            "30\n"
          ]
        }
      ]
    },
    {
      "cell_type": "code",
      "source": [
        "for 변수 in [10, 20, 30]:\n",
        "  print(변수)\n",
        "  print(\"-------\")\n"
      ],
      "metadata": {
        "colab": {
          "base_uri": "https://localhost:8080/"
        },
        "id": "j5mPXpETtPNh",
        "outputId": "a9a1a93b-eb43-436a-ee41-6bf19644d13a"
      },
      "execution_count": null,
      "outputs": [
        {
          "output_type": "stream",
          "name": "stdout",
          "text": [
            "10\n",
            "-------\n",
            "20\n",
            "-------\n",
            "30\n",
            "-------\n"
          ]
        }
      ]
    },
    {
      "cell_type": "code",
      "source": [
        "print(\"++++\")\n",
        "for 변수 in [10, 20, 30]:\n",
        "  print(변수)\n"
      ],
      "metadata": {
        "colab": {
          "base_uri": "https://localhost:8080/"
        },
        "id": "6LaINoYBtV7W",
        "outputId": "11b39202-7bbb-4e12-ced8-69f79c07e63a"
      },
      "execution_count": null,
      "outputs": [
        {
          "output_type": "stream",
          "name": "stdout",
          "text": [
            "++++\n",
            "10\n",
            "20\n",
            "30\n"
          ]
        }
      ]
    },
    {
      "cell_type": "code",
      "source": [
        "for 변수 in range(4):\n",
        "  print(\"-------\")\n"
      ],
      "metadata": {
        "colab": {
          "base_uri": "https://localhost:8080/"
        },
        "id": "mnfvvpoEteI1",
        "outputId": "688c6c98-f9be-4140-9614-55aeb5d3eef6"
      },
      "execution_count": null,
      "outputs": [
        {
          "output_type": "stream",
          "name": "stdout",
          "text": [
            "-------\n",
            "-------\n",
            "-------\n",
            "-------\n"
          ]
        }
      ]
    },
    {
      "cell_type": "code",
      "source": [
        "리스트 = [100, 200, 300]\n",
        "for i in 리스트:\n",
        "  print(i+10)"
      ],
      "metadata": {
        "colab": {
          "base_uri": "https://localhost:8080/"
        },
        "id": "auqsO96Nti81",
        "outputId": "9ff45240-1a5f-46c1-9692-3a29d0617533"
      },
      "execution_count": null,
      "outputs": [
        {
          "output_type": "stream",
          "name": "stdout",
          "text": [
            "110\n",
            "210\n",
            "310\n"
          ]
        }
      ]
    },
    {
      "cell_type": "code",
      "source": [
        "리스트 = [\"김밥\", \"라면\", \"튀김\"]\n",
        "for i in 리스트:\n",
        "  print(\"오늘의 메뉴:\", i)"
      ],
      "metadata": {
        "colab": {
          "base_uri": "https://localhost:8080/"
        },
        "id": "Ag7shLk3uJVN",
        "outputId": "2e1577f8-419f-4782-e095-a5bba7892f84"
      },
      "execution_count": null,
      "outputs": [
        {
          "output_type": "stream",
          "name": "stdout",
          "text": [
            "오늘의 메뉴: 김밥\n",
            "오늘의 메뉴: 라면\n",
            "오늘의 메뉴: 튀김\n"
          ]
        }
      ]
    },
    {
      "cell_type": "code",
      "source": [
        "리스트 = [\"SK하이닉스\", \"삼성전자\", \"LG전자\"]\n",
        "for i in 리스트:\n",
        "  print(len(i))"
      ],
      "metadata": {
        "colab": {
          "base_uri": "https://localhost:8080/"
        },
        "id": "ER9n2Dh4uQ2k",
        "outputId": "91bf52aa-d204-4d5b-9e85-f19b67768711"
      },
      "execution_count": null,
      "outputs": [
        {
          "output_type": "stream",
          "name": "stdout",
          "text": [
            "6\n",
            "4\n",
            "4\n"
          ]
        }
      ]
    },
    {
      "cell_type": "code",
      "source": [
        "리스트 = ['dog', 'cat', 'parrot']\n",
        "for i in 리스트:\n",
        "  print(i, len(i))"
      ],
      "metadata": {
        "colab": {
          "base_uri": "https://localhost:8080/"
        },
        "id": "_kKsojQDuZCn",
        "outputId": "7ebbb756-410a-4393-de3b-7790db51f915"
      },
      "execution_count": null,
      "outputs": [
        {
          "output_type": "stream",
          "name": "stdout",
          "text": [
            "dog 3\n",
            "cat 3\n",
            "parrot 6\n"
          ]
        }
      ]
    },
    {
      "cell_type": "code",
      "source": [
        "리스트 = ['dog', 'cat', 'parrot']\n",
        "for i in 리스트:\n",
        "  print(i[0])"
      ],
      "metadata": {
        "colab": {
          "base_uri": "https://localhost:8080/"
        },
        "id": "-kGGiI8SuhEe",
        "outputId": "31d195a4-fbbf-4b7e-c549-8c03a63eaa65"
      },
      "execution_count": null,
      "outputs": [
        {
          "output_type": "stream",
          "name": "stdout",
          "text": [
            "d\n",
            "c\n",
            "p\n"
          ]
        }
      ]
    },
    {
      "cell_type": "code",
      "source": [
        "리스트 = [1, 2, 3]\n",
        "for i in 리스트:\n",
        "  print(\"3 X\", i)"
      ],
      "metadata": {
        "colab": {
          "base_uri": "https://localhost:8080/"
        },
        "id": "0G-tbdMOuo0Y",
        "outputId": "305dbee0-2e5b-46c6-d5a4-40583ed9da6a"
      },
      "execution_count": null,
      "outputs": [
        {
          "output_type": "stream",
          "name": "stdout",
          "text": [
            "3 X 1\n",
            "3 X 2\n",
            "3 X 3\n"
          ]
        }
      ]
    },
    {
      "cell_type": "code",
      "source": [
        "리스트 = [1, 2, 3]\n",
        "for i in 리스트:\n",
        "  print(\"3 X\", i, \"=\", 3*i)"
      ],
      "metadata": {
        "colab": {
          "base_uri": "https://localhost:8080/"
        },
        "id": "pca5acFEvlJs",
        "outputId": "980d204e-eaaa-4510-b63c-b4a4e1955384"
      },
      "execution_count": null,
      "outputs": [
        {
          "output_type": "stream",
          "name": "stdout",
          "text": [
            "3 X 1 = 3\n",
            "3 X 2 = 6\n",
            "3 X 3 = 9\n"
          ]
        }
      ]
    },
    {
      "cell_type": "code",
      "source": [
        "리스트 = [1, 2, 3]\n",
        "for i in 리스트:\n",
        "  print(\"3 X {} = {}\".format(i, 3*i))"
      ],
      "metadata": {
        "colab": {
          "base_uri": "https://localhost:8080/"
        },
        "id": "KbbmzNb5vs6H",
        "outputId": "b3a769b4-847a-4d15-ff39-2e72045ab7c0"
      },
      "execution_count": null,
      "outputs": [
        {
          "output_type": "stream",
          "name": "stdout",
          "text": [
            "3 X 1 = 3\n",
            "3 X 2 = 6\n",
            "3 X 3 = 9\n"
          ]
        }
      ]
    },
    {
      "cell_type": "code",
      "source": [
        "리스트 = [\"가\", \"나\", \"다\", \"라\"]\n",
        "for i in range(1,4):\n",
        "  print(리스트[i])\n",
        "\n",
        "리스트 = [\"가\", \"나\", \"다\", \"라\"]\n",
        "for i in 리스트[1:]:\n",
        "  print(i)\n"
      ],
      "metadata": {
        "colab": {
          "base_uri": "https://localhost:8080/"
        },
        "id": "mtjbv5W_v6GV",
        "outputId": "3d64994f-c3b8-4fe6-b675-94e2dbd0adaf"
      },
      "execution_count": null,
      "outputs": [
        {
          "output_type": "stream",
          "name": "stdout",
          "text": [
            "나\n",
            "다\n",
            "라\n",
            "나\n",
            "다\n",
            "라\n"
          ]
        }
      ]
    },
    {
      "cell_type": "code",
      "source": [
        "리스트 = [\"가\", \"나\", \"다\", \"라\"]\n",
        "for i in range(4):\n",
        "  if i%2 == 0:\n",
        "    print(리스트[i])"
      ],
      "metadata": {
        "colab": {
          "base_uri": "https://localhost:8080/"
        },
        "id": "HVhm-m1cwJpk",
        "outputId": "7a8d0307-a6fa-4be6-b201-ec5562921933"
      },
      "execution_count": null,
      "outputs": [
        {
          "output_type": "stream",
          "name": "stdout",
          "text": [
            "가\n",
            "다\n"
          ]
        }
      ]
    },
    {
      "cell_type": "code",
      "source": [
        "리스트 = [\"가\", \"나\", \"다\", \"라\"]\n",
        "for i in 리스트[::2]:\n",
        "   print(i)"
      ],
      "metadata": {
        "colab": {
          "base_uri": "https://localhost:8080/"
        },
        "id": "FP_Izv-PwpX1",
        "outputId": "8209ebcb-97ad-4837-c589-7bd05eb5b5a4"
      },
      "execution_count": null,
      "outputs": [
        {
          "output_type": "stream",
          "name": "stdout",
          "text": [
            "가\n",
            "다\n"
          ]
        }
      ]
    },
    {
      "cell_type": "code",
      "source": [
        "리스트 = [\"가\", \"나\", \"다\", \"라\"]\n",
        "for i in 리스트[::-1]:\n",
        "   print(i)"
      ],
      "metadata": {
        "colab": {
          "base_uri": "https://localhost:8080/"
        },
        "id": "1E9r4bWaw6SQ",
        "outputId": "290d1e7c-c6a3-45bf-f78e-02b60ba13ca4"
      },
      "execution_count": null,
      "outputs": [
        {
          "output_type": "stream",
          "name": "stdout",
          "text": [
            "라\n",
            "다\n",
            "나\n",
            "가\n"
          ]
        }
      ]
    },
    {
      "cell_type": "code",
      "source": [
        "리스트 = [3, -20, -3, 44]\n",
        "for i in 리스트[1:3]:\n",
        "   print(i)"
      ],
      "metadata": {
        "colab": {
          "base_uri": "https://localhost:8080/"
        },
        "id": "lCix14iGxIc0",
        "outputId": "bfbe65dd-8476-4fd2-d3d2-336f8e3cd327"
      },
      "execution_count": null,
      "outputs": [
        {
          "output_type": "stream",
          "name": "stdout",
          "text": [
            "-20\n",
            "-3\n"
          ]
        }
      ]
    },
    {
      "cell_type": "code",
      "source": [
        "리스트 = [3, -20, -3, 44]\n",
        "for i in 리스트:\n",
        "  if i<0:\n",
        "   print(i)"
      ],
      "metadata": {
        "colab": {
          "base_uri": "https://localhost:8080/"
        },
        "id": "a0yIJroWRHlv",
        "outputId": "c2f11d17-f8fb-42e1-d891-b148a9c8b13b"
      },
      "execution_count": null,
      "outputs": [
        {
          "output_type": "stream",
          "name": "stdout",
          "text": [
            "-20\n",
            "-3\n"
          ]
        }
      ]
    },
    {
      "cell_type": "code",
      "source": [
        "리스트 = [3, 100, 23, 44]\n",
        "for i in 리스트:\n",
        "  if i%3==0:\n",
        "   print(i)"
      ],
      "metadata": {
        "colab": {
          "base_uri": "https://localhost:8080/"
        },
        "id": "LBVL4_iFRUIL",
        "outputId": "ebf5a43e-02a0-4a40-fff4-a878ecf04aa2"
      },
      "execution_count": null,
      "outputs": [
        {
          "output_type": "stream",
          "name": "stdout",
          "text": [
            "3\n"
          ]
        }
      ]
    },
    {
      "cell_type": "code",
      "source": [
        "리스트 = [13, 21, 12, 14, 30, 18]\n",
        "for i in 리스트:\n",
        "  if i%3==0 and i<20:\n",
        "   print(i)"
      ],
      "metadata": {
        "colab": {
          "base_uri": "https://localhost:8080/"
        },
        "id": "qF3sG7-sRd3B",
        "outputId": "29e45d34-d913-4bc5-e620-c9672a4e3c40"
      },
      "execution_count": null,
      "outputs": [
        {
          "output_type": "stream",
          "name": "stdout",
          "text": [
            "12\n",
            "18\n"
          ]
        }
      ]
    },
    {
      "cell_type": "code",
      "source": [
        "리스트 = [\"I\", \"study\", \"python\", \"language\", \"!\"]\n",
        "for i in 리스트:\n",
        "  if len(i) >= 3:\n",
        "   print(i)"
      ],
      "metadata": {
        "colab": {
          "base_uri": "https://localhost:8080/"
        },
        "id": "D1sB9ZRqRjpe",
        "outputId": "e616ecda-5aa9-4ade-ab7a-69060c4ba8c3"
      },
      "execution_count": null,
      "outputs": [
        {
          "output_type": "stream",
          "name": "stdout",
          "text": [
            "study\n",
            "python\n",
            "language\n"
          ]
        }
      ]
    },
    {
      "cell_type": "code",
      "source": [
        "리스트 = [\"A\", \"b\", \"c\", \"D\"]\n",
        "for i in 리스트:\n",
        "  if i.isupper():\n",
        "   print(i)"
      ],
      "metadata": {
        "colab": {
          "base_uri": "https://localhost:8080/"
        },
        "id": "9W8wirWKRsFG",
        "outputId": "23b72ba9-a987-4d71-e511-d688b92de998"
      },
      "execution_count": null,
      "outputs": [
        {
          "output_type": "stream",
          "name": "stdout",
          "text": [
            "A\n",
            "D\n"
          ]
        }
      ]
    },
    {
      "cell_type": "code",
      "source": [
        "리스트 = [\"A\", \"b\", \"c\", \"D\"]\n",
        "for i in 리스트:\n",
        "  if i.isupper() == 0:\n",
        "   print(i)"
      ],
      "metadata": {
        "colab": {
          "base_uri": "https://localhost:8080/"
        },
        "id": "pzpreinqSXEy",
        "outputId": "281f2f41-65b9-4830-9921-f66337da7b05"
      },
      "execution_count": null,
      "outputs": [
        {
          "output_type": "stream",
          "name": "stdout",
          "text": [
            "b\n",
            "c\n"
          ]
        }
      ]
    },
    {
      "cell_type": "code",
      "source": [
        "리스트 = [\"A\", \"b\", \"c\", \"D\"]\n",
        "for i in 리스트:\n",
        "  if not i.isupper():\n",
        "   print(i)"
      ],
      "metadata": {
        "colab": {
          "base_uri": "https://localhost:8080/"
        },
        "id": "nOONBOMgSb1-",
        "outputId": "525c27ef-c8ad-4b4a-c174-bc827a158533"
      },
      "execution_count": null,
      "outputs": [
        {
          "output_type": "stream",
          "name": "stdout",
          "text": [
            "b\n",
            "c\n"
          ]
        }
      ]
    },
    {
      "cell_type": "code",
      "source": [
        "리스트 = ['dog', 'cat', 'parrot']\n",
        "for i in 리스트:\n",
        "  First = i[0].upper()\n",
        "  i = First + i[1:]\n",
        "  print(i)"
      ],
      "metadata": {
        "colab": {
          "base_uri": "https://localhost:8080/"
        },
        "id": "nNChd3nISkHp",
        "outputId": "ca3f6ee7-c8aa-4319-89c2-5c89229eec67"
      },
      "execution_count": null,
      "outputs": [
        {
          "output_type": "stream",
          "name": "stdout",
          "text": [
            "Dog\n",
            "Cat\n",
            "Parrot\n"
          ]
        }
      ]
    },
    {
      "cell_type": "code",
      "source": [
        "리스트 = ['dog', 'cat', 'parrot']\n",
        "for i in 리스트:\n",
        "  print(i[0].upper() + i[1:])"
      ],
      "metadata": {
        "colab": {
          "base_uri": "https://localhost:8080/"
        },
        "id": "IuKdbn9USwTF",
        "outputId": "17d89c0b-3708-4166-bcbb-64eec014b493"
      },
      "execution_count": null,
      "outputs": [
        {
          "output_type": "stream",
          "name": "stdout",
          "text": [
            "Dog\n",
            "Cat\n",
            "Parrot\n"
          ]
        }
      ]
    },
    {
      "cell_type": "code",
      "source": [
        "리스트 = ['hello.py', 'ex01.py', 'intro.hwp']\n",
        "for i in 리스트:\n",
        "  i = i.split(\".\")\n",
        "  print(i[0])"
      ],
      "metadata": {
        "colab": {
          "base_uri": "https://localhost:8080/"
        },
        "id": "bKHvpY1qT4us",
        "outputId": "a439f8f7-36ba-4568-de85-6be814a651cc"
      },
      "execution_count": null,
      "outputs": [
        {
          "output_type": "stream",
          "name": "stdout",
          "text": [
            "hello\n",
            "ex01\n",
            "intro\n"
          ]
        }
      ]
    },
    {
      "cell_type": "code",
      "source": [
        "리스트 = ['intra.h', 'intra.c', 'define.h', 'run.py']\n",
        "for i in 리스트:\n",
        "  판단 = i.split(\".\")\n",
        "  if 판단[1] == \"h\":\n",
        "    print(i)"
      ],
      "metadata": {
        "colab": {
          "base_uri": "https://localhost:8080/"
        },
        "id": "PxkPxViXUd0b",
        "outputId": "b238dc92-6d95-45d4-c398-e2b6f9ccef73"
      },
      "execution_count": null,
      "outputs": [
        {
          "output_type": "stream",
          "name": "stdout",
          "text": [
            "intra.h\n",
            "define.h\n"
          ]
        }
      ]
    },
    {
      "cell_type": "code",
      "source": [
        "리스트 = ['intra.h', 'intra.c', 'define.h', 'run.py']\n",
        "for i in 리스트:\n",
        "  판단 = i.split(\".\")\n",
        "  if 판단[1] == \"h\" or 판단[1] == \"c\":\n",
        "    print(i)"
      ],
      "metadata": {
        "colab": {
          "base_uri": "https://localhost:8080/"
        },
        "id": "u1yhaUXYVD2r",
        "outputId": "508c8afd-a0fc-4a40-9e24-68619cedd231"
      },
      "execution_count": null,
      "outputs": [
        {
          "output_type": "stream",
          "name": "stdout",
          "text": [
            "intra.h\n",
            "intra.c\n",
            "define.h\n"
          ]
        }
      ]
    },
    {
      "cell_type": "code",
      "source": [
        "for i in range(1):\n",
        "  print(i)"
      ],
      "metadata": {
        "colab": {
          "base_uri": "https://localhost:8080/"
        },
        "id": "tz5fL3LJVnfk",
        "outputId": "934ecda6-3aa0-495e-fb32-ace5ded6ff2f"
      },
      "execution_count": null,
      "outputs": [
        {
          "output_type": "stream",
          "name": "stdout",
          "text": [
            "0\n"
          ]
        }
      ]
    },
    {
      "cell_type": "code",
      "source": [
        "for i in range(2002,2051,4):\n",
        "  print(i)"
      ],
      "metadata": {
        "colab": {
          "base_uri": "https://localhost:8080/"
        },
        "id": "l1dXvNPVWRww",
        "outputId": "aa7a9e71-042c-40b3-b8e4-65c0be6d9cdd"
      },
      "execution_count": null,
      "outputs": [
        {
          "output_type": "stream",
          "name": "stdout",
          "text": [
            "2002\n",
            "2006\n",
            "2010\n",
            "2014\n",
            "2018\n",
            "2022\n",
            "2026\n",
            "2030\n",
            "2034\n",
            "2038\n",
            "2042\n",
            "2046\n",
            "2050\n"
          ]
        }
      ]
    },
    {
      "cell_type": "code",
      "source": [
        "for i in range(1, 31):\n",
        "  if i%3==0:\n",
        "    print(i)"
      ],
      "metadata": {
        "colab": {
          "base_uri": "https://localhost:8080/"
        },
        "id": "GFrwtapaXVMh",
        "outputId": "67689f50-f891-4134-ffc5-16511196c8d0"
      },
      "execution_count": null,
      "outputs": [
        {
          "output_type": "stream",
          "name": "stdout",
          "text": [
            "3\n",
            "6\n",
            "9\n",
            "12\n",
            "15\n",
            "18\n",
            "21\n",
            "24\n",
            "27\n",
            "30\n"
          ]
        }
      ]
    },
    {
      "cell_type": "code",
      "source": [
        "for i in range(99, -1, -1):\n",
        "  print(i)"
      ],
      "metadata": {
        "colab": {
          "base_uri": "https://localhost:8080/"
        },
        "id": "dY0hHgxbXdoo",
        "outputId": "6c550ff1-6741-4666-d743-d1036d290ad7"
      },
      "execution_count": null,
      "outputs": [
        {
          "output_type": "stream",
          "name": "stdout",
          "text": [
            "99\n",
            "98\n",
            "97\n",
            "96\n",
            "95\n",
            "94\n",
            "93\n",
            "92\n",
            "91\n",
            "90\n",
            "89\n",
            "88\n",
            "87\n",
            "86\n",
            "85\n",
            "84\n",
            "83\n",
            "82\n",
            "81\n",
            "80\n",
            "79\n",
            "78\n",
            "77\n",
            "76\n",
            "75\n",
            "74\n",
            "73\n",
            "72\n",
            "71\n",
            "70\n",
            "69\n",
            "68\n",
            "67\n",
            "66\n",
            "65\n",
            "64\n",
            "63\n",
            "62\n",
            "61\n",
            "60\n",
            "59\n",
            "58\n",
            "57\n",
            "56\n",
            "55\n",
            "54\n",
            "53\n",
            "52\n",
            "51\n",
            "50\n",
            "49\n",
            "48\n",
            "47\n",
            "46\n",
            "45\n",
            "44\n",
            "43\n",
            "42\n",
            "41\n",
            "40\n",
            "39\n",
            "38\n",
            "37\n",
            "36\n",
            "35\n",
            "34\n",
            "33\n",
            "32\n",
            "31\n",
            "30\n",
            "29\n",
            "28\n",
            "27\n",
            "26\n",
            "25\n",
            "24\n",
            "23\n",
            "22\n",
            "21\n",
            "20\n",
            "19\n",
            "18\n",
            "17\n",
            "16\n",
            "15\n",
            "14\n",
            "13\n",
            "12\n",
            "11\n",
            "10\n",
            "9\n",
            "8\n",
            "7\n",
            "6\n",
            "5\n",
            "4\n",
            "3\n",
            "2\n",
            "1\n",
            "0\n"
          ]
        }
      ]
    },
    {
      "cell_type": "code",
      "source": [
        "for i in range(100):\n",
        "  print(99-i)"
      ],
      "metadata": {
        "colab": {
          "base_uri": "https://localhost:8080/"
        },
        "id": "hk5G2sbiXsFV",
        "outputId": "127308d5-9872-441c-9cc7-c765f53c021f"
      },
      "execution_count": null,
      "outputs": [
        {
          "output_type": "stream",
          "name": "stdout",
          "text": [
            "99\n",
            "98\n",
            "97\n",
            "96\n",
            "95\n",
            "94\n",
            "93\n",
            "92\n",
            "91\n",
            "90\n",
            "89\n",
            "88\n",
            "87\n",
            "86\n",
            "85\n",
            "84\n",
            "83\n",
            "82\n",
            "81\n",
            "80\n",
            "79\n",
            "78\n",
            "77\n",
            "76\n",
            "75\n",
            "74\n",
            "73\n",
            "72\n",
            "71\n",
            "70\n",
            "69\n",
            "68\n",
            "67\n",
            "66\n",
            "65\n",
            "64\n",
            "63\n",
            "62\n",
            "61\n",
            "60\n",
            "59\n",
            "58\n",
            "57\n",
            "56\n",
            "55\n",
            "54\n",
            "53\n",
            "52\n",
            "51\n",
            "50\n",
            "49\n",
            "48\n",
            "47\n",
            "46\n",
            "45\n",
            "44\n",
            "43\n",
            "42\n",
            "41\n",
            "40\n",
            "39\n",
            "38\n",
            "37\n",
            "36\n",
            "35\n",
            "34\n",
            "33\n",
            "32\n",
            "31\n",
            "30\n",
            "29\n",
            "28\n",
            "27\n",
            "26\n",
            "25\n",
            "24\n",
            "23\n",
            "22\n",
            "21\n",
            "20\n",
            "19\n",
            "18\n",
            "17\n",
            "16\n",
            "15\n",
            "14\n",
            "13\n",
            "12\n",
            "11\n",
            "10\n",
            "9\n",
            "8\n",
            "7\n",
            "6\n",
            "5\n",
            "4\n",
            "3\n",
            "2\n",
            "1\n",
            "0\n"
          ]
        }
      ]
    },
    {
      "cell_type": "code",
      "source": [
        "for i in range(3, -1, -1):\n",
        "  print(i)"
      ],
      "metadata": {
        "colab": {
          "base_uri": "https://localhost:8080/"
        },
        "id": "VgzV2D2EZdsd",
        "outputId": "1f39d5b4-450c-47dd-963e-9ea93442fa2f"
      },
      "execution_count": null,
      "outputs": [
        {
          "output_type": "stream",
          "name": "stdout",
          "text": [
            "3\n",
            "2\n",
            "1\n",
            "0\n"
          ]
        }
      ]
    },
    {
      "cell_type": "code",
      "source": [
        "from decimal import Decimal, getcontext\n",
        "getcontext().prec = 1\n",
        "\n",
        "for i in range(10):\n",
        "  print(Decimal(i) * Decimal(0.1))\n"
      ],
      "metadata": {
        "colab": {
          "base_uri": "https://localhost:8080/"
        },
        "id": "utOFGtDKaKqI",
        "outputId": "3dd04f0b-838c-4a3c-a000-37443ec21ddb"
      },
      "execution_count": null,
      "outputs": [
        {
          "output_type": "stream",
          "name": "stdout",
          "text": [
            "0E-55\n",
            "0.1\n",
            "0.2\n",
            "0.3\n",
            "0.4\n",
            "0.5\n",
            "0.6\n",
            "0.7\n",
            "0.8\n",
            "0.9\n"
          ]
        }
      ]
    },
    {
      "cell_type": "code",
      "source": [
        "for i in range(10):\n",
        "  print(i / 10)"
      ],
      "metadata": {
        "colab": {
          "base_uri": "https://localhost:8080/"
        },
        "id": "7F-fJk5Ka-fI",
        "outputId": "3d85d119-b171-484b-87f3-8c77d4fbf010"
      },
      "execution_count": null,
      "outputs": [
        {
          "output_type": "stream",
          "name": "stdout",
          "text": [
            "0.0\n",
            "0.1\n",
            "0.2\n",
            "0.3\n",
            "0.4\n",
            "0.5\n",
            "0.6\n",
            "0.7\n",
            "0.8\n",
            "0.9\n"
          ]
        }
      ]
    },
    {
      "cell_type": "code",
      "source": [
        "for i in range(1,10):\n",
        "  print(\"3x{} = {}\".format(i, 3*i))"
      ],
      "metadata": {
        "colab": {
          "base_uri": "https://localhost:8080/"
        },
        "id": "73-HLgvPdTkT",
        "outputId": "4188a04c-63f4-4c03-f19e-ad7681aa6310"
      },
      "execution_count": null,
      "outputs": [
        {
          "output_type": "stream",
          "name": "stdout",
          "text": [
            "3x1 = 3\n",
            "3x2 = 6\n",
            "3x3 = 9\n",
            "3x4 = 12\n",
            "3x5 = 15\n",
            "3x6 = 18\n",
            "3x7 = 21\n",
            "3x8 = 24\n",
            "3x9 = 27\n"
          ]
        }
      ]
    },
    {
      "cell_type": "code",
      "source": [
        "for i in range(1,10):\n",
        "  if i%2 != 0:\n",
        "    print(\"3x{} = {}\".format(i, 3*i))"
      ],
      "metadata": {
        "colab": {
          "base_uri": "https://localhost:8080/"
        },
        "id": "teU_FO_xevWV",
        "outputId": "dda41dce-a147-4882-b61b-12b885191c21"
      },
      "execution_count": null,
      "outputs": [
        {
          "output_type": "stream",
          "name": "stdout",
          "text": [
            "3x1 = 3\n",
            "3x3 = 9\n",
            "3x5 = 15\n",
            "3x7 = 21\n",
            "3x9 = 27\n"
          ]
        }
      ]
    },
    {
      "cell_type": "code",
      "source": [
        "sum = 0\n",
        "for i in range(1,11):\n",
        "  sum = sum + i\n",
        "print(\"합 :\", sum)"
      ],
      "metadata": {
        "colab": {
          "base_uri": "https://localhost:8080/"
        },
        "id": "PQev3iyZe-ye",
        "outputId": "196b61e2-8702-4107-d3f9-e8ed9bf0b203"
      },
      "execution_count": null,
      "outputs": [
        {
          "output_type": "stream",
          "name": "stdout",
          "text": [
            "합 : 55\n"
          ]
        }
      ]
    },
    {
      "cell_type": "code",
      "source": [
        "for i in range(1,11):\n",
        "  sum = sum + i\n",
        "print(\"합 :\", sum)"
      ],
      "metadata": {
        "colab": {
          "base_uri": "https://localhost:8080/"
        },
        "id": "PyZ8ZpeXfHOW",
        "outputId": "045c7393-9583-4f9b-eef5-fec4eddbb80f"
      },
      "execution_count": null,
      "outputs": [
        {
          "output_type": "stream",
          "name": "stdout",
          "text": [
            "합 : 110\n"
          ]
        }
      ]
    },
    {
      "cell_type": "code",
      "source": [
        "sum = 0\n",
        "for i in range(1,11):\n",
        "  if i%2==1:\n",
        "    sum += i\n",
        "print(\"합 :\", sum)"
      ],
      "metadata": {
        "colab": {
          "base_uri": "https://localhost:8080/"
        },
        "id": "s0bT-xsrgTRF",
        "outputId": "470405eb-2931-47bf-df23-ab31cf807866"
      },
      "execution_count": null,
      "outputs": [
        {
          "output_type": "stream",
          "name": "stdout",
          "text": [
            "합 : 25\n"
          ]
        }
      ]
    },
    {
      "cell_type": "code",
      "source": [
        "sum = 0\n",
        "for i in range(1,11,2):\n",
        "  sum = sum + i\n",
        "print(\"합 :\", sum)"
      ],
      "metadata": {
        "colab": {
          "base_uri": "https://localhost:8080/"
        },
        "id": "RfEO9Bp9glws",
        "outputId": "418f18fe-eab9-4db4-b15a-7767c3b52379"
      },
      "execution_count": null,
      "outputs": [
        {
          "output_type": "stream",
          "name": "stdout",
          "text": [
            "합 : 25\n"
          ]
        }
      ]
    },
    {
      "cell_type": "code",
      "source": [
        "gob = 1\n",
        "for i in range(1,11):\n",
        "  gob *= i\n",
        "print(\"합 :\", gob)"
      ],
      "metadata": {
        "colab": {
          "base_uri": "https://localhost:8080/"
        },
        "id": "ifpnXtbygsco",
        "outputId": "2255b5c0-22bc-435c-cccc-83a1a588965f"
      },
      "execution_count": null,
      "outputs": [
        {
          "output_type": "stream",
          "name": "stdout",
          "text": [
            "합 : 3628800\n"
          ]
        }
      ]
    },
    {
      "cell_type": "code",
      "source": [
        "price_list = [32100, 32150, 32000, 32500]\n",
        "for i in range(4):\n",
        "  print(price_list[i])"
      ],
      "metadata": {
        "colab": {
          "base_uri": "https://localhost:8080/"
        },
        "id": "l8mlbQGmg0iN",
        "outputId": "89f029f8-ec99-49f1-b0ff-94f468a246bf"
      },
      "execution_count": null,
      "outputs": [
        {
          "output_type": "stream",
          "name": "stdout",
          "text": [
            "32100\n",
            "32150\n",
            "32000\n",
            "32500\n"
          ]
        }
      ]
    },
    {
      "cell_type": "code",
      "source": [
        "for i in range(len(price_list)):\n",
        "  print(price_list[i])"
      ],
      "metadata": {
        "colab": {
          "base_uri": "https://localhost:8080/"
        },
        "id": "Zf0uRRjThMgy",
        "outputId": "e5b2dc4c-5b90-4345-f9cb-eba976cf7b6f"
      },
      "execution_count": null,
      "outputs": [
        {
          "output_type": "stream",
          "name": "stdout",
          "text": [
            "32100\n",
            "32150\n",
            "32000\n",
            "32500\n"
          ]
        }
      ]
    },
    {
      "cell_type": "code",
      "source": [
        "price_list = [32100, 32150, 32000, 32500]\n",
        "for i in range(len(price_list)):\n",
        "  print(i, price_list[i])"
      ],
      "metadata": {
        "colab": {
          "base_uri": "https://localhost:8080/"
        },
        "id": "GN3xdcwShSdb",
        "outputId": "0c0d5026-6f11-4ab5-eb42-87afcc8770f3"
      },
      "execution_count": null,
      "outputs": [
        {
          "output_type": "stream",
          "name": "stdout",
          "text": [
            "0 32100\n",
            "1 32150\n",
            "2 32000\n",
            "3 32500\n"
          ]
        }
      ]
    },
    {
      "cell_type": "code",
      "source": [
        "price_list = [32100, 32150, 32000, 32500]\n",
        "for i in range(3, -1, -1):\n",
        "  print(i, price_list[i])"
      ],
      "metadata": {
        "id": "SLyF1CwPhWhT",
        "colab": {
          "base_uri": "https://localhost:8080/"
        },
        "outputId": "bb376705-4acb-437e-e88d-6d9a8ec2adfa"
      },
      "execution_count": null,
      "outputs": [
        {
          "output_type": "stream",
          "name": "stdout",
          "text": [
            "3 32500\n",
            "2 32000\n",
            "1 32150\n",
            "0 32100\n"
          ]
        }
      ]
    },
    {
      "cell_type": "code",
      "source": [
        "price_list = [32100, 32150, 32000, 32500]\n",
        "for i in range(len(price_list)-1, -1, -1):\n",
        "  print(i, price_list[i])"
      ],
      "metadata": {
        "colab": {
          "base_uri": "https://localhost:8080/"
        },
        "id": "3FG27dZvvGjX",
        "outputId": "12a1902f-429e-445c-81a5-91a9d65cd53d"
      },
      "execution_count": null,
      "outputs": [
        {
          "output_type": "stream",
          "name": "stdout",
          "text": [
            "3 32500\n",
            "2 32000\n",
            "1 32150\n",
            "0 32100\n"
          ]
        }
      ]
    },
    {
      "cell_type": "code",
      "source": [
        "price_list = [32100, 32150, 32000, 32500]\n",
        "for i in range(len(price_list)):\n",
        "  print((len(price_list)-1)-i, price_list[i])"
      ],
      "metadata": {
        "colab": {
          "base_uri": "https://localhost:8080/"
        },
        "id": "I4gdGfIJvg_a",
        "outputId": "394c0d2a-f8ab-4051-e176-62e4eeed166b"
      },
      "execution_count": null,
      "outputs": [
        {
          "output_type": "stream",
          "name": "stdout",
          "text": [
            "3 32100\n",
            "2 32150\n",
            "1 32000\n",
            "0 32500\n"
          ]
        }
      ]
    },
    {
      "cell_type": "code",
      "source": [
        "price_list = [32100, 32150, 32000, 32500]\n",
        "for i in range(1, len(price_list)):\n",
        "  print(90 + i*10, price_list[i])"
      ],
      "metadata": {
        "colab": {
          "base_uri": "https://localhost:8080/"
        },
        "id": "U7t7AOLDv1DM",
        "outputId": "532ade28-98c4-4406-e3ff-1d33e7ab01e8"
      },
      "execution_count": null,
      "outputs": [
        {
          "output_type": "stream",
          "name": "stdout",
          "text": [
            "100 32150\n",
            "110 32000\n",
            "120 32500\n"
          ]
        }
      ]
    },
    {
      "cell_type": "code",
      "source": [
        "my_list = [\"가\", \"나\", \"다\", \"라\"]\n",
        "for i in range(1, len(my_list)):\n",
        "  print(my_list[i-1], my_list[i])"
      ],
      "metadata": {
        "colab": {
          "base_uri": "https://localhost:8080/"
        },
        "id": "5t-JcHVBxw_G",
        "outputId": "a712f0bf-b5e3-4ad2-8cd2-b59e2ab33124"
      },
      "execution_count": null,
      "outputs": [
        {
          "output_type": "stream",
          "name": "stdout",
          "text": [
            "가 나\n",
            "나 다\n",
            "다 라\n"
          ]
        }
      ]
    },
    {
      "cell_type": "code",
      "source": [
        "for i in range(len(my_list)-1):\n",
        "  print(my_list[i], my_list[i+1])"
      ],
      "metadata": {
        "colab": {
          "base_uri": "https://localhost:8080/"
        },
        "id": "YWNwyFOYyCOd",
        "outputId": "2ae2ea9a-8b00-440b-b755-1b9e2aa3b334"
      },
      "execution_count": null,
      "outputs": [
        {
          "output_type": "stream",
          "name": "stdout",
          "text": [
            "가 나\n",
            "나 다\n",
            "다 라\n"
          ]
        }
      ]
    },
    {
      "cell_type": "code",
      "source": [
        "my_list = [\"가\", \"나\", \"다\", \"라\", \"마\"]\n",
        "for i in range(len(my_list)-2):\n",
        "  print(my_list[i], my_list[i+1], my_list[i+2])"
      ],
      "metadata": {
        "colab": {
          "base_uri": "https://localhost:8080/"
        },
        "id": "C1AYRcbHyMRW",
        "outputId": "91845552-8384-41cb-9653-4687be14fd1a"
      },
      "execution_count": null,
      "outputs": [
        {
          "output_type": "stream",
          "name": "stdout",
          "text": [
            "가 나 다\n",
            "나 다 라\n",
            "다 라 마\n"
          ]
        }
      ]
    },
    {
      "cell_type": "code",
      "source": [
        "my_list = [\"가\", \"나\", \"다\", \"라\", \"마\"]\n",
        "for i in range(2, len(my_list)):\n",
        "  print(my_list[i-2], my_list[i-1], my_list[i])"
      ],
      "metadata": {
        "colab": {
          "base_uri": "https://localhost:8080/"
        },
        "id": "7XiKA6T5yU2d",
        "outputId": "8bc86966-4215-40ce-bd11-73ddbcd1173d"
      },
      "execution_count": null,
      "outputs": [
        {
          "output_type": "stream",
          "name": "stdout",
          "text": [
            "가 나 다\n",
            "나 다 라\n",
            "다 라 마\n"
          ]
        }
      ]
    },
    {
      "cell_type": "code",
      "source": [
        "my_list = [\"가\", \"나\", \"다\", \"라\"]\n",
        "for i in range(len(my_list)-1, 0, -1):\n",
        "  print(my_list[i], my_list[i-1])"
      ],
      "metadata": {
        "colab": {
          "base_uri": "https://localhost:8080/"
        },
        "id": "_o7gl6H4ycfP",
        "outputId": "e6cd06f9-c8fc-457a-acc9-625650fab0cd"
      },
      "execution_count": null,
      "outputs": [
        {
          "output_type": "stream",
          "name": "stdout",
          "text": [
            "라 다\n",
            "다 나\n",
            "나 가\n"
          ]
        }
      ]
    },
    {
      "cell_type": "code",
      "source": [
        "my_list = [\"가\", \"나\", \"다\", \"라\"]\n",
        "for i in range(len(my_list)-1):\n",
        "  n = len(my_list)-i-1\n",
        "  print(my_list[n], my_list[n-1])"
      ],
      "metadata": {
        "colab": {
          "base_uri": "https://localhost:8080/"
        },
        "id": "3IO9IdFIypY_",
        "outputId": "9fb5b0dc-7639-4469-dd5f-423841d49b45"
      },
      "execution_count": null,
      "outputs": [
        {
          "output_type": "stream",
          "name": "stdout",
          "text": [
            "라 다\n",
            "다 나\n",
            "나 가\n"
          ]
        }
      ]
    },
    {
      "cell_type": "code",
      "source": [
        "my_list = [100, 200, 400, 800]\n",
        "for i in range(len(my_list)-1):\n",
        "  cha = my_list[i+1] - my_list[i]\n",
        "  print(cha)"
      ],
      "metadata": {
        "colab": {
          "base_uri": "https://localhost:8080/"
        },
        "id": "fngwgMRyz3wm",
        "outputId": "a921c8d5-e27c-4d2e-bf3b-6fbb01c65282"
      },
      "execution_count": null,
      "outputs": [
        {
          "output_type": "stream",
          "name": "stdout",
          "text": [
            "100\n",
            "200\n",
            "400\n"
          ]
        }
      ]
    },
    {
      "cell_type": "code",
      "source": [
        "my_list = [100, 200, 400, 800, 1000, 1300]\n",
        "for i in range(len(my_list)-2):\n",
        "  avg = (my_list[i] + my_list[i+1] + my_list[i+2])/3\n",
        "  print(avg)"
      ],
      "metadata": {
        "colab": {
          "base_uri": "https://localhost:8080/"
        },
        "id": "RZjJfoDC0OrJ",
        "outputId": "0b7f68d0-f659-4c6b-f916-2e7c66562a24"
      },
      "execution_count": null,
      "outputs": [
        {
          "output_type": "stream",
          "name": "stdout",
          "text": [
            "233.33333333333334\n",
            "466.6666666666667\n",
            "733.3333333333334\n",
            "1033.3333333333333\n"
          ]
        }
      ]
    },
    {
      "cell_type": "code",
      "source": [
        "low_prices  = [100, 200, 400, 800, 1000]\n",
        "high_prices = [150, 300, 430, 880, 1000]\n",
        "volatility = [0, 0, 0, 0, 0]\n",
        "\n",
        "for i in range(len(low_prices)):\n",
        "  volatility[i] = (high_prices[i] - low_prices[i])\n",
        "print(volatility)"
      ],
      "metadata": {
        "colab": {
          "base_uri": "https://localhost:8080/"
        },
        "id": "7U0raLnq0fze",
        "outputId": "cfecd739-1deb-4a98-e859-302753552ddb"
      },
      "execution_count": null,
      "outputs": [
        {
          "output_type": "stream",
          "name": "stdout",
          "text": [
            "[50, 100, 30, 80, 0]\n"
          ]
        }
      ]
    },
    {
      "cell_type": "code",
      "source": [
        "low_prices  = [100, 200, 400, 800, 1000]\n",
        "high_prices = [150, 300, 430, 880, 1000]\n",
        "volatility = []\n",
        "\n",
        "for i in range(len(low_prices)):\n",
        "  volatility.append(high_prices[i] - low_prices[i])\n",
        "print(volatility)"
      ],
      "metadata": {
        "colab": {
          "base_uri": "https://localhost:8080/"
        },
        "id": "b5odlYhB0ynC",
        "outputId": "3da83505-dfd7-4e00-9958-b25525a563c7"
      },
      "execution_count": null,
      "outputs": [
        {
          "output_type": "stream",
          "name": "stdout",
          "text": [
            "[50, 100, 30, 80, 0]\n"
          ]
        }
      ]
    },
    {
      "cell_type": "code",
      "source": [
        "apart = [ [\"101호\", \"102호\"], [\"201호\", \"202호\"], [\"301호\", \"302호\"] ]"
      ],
      "metadata": {
        "id": "BVZPKz2b1nCo"
      },
      "execution_count": null,
      "outputs": []
    },
    {
      "cell_type": "code",
      "source": [
        "stock = [ [\"시가\", 100, 200, 300], [\"종가\", 80, 210, 330]]"
      ],
      "metadata": {
        "id": "gFrSYj2J14MW"
      },
      "execution_count": null,
      "outputs": []
    },
    {
      "cell_type": "code",
      "source": [
        "딕셔너리 = {\"시가\": (100, 200, 300), \"종가\": (80, 210, 330)} #변경 불가한 튜플\n",
        "print(딕셔너리[\"시가\"])\n",
        "print(딕셔너리[\"시가\"][0])\n",
        " # 딕셔너리[\"시가\"][0]=1\n",
        " # TypeError: 'tuple' object does not support item assignment\n",
        "print(딕셔너리[\"시가\"][0])"
      ],
      "metadata": {
        "colab": {
          "base_uri": "https://localhost:8080/"
        },
        "id": "b3BfiaVr2U2J",
        "outputId": "ffa8a01f-e207-4fcc-faca-e1bf3f0d25ff"
      },
      "execution_count": null,
      "outputs": [
        {
          "output_type": "stream",
          "name": "stdout",
          "text": [
            "(100, 200, 300)\n",
            "100\n",
            "100\n"
          ]
        }
      ]
    },
    {
      "cell_type": "code",
      "source": [
        "딕셔너리 = {\"시가\": [100, 200, 300], \"종가\": [80, 210, 330]} #리스트로 저장\n",
        "딕셔너리[\"시가\"][0]=1\n",
        "print(딕셔너리[\"시가\"][0]) # 변경 가능"
      ],
      "metadata": {
        "colab": {
          "base_uri": "https://localhost:8080/"
        },
        "id": "LTzHGFcz2hDE",
        "outputId": "c5540fa2-490b-4cf6-9e26-a3d41c2ce00e"
      },
      "execution_count": null,
      "outputs": [
        {
          "output_type": "stream",
          "name": "stdout",
          "text": [
            "1\n"
          ]
        }
      ]
    },
    {
      "cell_type": "code",
      "source": [
        "stock = {\"10/10\": [80, 110, 70, 90], \"10/11\": [210, 230, 190, 200]}"
      ],
      "metadata": {
        "id": "x_z0boDF3IBF"
      },
      "execution_count": null,
      "outputs": []
    },
    {
      "cell_type": "code",
      "source": [
        "apart = [ [101, 102], [201, 202], [301, 302] ]\n",
        "\n",
        "for i in range(len(apart)): # 0 1 2\n",
        "  for j in range(len(apart[0])): # 0 1\n",
        "    print(apart[i][j],\"호\")"
      ],
      "metadata": {
        "colab": {
          "base_uri": "https://localhost:8080/"
        },
        "id": "VcyrXzc13vNq",
        "outputId": "d8bdd2a0-3173-48f9-912c-51837acabc6e"
      },
      "execution_count": null,
      "outputs": [
        {
          "output_type": "stream",
          "name": "stdout",
          "text": [
            "101 호\n",
            "102 호\n",
            "201 호\n",
            "202 호\n",
            "301 호\n",
            "302 호\n"
          ]
        }
      ]
    },
    {
      "cell_type": "code",
      "source": [
        "apart = [ [101, 102], [201, 202], [301, 302] ]\n",
        "\n",
        "for row in apart: # 0 1 2\n",
        "  for col in row: # 0 1\n",
        "    print(col,\"호\")"
      ],
      "metadata": {
        "colab": {
          "base_uri": "https://localhost:8080/"
        },
        "id": "0Mk3Hel64R1X",
        "outputId": "b3fe7d89-273f-4871-fb32-02d4b974e32e"
      },
      "execution_count": null,
      "outputs": [
        {
          "output_type": "stream",
          "name": "stdout",
          "text": [
            "101 호\n",
            "102 호\n",
            "201 호\n",
            "202 호\n",
            "301 호\n",
            "302 호\n"
          ]
        }
      ]
    },
    {
      "cell_type": "code",
      "source": [
        "apart = [ [101, 102], [201, 202], [301, 302] ]\n",
        "\n",
        "for i in apart: # 0 1 2\n",
        "  for j in i: # 0 1\n",
        "    print(j,\"호\")"
      ],
      "metadata": {
        "colab": {
          "base_uri": "https://localhost:8080/"
        },
        "id": "2h3K5XGs5sVd",
        "outputId": "1f31bf3a-1fdf-40cc-c4a0-f5b6e4653943"
      },
      "execution_count": null,
      "outputs": [
        {
          "output_type": "stream",
          "name": "stdout",
          "text": [
            "101 호\n",
            "102 호\n",
            "201 호\n",
            "202 호\n",
            "301 호\n",
            "302 호\n"
          ]
        }
      ]
    },
    {
      "cell_type": "code",
      "source": [
        "for i in range(len(apart)-1, -1, -1): # 2 1 0\n",
        "  for j in range(len(apart[0])): # 0 1\n",
        "    print(apart[i][j],\"호\")"
      ],
      "metadata": {
        "colab": {
          "base_uri": "https://localhost:8080/"
        },
        "id": "KGYTmr8t6Hv_",
        "outputId": "da39d209-8614-4eae-d05f-961e5610928c"
      },
      "execution_count": null,
      "outputs": [
        {
          "output_type": "stream",
          "name": "stdout",
          "text": [
            "301 호\n",
            "302 호\n",
            "201 호\n",
            "202 호\n",
            "101 호\n",
            "102 호\n"
          ]
        }
      ]
    },
    {
      "cell_type": "code",
      "source": [
        "for row in reversed(apart): # 0 1 2\n",
        "  for col in row: # 0 1\n",
        "    print(col,\"호\")"
      ],
      "metadata": {
        "colab": {
          "base_uri": "https://localhost:8080/"
        },
        "id": "mi6lq1wu6lB0",
        "outputId": "85c848aa-8c06-4f85-9cff-f7e54607a8d9"
      },
      "execution_count": null,
      "outputs": [
        {
          "output_type": "stream",
          "name": "stdout",
          "text": [
            "301 호\n",
            "302 호\n",
            "201 호\n",
            "202 호\n",
            "101 호\n",
            "102 호\n"
          ]
        }
      ]
    },
    {
      "cell_type": "code",
      "source": [
        "for row in apart[::-1]: # 0 1 2\n",
        "  for col in row: # 0 1\n",
        "    print(col,\"호\")"
      ],
      "metadata": {
        "colab": {
          "base_uri": "https://localhost:8080/"
        },
        "id": "hMA50MxD7XKQ",
        "outputId": "9430535d-94bf-4a59-e655-4578c1b6839a"
      },
      "execution_count": null,
      "outputs": [
        {
          "output_type": "stream",
          "name": "stdout",
          "text": [
            "301 호\n",
            "302 호\n",
            "201 호\n",
            "202 호\n",
            "101 호\n",
            "102 호\n"
          ]
        }
      ]
    },
    {
      "cell_type": "code",
      "source": [
        "for row in apart[::-1]: # 2 1 0\n",
        "  for col in row[::-1]: # 1 0\n",
        "    print(col,\"호\")"
      ],
      "metadata": {
        "colab": {
          "base_uri": "https://localhost:8080/"
        },
        "id": "y8OMUymF7cGk",
        "outputId": "b6623264-ac69-43d0-fcde-ace3f6ab7abb"
      },
      "execution_count": null,
      "outputs": [
        {
          "output_type": "stream",
          "name": "stdout",
          "text": [
            "302 호\n",
            "301 호\n",
            "202 호\n",
            "201 호\n",
            "102 호\n",
            "101 호\n"
          ]
        }
      ]
    },
    {
      "cell_type": "code",
      "source": [
        "for row in reversed(apart): # 2 1 0\n",
        "  for col in reversed(row): # 1 0\n",
        "    print(col,\"호\")"
      ],
      "metadata": {
        "colab": {
          "base_uri": "https://localhost:8080/"
        },
        "id": "M63mX64E7gLH",
        "outputId": "16714c7f-dc30-4b01-8f29-46a913e0c0fa"
      },
      "execution_count": null,
      "outputs": [
        {
          "output_type": "stream",
          "name": "stdout",
          "text": [
            "302 호\n",
            "301 호\n",
            "202 호\n",
            "201 호\n",
            "102 호\n",
            "101 호\n"
          ]
        }
      ]
    },
    {
      "cell_type": "code",
      "source": [
        "for i in range(len(apart)-1, -1, -1): # 2 1 0\n",
        "  for j in range(len(apart[0])-1, -1, -1): # 1 0\n",
        "    print(apart[i][j],\"호\")"
      ],
      "metadata": {
        "colab": {
          "base_uri": "https://localhost:8080/"
        },
        "id": "_ViYqacY7l7R",
        "outputId": "2b7c1f2c-df4c-4ade-a5f4-f6593c06517b"
      },
      "execution_count": null,
      "outputs": [
        {
          "output_type": "stream",
          "name": "stdout",
          "text": [
            "302 호\n",
            "301 호\n",
            "202 호\n",
            "201 호\n",
            "102 호\n",
            "101 호\n"
          ]
        }
      ]
    },
    {
      "cell_type": "code",
      "source": [
        "for row in apart: # 0 1 2\n",
        "  for col in row: # 0 1\n",
        "    print(col,\"호\")\n",
        "    print(\"-----\")"
      ],
      "metadata": {
        "colab": {
          "base_uri": "https://localhost:8080/"
        },
        "id": "q5hi32S77rgS",
        "outputId": "f3cecd30-31e6-4da2-ab75-647449ddcb0b"
      },
      "execution_count": null,
      "outputs": [
        {
          "output_type": "stream",
          "name": "stdout",
          "text": [
            "101 호\n",
            "-----\n",
            "102 호\n",
            "-----\n",
            "201 호\n",
            "-----\n",
            "202 호\n",
            "-----\n",
            "301 호\n",
            "-----\n",
            "302 호\n",
            "-----\n"
          ]
        }
      ]
    },
    {
      "cell_type": "code",
      "source": [
        "for row in apart: # 0 1 2\n",
        "  for col in row: # 0 1\n",
        "    print(col,\"호\")\n",
        "  print(\"-\" * 5)"
      ],
      "metadata": {
        "colab": {
          "base_uri": "https://localhost:8080/"
        },
        "id": "G_EGyoW175sQ",
        "outputId": "bbf6e4bd-4bdd-45ca-8675-907ca367a11c"
      },
      "execution_count": null,
      "outputs": [
        {
          "output_type": "stream",
          "name": "stdout",
          "text": [
            "101 호\n",
            "102 호\n",
            "-----\n",
            "201 호\n",
            "202 호\n",
            "-----\n",
            "301 호\n",
            "302 호\n",
            "-----\n"
          ]
        }
      ]
    },
    {
      "cell_type": "code",
      "source": [
        "for row in apart: # 0 1 2\n",
        "  for col in row: # 0 1\n",
        "    print(col,\"호\")\n",
        "print(\"-\" * 5)"
      ],
      "metadata": {
        "colab": {
          "base_uri": "https://localhost:8080/"
        },
        "id": "sfGkXjOk7_MM",
        "outputId": "faf306b5-e2aa-40ee-b76c-c3b11a5f26bc"
      },
      "execution_count": null,
      "outputs": [
        {
          "output_type": "stream",
          "name": "stdout",
          "text": [
            "101 호\n",
            "102 호\n",
            "201 호\n",
            "202 호\n",
            "301 호\n",
            "302 호\n",
            "-----\n"
          ]
        }
      ]
    },
    {
      "cell_type": "code",
      "source": [
        "data = [\n",
        "    [ 2000,  3050,  2050,  1980],\n",
        "    [ 7500,  2050,  2050,  1980],\n",
        "    [15450, 15050, 15550, 14900]\n",
        "]\n",
        "\n",
        "for row in data:\n",
        "  for col in row:\n",
        "    print(col + col * 0.014 * 0.01)\n",
        "    print(col * 1.00014)\n",
        "\n"
      ],
      "metadata": {
        "colab": {
          "base_uri": "https://localhost:8080/"
        },
        "id": "mrhIIqXF8DE_",
        "outputId": "0d7ec743-3d09-46d6-8f13-c79fa9774f18"
      },
      "execution_count": null,
      "outputs": [
        {
          "output_type": "stream",
          "name": "stdout",
          "text": [
            "2000.28\n",
            "2000.28\n",
            "3050.427\n",
            "3050.427\n",
            "2050.287\n",
            "2050.2870000000003\n",
            "1980.2772\n",
            "1980.2772\n",
            "7501.05\n",
            "7501.05\n",
            "2050.287\n",
            "2050.2870000000003\n",
            "2050.287\n",
            "2050.2870000000003\n",
            "1980.2772\n",
            "1980.2772\n",
            "15452.163\n",
            "15452.163\n",
            "15052.107\n",
            "15052.107\n",
            "15552.177\n",
            "15552.177\n",
            "14902.086\n",
            "14902.086000000001\n"
          ]
        }
      ]
    },
    {
      "cell_type": "code",
      "source": [
        "data = [\n",
        "    [ 2000,  3050,  2050,  1980],\n",
        "    [ 7500,  2050,  2050,  1980],\n",
        "    [15450, 15050, 15550, 14900]\n",
        "]\n",
        "\n",
        "for row in data:\n",
        "  for col in row:\n",
        "    print(col * 1.00014)\n",
        "  print(\"-\" * 4)"
      ],
      "metadata": {
        "colab": {
          "base_uri": "https://localhost:8080/"
        },
        "id": "AgA8iORR8Swd",
        "outputId": "9fed6259-b16c-4a98-b9f7-32dfe641ece7"
      },
      "execution_count": null,
      "outputs": [
        {
          "output_type": "stream",
          "name": "stdout",
          "text": [
            "2000.28\n",
            "3050.427\n",
            "2050.2870000000003\n",
            "1980.2772\n",
            "----\n",
            "7501.05\n",
            "2050.2870000000003\n",
            "2050.2870000000003\n",
            "1980.2772\n",
            "----\n",
            "15452.163\n",
            "15052.107\n",
            "15552.177\n",
            "14902.086000000001\n",
            "----\n"
          ]
        }
      ]
    },
    {
      "cell_type": "code",
      "source": [
        "result = []\n",
        "\n",
        "for row in data:\n",
        "  for col in row:\n",
        "    result.append(col*1.00014)\n",
        "\n",
        "print(result)"
      ],
      "metadata": {
        "colab": {
          "base_uri": "https://localhost:8080/"
        },
        "id": "7-wcGe-J9bs2",
        "outputId": "e6193667-9e42-4c1d-c180-9ee5ac2ac080"
      },
      "execution_count": null,
      "outputs": [
        {
          "output_type": "stream",
          "name": "stdout",
          "text": [
            "[2000.28, 3050.427, 2050.2870000000003, 1980.2772, 7501.05, 2050.2870000000003, 2050.2870000000003, 1980.2772, 15452.163, 15052.107, 15552.177, 14902.086000000001]\n"
          ]
        }
      ]
    },
    {
      "cell_type": "code",
      "source": [
        "data = [\n",
        "    [ 2000,  3050,  2050,  1980],\n",
        "    [ 7500,  2050,  2050,  1980],\n",
        "    [15450, 15050, 15550, 14900]\n",
        "]\n",
        "\n",
        "result = []\n",
        "\n",
        "for row in data:\n",
        "  result1 = []\n",
        "  for col in row:\n",
        "    result1.append(col*1.00014)\n",
        "  result.append(result1)\n",
        "\n",
        "print(result)"
      ],
      "metadata": {
        "colab": {
          "base_uri": "https://localhost:8080/"
        },
        "id": "YPQm54vB9koK",
        "outputId": "2c5b1601-3d80-409f-cacf-cb32e1d0139e"
      },
      "execution_count": null,
      "outputs": [
        {
          "output_type": "stream",
          "name": "stdout",
          "text": [
            "[[2000.28, 3050.427, 2050.2870000000003, 1980.2772], [7501.05, 2050.2870000000003, 2050.2870000000003, 1980.2772], [15452.163, 15052.107, 15552.177, 14902.086000000001]]\n"
          ]
        }
      ]
    },
    {
      "cell_type": "code",
      "source": [
        "ohlc = [[\"open\", \"high\", \"low\", \"close\"],\n",
        "        [100, 110, 70, 100], #[1][3]\n",
        "        [200, 210, 180, 190],\n",
        "        [300, 310, 300, 310]]\n",
        "\n",
        "for i in range(1, len(ohlc)):\n",
        "   print(ohlc[i][-1])\n"
      ],
      "metadata": {
        "colab": {
          "base_uri": "https://localhost:8080/"
        },
        "id": "jChRGHfNTSKY",
        "outputId": "8a4f9e6d-5e7b-47bc-9a30-a42822b520cc"
      },
      "execution_count": null,
      "outputs": [
        {
          "output_type": "stream",
          "name": "stdout",
          "text": [
            "100\n",
            "190\n",
            "310\n"
          ]
        }
      ]
    },
    {
      "cell_type": "code",
      "source": [
        "for row in ohlc[1:]:\n",
        "  print(row[3])"
      ],
      "metadata": {
        "colab": {
          "base_uri": "https://localhost:8080/"
        },
        "id": "Cpco_aAHVexP",
        "outputId": "676fd067-6178-4c0c-bb12-102c803ce30a"
      },
      "execution_count": null,
      "outputs": [
        {
          "output_type": "stream",
          "name": "stdout",
          "text": [
            "100\n",
            "190\n",
            "310\n"
          ]
        }
      ]
    },
    {
      "cell_type": "code",
      "source": [
        "for row in ohlc[1:]:\n",
        "  if row[3] > 150:\n",
        "    print(row[3])"
      ],
      "metadata": {
        "colab": {
          "base_uri": "https://localhost:8080/"
        },
        "id": "_zPrGDYba9tO",
        "outputId": "4ebff35d-9c89-4f36-f83b-b3d10b36f39a"
      },
      "execution_count": null,
      "outputs": [
        {
          "output_type": "stream",
          "name": "stdout",
          "text": [
            "190\n",
            "310\n"
          ]
        }
      ]
    },
    {
      "cell_type": "code",
      "source": [
        "for row in ohlc[1:]:\n",
        "  if row[0] <= row[3]:\n",
        "    print(row[3])"
      ],
      "metadata": {
        "colab": {
          "base_uri": "https://localhost:8080/"
        },
        "id": "zvp3ZhC7bvcF",
        "outputId": "97fd1cd9-3603-4db0-e975-7b2aa8079d5b"
      },
      "execution_count": null,
      "outputs": [
        {
          "output_type": "stream",
          "name": "stdout",
          "text": [
            "100\n",
            "310\n"
          ]
        }
      ]
    },
    {
      "cell_type": "code",
      "source": [
        "volatility = []\n",
        "for row in ohlc[1:]:\n",
        "  volatility.append(row[1]-row[2])\n",
        "  #print(volatility)\n",
        "print(volatility)\n"
      ],
      "metadata": {
        "colab": {
          "base_uri": "https://localhost:8080/"
        },
        "id": "Tg_idWifb5bE",
        "outputId": "54ec662f-860d-4da4-af70-98ddaee31d15"
      },
      "execution_count": null,
      "outputs": [
        {
          "output_type": "stream",
          "name": "stdout",
          "text": [
            "[40, 30, 10]\n"
          ]
        }
      ]
    },
    {
      "cell_type": "code",
      "source": [
        "volatility = []\n",
        "for i in range(1, len(ohlc)):\n",
        "  volatility.append(ohlc[i][1]-ohlc[i][2])\n",
        "  #print(volatility)\n",
        "print(volatility)"
      ],
      "metadata": {
        "colab": {
          "base_uri": "https://localhost:8080/"
        },
        "id": "ddR-MWMdcUkp",
        "outputId": "f2823970-6878-4b27-ff87-4a279d2edf80"
      },
      "execution_count": null,
      "outputs": [
        {
          "output_type": "stream",
          "name": "stdout",
          "text": [
            "[40, 30, 10]\n"
          ]
        }
      ]
    },
    {
      "cell_type": "code",
      "source": [
        "volatility = []\n",
        "\n",
        "for row in ohlc[1:]:\n",
        "  volatility = row[1]-row[2]\n",
        "  if row[3] > row[0]:\n",
        "    print(volatility)\n"
      ],
      "metadata": {
        "colab": {
          "base_uri": "https://localhost:8080/"
        },
        "id": "eaomXPUPcs54",
        "outputId": "81691519-47cf-434b-d158-ff9110989c07"
      },
      "execution_count": null,
      "outputs": [
        {
          "output_type": "stream",
          "name": "stdout",
          "text": [
            "10\n"
          ]
        }
      ]
    },
    {
      "cell_type": "code",
      "source": [
        "for row in ohlc[1:]:\n",
        "  if row[3] > row[0]:\n",
        "    print(row[1]-row[2])"
      ],
      "metadata": {
        "colab": {
          "base_uri": "https://localhost:8080/"
        },
        "id": "Tg8X9-Lkc8v2",
        "outputId": "8425fde9-29c0-4326-b17a-fc4ff66abde8"
      },
      "execution_count": null,
      "outputs": [
        {
          "output_type": "stream",
          "name": "stdout",
          "text": [
            "10\n"
          ]
        }
      ]
    },
    {
      "cell_type": "code",
      "source": [
        "profit = 0\n",
        "for row in ohlc[1:]:\n",
        "  # suic = row[3]-row[0]\n",
        "  profit += row[3]-row[0]\n",
        "print(hab)"
      ],
      "metadata": {
        "colab": {
          "base_uri": "https://localhost:8080/"
        },
        "id": "aMgF_85udUyR",
        "outputId": "f8c0e368-8f7e-42f8-a608-8f268208a9ef"
      },
      "execution_count": null,
      "outputs": [
        {
          "output_type": "stream",
          "name": "stdout",
          "text": [
            "0\n"
          ]
        }
      ]
    },
    {
      "cell_type": "markdown",
      "source": [
        "#파이썬함수"
      ],
      "metadata": {
        "id": "FdEYT738eDfd"
      }
    },
    {
      "cell_type": "code",
      "source": [
        "def print_coin():\n",
        "  str = \"비트코인\"\n",
        "  return (str)"
      ],
      "metadata": {
        "id": "VDeIWYwWd1s4"
      },
      "execution_count": null,
      "outputs": []
    },
    {
      "cell_type": "code",
      "source": [
        "print_coin()"
      ],
      "metadata": {
        "colab": {
          "base_uri": "https://localhost:8080/",
          "height": 36
        },
        "id": "rTXzCX1_e3tW",
        "outputId": "98111c98-0846-4707-dab0-a27c843344ba"
      },
      "execution_count": null,
      "outputs": [
        {
          "output_type": "execute_result",
          "data": {
            "text/plain": [
              "'비트코인'"
            ],
            "application/vnd.google.colaboratory.intrinsic+json": {
              "type": "string"
            }
          },
          "metadata": {},
          "execution_count": 37
        }
      ]
    },
    {
      "cell_type": "code",
      "source": [
        "def print_coin():\n",
        "  print(\"비트코인\")\n",
        "\n",
        "print_coin()"
      ],
      "metadata": {
        "colab": {
          "base_uri": "https://localhost:8080/"
        },
        "id": "P532DO1ve5Ua",
        "outputId": "e88566a6-34a8-403a-db8b-cd6a38b0c39b"
      },
      "execution_count": null,
      "outputs": [
        {
          "output_type": "stream",
          "name": "stdout",
          "text": [
            "비트코인\n"
          ]
        }
      ]
    },
    {
      "cell_type": "code",
      "source": [
        "def print_coins():\n",
        "  for i in range(100):\n",
        "    print_coin()"
      ],
      "metadata": {
        "id": "ZUFrR77EfDjU"
      },
      "execution_count": null,
      "outputs": []
    },
    {
      "cell_type": "code",
      "source": [
        "def message() :\n",
        "    print(\"A\")\n",
        "    print(\"B\")\n",
        "\n",
        "message()\n",
        "print(\"C\")\n",
        "message()"
      ],
      "metadata": {
        "colab": {
          "base_uri": "https://localhost:8080/"
        },
        "id": "W5bnI7POfiLr",
        "outputId": "3ec1ca91-f2de-45cd-fecb-10bed7bff2bf"
      },
      "execution_count": null,
      "outputs": [
        {
          "output_type": "stream",
          "name": "stdout",
          "text": [
            "A\n",
            "B\n",
            "C\n",
            "A\n",
            "B\n"
          ]
        }
      ]
    },
    {
      "cell_type": "code",
      "source": [
        "def 함수(문자열) :\n",
        "    print(문자열)\n",
        "\n",
        "함수(\"안녕\")\n",
        "함수(\"Hi\")"
      ],
      "metadata": {
        "colab": {
          "base_uri": "https://localhost:8080/"
        },
        "id": "eKUy6S6Sf6HK",
        "outputId": "625029e1-2683-49e4-c4cd-3385f1d67875"
      },
      "execution_count": null,
      "outputs": [
        {
          "output_type": "stream",
          "name": "stdout",
          "text": [
            "안녕\n",
            "Hi\n"
          ]
        }
      ]
    },
    {
      "cell_type": "code",
      "source": [
        "def print_with_smile(문자열):\n",
        "  print(문자열 +\":D\")\n",
        "\n",
        "문자열 = \"안녕하세요\"\n",
        "print_with_smile(문자열)"
      ],
      "metadata": {
        "colab": {
          "base_uri": "https://localhost:8080/"
        },
        "id": "53YlGH7ig9c7",
        "outputId": "c133f0d9-a16b-41f5-d1cc-eee5bee5c5ac"
      },
      "execution_count": null,
      "outputs": [
        {
          "output_type": "stream",
          "name": "stdout",
          "text": [
            "안녕하세요:D\n"
          ]
        }
      ]
    },
    {
      "cell_type": "code",
      "source": [
        "def print_upper_price(현재가격):\n",
        "  상한가 = 현재가격 * 1.3\n",
        "  print(상한가)\n",
        "\n",
        "print_upper_price(100)\n"
      ],
      "metadata": {
        "colab": {
          "base_uri": "https://localhost:8080/"
        },
        "id": "LZR5iKiMitC9",
        "outputId": "257881e2-5122-40f3-ec77-12a4bac45c2b"
      },
      "execution_count": null,
      "outputs": [
        {
          "output_type": "stream",
          "name": "stdout",
          "text": [
            "130.0\n"
          ]
        }
      ]
    },
    {
      "cell_type": "code",
      "source": [
        "def print_sum(a, b):\n",
        "  print(a+b)\n",
        "print_sum(1,1)"
      ],
      "metadata": {
        "colab": {
          "base_uri": "https://localhost:8080/"
        },
        "id": "YagMG6_rl3MC",
        "outputId": "c2bd0500-21bb-4006-86f0-f9c14893ed99"
      },
      "execution_count": null,
      "outputs": [
        {
          "output_type": "stream",
          "name": "stdout",
          "text": [
            "2\n"
          ]
        }
      ]
    },
    {
      "cell_type": "code",
      "source": [
        "def print_arithmetic_operation(a, b):\n",
        "  hab = a + b\n",
        "  cha = a - b\n",
        "  gob = a * b\n",
        "  nanum = a / b\n",
        "\n",
        "  print ( f\"{a} + {b} = {a + b}\")\n",
        "  print ( f\"{a} - {b} = {cha}\")\n",
        "  print ( f\"{a} * {b} = {gob}\")\n",
        "  print ( f\"{a} / {b} = {nanum}\")\n",
        "\n",
        "\n",
        "print_arithmetic_operation(3,4)"
      ],
      "metadata": {
        "colab": {
          "base_uri": "https://localhost:8080/"
        },
        "id": "y0aRkJvMm4aU",
        "outputId": "84c8f34e-642f-489e-e5a9-2fbf88f11332"
      },
      "execution_count": null,
      "outputs": [
        {
          "output_type": "stream",
          "name": "stdout",
          "text": [
            "3 + 4 = 7\n",
            "3 - 4 = -1\n",
            "3 * 4 = 12\n",
            "3 / 4 = 0.75\n"
          ]
        }
      ]
    },
    {
      "cell_type": "code",
      "source": [
        "def print_max(a, b, c):\n",
        "  if a > b:\n",
        "    if a > c:\n",
        "      print(a)\n",
        "    else:\n",
        "      print(c)\n",
        "\n",
        "  elif b > c:\n",
        "    print(b)\n",
        "  else:\n",
        "    print(c)\n",
        "\n",
        "print_max(1,2,3)"
      ],
      "metadata": {
        "colab": {
          "base_uri": "https://localhost:8080/"
        },
        "id": "pqEYRLCBnad3",
        "outputId": "9e6385a7-3242-4bcf-f41b-12b0bd0243cd"
      },
      "execution_count": null,
      "outputs": [
        {
          "output_type": "stream",
          "name": "stdout",
          "text": [
            "3\n"
          ]
        }
      ]
    },
    {
      "cell_type": "code",
      "source": [
        "print_max(1,2,1)"
      ],
      "metadata": {
        "colab": {
          "base_uri": "https://localhost:8080/"
        },
        "id": "IyAlA3D7okE_",
        "outputId": "15b27d79-94fc-44c3-88a0-9b2b1d9eb733"
      },
      "execution_count": null,
      "outputs": [
        {
          "output_type": "stream",
          "name": "stdout",
          "text": [
            "2\n"
          ]
        }
      ]
    },
    {
      "cell_type": "code",
      "source": [
        "def print_max(a, b, c):\n",
        "  max_val = 0\n",
        "  if a > max_val:\n",
        "    max_val = a\n",
        "  if b > max_val:\n",
        "    max_val = b\n",
        "  if c > max_val:\n",
        "    max_val = c\n",
        "  print(max_val)\n"
      ],
      "metadata": {
        "id": "Uz819_8royXs"
      },
      "execution_count": null,
      "outputs": []
    },
    {
      "cell_type": "code",
      "source": [
        "print_max(1,1,1.4)"
      ],
      "metadata": {
        "colab": {
          "base_uri": "https://localhost:8080/"
        },
        "id": "HTNOUY7ErCVe",
        "outputId": "f157ecb3-6bcd-44fc-d630-d0689a0f912d"
      },
      "execution_count": null,
      "outputs": [
        {
          "output_type": "stream",
          "name": "stdout",
          "text": [
            "1.4\n"
          ]
        }
      ]
    },
    {
      "cell_type": "code",
      "source": [
        "def print_reverse(문자열):\n",
        "  str = \"\"\n",
        "  for i in 문자열[::-1]:\n",
        "    str += i\n",
        "  print(str)\n",
        "\n",
        "print_reverse(\"python\")\n"
      ],
      "metadata": {
        "colab": {
          "base_uri": "https://localhost:8080/"
        },
        "id": "vVTMV7wurGlQ",
        "outputId": "a0aaa094-b5d2-4a97-90ec-f3d9e4644c80"
      },
      "execution_count": null,
      "outputs": [
        {
          "output_type": "stream",
          "name": "stdout",
          "text": [
            "nohtyp\n"
          ]
        }
      ]
    },
    {
      "cell_type": "code",
      "source": [
        "def print_reverse(문자열):\n",
        "  print(문자열[::-1])\n",
        "\n",
        "print_reverse(\"python\")\n"
      ],
      "metadata": {
        "colab": {
          "base_uri": "https://localhost:8080/"
        },
        "id": "wwuH-c3qrXFV",
        "outputId": "ea921960-848c-4199-ba9a-914824d82a98"
      },
      "execution_count": null,
      "outputs": [
        {
          "output_type": "stream",
          "name": "stdout",
          "text": [
            "nohtyp\n"
          ]
        }
      ]
    },
    {
      "cell_type": "code",
      "source": [
        "def print_score(scores: list):\n",
        "\n",
        "  if len(scores) == 0:\n",
        "    return \"점수를 입력해주세요.\"\n",
        "  else:\n",
        "    avg = sum(scores) / len(scores)\n",
        "    return avg\n",
        "\n",
        "print_score ([1, 2, 3])\n"
      ],
      "metadata": {
        "colab": {
          "base_uri": "https://localhost:8080/"
        },
        "id": "XPTWhWjPse72",
        "outputId": "b6e6c429-66c7-45f7-afa2-b323e440e85a"
      },
      "execution_count": null,
      "outputs": [
        {
          "output_type": "execute_result",
          "data": {
            "text/plain": [
              "2.0"
            ]
          },
          "metadata": {},
          "execution_count": 20
        }
      ]
    },
    {
      "cell_type": "code",
      "source": [
        "def print_even (numbers):\n",
        "  for item in numbers:\n",
        "    if item % 2 == 0:\n",
        "      print(item)\n"
      ],
      "metadata": {
        "id": "AKdN0_VltEU0"
      },
      "execution_count": null,
      "outputs": []
    },
    {
      "cell_type": "code",
      "source": [
        "print_even ([1, 3, 2, 10, 12, 11, 15])\n"
      ],
      "metadata": {
        "colab": {
          "base_uri": "https://localhost:8080/"
        },
        "id": "yBa9MaAZx7tw",
        "outputId": "96ba9cc1-2f96-4a3d-824b-7a1bb0c733d8"
      },
      "execution_count": null,
      "outputs": [
        {
          "output_type": "stream",
          "name": "stdout",
          "text": [
            "2\n",
            "10\n",
            "12\n"
          ]
        }
      ]
    },
    {
      "cell_type": "code",
      "source": [
        "def print_keys(person):\n",
        "  for i in person.keys():\n",
        "    print(i)\n",
        "\n",
        "print_keys ({\"이름\":\"김말똥\", \"나이\":30, \"성별\":0})\n"
      ],
      "metadata": {
        "colab": {
          "base_uri": "https://localhost:8080/"
        },
        "id": "9mu1QQ5p3fiT",
        "outputId": "e417ce03-7582-45ef-f5de-878d300fd9cf"
      },
      "execution_count": null,
      "outputs": [
        {
          "output_type": "stream",
          "name": "stdout",
          "text": [
            "이름\n",
            "나이\n",
            "성별\n"
          ]
        }
      ]
    },
    {
      "cell_type": "code",
      "source": [
        "my_dict = {\"10/26\" : [100, 130, 100, 100],\n",
        "           \"10/27\" : [10, 12, 10, 11]}\n",
        "\n",
        "def print_value_by_key(my_dict, key):\n",
        "  print(my_dict[key])\n",
        "\n",
        "\n",
        "print_value_by_key  (my_dict, \"10/26\")\n"
      ],
      "metadata": {
        "colab": {
          "base_uri": "https://localhost:8080/"
        },
        "id": "-aX54J-B49Jv",
        "outputId": "9e20d47d-2179-4c79-8a30-64f388f7a3dd"
      },
      "execution_count": null,
      "outputs": [
        {
          "output_type": "stream",
          "name": "stdout",
          "text": [
            "[100, 130, 100, 100]\n"
          ]
        }
      ]
    },
    {
      "cell_type": "code",
      "source": [
        "def print_5xn(입력문자열):\n",
        "  #n = int(len(입력문자열)/5)\n",
        "  print(입력문자열[:5])\n",
        "  print(입력문자열[5:10])\n",
        "\n",
        "\n",
        "print_5xn(\"아이엠어보이유알어\")\n"
      ],
      "metadata": {
        "id": "6Z3Kz0d-7vMG",
        "colab": {
          "base_uri": "https://localhost:8080/"
        },
        "outputId": "81d9d6d1-00cb-4946-8ef2-5f712c3768c1"
      },
      "execution_count": null,
      "outputs": [
        {
          "output_type": "stream",
          "name": "stdout",
          "text": [
            "아이엠어보\n",
            "이유알어\n"
          ]
        }
      ]
    },
    {
      "cell_type": "code",
      "source": [
        "def print_5xn(입력문자열):\n",
        "  n = int(len(입력문자열)/5)\n",
        "  if len(입력문자열) % 5 == 0:\n",
        "    for i in range(n): # n = 2\n",
        "      print(입력문자열[5*i:5*(i+1)])\n",
        "  else:\n",
        "    for i in range(n+1): # n = 1\n",
        "      print(입력문자열[5*i:5*(i+1)])\n",
        "\n",
        "\n",
        "print_5xn(\"아이엠어보이유알어걸\")\n",
        "print(\"-----\")\n",
        "print_5xn(\"아이엠어보이유알\")"
      ],
      "metadata": {
        "colab": {
          "base_uri": "https://localhost:8080/"
        },
        "id": "fqB3QakmGvkc",
        "outputId": "15465653-7f46-4195-f72c-150b4ddd208b"
      },
      "execution_count": null,
      "outputs": [
        {
          "output_type": "stream",
          "name": "stdout",
          "text": [
            "2\n",
            "아이엠어보\n",
            "이유알어걸\n",
            "-----\n",
            "1\n",
            "아이엠어보\n",
            "이유알\n"
          ]
        }
      ]
    },
    {
      "cell_type": "code",
      "source": [
        "def printmxn(string, n):\n",
        "  n = int(len(string)/n)\n",
        "  for i in range(n+1):\n",
        "    print(string[n*i:n*(i+1)])\n",
        "\n",
        "printmxn(\"아이엠어보이유알어걸\", 3)\n"
      ],
      "metadata": {
        "colab": {
          "base_uri": "https://localhost:8080/"
        },
        "id": "1sUexvjRLKIN",
        "outputId": "0a9fde54-0906-4603-a829-b29ca803e657"
      },
      "execution_count": null,
      "outputs": [
        {
          "output_type": "stream",
          "name": "stdout",
          "text": [
            "아이엠\n",
            "어보이\n",
            "유알어\n",
            "걸\n"
          ]
        }
      ]
    },
    {
      "cell_type": "code",
      "source": [
        "def calc_monthly_salary(연봉):\n",
        "  월급 = int(연봉 / 12)\n",
        "  print(월급*10)\n",
        "\n",
        "calc_monthly_salary(12000000)"
      ],
      "metadata": {
        "colab": {
          "base_uri": "https://localhost:8080/"
        },
        "id": "XLlKQj0PRHnC",
        "outputId": "a9b767a8-544d-41a6-f54f-b1ddbaa6e82c"
      },
      "execution_count": null,
      "outputs": [
        {
          "output_type": "stream",
          "name": "stdout",
          "text": [
            "10000000\n"
          ]
        }
      ]
    },
    {
      "cell_type": "code",
      "source": [
        "def my_print (a, b) :\n",
        "    print(\"왼쪽:\", a)\n",
        "    print(\"오른쪽:\", b)\n",
        "\n",
        "my_print(a=100, b=200)"
      ],
      "metadata": {
        "colab": {
          "base_uri": "https://localhost:8080/"
        },
        "id": "7ikGwzCrYHgE",
        "outputId": "a7e8c0da-2a76-4153-9380-69e5a0e0388c"
      },
      "execution_count": null,
      "outputs": [
        {
          "output_type": "stream",
          "name": "stdout",
          "text": [
            "왼쪽: 100\n",
            "오른쪽: 200\n"
          ]
        }
      ]
    },
    {
      "cell_type": "code",
      "source": [
        "def my_print (a, b) :\n",
        "    print(\"왼쪽:\", a)\n",
        "    print(\"오른쪽:\", b)\n",
        "\n",
        "my_print(b=100, a=200)"
      ],
      "metadata": {
        "colab": {
          "base_uri": "https://localhost:8080/"
        },
        "id": "XUOIVLRkYJmK",
        "outputId": "27bcda76-e13d-4535-8f80-5e6ede6273a5"
      },
      "execution_count": null,
      "outputs": [
        {
          "output_type": "stream",
          "name": "stdout",
          "text": [
            "왼쪽: 200\n",
            "오른쪽: 100\n"
          ]
        }
      ]
    },
    {
      "cell_type": "code",
      "source": [
        "my_print(100, 200)"
      ],
      "metadata": {
        "colab": {
          "base_uri": "https://localhost:8080/"
        },
        "id": "p1hnNWE_ZFcS",
        "outputId": "1d6904de-51c7-4cb7-9c43-012cd9546974"
      },
      "execution_count": null,
      "outputs": [
        {
          "output_type": "stream",
          "name": "stdout",
          "text": [
            "왼쪽: 100\n",
            "오른쪽: 200\n"
          ]
        }
      ]
    },
    {
      "cell_type": "code",
      "source": [
        "def make_url(문자열):\n",
        "  return \"www.\" +문자열+ \".com\"\n",
        "\n",
        "make_url(\"naver\")"
      ],
      "metadata": {
        "colab": {
          "base_uri": "https://localhost:8080/",
          "height": 36
        },
        "id": "bfdn-3wZZTGp",
        "outputId": "956dd0d1-f37a-434d-e86f-ce6b155db3e5"
      },
      "execution_count": null,
      "outputs": [
        {
          "output_type": "execute_result",
          "data": {
            "text/plain": [
              "'www.naver.com'"
            ],
            "application/vnd.google.colaboratory.intrinsic+json": {
              "type": "string"
            }
          },
          "metadata": {},
          "execution_count": 54
        }
      ]
    },
    {
      "cell_type": "code",
      "source": [
        "def make_list(문자열):\n",
        "  result = []\n",
        "  for item in 문자열:\n",
        "    result.append(item)\n",
        "  return result\n",
        "\n",
        "make_list(\"abcd\")\n"
      ],
      "metadata": {
        "colab": {
          "base_uri": "https://localhost:8080/"
        },
        "id": "hkTuHv1gcr21",
        "outputId": "ea836260-b828-458b-c339-51b6d9985e16"
      },
      "execution_count": null,
      "outputs": [
        {
          "output_type": "execute_result",
          "data": {
            "text/plain": [
              "['a', 'b', 'c', 'd']"
            ]
          },
          "metadata": {},
          "execution_count": 61
        }
      ]
    },
    {
      "cell_type": "code",
      "source": [
        "def pickup_even(numbers):\n",
        "  result = []\n",
        "  for number in numbers:\n",
        "    if number % 2 == 0:\n",
        "      result.append(number)\n",
        "  return result\n",
        "\n",
        "pickup_even([3, 4, 5, 6, 7, 8])"
      ],
      "metadata": {
        "colab": {
          "base_uri": "https://localhost:8080/"
        },
        "id": "ogGHWz8vZfk4",
        "outputId": "64465a10-db2b-435b-a62d-bd06ac68652d"
      },
      "execution_count": null,
      "outputs": [
        {
          "output_type": "execute_result",
          "data": {
            "text/plain": [
              "[4, 6, 8]"
            ]
          },
          "metadata": {},
          "execution_count": 64
        }
      ]
    },
    {
      "cell_type": "code",
      "source": [
        "def convert_int(string):\n",
        "  return int(string.replace(\",\",\"\"))\n",
        "\n",
        "convert_int(\"1,234,567\")"
      ],
      "metadata": {
        "colab": {
          "base_uri": "https://localhost:8080/"
        },
        "id": "7anZrMyNeZBo",
        "outputId": "0ee91492-7a58-4388-fd48-3fed7129d455"
      },
      "execution_count": null,
      "outputs": [
        {
          "output_type": "execute_result",
          "data": {
            "text/plain": [
              "1234567"
            ]
          },
          "metadata": {},
          "execution_count": 68
        }
      ]
    },
    {
      "cell_type": "code",
      "source": [
        "def 함수(num) :\n",
        "    return num + 4\n",
        "\n",
        "a = 함수(10) #a = 14\n",
        "b = 함수(a) # b = 18\n",
        "c = 함수(b) # c = 22\n",
        "print(c)"
      ],
      "metadata": {
        "colab": {
          "base_uri": "https://localhost:8080/"
        },
        "id": "QIfU65qwfKI8",
        "outputId": "b64b32fe-620e-4534-93e4-1877440050e4"
      },
      "execution_count": null,
      "outputs": [
        {
          "output_type": "stream",
          "name": "stdout",
          "text": [
            "22\n"
          ]
        }
      ]
    },
    {
      "cell_type": "code",
      "source": [
        "def 함수(num) :\n",
        "    return num + 4\n",
        "\n",
        "c = 함수(함수(함수(10)))\n",
        "print(c)"
      ],
      "metadata": {
        "colab": {
          "base_uri": "https://localhost:8080/"
        },
        "id": "AaAgBaTOf6Jl",
        "outputId": "1f7a033d-e53b-4c51-dea0-cfec4ea3b89a"
      },
      "execution_count": null,
      "outputs": [
        {
          "output_type": "stream",
          "name": "stdout",
          "text": [
            "22\n"
          ]
        }
      ]
    },
    {
      "cell_type": "code",
      "source": [
        "def 함수1(num) :\n",
        "    return num + 4\n",
        "\n",
        "def 함수2(num) :\n",
        "    return num * 10\n",
        "\n",
        "a = 함수1(10)\n",
        "c = 함수2(a)\n",
        "print(c)"
      ],
      "metadata": {
        "colab": {
          "base_uri": "https://localhost:8080/"
        },
        "id": "UgQdoyaugAj9",
        "outputId": "b1dc5f86-6869-49fc-84f9-31e93646f651"
      },
      "execution_count": null,
      "outputs": [
        {
          "output_type": "stream",
          "name": "stdout",
          "text": [
            "140\n"
          ]
        }
      ]
    },
    {
      "cell_type": "code",
      "source": [
        "def 함수1(num) :\n",
        "    return num + 4\n",
        "\n",
        "def 함수2(num) :\n",
        "    num = num + 2\n",
        "    return 함수1(num)\n",
        "\n",
        "c = 함수2(10)\n",
        "print(c)"
      ],
      "metadata": {
        "colab": {
          "base_uri": "https://localhost:8080/"
        },
        "id": "qE9cLjdhgMgg",
        "outputId": "565f2a5d-2ff0-4249-9089-2daf63267be0"
      },
      "execution_count": null,
      "outputs": [
        {
          "output_type": "stream",
          "name": "stdout",
          "text": [
            "16\n"
          ]
        }
      ]
    },
    {
      "cell_type": "code",
      "source": [
        "def 함수0(num) :\n",
        "    return num * 2\n",
        "\n",
        "def 함수1(num) :\n",
        "    return 함수0(num + 2)\n",
        "\n",
        "def 함수2(num) :\n",
        "    num = num + 10\n",
        "    return 함수1(num)\n",
        "\n",
        "c = 함수2(2)\n",
        "print(c)"
      ],
      "metadata": {
        "colab": {
          "base_uri": "https://localhost:8080/"
        },
        "id": "9s-a0KZagW0h",
        "outputId": "053af797-9b91-4488-db99-c028badaac72"
      },
      "execution_count": null,
      "outputs": [
        {
          "output_type": "stream",
          "name": "stdout",
          "text": [
            "28\n"
          ]
        }
      ]
    },
    {
      "cell_type": "markdown",
      "source": [
        "#파이썬모듈"
      ],
      "metadata": {
        "id": "yw5HsP77g5p6"
      }
    },
    {
      "cell_type": "code",
      "source": [
        "import datetime\n",
        "now = datetime.datetime.now()\n",
        "print(now)"
      ],
      "metadata": {
        "colab": {
          "base_uri": "https://localhost:8080/"
        },
        "id": "CWz7Cjjhg2hy",
        "outputId": "1262143c-d59a-43d0-9ac2-d92243b1db92"
      },
      "execution_count": null,
      "outputs": [
        {
          "output_type": "stream",
          "name": "stdout",
          "text": [
            "2023-12-26 05:07:38.108639\n"
          ]
        }
      ]
    },
    {
      "cell_type": "code",
      "source": [
        "print(now, type(now))"
      ],
      "metadata": {
        "colab": {
          "base_uri": "https://localhost:8080/"
        },
        "id": "V3BBTun1hKUX",
        "outputId": "dac7e439-0a98-4eba-d276-b9cffbeb9c90"
      },
      "execution_count": null,
      "outputs": [
        {
          "output_type": "stream",
          "name": "stdout",
          "text": [
            "2023-12-26 05:07:38.108639 <class 'datetime.datetime'>\n"
          ]
        }
      ]
    },
    {
      "cell_type": "code",
      "source": [
        "for day in range(5,0,-1):\n",
        "  delta = datetime.timedelta(days=day)\n",
        "  date = now - delta\n",
        "  print(date)"
      ],
      "metadata": {
        "colab": {
          "base_uri": "https://localhost:8080/"
        },
        "id": "1_r6mufVhZmq",
        "outputId": "657f22d7-fb74-447e-bfc8-ba6285183757"
      },
      "execution_count": null,
      "outputs": [
        {
          "output_type": "stream",
          "name": "stdout",
          "text": [
            "2023-12-21 05:07:38.108639\n",
            "2023-12-22 05:07:38.108639\n",
            "2023-12-23 05:07:38.108639\n",
            "2023-12-24 05:07:38.108639\n",
            "2023-12-25 05:07:38.108639\n"
          ]
        }
      ]
    },
    {
      "cell_type": "code",
      "source": [
        "print(now.strftime(\"%H:%M:%S\"))"
      ],
      "metadata": {
        "colab": {
          "base_uri": "https://localhost:8080/"
        },
        "id": "hmvWtZLXhlg2",
        "outputId": "2fb64eff-d5ce-473c-fc45-c132f4604ae9"
      },
      "execution_count": null,
      "outputs": [
        {
          "output_type": "stream",
          "name": "stdout",
          "text": [
            "05:07:38\n"
          ]
        }
      ]
    },
    {
      "cell_type": "code",
      "source": [
        "\n",
        "day = \"2020-05-04\"\n",
        "ret = datetime.datetime.strptime(day, \"%Y-%m-%d\")\n",
        "print(ret)"
      ],
      "metadata": {
        "colab": {
          "base_uri": "https://localhost:8080/"
        },
        "id": "tUEE-UqchxHZ",
        "outputId": "edb234d6-db44-4fff-c803-733bd3577283"
      },
      "execution_count": null,
      "outputs": [
        {
          "output_type": "stream",
          "name": "stdout",
          "text": [
            "2020-05-04 00:00:00\n"
          ]
        }
      ]
    },
    {
      "cell_type": "code",
      "source": [
        "import time\n",
        "import datetime\n",
        "\n",
        "while True:\n",
        "  now = datetime.datetime.now()\n",
        "  print(now)\n",
        "  time.sleep(1)"
      ],
      "metadata": {
        "colab": {
          "base_uri": "https://localhost:8080/",
          "height": 287
        },
        "id": "4xSm9Ft8h4Sv",
        "outputId": "e399604a-9bc0-489f-91ab-7a58a2d5e69b"
      },
      "execution_count": null,
      "outputs": [
        {
          "output_type": "stream",
          "name": "stdout",
          "text": [
            "2023-12-26 05:11:56.481433\n",
            "2023-12-26 05:11:57.483433\n",
            "2023-12-26 05:11:58.483899\n",
            "2023-12-26 05:11:59.484894\n"
          ]
        },
        {
          "output_type": "error",
          "ename": "KeyboardInterrupt",
          "evalue": "ignored",
          "traceback": [
            "\u001b[0;31m---------------------------------------------------------------------------\u001b[0m",
            "\u001b[0;31mKeyboardInterrupt\u001b[0m                         Traceback (most recent call last)",
            "\u001b[0;32m<ipython-input-86-7f5678a25693>\u001b[0m in \u001b[0;36m<cell line: 4>\u001b[0;34m()\u001b[0m\n\u001b[1;32m      5\u001b[0m   \u001b[0mnow\u001b[0m \u001b[0;34m=\u001b[0m \u001b[0mdatetime\u001b[0m\u001b[0;34m.\u001b[0m\u001b[0mdatetime\u001b[0m\u001b[0;34m.\u001b[0m\u001b[0mnow\u001b[0m\u001b[0;34m(\u001b[0m\u001b[0;34m)\u001b[0m\u001b[0;34m\u001b[0m\u001b[0;34m\u001b[0m\u001b[0m\n\u001b[1;32m      6\u001b[0m   \u001b[0mprint\u001b[0m\u001b[0;34m(\u001b[0m\u001b[0mnow\u001b[0m\u001b[0;34m)\u001b[0m\u001b[0;34m\u001b[0m\u001b[0;34m\u001b[0m\u001b[0m\n\u001b[0;32m----> 7\u001b[0;31m   \u001b[0mtime\u001b[0m\u001b[0;34m.\u001b[0m\u001b[0msleep\u001b[0m\u001b[0;34m(\u001b[0m\u001b[0;36m1\u001b[0m\u001b[0;34m)\u001b[0m\u001b[0;34m\u001b[0m\u001b[0;34m\u001b[0m\u001b[0m\n\u001b[0m",
            "\u001b[0;31mKeyboardInterrupt\u001b[0m: "
          ]
        }
      ]
    },
    {
      "cell_type": "code",
      "source": [
        "import os\n",
        "from os import rename\n",
        "from os import *\n",
        "import os as myos"
      ],
      "metadata": {
        "id": "uu4KRK93iTvz"
      },
      "execution_count": null,
      "outputs": []
    },
    {
      "cell_type": "code",
      "source": [
        "import os\n",
        "ret = os.getcwd()\n",
        "print(ret, type(ret))"
      ],
      "metadata": {
        "colab": {
          "base_uri": "https://localhost:8080/"
        },
        "id": "Ydb-XBg8jW9F",
        "outputId": "69724a3c-2d11-4006-af4f-c6d42f72b1b3"
      },
      "execution_count": null,
      "outputs": [
        {
          "output_type": "stream",
          "name": "stdout",
          "text": [
            "/content <class 'str'>\n"
          ]
        }
      ]
    },
    {
      "cell_type": "code",
      "source": [
        "os.rename(\"/content/sample_data/before.txt\", \"/content/sample_data/after.txt\")\n"
      ],
      "metadata": {
        "id": "EOsb51W0jaPk"
      },
      "execution_count": null,
      "outputs": []
    },
    {
      "cell_type": "code",
      "source": [
        "import numpy\n",
        "\n",
        "for i in numpy.arange(0, 5, 0.1):\n",
        "  print(i)"
      ],
      "metadata": {
        "colab": {
          "base_uri": "https://localhost:8080/"
        },
        "id": "jLnBxYbYk6f0",
        "outputId": "2214a799-b6ac-43bf-cdf4-67d576010f50"
      },
      "execution_count": null,
      "outputs": [
        {
          "output_type": "stream",
          "name": "stdout",
          "text": [
            "0.0\n",
            "0.1\n",
            "0.2\n",
            "0.30000000000000004\n",
            "0.4\n",
            "0.5\n",
            "0.6000000000000001\n",
            "0.7000000000000001\n",
            "0.8\n",
            "0.9\n",
            "1.0\n",
            "1.1\n",
            "1.2000000000000002\n",
            "1.3\n",
            "1.4000000000000001\n",
            "1.5\n",
            "1.6\n",
            "1.7000000000000002\n",
            "1.8\n",
            "1.9000000000000001\n",
            "2.0\n",
            "2.1\n",
            "2.2\n",
            "2.3000000000000003\n",
            "2.4000000000000004\n",
            "2.5\n",
            "2.6\n",
            "2.7\n",
            "2.8000000000000003\n",
            "2.9000000000000004\n",
            "3.0\n",
            "3.1\n",
            "3.2\n",
            "3.3000000000000003\n",
            "3.4000000000000004\n",
            "3.5\n",
            "3.6\n",
            "3.7\n",
            "3.8000000000000003\n",
            "3.9000000000000004\n",
            "4.0\n",
            "4.1000000000000005\n",
            "4.2\n",
            "4.3\n",
            "4.4\n",
            "4.5\n",
            "4.6000000000000005\n",
            "4.7\n",
            "4.800000000000001\n",
            "4.9\n"
          ]
        }
      ]
    },
    {
      "cell_type": "code",
      "source": [
        "file_path = \"/Users/flora/Desktop/before.txt\"\n",
        "\n",
        "try:\n",
        "    with open(file_path, 'r') as file:\n",
        "        file_contents = file.read()\n",
        "        print(file_contents)\n",
        "except FileNotFoundError:\n",
        "    print(f\"File not found at {file_path}\")\n",
        "except Exception as e:\n",
        "    print(f\"An error occurred: {e}\")\n"
      ],
      "metadata": {
        "colab": {
          "base_uri": "https://localhost:8080/"
        },
        "id": "MwVKo0ZClCD5",
        "outputId": "00884bba-164f-4020-b0fa-55b0ae146073"
      },
      "execution_count": null,
      "outputs": [
        {
          "output_type": "stream",
          "name": "stdout",
          "text": [
            "An error occurred: 'str' object cannot be interpreted as an integer\n"
          ]
        }
      ]
    },
    {
      "cell_type": "markdown",
      "source": [
        "#파이썬 클래스\n",
        "\n",
        "클래스는 일종의 설계도로 하나의 타입을 정의하는 방법이다.<br>\n",
        "클래스에는 관련 있는 데이터와 함수를 한 데 모아 정의할 수 있다.<br>\n",
        "클래스로 만들어진 결과를 객체라고 한다."
      ],
      "metadata": {
        "id": "eNXj-Z0EgqRS"
      }
    },
    {
      "cell_type": "markdown",
      "source": [],
      "metadata": {
        "id": "5yRmk6khJfvZ"
      }
    },
    {
      "cell_type": "code",
      "source": [
        "class Human:\n",
        "  pass"
      ],
      "metadata": {
        "id": "ZxBEQ5fhoqs0"
      },
      "execution_count": null,
      "outputs": []
    },
    {
      "cell_type": "code",
      "source": [
        "class Human:\n",
        "  def __init__ (self):\n",
        "    print(\"응애응애\")\n",
        "\n",
        "areum = Human()"
      ],
      "metadata": {
        "id": "idQufKbQ4Luw",
        "colab": {
          "base_uri": "https://localhost:8080/"
        },
        "outputId": "49b58794-395a-481d-88d5-064d819ccaa5"
      },
      "execution_count": null,
      "outputs": [
        {
          "output_type": "stream",
          "name": "stdout",
          "text": [
            "응애응애\n"
          ]
        }
      ]
    },
    {
      "cell_type": "code",
      "source": [
        "class Human:\n",
        "  def __init__(self, name, age, sex):\n",
        "    self.name = name\n",
        "    self.age = age\n",
        "    self.sex = sex\n",
        "\n",
        "areum = Human(\"이름\", 25, \"여자\")\n",
        "print(areum.name)"
      ],
      "metadata": {
        "colab": {
          "base_uri": "https://localhost:8080/"
        },
        "id": "Vr2PyEhX66-F",
        "outputId": "2282845a-25c5-4b25-e2c6-c17a7760cb53"
      },
      "execution_count": null,
      "outputs": [
        {
          "output_type": "stream",
          "name": "stdout",
          "text": [
            "이름\n"
          ]
        }
      ]
    },
    {
      "cell_type": "code",
      "source": [
        "areum = Human(\"조아름\", 25, \"여자\")\n",
        "areum.sex\n",
        "print(areum.age)"
      ],
      "metadata": {
        "colab": {
          "base_uri": "https://localhost:8080/"
        },
        "id": "4mxH2mkW9FuM",
        "outputId": "de75329f-be3d-4640-e574-6fd77c3cdbdd"
      },
      "execution_count": null,
      "outputs": [
        {
          "output_type": "stream",
          "name": "stdout",
          "text": [
            "25\n"
          ]
        }
      ]
    },
    {
      "cell_type": "code",
      "source": [
        "class Human:\n",
        "  def __init__(self, name, age, sex):\n",
        "    self.name = name\n",
        "    self.age = age\n",
        "    self.sex = sex\n",
        "\n",
        "  def who(self):\n",
        "    print(\"이름: {}, 나이: {}, 성별: {}\".format(self.name, self.age, self.sex))\n",
        "\n",
        "  def setInfo(self, name, age, sex):\n",
        "    self.name = name\n",
        "    self.age = age\n",
        "    self.sex = sex\n"
      ],
      "metadata": {
        "id": "AsJE8uUg9Nol"
      },
      "execution_count": null,
      "outputs": []
    },
    {
      "cell_type": "code",
      "source": [
        "areum = Human(\"조아름\", 25, \"여자\")\n",
        "\n",
        "areum.who()"
      ],
      "metadata": {
        "colab": {
          "base_uri": "https://localhost:8080/"
        },
        "id": "dqHfXbryUBnb",
        "outputId": "314a7a51-1300-40cf-cade-8fbfa437dfdd"
      },
      "execution_count": null,
      "outputs": [
        {
          "output_type": "stream",
          "name": "stdout",
          "text": [
            "이름: 조아름, 나이: 25, 성별: 여자\n"
          ]
        }
      ]
    },
    {
      "cell_type": "code",
      "source": [
        "areum = Human(\"Ahfm\", 0, \"ahfma\")\n"
      ],
      "metadata": {
        "id": "dPn95o-OUD5K"
      },
      "execution_count": null,
      "outputs": []
    },
    {
      "cell_type": "code",
      "source": [
        "areum.who()"
      ],
      "metadata": {
        "colab": {
          "base_uri": "https://localhost:8080/"
        },
        "id": "nhFFlbytUOMr",
        "outputId": "187f6855-b0c7-47f8-a2a9-bc5c7be56866"
      },
      "execution_count": null,
      "outputs": [
        {
          "output_type": "stream",
          "name": "stdout",
          "text": [
            "이름: Ahfm, 나이: 0, 성별: ahfma\n"
          ]
        }
      ]
    },
    {
      "cell_type": "code",
      "source": [
        "areum = Human(\"Ahfm\", 0, \"ahfma\")\n"
      ],
      "metadata": {
        "id": "fe1rKk7jUPEB"
      },
      "execution_count": null,
      "outputs": []
    },
    {
      "cell_type": "code",
      "source": [
        "areum = Human(\"ㅇㄹ\", 0, \"ahfma\")\n"
      ],
      "metadata": {
        "id": "6yGAj3nPUTUU"
      },
      "execution_count": null,
      "outputs": []
    },
    {
      "cell_type": "code",
      "source": [
        "areum.setInfo(\"아름\", 25, \"여자\")\n"
      ],
      "metadata": {
        "id": "TOAW7o_jUVYt"
      },
      "execution_count": null,
      "outputs": []
    },
    {
      "cell_type": "code",
      "source": [
        "areum.who()"
      ],
      "metadata": {
        "colab": {
          "base_uri": "https://localhost:8080/"
        },
        "id": "AY6RNg9IUX9n",
        "outputId": "bc67af7e-4d2d-4345-9519-c3b50cecd736"
      },
      "execution_count": null,
      "outputs": [
        {
          "output_type": "stream",
          "name": "stdout",
          "text": [
            "이름: 아름, 나이: 25, 성별: 여자\n"
          ]
        }
      ]
    },
    {
      "cell_type": "code",
      "source": [
        "class Human:\n",
        "  def __init__(self, name, age, sex):\n",
        "    self.name = name\n",
        "    self.age = age\n",
        "    self.sex = sex\n",
        "\n",
        "  def who(self):\n",
        "    print(\"이름: {}, 나이: {}, 성별: {}\".format(self.name, self.age, self.sex))\n",
        "\n",
        "  def setInfo(self, name, age, sex):\n",
        "    self.name = name\n",
        "    self.age = age\n",
        "    self.sex = sex\n",
        "\n",
        "  def __del__(self):\n",
        "    print(\"나의 죽음을 알리지마라\")\n"
      ],
      "metadata": {
        "id": "XdGc2DyRUaJQ"
      },
      "execution_count": null,
      "outputs": []
    },
    {
      "cell_type": "code",
      "source": [
        "areum = Human(\"아름\", 25, \"여자\")\n",
        "del(areum)"
      ],
      "metadata": {
        "colab": {
          "base_uri": "https://localhost:8080/"
        },
        "id": "VRCMse5KUj8E",
        "outputId": "07d28f9f-ef29-49dc-b915-487e46ea3fdc"
      },
      "execution_count": null,
      "outputs": [
        {
          "output_type": "stream",
          "name": "stdout",
          "text": [
            "나의 죽음을 알리지마라\n"
          ]
        }
      ]
    },
    {
      "cell_type": "code",
      "source": [
        "class OMG :\n",
        "    def print() :\n",
        "        print(\"Oh my god\")"
      ],
      "metadata": {
        "id": "c3wZHcZIUlfU"
      },
      "execution_count": null,
      "outputs": []
    },
    {
      "cell_type": "code",
      "source": [
        "myStock = OMG()\n",
        "OMG.print()"
      ],
      "metadata": {
        "colab": {
          "base_uri": "https://localhost:8080/"
        },
        "id": "lmcYm9DvUnN_",
        "outputId": "409c1570-d3a9-4190-8477-575a2faa93cd"
      },
      "execution_count": null,
      "outputs": [
        {
          "output_type": "stream",
          "name": "stdout",
          "text": [
            "Oh my god\n"
          ]
        }
      ]
    },
    {
      "cell_type": "code",
      "source": [
        "class Stock:\n",
        "  pass"
      ],
      "metadata": {
        "id": "zD0YLx4WUp2O"
      },
      "execution_count": null,
      "outputs": []
    },
    {
      "cell_type": "code",
      "source": [
        "class Stock:\n",
        "  def __init__(self, name, code):\n",
        "    self.name = name\n",
        "    self.code = code\n",
        "\n",
        "삼성 = Stock(\"삼성전자\", \"005930\")\n"
      ],
      "metadata": {
        "id": "NAsHexw3b3Z7"
      },
      "execution_count": null,
      "outputs": []
    },
    {
      "cell_type": "code",
      "source": [
        "print(삼성.name)\n",
        "print(삼성.code)"
      ],
      "metadata": {
        "colab": {
          "base_uri": "https://localhost:8080/"
        },
        "id": "UrTw5HUIcHjl",
        "outputId": "2ec31a92-afd0-446b-8823-b01f0b6fde16"
      },
      "execution_count": null,
      "outputs": [
        {
          "output_type": "stream",
          "name": "stdout",
          "text": [
            "삼성전자\n",
            "005930\n"
          ]
        }
      ]
    },
    {
      "cell_type": "code",
      "source": [
        "class Stock:\n",
        "  def __init__(self, name, code):\n",
        "    self.name = name\n",
        "    self.code = code\n",
        "\n",
        "  def set_name(self, name):\n",
        "    self.name = name\n",
        "\n",
        "\n",
        "  def set_code(self, code):\n",
        "    self.code = code\n",
        "\n",
        "a = Stock(None, None)\n",
        "a.set_code(\"004903\")"
      ],
      "metadata": {
        "id": "g4aCTdXPcM7L"
      },
      "execution_count": null,
      "outputs": []
    },
    {
      "cell_type": "code",
      "source": [
        "print(a.name)\n"
      ],
      "metadata": {
        "colab": {
          "base_uri": "https://localhost:8080/"
        },
        "id": "WdSo6UdlgCWp",
        "outputId": "61e07207-4390-4a9c-b007-115421c76f95"
      },
      "execution_count": null,
      "outputs": [
        {
          "output_type": "stream",
          "name": "stdout",
          "text": [
            "None\n"
          ]
        }
      ]
    },
    {
      "cell_type": "code",
      "source": [
        "print(a.code)\n"
      ],
      "metadata": {
        "colab": {
          "base_uri": "https://localhost:8080/"
        },
        "id": "J2NsvZFkgSOE",
        "outputId": "3157278f-9747-4eac-e3ea-eed5902aacad"
      },
      "execution_count": null,
      "outputs": [
        {
          "output_type": "stream",
          "name": "stdout",
          "text": [
            "004903\n"
          ]
        }
      ]
    },
    {
      "cell_type": "code",
      "source": [
        "class Stock:\n",
        "  def __init__(self, name, code):\n",
        "    self.name = name\n",
        "    self.code = code\n",
        "\n",
        "  def set_name(self, name):\n",
        "    self.name = name\n",
        "\n",
        "  def set_code(self, code):\n",
        "    self.code = code\n",
        "\n",
        "  def get_name(self):\n",
        "    return self.name\n",
        "\n",
        "  def get_code(self):\n",
        "    return self.code\n",
        "\n",
        "삼성 = Stock(\"삼성전자\", \"005930\")\n",
        "print(삼성.name)\n",
        "print(삼성.code)\n",
        "print(삼성.get_name())\n",
        "print(삼성.get_code())\n"
      ],
      "metadata": {
        "colab": {
          "base_uri": "https://localhost:8080/"
        },
        "id": "of9S1xMRgT-t",
        "outputId": "9aa72a46-3afe-4113-e368-b3d7a3240919"
      },
      "execution_count": null,
      "outputs": [
        {
          "output_type": "stream",
          "name": "stdout",
          "text": [
            "삼성전자\n",
            "005930\n",
            "삼성전자\n",
            "005930\n"
          ]
        }
      ]
    },
    {
      "cell_type": "code",
      "source": [
        "class Stock:\n",
        "  def __init__(self, name, code, per, pbr, 배당수익률):\n",
        "    self.name = name\n",
        "    self.code = code\n",
        "    self.per = per\n",
        "    self.pbr = pbr\n",
        "    self.배당수익률 = 배당수익률\n",
        "\n",
        "  def set_name(self, name):\n",
        "    self.name = name\n",
        "\n",
        "  def set_code(self, code):\n",
        "    self.code = code\n",
        "\n",
        "  def get_name(self):\n",
        "    return self.name\n",
        "\n",
        "  def get_code(self):\n",
        "    return self.code"
      ],
      "metadata": {
        "id": "H0WBcaGPgg0T"
      },
      "execution_count": null,
      "outputs": []
    },
    {
      "cell_type": "code",
      "source": [
        "삼성전자 = Stock(\"삼성전자\", \"005930\", 15.79, 1.33, 2.83)\n",
        "print(삼성전자.배당수익률)"
      ],
      "metadata": {
        "colab": {
          "base_uri": "https://localhost:8080/"
        },
        "id": "70h2bwNzg_8E",
        "outputId": "c43e660f-e2d8-49e4-e849-14522bf209e2"
      },
      "execution_count": null,
      "outputs": [
        {
          "output_type": "stream",
          "name": "stdout",
          "text": [
            "2.83\n"
          ]
        }
      ]
    },
    {
      "cell_type": "code",
      "source": [
        "class Stock:\n",
        "  def __init__(self, name, code, per, pbr, dividend):\n",
        "    self.name = name\n",
        "    self.code = code\n",
        "    self.per = per\n",
        "    self.pbr = pbr\n",
        "    self.dividend = dividend\n",
        "\n",
        "  def set_name(self, name):\n",
        "    self.name = name\n",
        "\n",
        "  def set_code(self, code):\n",
        "    self.code = code\n",
        "\n",
        "  def set_per(self, per):\n",
        "    self.per = per\n",
        "\n",
        "  def set_pbr(self, pbr):\n",
        "    self.pbr = pbr\n",
        "\n",
        "  def set_dividend(self, dividend):\n",
        "    self.dividend = dividend\n",
        "\n",
        "  def get_name(self):\n",
        "    return self.name\n",
        "\n",
        "  def get_code(self):\n",
        "    return self.code\n"
      ],
      "metadata": {
        "id": "m4Oc60RLhIjZ"
      },
      "execution_count": null,
      "outputs": []
    },
    {
      "cell_type": "code",
      "source": [
        "삼성전자 = Stock(\"삼성전자\", \"005930\", 15.79, 1.33, 2.83)\n",
        "\n",
        "삼성전자.set_dividend(35123)\n",
        "print(삼성전자.dividend)\n",
        "print(삼성전자.code)"
      ],
      "metadata": {
        "colab": {
          "base_uri": "https://localhost:8080/"
        },
        "id": "6iC5vdmHhlOF",
        "outputId": "8a6ab8e9-1744-4bcb-a5a2-4b8caba81f20"
      },
      "execution_count": null,
      "outputs": [
        {
          "output_type": "stream",
          "name": "stdout",
          "text": [
            "35123\n",
            "005930\n"
          ]
        }
      ]
    },
    {
      "cell_type": "code",
      "source": [
        "삼성전자.set_per(12.75)\n",
        "print(삼성전자.per)"
      ],
      "metadata": {
        "colab": {
          "base_uri": "https://localhost:8080/"
        },
        "id": "ucD8Muqihu4y",
        "outputId": "53b8c6bc-1da7-4ae1-f345-8cd738af8ea8"
      },
      "execution_count": null,
      "outputs": [
        {
          "output_type": "stream",
          "name": "stdout",
          "text": [
            "12.75\n"
          ]
        }
      ]
    },
    {
      "cell_type": "code",
      "source": [
        "삼성전자 = Stock(\"삼성전자\", \"005930\", 15.79, 1.33, 2.83)\n",
        "현대차 = Stock(\"현대차\", \"005380\", 8.70, 0.35, 4.27)\n",
        "LG전자 = Stock(\"LG전자\t\", \"066570\", 317.34, 0.69, 1.37)\n",
        "\n",
        "종목정보 = []\n",
        "종목정보.append(삼성전자)\n",
        "종목정보.append(현대차)\n",
        "종목정보.append(LG전자)\n"
      ],
      "metadata": {
        "id": "bX3kec_xiFbO"
      },
      "execution_count": null,
      "outputs": []
    },
    {
      "cell_type": "code",
      "source": [
        "for i in 종목정보:\n",
        "  print(i.code, i.per)"
      ],
      "metadata": {
        "colab": {
          "base_uri": "https://localhost:8080/"
        },
        "id": "TL31-kfQieKO",
        "outputId": "f7cddda9-9953-4080-cfb7-49d049f05072"
      },
      "execution_count": null,
      "outputs": [
        {
          "output_type": "stream",
          "name": "stdout",
          "text": [
            "005930 15.79\n",
            "005380 8.7\n",
            "066570 317.34\n"
          ]
        }
      ]
    },
    {
      "cell_type": "code",
      "source": [
        "print(종목정보[0].name)"
      ],
      "metadata": {
        "colab": {
          "base_uri": "https://localhost:8080/"
        },
        "id": "laUVc6THinH6",
        "outputId": "aabd7f3b-0d4f-4de0-be86-5f5509bf3cf6"
      },
      "execution_count": null,
      "outputs": [
        {
          "output_type": "stream",
          "name": "stdout",
          "text": [
            "삼성전자\n"
          ]
        }
      ]
    },
    {
      "cell_type": "code",
      "source": [
        "import random\n",
        "\n",
        "\n",
        "class Account:\n",
        "\n",
        "  def __init__(self, name, balance):\n",
        "    self.name = name\n",
        "    self.balance = balance\n",
        "\n",
        "    i = str(random.randint(0, 999)).zfill(3)\n",
        "    j = str(random.randint(0, 99)).zfill(2)\n",
        "    k = str(random.randint(0, 999999)).zfill(6)\n",
        "\n",
        "    self.bank = \"SC은행\"\n",
        "    self.account_number = i + \"-\" + j + \"-\" + k\n",
        "\n",
        "    print(\"은행이름: {}, 계좌번호: {}\".format(self.bank, self.account_number))\n"
      ],
      "metadata": {
        "id": "3I0mmXknjVT-"
      },
      "execution_count": null,
      "outputs": []
    },
    {
      "cell_type": "code",
      "source": [
        "kim = Account(\"김민수\", 1000000000)"
      ],
      "metadata": {
        "colab": {
          "base_uri": "https://localhost:8080/"
        },
        "id": "ge9cjQMdoXCD",
        "outputId": "2f824b0b-6a17-4a5b-c9f5-5cc4217c4428"
      },
      "execution_count": null,
      "outputs": [
        {
          "output_type": "stream",
          "name": "stdout",
          "text": [
            "은행이름: SC은행, 계좌번호: 430-67-266125\n"
          ]
        }
      ]
    },
    {
      "cell_type": "code",
      "source": [
        "print(kim.name)\n",
        "print(kim.balance)\n",
        "print(kim.bank)\n",
        "print(kim.account_number)"
      ],
      "metadata": {
        "colab": {
          "base_uri": "https://localhost:8080/"
        },
        "id": "DNbSZqKNoent",
        "outputId": "70adfaa2-a9c0-49d4-b3e4-f464bfc9745a"
      },
      "execution_count": null,
      "outputs": [
        {
          "output_type": "stream",
          "name": "stdout",
          "text": [
            "김민수\n",
            "1000000000\n",
            "SC은행\n",
            "430-67-266125\n"
          ]
        }
      ]
    },
    {
      "cell_type": "code",
      "source": [
        "import random\n",
        "\n",
        "\n",
        "class Account:\n",
        "  account_count = 0\n",
        "\n",
        "  def __init__(self, name, balance):\n",
        "    self.name = name\n",
        "    self.balance = balance\n",
        "\n",
        "    i = str(random.randint(0, 999)).zfill(3)\n",
        "    j = str(random.randint(0, 99)).zfill(2)\n",
        "    k = str(random.randint(0, 999999)).zfill(6)\n",
        "\n",
        "    self.bank = \"SC은행\"\n",
        "    self.account_number = i + \"-\" + j + \"-\" + k\n",
        "\n",
        "    # print(\"은행이름: {}, 계좌번호: {}\".format(self.bank, self.account_number))\n",
        "\n",
        "    Account.account_count += 1"
      ],
      "metadata": {
        "id": "eRdLfYRnp1T3"
      },
      "execution_count": null,
      "outputs": []
    },
    {
      "cell_type": "code",
      "source": [
        "kim = Account(\"김민수\", 100)\n",
        "print(Account.account_count)\n",
        "lee = Account(\"이민수\", 100)\n",
        "print(Account.account_count)"
      ],
      "metadata": {
        "colab": {
          "base_uri": "https://localhost:8080/"
        },
        "id": "9q0FJKc6qNZk",
        "outputId": "5c62c0f0-3059-4cbf-ddd8-2ee39cec65f1"
      },
      "execution_count": null,
      "outputs": [
        {
          "output_type": "stream",
          "name": "stdout",
          "text": [
            "1\n",
            "2\n"
          ]
        }
      ]
    },
    {
      "cell_type": "code",
      "source": [
        "import random\n",
        "\n",
        "\n",
        "class Account:\n",
        "  account_count = 0\n",
        "\n",
        "  def __init__(self, name, balance):\n",
        "    self.name = name\n",
        "    self.balance = balance\n",
        "\n",
        "    i = str(random.randint(0, 999)).zfill(3)\n",
        "    j = str(random.randint(0, 99)).zfill(2)\n",
        "    k = str(random.randint(0, 999999)).zfill(6)\n",
        "\n",
        "    self.bank = \"SC은행\"\n",
        "    self.account_number = i + \"-\" + j + \"-\" + k\n",
        "\n",
        "    # print(\"은행이름: {}, 계좌번호: {}\".format(self.bank, self.account_number))\n",
        "\n",
        "    Account.account_count += 1\n",
        "\n",
        "  @classmethod\n",
        "  def get_account_num(self):\n",
        "    print(self.account_count)"
      ],
      "metadata": {
        "id": "QCoclxdjqOt9"
      },
      "execution_count": null,
      "outputs": []
    },
    {
      "cell_type": "code",
      "source": [
        "kim = Account(\"김민수\", 100)\n",
        "lee = Account(\"이민수\", 100)\n",
        "kim.get_account_num()"
      ],
      "metadata": {
        "colab": {
          "base_uri": "https://localhost:8080/"
        },
        "id": "-sEsZ_fOqczY",
        "outputId": "01fd69d5-d51a-4b80-9345-6e0287c7264d"
      },
      "execution_count": null,
      "outputs": [
        {
          "output_type": "stream",
          "name": "stdout",
          "text": [
            "2\n"
          ]
        }
      ]
    },
    {
      "cell_type": "code",
      "source": [
        "import random\n",
        "\n",
        "\n",
        "class Account:\n",
        "  account_count = 0\n",
        "\n",
        "  def __init__(self, name, balance):\n",
        "    self.name = name\n",
        "    self.balance = balance\n",
        "\n",
        "    i = str(random.randint(0, 999)).zfill(3)\n",
        "    j = str(random.randint(0, 99)).zfill(2)\n",
        "    k = str(random.randint(0, 999999)).zfill(6)\n",
        "\n",
        "    self.bank = \"SC은행\"\n",
        "    self.account_number = i + \"-\" + j + \"-\" + k\n",
        "\n",
        "    # print(\"은행이름: {}, 계좌번호: {}\".format(self.bank, self.account_number))\n",
        "\n",
        "    Account.account_count += 1\n",
        "\n",
        "\n",
        "  @classmethod\n",
        "  def get_account_num(self):\n",
        "    print(self.account_count)\n",
        "\n",
        "  def deposit(self, amount):\n",
        "    if amount >= 1:\n",
        "      self.balance += amount\n",
        "\n",
        "  def withdraw(self, amount):\n",
        "    if self.balance > amount:\n",
        "      self.balance -= amount\n",
        "    else:\n",
        "      print(\"계좌의 잔고 이상으로 출금할 수 없습니다.\")"
      ],
      "metadata": {
        "id": "5WN671e8qgGx"
      },
      "execution_count": null,
      "outputs": []
    },
    {
      "cell_type": "code",
      "source": [
        "kim = Account(\"김민수\", 100)\n",
        "print(kim.balance)\n",
        "kim.deposit(300)\n",
        "print(kim.balance)\n",
        "kim.withdraw(200)\n",
        "print(kim.balance)\n",
        "kim.withdraw(200)\n",
        "print(kim.balance)\n",
        "kim.withdraw(200)\n",
        "print(kim.balance)"
      ],
      "metadata": {
        "colab": {
          "base_uri": "https://localhost:8080/"
        },
        "id": "uWYff3SKtUE4",
        "outputId": "b31ce418-e696-41fd-a3e2-b12f3192a9dd"
      },
      "execution_count": null,
      "outputs": [
        {
          "output_type": "stream",
          "name": "stdout",
          "text": [
            "100\n",
            "400\n",
            "200\n",
            "계좌의 잔고 이상으로 출금할 수 없습니다.\n",
            "200\n",
            "계좌의 잔고 이상으로 출금할 수 없습니다.\n",
            "200\n"
          ]
        }
      ]
    },
    {
      "cell_type": "code",
      "source": [
        "import random\n",
        "\n",
        "\n",
        "class Account:\n",
        "  account_count = 0\n",
        "\n",
        "  def __init__(self, name, balance):\n",
        "    self.name = name\n",
        "    self.balance = balance\n",
        "    self.count = 0\n",
        "\n",
        "    i = str(random.randint(0, 999)).zfill(3)\n",
        "    j = str(random.randint(0, 99)).zfill(2)\n",
        "    k = str(random.randint(0, 999999)).zfill(6)\n",
        "\n",
        "    self.bank = \"SC은행\"\n",
        "    self.account_number = i + \"-\" + j + \"-\" + k\n",
        "\n",
        "    # print(\"은행이름: {}, 계좌번호: {}\".format(self.bank, self.account_number))\n",
        "\n",
        "    Account.account_count += 1\n",
        "\n",
        "  @classmethod\n",
        "  def get_account_num(self):\n",
        "    print(self.account_count)\n",
        "\n",
        "  def deposit(self, amount):\n",
        "    if amount >= 1:\n",
        "      self.balance += amount\n",
        "      self.count +=1\n",
        "      if self.count == 5:\n",
        "      # if self.deposit_count % 5 == 0:         # 5, 10, 15\n",
        "\n",
        "        # count = 0\n",
        "        self.balance *= 1.01\n",
        "\n",
        "\n",
        "  def withdraw(self, amount):\n",
        "    if self.balance > amount:\n",
        "      self.balance -= amount\n",
        "    else:\n",
        "      print(\"계좌의 잔고 이상으로 출금할 수 없습니다.\")\n",
        "\n",
        "\n",
        "  def display_info(self):\n",
        "      print(\"은행이름: \", self.bank)\n",
        "      print(\"예금주: \", self.name)\n",
        "      print(\"계좌번호: \", self.account_number)\n",
        "      print(\"잔고: \", f\"{self.balance:,}\")"
      ],
      "metadata": {
        "id": "3SvJKAqgtYfx"
      },
      "execution_count": null,
      "outputs": []
    },
    {
      "cell_type": "code",
      "source": [
        "p = Account(\"파이썬\", 10000)\n",
        "p.display_info()"
      ],
      "metadata": {
        "colab": {
          "base_uri": "https://localhost:8080/"
        },
        "id": "q39Ad-RxwE2R",
        "outputId": "30513851-9e44-4074-c859-ae0576f4fd09"
      },
      "execution_count": null,
      "outputs": [
        {
          "output_type": "stream",
          "name": "stdout",
          "text": [
            "은행이름: SC은행 예금주: 파이썬, 계좌번호: 956-36-438005, 잔고: 10,000\n"
          ]
        }
      ]
    },
    {
      "cell_type": "code",
      "source": [
        "print(type(1.0))"
      ],
      "metadata": {
        "id": "cK6iJut1PkgR"
      },
      "execution_count": null,
      "outputs": []
    },
    {
      "cell_type": "code",
      "source": [
        "kim = Account(\"김민수\", 100)\n",
        "print(kim.balance)\n"
      ],
      "metadata": {
        "id": "qeISiGAsQZAD",
        "colab": {
          "base_uri": "https://localhost:8080/"
        },
        "outputId": "e30912bd-ff3f-421a-b30d-c3849b9e5207"
      },
      "execution_count": null,
      "outputs": [
        {
          "output_type": "stream",
          "name": "stdout",
          "text": [
            "100\n"
          ]
        }
      ]
    },
    {
      "cell_type": "code",
      "source": [
        "kim.deposit(300)\n",
        "print(kim.balance)\n",
        "\n",
        "kim.deposit(300)\n",
        "print(kim.balance)\n",
        "\n",
        "kim.deposit(300)\n",
        "print(kim.balance)\n",
        "\n",
        "kim.deposit(300)\n",
        "print(kim.balance)\n",
        "\n",
        "kim.deposit(300)\n",
        "print(kim.balance)\n",
        "\n"
      ],
      "metadata": {
        "colab": {
          "base_uri": "https://localhost:8080/"
        },
        "id": "CUGbcYNdJ2vs",
        "outputId": "9bbf05c0-bd4c-4b03-cf4b-e5e43b833f9c"
      },
      "execution_count": null,
      "outputs": [
        {
          "output_type": "stream",
          "name": "stdout",
          "text": [
            "400\n",
            "700\n",
            "1000\n",
            "1300\n",
            "1616.0\n"
          ]
        }
      ]
    },
    {
      "cell_type": "code",
      "source": [
        "Ki = Account(\"Ki\", 1000000)\n",
        "Te = Account(\"Te\", 100000)\n",
        "Pe = Account(\"Pe\", 10000000)\n",
        "\n",
        "Customers = [Ki, Te, Pe]"
      ],
      "metadata": {
        "id": "dWQhrHrmdlEH"
      },
      "execution_count": null,
      "outputs": []
    },
    {
      "cell_type": "code",
      "source": [
        "print(Customers)"
      ],
      "metadata": {
        "colab": {
          "base_uri": "https://localhost:8080/"
        },
        "id": "IpDE47dleAme",
        "outputId": "58df2876-701c-4997-8114-9de143a6eb27"
      },
      "execution_count": null,
      "outputs": [
        {
          "output_type": "stream",
          "name": "stdout",
          "text": [
            "[<__main__.Account object at 0x791bdb6f7be0>, <__main__.Account object at 0x791bdb6f6830>, <__main__.Account object at 0x791bdb6f6170>]\n"
          ]
        }
      ]
    },
    {
      "cell_type": "code",
      "source": [
        "for i in Customers:\n",
        "  if i.balance >= 1000000:\n",
        "    i.display_info()"
      ],
      "metadata": {
        "colab": {
          "base_uri": "https://localhost:8080/"
        },
        "id": "YCI_APpVeNFv",
        "outputId": "2799e8c5-6faa-412a-b9bf-3d92391c2734"
      },
      "execution_count": null,
      "outputs": [
        {
          "output_type": "stream",
          "name": "stdout",
          "text": [
            "은행이름:  SC은행\n",
            "예금주:  Ki\n",
            "계좌번호:  262-38-802403\n",
            "잔고:  1,000,000\n",
            "은행이름:  SC은행\n",
            "예금주:  Pe\n",
            "계좌번호:  016-97-691698\n",
            "잔고:  10,000,000\n"
          ]
        }
      ]
    },
    {
      "cell_type": "code",
      "source": [
        "import random\n",
        "\n",
        "\n",
        "class Account:\n",
        "    # class variable\n",
        "    account_count = 0\n",
        "\n",
        "    def __init__(self, name, balance):\n",
        "        self.deposit_count = 0\n",
        "        self.deposit_log = []\n",
        "        self.withdraw_log = []\n",
        "\n",
        "        self.name = name\n",
        "        self.balance = balance\n",
        "        self.bank = \"SC은행\"\n",
        "\n",
        "        # 3-2-6\n",
        "        num1 = random.randint(0, 999)\n",
        "        num2 = random.randint(0, 99)\n",
        "        num3 = random.randint(0, 999999)\n",
        "\n",
        "        num1 = str(num1).zfill(3)  # 1 -> '1' -> '001'\n",
        "        num2 = str(num2).zfill(2)  # 1 -> '1' -> '01'\n",
        "        num3 = str(num3).zfill(6)  # 1 -> '1' -> '0000001'\n",
        "        self.account_number = num1 + '-' + num2 + '-' + num3  # 001-01-000001\n",
        "        Account.account_count += 1\n",
        "\n",
        "    @classmethod\n",
        "    def get_account_num(cls):\n",
        "        print(cls.account_count)  # Account.account_count\n",
        "\n",
        "    def deposit(self, amount):\n",
        "        if amount >= 1:\n",
        "            self.deposit_log.append(amount)\n",
        "            self.balance += amount\n",
        "\n",
        "            self.deposit_count += 1\n",
        "            if self.deposit_count % 5 == 0:         # 5, 10, 15\n",
        "                # 이자 지금\n",
        "                self.balance = (self.balance * 1.01)\n",
        "\n",
        "    def withdraw(self, amount):\n",
        "        if self.balance > amount:\n",
        "            self.deposit_log.append(amount)\n",
        "            self.balance -= amount\n",
        "\n",
        "    def display_info(self):\n",
        "        print(\"은행이름: \", self.bank)\n",
        "        print(\"예금주: \", self.name)\n",
        "        print(\"계좌번호: \", self.account_number)\n",
        "        print(\"잔고: \", self.balance)\n",
        "\n",
        "    def deposit_history(self):\n",
        "      for amount in self.deposit_log:\n",
        "        print(amount)\n",
        "\n",
        "    def withdraw_history(self):\n",
        "      for amount in self.withdraw_log:\n",
        "        print(amount)\n",
        "\n",
        "\n",
        "\n",
        "\n",
        "data = []\n",
        "k = Account(\"KIM\", 10000000)\n",
        "l = Account(\"LEE\", 10000)\n",
        "p = Account(\"PARK\", 10000)\n",
        "\n",
        "data.append(k)\n",
        "data.append(l)\n",
        "data.append(p)\n",
        "\n",
        "print(data)"
      ],
      "metadata": {
        "colab": {
          "base_uri": "https://localhost:8080/"
        },
        "id": "i_FOCwIueKVP",
        "outputId": "aa5fc188-41c8-4ed5-9d3e-74c8e889b991"
      },
      "execution_count": null,
      "outputs": [
        {
          "output_type": "stream",
          "name": "stdout",
          "text": [
            "[<__main__.Account object at 0x791bdb6f6d40>, <__main__.Account object at 0x791bdb6f5a50>, <__main__.Account object at 0x791bdb6f41c0>]\n"
          ]
        }
      ]
    },
    {
      "cell_type": "code",
      "source": [
        "k.deposit(100)"
      ],
      "metadata": {
        "id": "Wsx26hockNdT"
      },
      "execution_count": null,
      "outputs": []
    },
    {
      "cell_type": "code",
      "source": [
        "k.deposit_history()"
      ],
      "metadata": {
        "colab": {
          "base_uri": "https://localhost:8080/"
        },
        "id": "MTET50GWkRV4",
        "outputId": "3b887513-b764-4ba7-907c-b02124d79cde"
      },
      "execution_count": null,
      "outputs": [
        {
          "output_type": "stream",
          "name": "stdout",
          "text": [
            "100\n",
            "200\n",
            "300\n"
          ]
        }
      ]
    },
    {
      "cell_type": "code",
      "source": [
        "import random\n",
        "\n",
        "\n",
        "class Account:\n",
        "    # class variable\n",
        "    account_count = 0\n",
        "\n",
        "    def __init__(self, name, balance):\n",
        "        self.deposit_count = 0\n",
        "        self.deposit_log = []\n",
        "        self.withdraw_log = []\n",
        "\n",
        "        self.name = name\n",
        "        self.balance = balance\n",
        "        self.bank = \"SC은행\"\n",
        "\n",
        "        # 3-2-6\n",
        "        num1 = random.randint(0, 999)\n",
        "        num2 = random.randint(0, 99)\n",
        "        num3 = random.randint(0, 999999)\n",
        "\n",
        "        num1 = str(num1).zfill(3)  # 1 -> '1' -> '001'\n",
        "        num2 = str(num2).zfill(2)  # 1 -> '1' -> '01'\n",
        "        num3 = str(num3).zfill(6)  # 1 -> '1' -> '0000001'\n",
        "        self.account_number = num1 + '-' + num2 + '-' + num3  # 001-01-000001\n",
        "        Account.account_count += 1\n",
        "\n",
        "    @classmethod\n",
        "    def get_account_num(cls):\n",
        "        print(cls.account_count)  # Account.account_count\n",
        "\n",
        "    def deposit(self, amount):\n",
        "        if amount >= 1:\n",
        "            self.deposit_log.append(amount)\n",
        "            self.balance += amount\n",
        "\n",
        "            self.deposit_count += 1\n",
        "            if self.deposit_count % 5 == 0:         # 5, 10, 15\n",
        "                # 이자 지금\n",
        "                self.balance = (self.balance * 1.01)\n",
        "\n",
        "\n",
        "    def withdraw(self, amount):\n",
        "        if self.balance > amount:\n",
        "            self.withdraw_log.append(amount)\n",
        "            self.balance -= amount\n",
        "\n",
        "    def display_info(self):\n",
        "        print(\"은행이름: \", self.bank)\n",
        "        print(\"예금주: \", self.name)\n",
        "        print(\"계좌번호: \", self.account_number)\n",
        "        print(\"잔고: \", self.balance)\n",
        "\n",
        "    def withdraw_history(self):\n",
        "        for amount in self.withdraw_log:\n",
        "            print(amount)\n",
        "\n",
        "    def deposit_history(self):\n",
        "        for amount in self.deposit_log:\n",
        "            print(amount)\n",
        "\n",
        "\n",
        "k = Account(\"Kim\", 1000)\n",
        "k.deposit(100)\n",
        "k.deposit(200)\n",
        "k.deposit(300)\n",
        "k.deposit_history()\n",
        "\n",
        "k.withdraw(100)\n",
        "k.withdraw(200)\n",
        "k.withdraw_history()"
      ],
      "metadata": {
        "colab": {
          "base_uri": "https://localhost:8080/"
        },
        "id": "gCXqBpqKld4R",
        "outputId": "0c270de8-a566-45f0-b0db-6bbaae2acdd1"
      },
      "execution_count": null,
      "outputs": [
        {
          "output_type": "stream",
          "name": "stdout",
          "text": [
            "100\n",
            "200\n",
            "300\n",
            "100\n",
            "200\n"
          ]
        }
      ]
    },
    {
      "cell_type": "code",
      "source": [
        "import random\n",
        "from datetime import datetime\n",
        "\n",
        "class Account:\n",
        "    # class variable\n",
        "    account_count = 0\n",
        "\n",
        "    def __init__(self, name, balance):\n",
        "        self.deposit_count = 0\n",
        "        self.deposit_log = []\n",
        "        self.withdraw_log = []\n",
        "        self.transaction_log = []\n",
        "\n",
        "        self.name = name\n",
        "        self.balance = balance\n",
        "        self.bank = \"SC은행\"\n",
        "\n",
        "        # 계좌번호 생성\n",
        "        num1 = random.randint(0, 999)\n",
        "        num2 = random.randint(0, 99)\n",
        "        num3 = random.randint(0, 999999)\n",
        "\n",
        "        num1 = str(num1).zfill(3)\n",
        "        num2 = str(num2).zfill(2)\n",
        "        num3 = str(num3).zfill(6)\n",
        "        self.account_number = num1 + '-' + num2 + '-' + num3\n",
        "        Account.account_count += 1\n",
        "\n",
        "    @classmethod\n",
        "    def get_account_num(cls):\n",
        "        print(cls.account_count)\n",
        "\n",
        "    def deposit(self, amount):\n",
        "        if amount >= 1:\n",
        "            self.deposit_log.append(amount)\n",
        "            self.balance += amount\n",
        "\n",
        "            self.deposit_count += 1\n",
        "            if self.deposit_count % 5 == 0:\n",
        "                # 이자 지금\n",
        "                self.balance = (self.balance * 1.01)\n",
        "\n",
        "            # 시간 기록\n",
        "            transaction_time = datetime.now()\n",
        "            self.transaction_log.append((transaction_time, \"Deposit\", amount))\n",
        "\n",
        "    def withdraw(self, amount):\n",
        "        if self.balance > amount:\n",
        "            self.withdraw_log.append(amount)\n",
        "            self.balance -= amount\n",
        "\n",
        "            # 시간 기록\n",
        "            transaction_time = datetime.now()\n",
        "            self.transaction_log.append((transaction_time, \"Withdraw\", amount))\n",
        "\n",
        "    def display_info(self):\n",
        "        print(\"은행이름: \", self.bank)\n",
        "        print(\"예금주: \", self.name)\n",
        "        print(\"계좌번호: \", self.account_number)\n",
        "        print(\"잔고: \", self.balance)\n",
        "\n",
        "    def withdraw_history(self):\n",
        "        for amount in self.withdraw_log:\n",
        "            print(amount)\n",
        "\n",
        "    def deposit_history(self):\n",
        "        for amount in self.deposit_log:\n",
        "            print(amount)\n",
        "\n",
        "    def transaction_history(self):\n",
        "        for transaction in self.transaction_log:\n",
        "            time, type, amount = transaction\n",
        "            print(f\"{time} - {type}: {amount}\")\n",
        "\n",
        "# 예제 사용\n",
        "k = Account(\"Kim\", 1000)\n",
        "k.deposit(100)\n",
        "k.deposit(200)\n",
        "k.deposit(300)\n",
        "k.deposit_history()\n",
        "\n",
        "k.withdraw(100)\n",
        "k.withdraw(200)\n",
        "k.withdraw_history()\n",
        "\n",
        "# 시간 기록 확인\n",
        "k.transaction_history()\n"
      ],
      "metadata": {
        "colab": {
          "base_uri": "https://localhost:8080/"
        },
        "id": "q9PbaGwelleo",
        "outputId": "1c7c477a-e02d-4e45-d1b4-50034967d6a7"
      },
      "execution_count": null,
      "outputs": [
        {
          "output_type": "stream",
          "name": "stdout",
          "text": [
            "100\n",
            "200\n",
            "300\n",
            "100\n",
            "200\n",
            "2024-01-08 02:10:05.947271 - Deposit: 100\n",
            "2024-01-08 02:10:05.947301 - Deposit: 200\n",
            "2024-01-08 02:10:05.947346 - Deposit: 300\n",
            "2024-01-08 02:10:05.947558 - Withdraw: 100\n",
            "2024-01-08 02:10:05.947586 - Withdraw: 200\n"
          ]
        }
      ]
    },
    {
      "cell_type": "code",
      "source": [
        "import random\n",
        "from datetime import datetime\n",
        "\n",
        "\n",
        "class Account:\n",
        "  def __init__(self, owner, balance):\n",
        "    self.count = 0\n",
        "    self.deposit_record = [] #amount\n",
        "    self.withdraw_record = [] #amount\n",
        "    self.tx_record = [] #time\n",
        "    self._w_limit = 5000000\n",
        "\n",
        "    self.owner = owner\n",
        "    self.balance = balance\n",
        "    self.bank = 'SC은행'\n",
        "    self.account_number = self.generate_account_number()\n",
        "\n",
        "\n",
        "  def generate_account_number(self):\n",
        "    a_num1 = random.randint(0, 999)\n",
        "    a_num2 = random.randint(0, 99)\n",
        "    a_num3 = random.randint(0, 999999)\n",
        "\n",
        "    a_num1 = str(a_num1).zfill(3) #1 => 001\n",
        "    a_num2 = str(a_num2).zfill(2)\n",
        "    a_num3 = str(a_num3).zfill(6)\n",
        "\n",
        "    return a_num1 + '-' + a_num2 + '-' + a_num3\n",
        "\n",
        "\n",
        "  def deposit(self, d_amount):\n",
        "      if d_amount >= 1:\n",
        "        # self.deposit_record.append(d_amount)\n",
        "        self.balance += d_amount\n",
        "        self.count += 1\n",
        "        # if count == 5:\n",
        "        # 이자 지급\n",
        "        if self.count % 5 ==0:\n",
        "          self.balance *= 1.01\n",
        "\n",
        "        # 입금 내역 기록\n",
        "        transaction_time = datetime.now()\n",
        "        self.deposit_record.append((transaction_time, \"입금\", d_amount))\n",
        "\n",
        "\n",
        "  def withdraw(self, w_amount):\n",
        "    if w_amount < self.balance:\n",
        "      if self._w_limit >= w_amount:\n",
        "        self.balance = self.balance - w_amount\n",
        "\n",
        "        # 출금 내역 기록\n",
        "        transaction_time = datetime.now()\n",
        "        self.withdraw_record.append((transaction_time, \"출금\", w_amount))\n",
        "      else:\n",
        "        print(\"1회 출금한도를 초과하였습니다. 출금한도는 {:,}원 입니다.\".format(self._w_limit))\n",
        "    else:\n",
        "      print(\"잔액이 부족하여 출금할 수 없습니다.\")\n",
        "\n",
        "  def display_info(self):\n",
        "    print(\"은행이름: {}, 예금주: {}, 계좌번호: {}, 잔고: {:,}원\".format(self.bank, self.owner, self.account_number, self.balance))\n",
        "\n",
        "  def deposit_history(self):\n",
        "    for record in self.deposit_record:\n",
        "      time, type, amount = record\n",
        "      print(f\"{time} - {type}: {amount:,}원\")\n",
        "\n",
        "  def withdraw_history(self):\n",
        "    for record in self.withdraw_record:\n",
        "      time, type, amount = record\n",
        "      print(f\"{time} - {type}: {amount:,}원\")\n",
        "\n",
        "  def all_history(self):\n",
        "    all_transaction = sorted(self.deposit_record + self.withdraw_record, key=lambda x: x[0])\n",
        "    for record in all_transaction:\n",
        "      time, type, amount = record\n",
        "      print(f\"{time} - {type}: {amount:,}원\")\n",
        "    print(\"잔고: {:,}원\".format(self.balance))\n",
        "\n",
        "\n",
        "  def withdraw_limit(self):\n",
        "    self._w_limit = int(input(\"1회 출금 한도를 입력하세요, 초기 한도는 500만원 입니다.\"))\n",
        "    print(\"출금한도는 {:,}원 입니다.\".format(self._w_limit))\n",
        "\n",
        "\n"
      ],
      "metadata": {
        "id": "HqwhcgSw1ZKI"
      },
      "execution_count": null,
      "outputs": []
    },
    {
      "cell_type": "markdown",
      "source": [
        "## 파이썬 클래스2"
      ],
      "metadata": {
        "id": "bdslnS3lJiqg"
      }
    },
    {
      "cell_type": "code",
      "source": [
        "class 차:\n",
        "  def __init__(self, 바퀴, 가격):\n",
        "    self.바퀴 = 바퀴\n",
        "    self.가격 = 가격\n",
        "\n",
        "  def 정보(self):\n",
        "    print(\"바퀴수 {}\".format(self.바퀴))\n",
        "    print(\"가격 {}\".format(self.가격))"
      ],
      "metadata": {
        "id": "fHGkkQYxJkMP"
      },
      "execution_count": 22,
      "outputs": []
    },
    {
      "cell_type": "code",
      "source": [
        "car = 차(2, 1000)"
      ],
      "metadata": {
        "id": "3v6xwnxCJxUV"
      },
      "execution_count": 7,
      "outputs": []
    },
    {
      "cell_type": "code",
      "source": [
        "car.바퀴"
      ],
      "metadata": {
        "colab": {
          "base_uri": "https://localhost:8080/"
        },
        "id": "oqQGVQ_9J1oi",
        "outputId": "5e4a2768-c961-4b57-8ea7-b5a1d8e57572"
      },
      "execution_count": 8,
      "outputs": [
        {
          "output_type": "execute_result",
          "data": {
            "text/plain": [
              "2"
            ]
          },
          "metadata": {},
          "execution_count": 8
        }
      ]
    },
    {
      "cell_type": "code",
      "source": [
        "car.가격"
      ],
      "metadata": {
        "colab": {
          "base_uri": "https://localhost:8080/"
        },
        "id": "F1VSIY2AJ9QF",
        "outputId": "fbcc5e1c-7cd5-4736-af81-238f1d75bb50"
      },
      "execution_count": 9,
      "outputs": [
        {
          "output_type": "execute_result",
          "data": {
            "text/plain": [
              "1000"
            ]
          },
          "metadata": {},
          "execution_count": 9
        }
      ]
    },
    {
      "cell_type": "code",
      "source": [
        "class 자전차(차):\n",
        "  pass"
      ],
      "metadata": {
        "id": "LSllb5nZJ_9C"
      },
      "execution_count": 11,
      "outputs": []
    },
    {
      "cell_type": "code",
      "source": [
        "bicycle = 자전차(2, 100)\n",
        "bicycle.가격"
      ],
      "metadata": {
        "colab": {
          "base_uri": "https://localhost:8080/"
        },
        "id": "qoCe7gOsKGfo",
        "outputId": "119f898e-386d-4de8-ba6e-e78d5dd04a73"
      },
      "execution_count": 12,
      "outputs": [
        {
          "output_type": "execute_result",
          "data": {
            "text/plain": [
              "100"
            ]
          },
          "metadata": {},
          "execution_count": 12
        }
      ]
    },
    {
      "cell_type": "code",
      "source": [
        "class 자전차(차):\n",
        "  def __init__(self, 바퀴, 가격, 구동계):\n",
        "    # self.바퀴 = 바퀴\n",
        "    # self.가격 = 가격\n",
        "    super().__init__(바퀴, 가격)\n",
        "    self.구동계 = 구동계\n",
        "\n",
        "  def 정보(self):\n",
        "    # print(\"바퀴수 {}\".format(self.바퀴))\n",
        "    # print(\"가격 {}\".format(self.가격))\n",
        "    super().정보()\n",
        "    print(\"구동계 {}\".format(self.구동계))\n",
        "\n",
        "bicycle = 자전차(2, 100, \"시마노\")\n",
        "bicycle.구동계\n",
        "bicycle.정보()"
      ],
      "metadata": {
        "colab": {
          "base_uri": "https://localhost:8080/"
        },
        "id": "J3QfTKinKNXV",
        "outputId": "8304ceaf-8ece-4301-b84a-59f6d0fe6f08"
      },
      "execution_count": 28,
      "outputs": [
        {
          "output_type": "stream",
          "name": "stdout",
          "text": [
            "바퀴수 2\n",
            "가격 100\n",
            "구동계 시마노\n"
          ]
        }
      ]
    },
    {
      "cell_type": "code",
      "source": [
        "class 자동차(차):\n",
        "  def __init__(self, 바퀴, 가격):\n",
        "    super().__init__(바퀴, 가격)\n",
        "\n",
        "  def 정보(self):\n",
        "    print(\"바퀴수 {}\".format(self.바퀴))\n",
        "    print(\"가격 {}\".format(self.가격))\n",
        "\n",
        "car = 자동차(4, 1000)\n",
        "car.정보()"
      ],
      "metadata": {
        "colab": {
          "base_uri": "https://localhost:8080/"
        },
        "id": "yx6Bqs3vKhNH",
        "outputId": "71a5ddc0-c0fc-43db-f553-f7cf52c34b2c"
      },
      "execution_count": 17,
      "outputs": [
        {
          "output_type": "stream",
          "name": "stdout",
          "text": [
            "바퀴수 4\n",
            "가격 1000\n"
          ]
        }
      ]
    },
    {
      "cell_type": "code",
      "source": [
        "bicycle = 자전차(2, 100, \"시마노\")\n",
        "bicycle.정보()"
      ],
      "metadata": {
        "colab": {
          "base_uri": "https://localhost:8080/"
        },
        "id": "kkczqK-_LJRr",
        "outputId": "d7f4d9d4-7beb-48e2-fd60-58b0eac36ab4"
      },
      "execution_count": 25,
      "outputs": [
        {
          "output_type": "stream",
          "name": "stdout",
          "text": [
            "바퀴수 2\n",
            "가격 100\n"
          ]
        }
      ]
    },
    {
      "cell_type": "code",
      "source": [
        "class 부모:\n",
        "  def 호출(self):\n",
        "    print(\"부모호출\")\n",
        "\n",
        "class 자식(부모):\n",
        "  def 호출(self):\n",
        "    print(\"자식호출\")"
      ],
      "metadata": {
        "id": "cN-GR-frLiy6"
      },
      "execution_count": 29,
      "outputs": []
    },
    {
      "cell_type": "code",
      "source": [
        "나 = 자식()\n",
        "나.호출()"
      ],
      "metadata": {
        "colab": {
          "base_uri": "https://localhost:8080/"
        },
        "id": "pUXNgX-0Mbzb",
        "outputId": "e0d5b27f-0ec8-40d9-f27b-e1d020e21140"
      },
      "execution_count": 30,
      "outputs": [
        {
          "output_type": "stream",
          "name": "stdout",
          "text": [
            "자식호출\n"
          ]
        }
      ]
    },
    {
      "cell_type": "code",
      "source": [
        "class 부모:\n",
        "  def __init__(self):\n",
        "    print(\"부모생성\")\n",
        "\n",
        "class 자식(부모):\n",
        "  def __init__(self):\n",
        "    print(\"자식생성\")"
      ],
      "metadata": {
        "id": "XuydhFfIMgt8"
      },
      "execution_count": 31,
      "outputs": []
    },
    {
      "cell_type": "code",
      "source": [
        "나 = 자식()"
      ],
      "metadata": {
        "colab": {
          "base_uri": "https://localhost:8080/"
        },
        "id": "ch0HtdJIMkDt",
        "outputId": "b2ccd7fe-6393-4214-9e26-1c092797e241"
      },
      "execution_count": 32,
      "outputs": [
        {
          "output_type": "stream",
          "name": "stdout",
          "text": [
            "자식생성\n"
          ]
        }
      ]
    },
    {
      "cell_type": "code",
      "source": [
        "class 부모:\n",
        "  def __init__(self):\n",
        "    print(\"부모생성\")\n",
        "\n",
        "class 자식(부모):\n",
        "  def __init__(self):\n",
        "    print(\"자식생성\")\n",
        "    super().__init__()\n",
        "\n",
        "나 = 자식()"
      ],
      "metadata": {
        "colab": {
          "base_uri": "https://localhost:8080/"
        },
        "id": "rC6tpM94Mlzv",
        "outputId": "47bab8fa-306f-471a-c800-e8f5f6d4dc95"
      },
      "execution_count": 33,
      "outputs": [
        {
          "output_type": "stream",
          "name": "stdout",
          "text": [
            "자식생성\n",
            "부모생성\n"
          ]
        }
      ]
    },
    {
      "cell_type": "markdown",
      "source": [
        "# 파일 입출력과 예외처리"
      ],
      "metadata": {
        "id": "8sonyMSeM1nu"
      }
    },
    {
      "cell_type": "code",
      "source": [
        "pwd"
      ],
      "metadata": {
        "colab": {
          "base_uri": "https://localhost:8080/",
          "height": 35
        },
        "id": "bpX2Aus1MtZ4",
        "outputId": "524aefcd-a849-4666-e757-9712e750811d"
      },
      "execution_count": 34,
      "outputs": [
        {
          "output_type": "execute_result",
          "data": {
            "text/plain": [
              "'/content'"
            ],
            "application/vnd.google.colaboratory.intrinsic+json": {
              "type": "string"
            }
          },
          "metadata": {},
          "execution_count": 34
        }
      ]
    },
    {
      "cell_type": "code",
      "source": [
        "f = open(\"/content/drive/MyDrive/매수종목1.txt\", mode=\"wt\", encoding=\"utf-8\")\n"
      ],
      "metadata": {
        "id": "IP01GvnMNYSd"
      },
      "execution_count": 36,
      "outputs": []
    },
    {
      "cell_type": "code",
      "source": [
        "f.write(\"005930\\n\")\n",
        "f.write(\"005380\\n\")\n",
        "f.write(\"035420\")\n",
        "f.close()"
      ],
      "metadata": {
        "id": "YpIZcHl4NlMb"
      },
      "execution_count": 37,
      "outputs": []
    },
    {
      "cell_type": "code",
      "source": [
        "f = open(\"/content/drive/MyDrive/매수종목2.txt\", mode=\"wt\", encoding=\"utf-8\")\n",
        "f.write(\"005930 삼성전자\\n\")\n",
        "f.write(\"005380 현대차\\n\")\n",
        "f.write(\"035420 NAVER\\n\")\n",
        "f.close()"
      ],
      "metadata": {
        "id": "9lZqAKghPBRS"
      },
      "execution_count": 43,
      "outputs": []
    },
    {
      "cell_type": "code",
      "source": [
        "import csv\n",
        "\n",
        "f = open(\"/content/drive/MyDrive/매수종목.csv\", mode=\"wt\", encoding=\"utf-8\", newline='')\n",
        "writer = csv.writer(f)\n",
        "writer.writerow([\"종목명\", \"종목코드\", \"PER\"])\n",
        "writer.writerow([\"삼성전자\", \"005930\", \"15.59\"])\n",
        "writer.writerow([\"NAVER\", \"035420\", \"55.82\"])\n",
        "f.close()"
      ],
      "metadata": {
        "id": "8pdchmJDPmo0"
      },
      "execution_count": 44,
      "outputs": []
    },
    {
      "cell_type": "code",
      "source": [
        "f = open(\"/content/drive/MyDrive/매수종목1.txt\", encoding=\"utf-8\")\n",
        "lines = f.readlines() # python list\n",
        "\n",
        "codes = []\n",
        "for line in lines:\n",
        "  code = line.strip() #'\\n'\n",
        "  codes.append(code)\n",
        "\n",
        "print(codes)\n",
        "\n",
        "f.close()"
      ],
      "metadata": {
        "colab": {
          "base_uri": "https://localhost:8080/"
        },
        "id": "nWm3iYdRQ0Nk",
        "outputId": "fdc021bc-c7e6-42f9-9cd0-8d3dee7fb142"
      },
      "execution_count": 45,
      "outputs": [
        {
          "output_type": "stream",
          "name": "stdout",
          "text": [
            "['005930', '005380', '035420']\n"
          ]
        }
      ]
    },
    {
      "cell_type": "code",
      "source": [
        "f = open(\"/content/drive/MyDrive/매수종목2.txt\", mode=\"at\", encoding=\"utf-8\")\n",
        "f.write(\"005930 삼성전자\\n\")\n",
        "f.write(\"005380 현대차\\n\")\n",
        "f.write(\"035420 NAVER\\n\")\n",
        "f.close()\n",
        "# (wt)쓰기모드 (at)추가모드"
      ],
      "metadata": {
        "id": "n0j2LRWYR4z8"
      },
      "execution_count": 48,
      "outputs": []
    },
    {
      "cell_type": "code",
      "source": [
        "f = open(\"/content/drive/MyDrive/매수종목2.txt\", encoding=\"utf-8\")\n",
        "lines = f.readlines()\n",
        "\n",
        "data = {}\n",
        "for line in lines:\n",
        "  line = line.strip() #'\\n' 제거\n",
        "  k, v = line.split()\n",
        "  # print(k,v)\n",
        "  data[k] = v\n",
        "\n",
        "print(data)\n",
        "f.close()"
      ],
      "metadata": {
        "colab": {
          "base_uri": "https://localhost:8080/"
        },
        "id": "Max-3iJlR7uE",
        "outputId": "319a5f23-cf4e-4aec-c50b-2e3a19d14541"
      },
      "execution_count": 52,
      "outputs": [
        {
          "output_type": "stream",
          "name": "stdout",
          "text": [
            "005930 삼성전자\n",
            "005380 현대차\n",
            "035420 NAVER\n",
            "005930 삼성전자\n",
            "005380 현대차\n",
            "035420 NAVER\n",
            "005930 삼성전자\n",
            "005380 현대차\n",
            "035420 NAVER\n",
            "{'005930': '삼성전자', '005380': '현대차', '035420': 'NAVER'}\n"
          ]
        }
      ]
    },
    {
      "cell_type": "code",
      "source": [
        "per = [\"10.31\", \"\", \"8.00\"]\n",
        "\n",
        "for i in per:\n",
        "  try:\n",
        "    print(float(i))\n",
        "  except:\n",
        "    print(0)"
      ],
      "metadata": {
        "colab": {
          "base_uri": "https://localhost:8080/"
        },
        "id": "F5JbQArqSjOF",
        "outputId": "44b92f8e-60d2-4334-d7b6-997db879de5f"
      },
      "execution_count": 54,
      "outputs": [
        {
          "output_type": "stream",
          "name": "stdout",
          "text": [
            "10.31\n",
            "0\n",
            "8.0\n"
          ]
        }
      ]
    },
    {
      "cell_type": "code",
      "source": [
        "per = [\"10.31\", \"\", \"8.00\"]\n",
        "new_per = []\n",
        "\n",
        "for i in per:\n",
        "  try:\n",
        "    new_per.append(float(i))\n",
        "  except:\n",
        "    new_per.append(0)\n",
        "\n",
        "print(per)\n",
        "print(new_per)"
      ],
      "metadata": {
        "colab": {
          "base_uri": "https://localhost:8080/"
        },
        "id": "6OAtmI_vTIsT",
        "outputId": "c3079434-c914-416e-8c2f-24e0e2deb3aa"
      },
      "execution_count": 59,
      "outputs": [
        {
          "output_type": "stream",
          "name": "stdout",
          "text": [
            "['10.31', '', '8.00']\n",
            "[10.31, 0, 8.0]\n"
          ]
        }
      ]
    },
    {
      "cell_type": "code",
      "source": [
        "\n",
        "try:\n",
        "  b = 3 / 0\n",
        "\n",
        "except ZeroDivisionError:\n",
        "  print(\"0으로 나누면 안돼요\")"
      ],
      "metadata": {
        "colab": {
          "base_uri": "https://localhost:8080/"
        },
        "id": "Az833tKxTVKh",
        "outputId": "b845a633-a5cb-41f5-f740-a0fdb9f08c1f"
      },
      "execution_count": 61,
      "outputs": [
        {
          "output_type": "stream",
          "name": "stdout",
          "text": [
            "0으로 나누면 안돼요\n"
          ]
        }
      ]
    },
    {
      "cell_type": "code",
      "source": [
        "data = [1, 2, 3]\n",
        "\n",
        "for i in range(5):\n",
        "  try:\n",
        "    print(data[i])\n",
        "  except IndexError as e:\n",
        "    print(e)\n"
      ],
      "metadata": {
        "colab": {
          "base_uri": "https://localhost:8080/"
        },
        "id": "s7sjqXVmT3he",
        "outputId": "a8e820b7-30dd-4bab-fa66-8c5eecf5d9ab"
      },
      "execution_count": 67,
      "outputs": [
        {
          "output_type": "stream",
          "name": "stdout",
          "text": [
            "1\n",
            "2\n",
            "3\n",
            "list index out of range\n",
            "list index out of range\n"
          ]
        }
      ]
    },
    {
      "cell_type": "code",
      "source": [
        "per = [\"10.31\", \"\", \"8.00\"]\n",
        "\n",
        "for i in per:\n",
        "  try:\n",
        "    print(float(i)) # 실행 코드\n",
        "\n",
        "  except:\n",
        "    print(0) # 예외 발생했을 때 수행할 코드\n",
        "\n",
        "  else:\n",
        "    print(\"clean data\") # 예외가 발생하지 않았을 때 수행할 코드\n",
        "\n",
        "  finally:\n",
        "    print(\"변환 완료\") # 예외 발생 여부 상관없이 수행할 코드"
      ],
      "metadata": {
        "colab": {
          "base_uri": "https://localhost:8080/"
        },
        "id": "FPwiHqnMUJ8e",
        "outputId": "d8209141-967c-4164-dac7-6818cc366879"
      },
      "execution_count": 70,
      "outputs": [
        {
          "output_type": "stream",
          "name": "stdout",
          "text": [
            "10.31\n",
            "clean data\n",
            "변환 완료\n",
            "0\n",
            "변환 완료\n",
            "8.0\n",
            "clean data\n",
            "변환 완료\n"
          ]
        }
      ]
    },
    {
      "cell_type": "markdown",
      "source": [],
      "metadata": {
        "id": "YlGGmBOTUfwG"
      }
    }
  ]
}