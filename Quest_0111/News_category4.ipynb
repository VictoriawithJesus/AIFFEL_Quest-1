{
 "cells": [
  {
   "cell_type": "code",
   "execution_count": 1,
   "id": "485ac768",
   "metadata": {},
   "outputs": [],
   "source": [
    "# 크롤러를 만들기 전 필요한 도구들을 임포트\n",
    "import requests\n",
    "import pandas as pd\n",
    "from bs4 import BeautifulSoup\n",
    "\n",
    "# 입력값 : 페이지 수, 카테고리, 날짜\n",
    "def make_urllist(page_num, code, date): \n",
    "  urllist= []\n",
    "  for i in range(1, page_num + 1):\n",
    "    url = 'https://news.naver.com/main/list.nhn?mode=LSD&mid=sec&sid1='+str(code)+'&date='+str(date)+'&page='+str(i)\n",
    "    headers = {'User-Agent': 'Mozilla/5.0 (X11; Linux x86_64) AppleWebKit/537.36 (KHTML, like Gecko) Chrome/54.0.2840.90 Safari/537.36'}\n",
    "    news = requests.get(url, headers=headers)\n",
    "\n",
    "    # BeautifulSoup의 인스턴스 생성합니다. 파서는 html.parser를 사용합니다.\n",
    "    soup = BeautifulSoup(news.content, 'html.parser')\n",
    "\n",
    "    # CASE 1\n",
    "    news_list = soup.select('.newsflash_body .type06_headline li dl')\n",
    "    # CASE 2\n",
    "    news_list.extend(soup.select('.newsflash_body .type06 li dl'))\n",
    "        \n",
    "    # 각 뉴스로부터 a 태그인 <a href ='주소'> 에서 '주소'만\n",
    "    for line in news_list:\n",
    "        urllist.append(line.a.get('href'))\n",
    "  return urllist"
   ]
  },
  {
   "cell_type": "code",
   "execution_count": 2,
   "id": "428090d6",
   "metadata": {},
   "outputs": [],
   "source": [
    "idx2word = {'100' : '정치', '101' : '경제', '102' : '사회', '103' : '생활/문화', '104' : '세계','105' : 'IT/과학'}"
   ]
  },
  {
   "cell_type": "code",
   "execution_count": 8,
   "id": "0628c0b3",
   "metadata": {},
   "outputs": [],
   "source": [
    "from newspaper import Article\n",
    "\n",
    "#- 데이터프레임을 생성하는 함수\n",
    "def make_data(urllist, code):\n",
    "  text_list = []\n",
    "  for url in urllist:\n",
    "    article = Article(url, language='ko')\n",
    "    try:\n",
    "        article.download()\n",
    "    except ArticleException:\n",
    "        continue\n",
    "    article.parse()\n",
    "    text_list.append(article.title)\n",
    "\n",
    "  #- 데이터프레임 'news' 키 아래 파싱한 텍스트를 밸류로 지정\n",
    "  df = pd.DataFrame({'news': text_list})\n",
    "\n",
    "  #- 데이터프레임의 'code' 키 아래 한글 카테고리명\n",
    "  df['code'] = idx2word[str(code)]\n",
    "  return df"
   ]
  },
  {
   "cell_type": "code",
   "execution_count": 9,
   "id": "bc4054b3",
   "metadata": {},
   "outputs": [],
   "source": [
    "code_list = [100, 101, 103, 105]"
   ]
  },
  {
   "cell_type": "code",
   "execution_count": 10,
   "id": "77880eee",
   "metadata": {},
   "outputs": [],
   "source": [
    "# 코드 리스트, 날짜, 페이지 수 입력받는 함수\n",
    "def make_total_data(page_num, code_list, date):\n",
    "  df = None\n",
    "\n",
    "  for code in code_list:\n",
    "    url_list = make_urllist(page_num, code, date)\n",
    "    df_temp = make_data(url_list, code)\n",
    "    print(str(code)+'번 코드에 대한 데이터를 만들었습니다.')\n",
    "\n",
    "    if df is not None:\n",
    "      df = pd.concat([df, df_temp])\n",
    "    else:\n",
    "      df = df_temp\n",
    "\n",
    "  return df"
   ]
  },
  {
   "cell_type": "code",
   "execution_count": 11,
   "id": "931e912e",
   "metadata": {},
   "outputs": [
    {
     "name": "stdout",
     "output_type": "stream",
     "text": [
      "100번 코드에 대한 데이터를 만들었습니다.\n",
      "101번 코드에 대한 데이터를 만들었습니다.\n",
      "103번 코드에 대한 데이터를 만들었습니다.\n",
      "105번 코드에 대한 데이터를 만들었습니다.\n"
     ]
    }
   ],
   "source": [
    "df = make_total_data(50, code_list, 20240103)"
   ]
  },
  {
   "cell_type": "code",
   "execution_count": 12,
   "id": "03c82dc6",
   "metadata": {},
   "outputs": [
    {
     "name": "stdout",
     "output_type": "stream",
     "text": [
      "/aiffel/aiffel/news_crawler/news_data(x50).csv File Saved!\n"
     ]
    }
   ],
   "source": [
    "import os\n",
    "\n",
    "# 데이터프레임 파일을 csv 파일로 저장합니다.\n",
    "# 저장경로는 이번 프로젝트를 위해 만든 폴더로 지정해 주세요.\n",
    "csv_path = os.getenv(\"HOME\") + \"/aiffel/news_crawler/news_data(x50).csv\"\n",
    "df.to_csv(csv_path, index=False)\n",
    "\n",
    "if os.path.exists(csv_path):\n",
    "  print('{} File Saved!'.format(csv_path))"
   ]
  },
  {
   "cell_type": "code",
   "execution_count": 13,
   "id": "f2a0fa15",
   "metadata": {},
   "outputs": [],
   "source": [
    "csv_path = os.getenv(\"HOME\") + \"/aiffel/news_crawler/news_data(x50).csv\"\n",
    "df = pd.read_table(csv_path, sep=',')"
   ]
  },
  {
   "cell_type": "code",
   "execution_count": 14,
   "id": "90cb16d5",
   "metadata": {},
   "outputs": [
    {
     "name": "stdout",
     "output_type": "stream",
     "text": [
      "뉴스 기사의 개수:  4000\n"
     ]
    }
   ],
   "source": [
    "print('뉴스 기사의 개수: ',len(df))"
   ]
  },
  {
   "cell_type": "code",
   "execution_count": 15,
   "id": "ac05ac17",
   "metadata": {},
   "outputs": [
    {
     "data": {
      "text/plain": [
       "0                         이재명 대표 급습 피의자 구속영장 청구일 실질심사종합\n",
       "1                                 라오스서 사륜구동 타던 한국인 명 숨져\n",
       "2                       민주당 국민의힘이재명 테러범 출신 놓고 총선 수싸움 치열\n",
       "3                                   하반기부터 입영대상자 전원 마약검사\n",
       "4                       민주 피습 대책 마련 비상 의원총회한동훈 신년인사회 참석\n",
       "                             ...                       \n",
       "3995    세종텔레콤 광물자원 활용  발행 플랫폼 구축 및 유통 시스템 연계 기술검증 사업 성료\n",
       "3996                         애플 에 세계 위 내주나 시총 억 달러 증발 왜\n",
       "3997                                   중심 삼성현대차 새 기술 공개\n",
       "3998                     애플 주가 새해 첫 거래일 뚝좁혀진 시총 위 와의 격차\n",
       "3999                              테슬라 리비안 니콜라  전기차 일제종합\n",
       "Name: news, Length: 4000, dtype: object"
      ]
     },
     "execution_count": 15,
     "metadata": {},
     "output_type": "execute_result"
    }
   ],
   "source": [
    "df['news'] = df['news'].str.replace(\"[^ㄱ-ㅎㅏ-ㅣ가-힣 ]\",\"\", regex=True)\n",
    "df['news']"
   ]
  },
  {
   "cell_type": "code",
   "execution_count": 16,
   "id": "4200831d",
   "metadata": {},
   "outputs": [
    {
     "name": "stdout",
     "output_type": "stream",
     "text": [
      "news    9\n",
      "code    0\n",
      "dtype: int64\n",
      "news    0\n",
      "code    0\n",
      "dtype: int64\n"
     ]
    }
   ],
   "source": [
    "print(df.isnull().sum())\n",
    "# 있으면 지우기\n",
    "df = df.dropna()\n",
    "print(df.isnull().sum())"
   ]
  },
  {
   "cell_type": "code",
   "execution_count": 17,
   "id": "c71dcc8d",
   "metadata": {},
   "outputs": [
    {
     "name": "stdout",
     "output_type": "stream",
     "text": [
      "뉴스 기사의 개수:  3580\n"
     ]
    }
   ],
   "source": [
    "df.drop_duplicates(subset=['news'], inplace=True)\n",
    "print('뉴스 기사의 개수: ',len(df))"
   ]
  },
  {
   "cell_type": "code",
   "execution_count": 18,
   "id": "63180a2b",
   "metadata": {},
   "outputs": [
    {
     "name": "stdout",
     "output_type": "stream",
     "text": [
      "    code  count\n",
      "0  IT/과학    894\n",
      "1     경제    921\n",
      "2  생활/문화    904\n",
      "3     정치    861\n"
     ]
    },
    {
     "data": {
      "image/png": "[encoded data removed]",
      "text/plain": [
       "<Figure size 432x288 with 1 Axes>"
      ]
     },
     "metadata": {
      "needs_background": "light"
     },
     "output_type": "display_data"
    }
   ],
   "source": [
    "import matplotlib.pyplot as plt\n",
    "plt.rcParams[\"font.family\"] = \"NanumGothic\"\n",
    "\n",
    "df['code'].value_counts().plot(kind = 'bar')\n",
    "print(df.groupby('code').size().reset_index(name = 'count'))"
   ]
  },
  {
   "cell_type": "code",
   "execution_count": 26,
   "id": "96b5470f",
   "metadata": {},
   "outputs": [],
   "source": [
    "from konlpy.tag import Mecab\n",
    "tokenizer = Mecab()"
   ]
  },
  {
   "cell_type": "code",
   "execution_count": 27,
   "id": "9fe8a369",
   "metadata": {},
   "outputs": [],
   "source": [
    "stopwords = [\"으로\", \"은\", \"는\", \"ㄴ\", \"이\", \"가\", \"하\", \"것\", \"ㅁ\", \"ㄹ\",\n",
    "             \"어\", \"등\", \"도\", \"었\", \"겠\", \"만\", \"와\", \"과\", \"의\", \"에\",\n",
    "             \"아니\", \"없\", \"되\", \"로\", \"며\", \"지\", \"언급\", \"위\", \"때문\", \"로\",\n",
    "             \"기\", \"를\", \"찾\", \"곳\", \"어야\", \"김\", \"습니다\", \"다\", \"ㄴ다\", \"만들\"]"
   ]
  },
  {
   "cell_type": "code",
   "execution_count": 28,
   "id": "68feb4ef",
   "metadata": {},
   "outputs": [],
   "source": [
    "def preprocessing(data):\n",
    "    text_data = []\n",
    "\n",
    "    for sentence in data:\n",
    "        try:\n",
    "            temp_data = []\n",
    "            #- 토큰화\n",
    "            temp_data = tokenizer.morphs(sentence)\n",
    "            #- 불용어 제거\n",
    "            temp_data = [word for word in temp_data if word not in stopwords]\n",
    "            text_data.append(temp_data)\n",
    "        except Exception as e:\n",
    "            print(f\"전처리 중 오류 발생: {e}\")\n",
    "            print(f\"오류가 발생한 문장: {sentence}\")\n",
    "\n",
    "    text_data = list(map(' '.join, text_data))\n",
    "\n",
    "    return text_data"
   ]
  },
  {
   "cell_type": "code",
   "execution_count": 29,
   "id": "d477a85c",
   "metadata": {},
   "outputs": [
    {
     "data": {
      "text/plain": [
       "3580"
      ]
     },
     "execution_count": 29,
     "metadata": {},
     "output_type": "execute_result"
    }
   ],
   "source": [
    "len(df['news'])"
   ]
  },
  {
   "cell_type": "code",
   "execution_count": 30,
   "id": "0a5f43b9",
   "metadata": {},
   "outputs": [
    {
     "name": "stdout",
     "output_type": "stream",
     "text": [
      "이재명 대표 급습 피의자 구속영장 청구 일 실질 심사 종합\n"
     ]
    }
   ],
   "source": [
    "text_data = preprocessing(df['news'])\n",
    "print(text_data[0])"
   ]
  },
  {
   "cell_type": "code",
   "execution_count": 31,
   "id": "7aac0e12",
   "metadata": {},
   "outputs": [],
   "source": [
    "from sklearn.model_selection import train_test_split\n",
    "from sklearn.feature_extraction.text import CountVectorizer\n",
    "from sklearn.feature_extraction.text import TfidfTransformer\n",
    "from sklearn.naive_bayes import MultinomialNB\n",
    "from sklearn import metrics"
   ]
  },
  {
   "cell_type": "code",
   "execution_count": 32,
   "id": "46eb7acf",
   "metadata": {},
   "outputs": [],
   "source": [
    "X_train, X_test, y_train, y_test = train_test_split(df['news'].values, df['code'].values, random_state=0)"
   ]
  },
  {
   "cell_type": "code",
   "execution_count": 33,
   "id": "34e0e044",
   "metadata": {},
   "outputs": [
    {
     "name": "stdout",
     "output_type": "stream",
     "text": [
      "훈련용 뉴스 기사의 개수 : 2685\n",
      "테스트용 뉴스 기사의 개수 :  895\n",
      "훈련용 레이블의 개수 :  2685\n",
      "테스트용 레이블의 개수 :  895\n"
     ]
    }
   ],
   "source": [
    "print('훈련용 뉴스 기사의 개수 :', len(X_train))\n",
    "print('테스트용 뉴스 기사의 개수 : ', len(X_test))\n",
    "print('훈련용 레이블의 개수 : ', len(y_train))\n",
    "print('테스트용 레이블의 개수 : ', len(y_test))"
   ]
  },
  {
   "cell_type": "code",
   "execution_count": 34,
   "id": "6c265616",
   "metadata": {},
   "outputs": [
    {
     "data": {
      "text/plain": [
       "3580"
      ]
     },
     "execution_count": 34,
     "metadata": {},
     "output_type": "execute_result"
    }
   ],
   "source": [
    "len(df['news'])"
   ]
  },
  {
   "cell_type": "code",
   "execution_count": 35,
   "id": "974efa47",
   "metadata": {},
   "outputs": [],
   "source": [
    "count_vect = CountVectorizer()\n",
    "X_train_counts = count_vect.fit_transform(X_train)\n",
    "\n",
    "tfidf_transformer = TfidfTransformer()\n",
    "X_train_tfidf = tfidf_transformer.fit_transform(X_train_counts)\n",
    "\n",
    "clf = MultinomialNB().fit(X_train_tfidf, y_train)"
   ]
  },
  {
   "cell_type": "code",
   "execution_count": 36,
   "id": "d55c222d",
   "metadata": {},
   "outputs": [],
   "source": [
    "def tfidf_vectorizer(data):\n",
    "  data_counts = count_vect.transform(data)\n",
    "  data_tfidf = tfidf_transformer.transform(data_counts)\n",
    "  return data_tfidf"
   ]
  },
  {
   "cell_type": "code",
   "execution_count": 37,
   "id": "7a8ec65f",
   "metadata": {},
   "outputs": [
    {
     "name": "stdout",
     "output_type": "stream",
     "text": [
      "              precision    recall  f1-score   support\n",
      "\n",
      "       IT/과학       0.66      0.74      0.70       233\n",
      "          경제       0.67      0.59      0.63       234\n",
      "       생활/문화       0.70      0.70      0.70       206\n",
      "          정치       0.87      0.88      0.87       222\n",
      "\n",
      "    accuracy                           0.73       895\n",
      "   macro avg       0.73      0.73      0.72       895\n",
      "weighted avg       0.72      0.73      0.72       895\n",
      "\n"
     ]
    }
   ],
   "source": [
    "y_pred = clf.predict(tfidf_vectorizer(X_test))\n",
    "print(metrics.classification_report(y_test, y_pred))"
   ]
  },
  {
   "cell_type": "code",
   "execution_count": 43,
   "id": "8b83b18e",
   "metadata": {},
   "outputs": [],
   "source": [
    "# for i in range(100, 200):\n",
    "#     print(tokenizer.morphs(text_data[i]))\n",
    "stopwords = [\"으로\", \"은\", \"는\", \"던\", \"이\", \"가\", \"하\", \"것\", \"수\", \"한\",\n",
    "             \"어\", \"등\", \"도\", \"었\", \"겠\", \"만\", \"와\", \"과\", \"의\", \"에\",\n",
    "             \"아니\", \"없\", \"되\", \"로\", \"며\", \"지\", \"언급\", \"위\", \"때문\", \"로\",\n",
    "             \"기\", \"을\", \"를\", \"찾\", \"곳\", \"어야\", \"김\", \"습니다\", \"다\", \"낳\",\n",
    "             \"만들\", \"러\", \"엥\", \"명\", \"외\", \"또\", \"준비\", \"제시\", \"고\", \"님\", \"한다\"]"
   ]
  },
  {
   "cell_type": "code",
   "execution_count": 44,
   "id": "c7fbc32a",
   "metadata": {},
   "outputs": [],
   "source": [
    "def preprocessing(data):\n",
    "    text_data = []\n",
    "\n",
    "    for sentence in data:\n",
    "        try:\n",
    "            temp_data = []\n",
    "            #- 토큰화\n",
    "            temp_data = tokenizer.morphs(sentence)\n",
    "            #- 불용어 제거\n",
    "            temp_data = [word for word in temp_data if word not in stopwords]\n",
    "            text_data.append(temp_data)\n",
    "        except Exception as e:\n",
    "            print(f\"전처리 중 오류 발생: {e}\")\n",
    "            print(f\"오류가 발생한 문장: {sentence}\")\n",
    "\n",
    "    text_data = list(map(' '.join, text_data))\n",
    "\n",
    "    return text_data"
   ]
  },
  {
   "cell_type": "code",
   "execution_count": 45,
   "id": "8fdd6114",
   "metadata": {},
   "outputs": [
    {
     "name": "stdout",
     "output_type": "stream",
     "text": [
      "훈련용 뉴스 기사의 개수 : 2685\n",
      "테스트용 뉴스 기사의 개수 :  895\n",
      "훈련용 레이블의 개수 :  2685\n",
      "테스트용 레이블의 개수 :  895\n"
     ]
    }
   ],
   "source": [
    "X_train, X_test, y_train, y_test = train_test_split(df['news'].values, df['code'].values, random_state=0)\n",
    "print('훈련용 뉴스 기사의 개수 :', len(X_train))\n",
    "print('테스트용 뉴스 기사의 개수 : ', len(X_test))\n",
    "print('훈련용 레이블의 개수 : ', len(y_train))\n",
    "print('테스트용 레이블의 개수 : ', len(y_test))\n",
    "\n",
    "count_vect = CountVectorizer()\n",
    "X_train_counts = count_vect.fit_transform(X_train)\n",
    "\n",
    "tfidf_transformer = TfidfTransformer()\n",
    "X_train_tfidf = tfidf_transformer.fit_transform(X_train_counts)\n",
    "\n",
    "clf = MultinomialNB().fit(X_train_tfidf, y_train)\n",
    "\n",
    "def tfidf_vectorizer(data):\n",
    "  data_counts = count_vect.transform(data)\n",
    "  data_tfidf = tfidf_transformer.transform(data_counts)\n",
    "  return data_tfidf"
   ]
  },
  {
   "cell_type": "code",
   "execution_count": 46,
   "id": "dd9d8d83",
   "metadata": {},
   "outputs": [
    {
     "name": "stdout",
     "output_type": "stream",
     "text": [
      "              precision    recall  f1-score   support\n",
      "\n",
      "       IT/과학       0.66      0.74      0.70       233\n",
      "          경제       0.67      0.59      0.63       234\n",
      "       생활/문화       0.70      0.70      0.70       206\n",
      "          정치       0.87      0.88      0.87       222\n",
      "\n",
      "    accuracy                           0.73       895\n",
      "   macro avg       0.73      0.73      0.72       895\n",
      "weighted avg       0.72      0.73      0.72       895\n",
      "\n"
     ]
    }
   ],
   "source": [
    "y_pred = clf.predict(tfidf_vectorizer(X_test))\n",
    "print(metrics.classification_report(y_test, y_pred))"
   ]
  },
  {
   "cell_type": "code",
   "execution_count": 47,
   "id": "601c3c63",
   "metadata": {},
   "outputs": [],
   "source": [
    "# 새로운 날짜의 데이터 추가 함수\n",
    "def add_new_date_data(page_num, code_list, new_date):\n",
    "    # 기존 데이터프레임 불러오기\n",
    "    existing_df = pd.read_csv('news_data(x50).csv')  # 현재 파일명\n",
    "\n",
    "    # 새로운 날짜의 데이터 수집 및 추가\n",
    "    for code in code_list:\n",
    "        url_list = make_urllist(page_num, code, new_date)\n",
    "        df_temp = make_data(url_list, code)\n",
    "        print(str(code)+'번 코드에 대한 데이터를 추가했습니다.')\n",
    "\n",
    "        existing_df = pd.concat([existing_df, df_temp])\n",
    "\n",
    "    # 새로운 데이터를 추가한 데이터프레임을 저장\n",
    "    existing_df.to_csv('news_data(x50)_.csv', index=False)"
   ]
  },
  {
   "cell_type": "code",
   "execution_count": 48,
   "id": "f69c0cf3",
   "metadata": {},
   "outputs": [
    {
     "name": "stdout",
     "output_type": "stream",
     "text": [
      "100번 코드에 대한 데이터를 추가했습니다.\n",
      "101번 코드에 대한 데이터를 추가했습니다.\n",
      "103번 코드에 대한 데이터를 추가했습니다.\n",
      "105번 코드에 대한 데이터를 추가했습니다.\n"
     ]
    }
   ],
   "source": [
    "code_list = [100, 101, 103, 105]\n",
    "add_new_date_data(20, code_list, 20240105)"
   ]
  },
  {
   "cell_type": "code",
   "execution_count": 49,
   "id": "59e891ac",
   "metadata": {},
   "outputs": [
    {
     "name": "stdout",
     "output_type": "stream",
     "text": [
      "뉴스 기사의 개수:  3580\n"
     ]
    }
   ],
   "source": [
    "print('뉴스 기사의 개수: ',len(df))"
   ]
  },
  {
   "cell_type": "code",
   "execution_count": 50,
   "id": "db60d471",
   "metadata": {},
   "outputs": [],
   "source": [
    "csv_path = os.getenv(\"HOME\") + \"/aiffel/news_crawler/news_data(x50)_.csv\"\n",
    "df = pd.read_table(csv_path, sep=',')"
   ]
  },
  {
   "cell_type": "code",
   "execution_count": 51,
   "id": "f4cd7aa4",
   "metadata": {},
   "outputs": [
    {
     "name": "stdout",
     "output_type": "stream",
     "text": [
      "뉴스 기사의 개수:  5600\n"
     ]
    }
   ],
   "source": [
    "print('뉴스 기사의 개수: ',len(df))"
   ]
  },
  {
   "cell_type": "code",
   "execution_count": 52,
   "id": "b1c38c0f",
   "metadata": {},
   "outputs": [
    {
     "data": {
      "text/plain": [
       "0          이재명 대표 급습 피의자 구속영장 청구일 실질심사종합\n",
       "1                  라오스서 사륜구동 타던 한국인 명 숨져\n",
       "2        민주당 국민의힘이재명 테러범 출신 놓고 총선 수싸움 치열\n",
       "3                    하반기부터 입영대상자 전원 마약검사\n",
       "4        민주 피습 대책 마련 비상 의원총회한동훈 신년인사회 참석\n",
       "                      ...               \n",
       "5595      한컴 클립소프트 인수디지털 데이터 사업 진출 시장 공략\n",
       "5596    모두가 비트코인 에 예라고 할 때 아니오 외쳤더니엠블록레터\n",
       "5597             게시판 바이오사이언스   등급한 단계 상승\n",
       "5598             동아 스텔라라 바이오시밀러  품목허가 신청\n",
       "5599          비트코인 현물  출시 허가 일에 결정 의 선택은\n",
       "Name: news, Length: 5600, dtype: object"
      ]
     },
     "execution_count": 52,
     "metadata": {},
     "output_type": "execute_result"
    }
   ],
   "source": [
    "df['news'] = df['news'].str.replace(\"[^ㄱ-ㅎㅏ-ㅣ가-힣 ]\",\"\", regex=True)\n",
    "df['news']"
   ]
  },
  {
   "cell_type": "code",
   "execution_count": 53,
   "id": "142b4768",
   "metadata": {},
   "outputs": [
    {
     "name": "stdout",
     "output_type": "stream",
     "text": [
      "news    14\n",
      "code     0\n",
      "dtype: int64\n",
      "news    0\n",
      "code    0\n",
      "dtype: int64\n"
     ]
    }
   ],
   "source": [
    "print(df.isnull().sum())\n",
    "# 있으면 지우기\n",
    "df = df.dropna()\n",
    "print(df.isnull().sum())"
   ]
  },
  {
   "cell_type": "code",
   "execution_count": 54,
   "id": "39704102",
   "metadata": {},
   "outputs": [
    {
     "name": "stdout",
     "output_type": "stream",
     "text": [
      "뉴스 기사의 개수:  5063\n"
     ]
    }
   ],
   "source": [
    "df.drop_duplicates(subset=['news'], inplace=True)\n",
    "print('뉴스 기사의 개수: ',len(df))"
   ]
  },
  {
   "cell_type": "code",
   "execution_count": 55,
   "id": "f5ff2819",
   "metadata": {},
   "outputs": [
    {
     "name": "stdout",
     "output_type": "stream",
     "text": [
      "    code  count\n",
      "0  IT/과학   1264\n",
      "1     경제   1289\n",
      "2  생활/문화   1282\n",
      "3     정치   1228\n"
     ]
    },
    {
     "data": {
      "image/png": "[encoded data removed]",
      "text/plain": [
       "<Figure size 432x288 with 1 Axes>"
      ]
     },
     "metadata": {
      "needs_background": "light"
     },
     "output_type": "display_data"
    }
   ],
   "source": [
    "import matplotlib.pyplot as plt\n",
    "plt.rcParams[\"font.family\"] = \"NanumGothic\"\n",
    "\n",
    "df['code'].value_counts().plot(kind = 'bar')\n",
    "print(df.groupby('code').size().reset_index(name = 'count'))"
   ]
  },
  {
   "cell_type": "code",
   "execution_count": 56,
   "id": "b31c6e14",
   "metadata": {},
   "outputs": [],
   "source": [
    "def preprocessing(data):\n",
    "    text_data = []\n",
    "\n",
    "    for sentence in data:\n",
    "        try:\n",
    "            temp_data = []\n",
    "            #- 토큰화\n",
    "            temp_data = tokenizer.morphs(sentence)\n",
    "            #- 불용어 제거\n",
    "            temp_data = [word for word in temp_data if word not in stopwords]\n",
    "            text_data.append(temp_data)\n",
    "        except Exception as e:\n",
    "            print(f\"전처리 중 오류 발생: {e}\")\n",
    "            print(f\"오류가 발생한 문장: {sentence}\")\n",
    "\n",
    "    text_data = list(map(' '.join, text_data))\n",
    "\n",
    "    return text_data"
   ]
  },
  {
   "cell_type": "code",
   "execution_count": 57,
   "id": "7211e8c1",
   "metadata": {},
   "outputs": [
    {
     "name": "stdout",
     "output_type": "stream",
     "text": [
      "월 총선 앞두 대통령실 국민 소통 여론 조사 예산 증액\n"
     ]
    }
   ],
   "source": [
    "text_data = preprocessing(df['news'])\n",
    "print(text_data[100])"
   ]
  },
  {
   "cell_type": "code",
   "execution_count": 58,
   "id": "965d83f1",
   "metadata": {},
   "outputs": [
    {
     "name": "stdout",
     "output_type": "stream",
     "text": [
      "훈련용 뉴스 기사의 개수 : 3797\n",
      "테스트용 뉴스 기사의 개수 :  1266\n",
      "훈련용 레이블의 개수 :  3797\n",
      "테스트용 레이블의 개수 :  1266\n"
     ]
    }
   ],
   "source": [
    "X_train, X_test, y_train, y_test = train_test_split(df['news'].values, df['code'].values, random_state=0)\n",
    "print('훈련용 뉴스 기사의 개수 :', len(X_train))\n",
    "print('테스트용 뉴스 기사의 개수 : ', len(X_test))\n",
    "print('훈련용 레이블의 개수 : ', len(y_train))\n",
    "print('테스트용 레이블의 개수 : ', len(y_test))"
   ]
  },
  {
   "cell_type": "code",
   "execution_count": 59,
   "id": "75e3c599",
   "metadata": {},
   "outputs": [],
   "source": [
    "count_vect = CountVectorizer()\n",
    "X_train_counts = count_vect.fit_transform(X_train)\n",
    "\n",
    "tfidf_transformer = TfidfTransformer()\n",
    "X_train_tfidf = tfidf_transformer.fit_transform(X_train_counts)\n",
    "\n",
    "clf = MultinomialNB().fit(X_train_tfidf, y_train)"
   ]
  },
  {
   "cell_type": "code",
   "execution_count": 60,
   "id": "8ed219ce",
   "metadata": {},
   "outputs": [],
   "source": [
    "def tfidf_vectorizer(data):\n",
    "  data_counts = count_vect.transform(data)\n",
    "  data_tfidf = tfidf_transformer.transform(data_counts)\n",
    "  return data_tfidf"
   ]
  },
  {
   "cell_type": "code",
   "execution_count": 61,
   "id": "2174080e",
   "metadata": {},
   "outputs": [
    {
     "name": "stdout",
     "output_type": "stream",
     "text": [
      "              precision    recall  f1-score   support\n",
      "\n",
      "       IT/과학       0.64      0.71      0.67       327\n",
      "          경제       0.67      0.56      0.61       333\n",
      "       생활/문화       0.69      0.63      0.66       315\n",
      "          정치       0.80      0.92      0.85       291\n",
      "\n",
      "    accuracy                           0.70      1266\n",
      "   macro avg       0.70      0.70      0.70      1266\n",
      "weighted avg       0.69      0.70      0.69      1266\n",
      "\n"
     ]
    }
   ],
   "source": [
    "y_pred = clf.predict(tfidf_vectorizer(X_test))\n",
    "print(metrics.classification_report(y_test, y_pred))"
   ]
  },
  {
   "cell_type": "code",
   "execution_count": 62,
   "id": "e084636a",
   "metadata": {},
   "outputs": [
    {
     "name": "stdout",
     "output_type": "stream",
     "text": [
      "SVM F1 Score: 0.68876281773275\n"
     ]
    }
   ],
   "source": [
    "from sklearn.svm import SVC\n",
    "from sklearn.feature_extraction.text import CountVectorizer, TfidfTransformer\n",
    "from sklearn.model_selection import train_test_split\n",
    "from sklearn.pipeline import Pipeline\n",
    "from sklearn.metrics import f1_score\n",
    "\n",
    "X_train, X_test, y_train, y_test = train_test_split(df['news'].values, df['code'].values, random_state=0)\n",
    "\n",
    "svm_clf = Pipeline([\n",
    "    ('vect', CountVectorizer()),\n",
    "    ('tfidf', TfidfTransformer()),\n",
    "    ('clf', SVC(kernel='linear'))\n",
    "])\n",
    "\n",
    "svm_clf.fit(X_train, y_train)\n",
    "\n",
    "y_pred_svm = svm_clf.predict(X_test)\n",
    "\n",
    "f1_svm = f1_score(y_test, y_pred_svm, average='weighted')\n",
    "print('SVM F1 Score:', f1_svm)"
   ]
  },
  {
   "cell_type": "code",
   "execution_count": null,
   "id": "fb540d3c",
   "metadata": {},
   "outputs": [],
   "source": []
  }
 ],
 "metadata": {
  "kernelspec": {
   "display_name": "Python 3 (ipykernel)",
   "language": "python",
   "name": "python3"
  },
  "language_info": {
   "codemirror_mode": {
    "name": "ipython",
    "version": 3
   },
   "file_extension": ".py",
   "mimetype": "text/x-python",
   "name": "python",
   "nbconvert_exporter": "python",
   "pygments_lexer": "ipython3",
   "version": "3.9.7"
  }
 },
 "nbformat": 4,
 "nbformat_minor": 5
}
