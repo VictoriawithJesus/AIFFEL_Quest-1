{
 "cells": [
  {
   "cell_type": "code",
   "execution_count": 3,
   "id": "aa58dc16",
   "metadata": {},
   "outputs": [],
   "source": [
    "# 크롤러를 만들기 전 필요한 도구들을 임포트합니다.\n",
    "import requests\n",
    "import pandas as pd\n",
    "from bs4 import BeautifulSoup\n",
    "\n",
    "# 페이지 수, 카테고리, 날짜를 입력값으로 받습니다.\n",
    "def make_urllist(page_num, code, date): \n",
    "  urllist= []\n",
    "  for i in range(1, page_num + 1):\n",
    "    url = 'https://news.naver.com/main/list.nhn?mode=LSD&mid=sec&sid1='+str(code)+'&date='+str(date)+'&page='+str(i)\n",
    "    headers = {'User-Agent': 'Mozilla/5.0 (X11; Linux x86_64) AppleWebKit/537.36 (KHTML, like Gecko) Chrome/54.0.2840.90 Safari/537.36'}\n",
    "    news = requests.get(url, headers=headers)\n",
    "\n",
    "    # BeautifulSoup의 인스턴스 생성합니다. 파서는 html.parser를 사용합니다.\n",
    "    soup = BeautifulSoup(news.content, 'html.parser')\n",
    "\n",
    "    # CASE 1\n",
    "    news_list = soup.select('.newsflash_body .type06_headline li dl')\n",
    "    # CASE 2\n",
    "    news_list.extend(soup.select('.newsflash_body .type06 li dl'))\n",
    "        \n",
    "    # 각 뉴스로부터 a 태그인 <a href ='주소'> 에서 '주소'만을 가져옵니다.\n",
    "    for line in news_list:\n",
    "        urllist.append(line.a.get('href'))\n",
    "  return urllist"
   ]
  },
  {
   "cell_type": "code",
   "execution_count": 4,
   "id": "90d3c075",
   "metadata": {},
   "outputs": [
    {
     "name": "stdout",
     "output_type": "stream",
     "text": [
      "뉴스 기사의 개수:  40\n"
     ]
    }
   ],
   "source": [
    "url_list = make_urllist(2, 105, 20240107)\n",
    "print('뉴스 기사의 개수: ',len(url_list))"
   ]
  },
  {
   "cell_type": "code",
   "execution_count": 5,
   "id": "925d15e9",
   "metadata": {},
   "outputs": [],
   "source": [
    "idx2word = {'100' : '정치', '101' : '경제', '102' : '사회', '103' : '생활/문화', '104' : '세계','105' : 'IT/과학'}"
   ]
  },
  {
   "cell_type": "code",
   "execution_count": 120,
   "id": "60386fb3",
   "metadata": {},
   "outputs": [],
   "source": [
    "from newspaper import Article\n",
    "\n",
    "#- 데이터프레임을 생성하는 함수입니다.\n",
    "def make_data(urllist, code):\n",
    "  text_list = []\n",
    "  for url in urllist:\n",
    "    article = Article(url, language='ko')\n",
    "    try:\n",
    "        article.download()\n",
    "    except ArticleException:\n",
    "        continue\n",
    "    article.parse()\n",
    "    text_list.append(article.title)\n",
    "\n",
    "  #- 데이터프레임의 'news' 키 아래 파싱한 텍스트를 밸류로 붙여줍니다.\n",
    "  df = pd.DataFrame({'news': text_list})\n",
    "\n",
    "  #- 데이터프레임의 'code' 키 아래 한글 카테고리명을 붙여줍니다.\n",
    "  df['code'] = idx2word[str(code)]\n",
    "  return df"
   ]
  },
  {
   "cell_type": "code",
   "execution_count": 7,
   "id": "8dd90e5f",
   "metadata": {},
   "outputs": [
    {
     "data": {
      "text/html": [
       "<div>\n",
       "<style scoped>\n",
       "    .dataframe tbody tr th:only-of-type {\n",
       "        vertical-align: middle;\n",
       "    }\n",
       "\n",
       "    .dataframe tbody tr th {\n",
       "        vertical-align: top;\n",
       "    }\n",
       "\n",
       "    .dataframe thead th {\n",
       "        text-align: right;\n",
       "    }\n",
       "</style>\n",
       "<table border=\"1\" class=\"dataframe\">\n",
       "  <thead>\n",
       "    <tr style=\"text-align: right;\">\n",
       "      <th></th>\n",
       "      <th>news</th>\n",
       "      <th>code</th>\n",
       "    </tr>\n",
       "  </thead>\n",
       "  <tbody>\n",
       "    <tr>\n",
       "      <th>0</th>\n",
       "      <td>‘스나이퍼’ 장성호 “계단 오르기로 짧고 굵게 땀 흘려요”[이헌재의 인생홈런]</td>\n",
       "      <td>IT/과학</td>\n",
       "    </tr>\n",
       "    <tr>\n",
       "      <th>1</th>\n",
       "      <td>거침없는 인도의 우주탐사 저력…태양관측용 위성 목표지점 `안착`</td>\n",
       "      <td>IT/과학</td>\n",
       "    </tr>\n",
       "    <tr>\n",
       "      <th>2</th>\n",
       "      <td>\"CES 2024 참가 한국 기업 772개…세계 3위 수준\"</td>\n",
       "      <td>IT/과학</td>\n",
       "    </tr>\n",
       "    <tr>\n",
       "      <th>3</th>\n",
       "      <td>SK텔레콤, AI 기업 도약 위해 전담조직 만들고 자문단 구성</td>\n",
       "      <td>IT/과학</td>\n",
       "    </tr>\n",
       "    <tr>\n",
       "      <th>4</th>\n",
       "      <td>욱일기에 성범죄자 방송까지...네이버 '치지직' 시범서비스부터 논란</td>\n",
       "      <td>IT/과학</td>\n",
       "    </tr>\n",
       "    <tr>\n",
       "      <th>5</th>\n",
       "      <td>SK하이닉스, 세계 최대 전자전시회 CES 2024 참가</td>\n",
       "      <td>IT/과학</td>\n",
       "    </tr>\n",
       "    <tr>\n",
       "      <th>6</th>\n",
       "      <td>\"얼굴·키·직업·학교까지 고를 수 있다\"…뜨는 '신종 소개팅'</td>\n",
       "      <td>IT/과학</td>\n",
       "    </tr>\n",
       "    <tr>\n",
       "      <th>7</th>\n",
       "      <td>‘실적 대미지’ 게임업계, 구조조정 한파</td>\n",
       "      <td>IT/과학</td>\n",
       "    </tr>\n",
       "    <tr>\n",
       "      <th>8</th>\n",
       "      <td>중국·인도·일본 없으면 큰일난다…원료의약품 자급도 15년 만에 최저치</td>\n",
       "      <td>IT/과학</td>\n",
       "    </tr>\n",
       "    <tr>\n",
       "      <th>9</th>\n",
       "      <td>알쏭달쏭 아이 말, 부모 귀엔 잘 들린다[신경과학 저널클럽]</td>\n",
       "      <td>IT/과학</td>\n",
       "    </tr>\n",
       "  </tbody>\n",
       "</table>\n",
       "</div>"
      ],
      "text/plain": [
       "                                          news   code\n",
       "0  ‘스나이퍼’ 장성호 “계단 오르기로 짧고 굵게 땀 흘려요”[이헌재의 인생홈런]  IT/과학\n",
       "1          거침없는 인도의 우주탐사 저력…태양관측용 위성 목표지점 `안착`  IT/과학\n",
       "2            \"CES 2024 참가 한국 기업 772개…세계 3위 수준\"  IT/과학\n",
       "3           SK텔레콤, AI 기업 도약 위해 전담조직 만들고 자문단 구성  IT/과학\n",
       "4        욱일기에 성범죄자 방송까지...네이버 '치지직' 시범서비스부터 논란  IT/과학\n",
       "5              SK하이닉스, 세계 최대 전자전시회 CES 2024 참가  IT/과학\n",
       "6           \"얼굴·키·직업·학교까지 고를 수 있다\"…뜨는 '신종 소개팅'  IT/과학\n",
       "7                       ‘실적 대미지’ 게임업계, 구조조정 한파  IT/과학\n",
       "8       중국·인도·일본 없으면 큰일난다…원료의약품 자급도 15년 만에 최저치  IT/과학\n",
       "9            알쏭달쏭 아이 말, 부모 귀엔 잘 들린다[신경과학 저널클럽]  IT/과학"
      ]
     },
     "execution_count": 7,
     "metadata": {},
     "output_type": "execute_result"
    }
   ],
   "source": [
    "data = make_data(url_list, 105)\n",
    "#- 상위 10개만 출력해봅니다.\n",
    "data[:10]"
   ]
  },
  {
   "cell_type": "code",
   "execution_count": 8,
   "id": "29cd113f",
   "metadata": {},
   "outputs": [
    {
     "data": {
      "text/plain": [
       "[100, 101, 105]"
      ]
     },
     "execution_count": 8,
     "metadata": {},
     "output_type": "execute_result"
    }
   ],
   "source": [
    "code_list = [100, 101, 105]\n",
    "\n",
    "code_list"
   ]
  },
  {
   "cell_type": "code",
   "execution_count": 9,
   "id": "0cd089e7",
   "metadata": {},
   "outputs": [],
   "source": [
    "# 이 코드 리스트, 날짜, 페이지 수 입력받는 함수\n",
    "def make_total_data(page_num, code_list, date):\n",
    "  df = None\n",
    "\n",
    "  for code in code_list:\n",
    "    url_list = make_urllist(page_num, code, date)\n",
    "    df_temp = make_data(url_list, code)\n",
    "    print(str(code)+'번 코드에 대한 데이터를 만들었습니다.')\n",
    "\n",
    "    if df is not None:\n",
    "      df = pd.concat([df, df_temp])\n",
    "    else:\n",
    "      df = df_temp\n",
    "\n",
    "  return df"
   ]
  },
  {
   "cell_type": "code",
   "execution_count": 10,
   "id": "0f4b3fce",
   "metadata": {},
   "outputs": [
    {
     "name": "stdout",
     "output_type": "stream",
     "text": [
      "100번 코드에 대한 데이터를 만들었습니다.\n",
      "101번 코드에 대한 데이터를 만들었습니다.\n",
      "105번 코드에 대한 데이터를 만들었습니다.\n"
     ]
    }
   ],
   "source": [
    "df = make_total_data(40, code_list, 20240101)"
   ]
  },
  {
   "cell_type": "code",
   "execution_count": null,
   "id": "27ee1fba",
   "metadata": {},
   "outputs": [],
   "source": []
  },
  {
   "cell_type": "code",
   "execution_count": 11,
   "id": "d4c09a94",
   "metadata": {},
   "outputs": [
    {
     "name": "stdout",
     "output_type": "stream",
     "text": [
      "/aiffel/aiffel/news_crawler/news_data(x40).csv File Saved!\n"
     ]
    }
   ],
   "source": [
    "import os\n",
    "\n",
    "# 데이터프레임 파일을 csv 파일로 저장합니다.\n",
    "# 저장경로는 이번 프로젝트를 위해 만든 폴더로 지정해 주세요.\n",
    "csv_path = os.getenv(\"HOME\") + \"/aiffel/news_crawler/news_data(x40).csv\"\n",
    "df.to_csv(csv_path, index=False)\n",
    "\n",
    "if os.path.exists(csv_path):\n",
    "  print('{} File Saved!'.format(csv_path))"
   ]
  },
  {
   "cell_type": "code",
   "execution_count": 12,
   "id": "442daa0a",
   "metadata": {},
   "outputs": [
    {
     "data": {
      "text/html": [
       "<div>\n",
       "<style scoped>\n",
       "    .dataframe tbody tr th:only-of-type {\n",
       "        vertical-align: middle;\n",
       "    }\n",
       "\n",
       "    .dataframe tbody tr th {\n",
       "        vertical-align: top;\n",
       "    }\n",
       "\n",
       "    .dataframe thead th {\n",
       "        text-align: right;\n",
       "    }\n",
       "</style>\n",
       "<table border=\"1\" class=\"dataframe\">\n",
       "  <thead>\n",
       "    <tr style=\"text-align: right;\">\n",
       "      <th></th>\n",
       "      <th>news</th>\n",
       "      <th>code</th>\n",
       "    </tr>\n",
       "  </thead>\n",
       "  <tbody>\n",
       "    <tr>\n",
       "      <th>0</th>\n",
       "      <td>尹, 신년사 통해 “민생 회복의 한 해” 굳은 약속…부동산 등 부각</td>\n",
       "      <td>정치</td>\n",
       "    </tr>\n",
       "    <tr>\n",
       "      <th>1</th>\n",
       "      <td>“군 간부 1인 1실”…달라지는 국방 정책은?</td>\n",
       "      <td>정치</td>\n",
       "    </tr>\n",
       "    <tr>\n",
       "      <th>2</th>\n",
       "      <td>총선 승부처는? 쇄신 공천·수도권 싸움 ‘승패’</td>\n",
       "      <td>정치</td>\n",
       "    </tr>\n",
       "    <tr>\n",
       "      <th>3</th>\n",
       "      <td>강원 정당 새해 인사…‘총선 승리’ 다짐</td>\n",
       "      <td>정치</td>\n",
       "    </tr>\n",
       "    <tr>\n",
       "      <th>4</th>\n",
       "      <td>'김건희 특검' 아닌 '도이치 특검' 표현한 한동훈 속내는?</td>\n",
       "      <td>정치</td>\n",
       "    </tr>\n",
       "  </tbody>\n",
       "</table>\n",
       "</div>"
      ],
      "text/plain": [
       "                                    news code\n",
       "0  尹, 신년사 통해 “민생 회복의 한 해” 굳은 약속…부동산 등 부각   정치\n",
       "1              “군 간부 1인 1실”…달라지는 국방 정책은?   정치\n",
       "2             총선 승부처는? 쇄신 공천·수도권 싸움 ‘승패’   정치\n",
       "3                 강원 정당 새해 인사…‘총선 승리’ 다짐   정치\n",
       "4      '김건희 특검' 아닌 '도이치 특검' 표현한 한동훈 속내는?   정치"
      ]
     },
     "execution_count": 12,
     "metadata": {},
     "output_type": "execute_result"
    }
   ],
   "source": [
    "csv_path = os.getenv(\"HOME\") + \"/aiffel/news_crawler/news_data(x40).csv\"\n",
    "df = pd.read_table(csv_path, sep=',')\n",
    "df.head()"
   ]
  },
  {
   "cell_type": "code",
   "execution_count": 13,
   "id": "b491c396",
   "metadata": {},
   "outputs": [
    {
     "data": {
      "text/plain": [
       "0             신년사 통해 민생 회복의 한 해 굳은 약속부동산 등 부각\n",
       "1                         군 간부 인 실달라지는 국방 정책은\n",
       "2                      총선 승부처는 쇄신 공천수도권 싸움 승패\n",
       "3                         강원 정당 새해 인사총선 승리 다짐\n",
       "4                김건희 특검 아닌 도이치 특검 표현한 한동훈 속내는\n",
       "                        ...                  \n",
       "2203            윤승규 가톨릭대 서울성모병원장 갑진년 목표는 융합성장\n",
       "2204           오유경 식약처장 새해 규제혁신국민소통마약감시 추진 계속\n",
       "2205                  조규홍 복지부 장관 년 국민연금 개혁할 것\n",
       "2206    이화성 가톨릭중앙의료원장 새해 융합 혁신 기반 미래 경쟁력 창출하자\n",
       "2207                   엔씨 올해 내실 다졌다새해는 결실의 시간\n",
       "Name: news, Length: 2208, dtype: object"
      ]
     },
     "execution_count": 13,
     "metadata": {},
     "output_type": "execute_result"
    }
   ],
   "source": [
    "# 정규 표현식을 이용해서 한글 외의 문자는 전부 제거\n",
    "df['news'] = df['news'].str.replace(\"[^ㄱ-ㅎㅏ-ㅣ가-힣 ]\",\"\", regex=True)\n",
    "df['news']"
   ]
  },
  {
   "cell_type": "code",
   "execution_count": 37,
   "id": "3ce5f407",
   "metadata": {},
   "outputs": [
    {
     "name": "stdout",
     "output_type": "stream",
     "text": [
      "news    0\n",
      "code    0\n",
      "dtype: int64\n",
      "news    0\n",
      "code    0\n",
      "dtype: int64\n"
     ]
    }
   ],
   "source": [
    "print(df.isnull().sum())\n",
    "df = df.dropna()\n",
    "print(df.isnull().sum())"
   ]
  },
  {
   "cell_type": "code",
   "execution_count": 38,
   "id": "a4111081",
   "metadata": {},
   "outputs": [
    {
     "name": "stdout",
     "output_type": "stream",
     "text": [
      "뉴스 기사의 개수:  1761\n"
     ]
    }
   ],
   "source": [
    "# 중복된 샘플들을 제거합니다.\n",
    "df.drop_duplicates(subset=['news'], inplace=True)\n",
    "\n",
    "print('뉴스 기사의 개수: ',len(df))"
   ]
  },
  {
   "cell_type": "code",
   "execution_count": 39,
   "id": "85452b17",
   "metadata": {},
   "outputs": [
    {
     "data": {
      "text/plain": [
       "<AxesSubplot:>"
      ]
     },
     "execution_count": 39,
     "metadata": {},
     "output_type": "execute_result"
    },
    {
     "data": {
      "image/png": "[encoded data removed]",
      "text/plain": [
       "<Figure size 432x288 with 1 Axes>"
      ]
     },
     "metadata": {
      "needs_background": "light"
     },
     "output_type": "display_data"
    }
   ],
   "source": [
    "import matplotlib.pyplot as plt\n",
    "plt.rcParams[\"font.family\"] = \"NanumGothic\"\n",
    "\n",
    "df['code'].value_counts().plot(kind = 'bar')"
   ]
  },
  {
   "cell_type": "code",
   "execution_count": 40,
   "id": "4c76831a",
   "metadata": {},
   "outputs": [
    {
     "name": "stdout",
     "output_type": "stream",
     "text": [
      "    code  count\n",
      "0  IT/과학    319\n",
      "1     경제    748\n",
      "2     정치    694\n"
     ]
    }
   ],
   "source": [
    "print(df.groupby('code').size().reset_index(name = 'count'))"
   ]
  },
  {
   "cell_type": "code",
   "execution_count": 20,
   "id": "cf197a9a",
   "metadata": {},
   "outputs": [
    {
     "name": "stdout",
     "output_type": "stream",
     "text": [
      "Collecting PyKomoran\n",
      "  Downloading PyKomoran-0.1.6.post1-py3-none-any.whl (6.4 MB)\n",
      "\u001b[2K     \u001b[90m━━━━━━━━━━━━━━━━━━━━━━━━━━━━━━━━━━━━━━━━\u001b[0m \u001b[32m6.4/6.4 MB\u001b[0m \u001b[31m14.6 MB/s\u001b[0m eta \u001b[36m0:00:00\u001b[0m00:01\u001b[0m00:01\u001b[0m\n",
      "\u001b[?25hCollecting py4j==0.10.9.2\n",
      "  Downloading py4j-0.10.9.2-py2.py3-none-any.whl (198 kB)\n",
      "\u001b[2K     \u001b[90m━━━━━━━━━━━━━━━━━━━━━━━━━━━━━━━━━━━━━━\u001b[0m \u001b[32m198.8/198.8 KB\u001b[0m \u001b[31m23.3 MB/s\u001b[0m eta \u001b[36m0:00:00\u001b[0m\n",
      "\u001b[?25hInstalling collected packages: py4j, PyKomoran\n",
      "  Attempting uninstall: py4j\n",
      "    Found existing installation: py4j 0.10.9\n",
      "    Uninstalling py4j-0.10.9:\n",
      "      Successfully uninstalled py4j-0.10.9\n",
      "\u001b[31mERROR: pip's dependency resolver does not currently take into account all the packages that are installed. This behaviour is the source of the following dependency conflicts.\n",
      "pyspark 3.1.2 requires py4j==0.10.9, but you have py4j 0.10.9.2 which is incompatible.\u001b[0m\u001b[31m\n",
      "\u001b[0mSuccessfully installed PyKomoran-0.1.6.post1 py4j-0.10.9.2\n",
      "\u001b[33mWARNING: Running pip as the 'root' user can result in broken permissions and conflicting behaviour with the system package manager. It is recommended to use a virtual environment instead: https://pip.pypa.io/warnings/venv\u001b[0m\u001b[33m\n",
      "\u001b[0m"
     ]
    }
   ],
   "source": [
    "!pip install PyKomoran"
   ]
  },
  {
   "cell_type": "code",
   "execution_count": 22,
   "id": "8d9fc78f",
   "metadata": {},
   "outputs": [],
   "source": [
    "from PyKomoran import *"
   ]
  },
  {
   "cell_type": "code",
   "execution_count": 26,
   "id": "929eb7fb",
   "metadata": {},
   "outputs": [],
   "source": [
    "from konlpy.tag import Komoran"
   ]
  },
  {
   "cell_type": "code",
   "execution_count": 27,
   "id": "3357e753",
   "metadata": {},
   "outputs": [
    {
     "name": "stdout",
     "output_type": "stream",
     "text": [
      "KOMORAN/SL 은/JX 한국어/NNP 형태소/NNP 분석기/NNG 이/VCP ㅂ니다/EF ./SF\n"
     ]
    }
   ],
   "source": [
    "from PyKomoran import *\n",
    "komoran = Komoran(\"EXP\")\n",
    "print(komoran.get_plain_text(\"KOMORAN은 한국어 형태소 분석기입니다.\"))"
   ]
  },
  {
   "cell_type": "code",
   "execution_count": 30,
   "id": "ff0b4a8e",
   "metadata": {},
   "outputs": [
    {
     "name": "stdout",
     "output_type": "stream",
     "text": [
      "['공부', '를', '하', '면', '하', 'ㄹ수록', '모르', '는', '것', '이', '많', '다는', '것', '을', '알', '게', '되', 'ㅂ니다', '.']\n",
      "['대학', '통계학', '이산', '이산수학', '수학', '등']\n",
      "[('다', 'MAG'), ('까먹', 'VV'), ('어', 'ECD'), ('버리', 'VXV'), ('었', 'EPT'), ('네요', 'EFN'), ('?', 'SF'), ('ㅋㅋ', 'EMO')]\n",
      "['그래도 계속 공부합니다.', '재밌으니까!']\n"
     ]
    }
   ],
   "source": [
    "from konlpy.tag import Kkma\n",
    "kkma = Kkma()\n",
    "print(kkma.morphs(u'공부를 하면할수록 모르는게 많다는 것을 알게 됩니다.'))\n",
    "print(kkma.nouns(u'대학에서 DB, 통계학, 이산수학 등을 배웠지만...'))\n",
    "print(kkma.pos(u'다 까먹어버렸네요?ㅋㅋ'))\n",
    "print(kkma.sentences(u'그래도 계속 공부합니다. 재밌으니까!'))"
   ]
  },
  {
   "cell_type": "code",
   "execution_count": 163,
   "id": "6f58b12e",
   "metadata": {},
   "outputs": [
    {
     "name": "stdout",
     "output_type": "stream",
     "text": [
      "['밤', '에', '귀가', '하', '던', '여성', '에게', '범죄', '를', '시도', '한', '대', '남성', '이', '구속', '됐', '다', '서울', '제주', '경찰서', '는', '상해', '혐의', '로', '씨', '를', '구속', '해', '수사', '하', '고', '있', '다고', '일', '밝혔', '다', '씨', '는', '지난달', '일', '피해', '여성', '을', '인근', '지하철', '역', '에서부터', '따라가', '폭행', '을', '시도', '하', '려다가', '도망간', '혐의', '를', '받', '는다', '피해', '여성', '이', '저항', '하', '자', '놀란', '씨', '는', '도망갔으며', '신고', '를', '받', '고', '주변', '을', '수색', '하', '던', '경찰', '에', '체포', '됐', '다', '피해', '여성', '은', '이', '과정', '에서', '경미', '한', '부상', '을', '입', '은', '것', '으로', '전해졌', '다']\n"
     ]
    }
   ],
   "source": [
    "from konlpy.tag import Mecab\n",
    "\n",
    "tokenizer = Mecab()\n",
    "kor_text = '밤에 귀가하던 여성에게 범죄를 시도한 대 남성이 구속됐다서울 제주경찰서는 \\\n",
    "            상해 혐의로 씨를 구속해 수사하고 있다고 일 밝혔다씨는 지난달 일 피해 여성을 \\\n",
    "            인근 지하철 역에서부터 따라가 폭행을 시도하려다가 도망간 혐의를 받는다피해 \\\n",
    "            여성이 저항하자 놀란 씨는 도망갔으며 신고를 받고 주변을 수색하던 경찰에 \\\n",
    "            체포됐다피해 여성은 이 과정에서 경미한 부상을 입은 것으로 전해졌다'\n",
    "\n",
    "#- 형태소 분석, 즉 토큰화(tokenization)를 합니다.\n",
    "print(tokenizer.morphs(kor_text))"
   ]
  },
  {
   "cell_type": "code",
   "execution_count": 64,
   "id": "8348995b",
   "metadata": {},
   "outputs": [],
   "source": [
    "stopwords = [\"에\", \"하\", \"더\", \"ㄴ\", \"에게\", \"를\", \"하\", \"ㄴ\", \"대\", \"이\", \"되\", \"었\", \"다\", \"는\", \"로\", \"씨\", \"를\", \"하\", \"어\", \"하\", \"고\", \"있\", \"다고\", \"일\", \"었\", \"다\", \"씨\", \"는\", \"지난달\", \"일\", \"을\", \"역\", \"에서\", \"부터\", \"하\", \"려\", \"아\", \"ㄴ\", \"를\", \"받\", \"는\", \"다\", \"이\", \"하\", \"자\", \"ㄴ\", \"씨\", \"는\", \"었\", \"으며\", \"를\", \"받\", \"고\", \"을\", \"하\", \"더\", \"ㄴ\", \"에\", \"되\", \"었\", \"다\", \"은\", \"이\", \"과정\", \"에서\", \"하\", \"ㄴ\", \"을\", \"입\", \"은\", \"것\", \"으로\", \"전하\", \"어\", \"지\", \"었\", \"다\"]"
   ]
  },
  {
   "cell_type": "code",
   "execution_count": 79,
   "id": "3560d587",
   "metadata": {},
   "outputs": [],
   "source": [
    "def preprocessing(data):\n",
    "    text_data = []\n",
    "\n",
    "    for sentence in data:\n",
    "        try:\n",
    "            temp_data = []\n",
    "            #- 토큰화\n",
    "            temp_data = tokenizer.morphs(sentence)\n",
    "            #- 불용어 제거\n",
    "            temp_data = [word for word in temp_data if word not in stopwords]\n",
    "            text_data.append(temp_data)\n",
    "        except Exception as e:\n",
    "            print(f\"전처리 중 오류 발생: {e}\")\n",
    "            print(f\"오류가 발생한 문장: {sentence}\")\n",
    "\n",
    "    text_data = list(map(' '.join, text_data))\n",
    "\n",
    "    return text_data\n"
   ]
  },
  {
   "cell_type": "code",
   "execution_count": 77,
   "id": "cc0d8dc5",
   "metadata": {},
   "outputs": [],
   "source": [
    "def preprocessing(data):\n",
    "    text_data = []\n",
    "\n",
    "    for i, sentence in enumerate(data):\n",
    "        try:\n",
    "            temp_data = []\n",
    "            #- 토큰화\n",
    "            tokenized_sentence = tokenizer.morphs(sentence)\n",
    "            print(f\"{i + 1}번째 문장: {tokenized_sentence}\")\n",
    "            #- 불용어 제거\n",
    "            temp_data = [word for word in tokenized_sentence if word not in stopwords]\n",
    "            text_data.append(temp_data)\n",
    "        except Exception as e:\n",
    "            print(f\"전처리 중 오류 발생: {e}\")\n",
    "            print(f\"오류가 발생한 문장: {sentence}\")\n",
    "            print(f\"이전 문장: {data[i-1] if i > 0 else '없음'}\")\n",
    "\n",
    "    text_data = list(map(' '.join, text_data))\n",
    "\n",
    "    return text_data\n"
   ]
  },
  {
   "cell_type": "code",
   "execution_count": 75,
   "id": "543c1264",
   "metadata": {},
   "outputs": [
    {
     "data": {
      "text/plain": [
       "' 신년사 통해 민생 회복의 한 해 굳은 약속부동산 등 부각'"
      ]
     },
     "execution_count": 75,
     "metadata": {},
     "output_type": "execute_result"
    }
   ],
   "source": [
    "df['news'][0]"
   ]
  },
  {
   "cell_type": "code",
   "execution_count": 71,
   "id": "d4244c4b",
   "metadata": {},
   "outputs": [
    {
     "name": "stdout",
     "output_type": "stream",
     "text": [
      "Empty DataFrame\n",
      "Columns: [news, code]\n",
      "Index: []\n"
     ]
    }
   ],
   "source": [
    "print(df[df['news'].isnull() | (df['news'] == '')])"
   ]
  },
  {
   "cell_type": "code",
   "execution_count": 78,
   "id": "262875f7",
   "metadata": {},
   "outputs": [
    {
     "name": "stdout",
     "output_type": "stream",
     "text": [
      "1번째 문장: ['신년사', '통해', '민생', '회복', '의', '한', '해', '굳', '은', '약속', '부동산', '등', '부각']\n",
      "2번째 문장: ['군', '간부', '이', 'ㄴ', '실', '달라지', '는', '국방', '정책', '은']\n",
      "3번째 문장: ['총선', '승부처', '는', '쇄신', '공천', '수도권', '싸움', '승패']\n",
      "4번째 문장: ['강원', '정당', '새해', '인사', '총선', '승리', '다짐']\n",
      "5번째 문장: ['김', '건희', '특검', '아니', 'ㄴ', '도이치', '특검', '표현', '하', 'ㄴ', '한동', '훈', '속내', '는']\n",
      "6번째 문장: ['출연', '대', '총선', '여야', '총선', '행보', '본격화']\n",
      "7번째 문장: ['이', '낙', '연', '국민', '께', '양자택일', '아니', 'ㄴ', '새', '롭', 'ㄴ', '선택지', '드리', '어야']\n",
      "8번째 문장: ['여야', '총선', '앞', '으로', '의회', '권력', '탈환', '수성', '사활']\n",
      "9번째 문장: ['김', '현기', '서울시', '의회', '의장', '년', '제야', '의', '종', '타종']\n",
      "10번째 문장: ['윤', '대통령', '행동', '하', '는', '정부', '되', 'ㄹ', '것', '국민', '민생', '강조']\n",
      "11번째 문장: ['총선', '여야', '지지율', '초', '접전', '하', 'ㄴ', '동', '훈', '이재명', '대권', '경쟁', '도', '치열']\n",
      "12번째 문장: ['김', '정', '은', '딸', '주', '애', '와', '신년', '경축', '공연', '관람', '당', '간부', '연회']\n",
      "13번째 문장: ['총선', '일', '앞', '으로', '총선', '주요', '일정', '은']\n",
      "14번째 문장: ['이', '준석', '신당', '월', '중순', '창당', '모든', '것', '바로', '잡', '을', '방법', '정치', '세력', '교체', '에', '있', '어']\n",
      "15번째 문장: ['산업', '은행', '부행장', '에', '삼척', '출신', '스', '어', '동호', '선임']\n",
      "16번째 문장: ['경기도', '남양주', '부시장', '에', '동해', '출신', '홍지', '선', '임명']\n",
      "17번째 문장: ['김진태', '지사', '금병', '산', '정상', '에서', '새해', '첫', '일출', '과', '함께', '새해', '인사']\n",
      "18번째 문장: ['기재', '부', '재정', '성과', '심의관', '에', '김', '명중', '전', '경제부', '지사', '임명']\n",
      "19번째 문장: ['신년사', '강원', '특별법', '차', '개정', '심혈', '도민', '과', '함께', '하', '는', '의정', '최선']\n",
      "20번째 문장: ['신년', '사과', '감하', 'ㄴ', '정부', '지원', '이끌', '어', '내', '강원', '특별', '자치', '도', '내실', '다지', 'ㄹ', '것']\n",
      "21번째 문장: ['신년사', '인구', '만', '조', '원', '미래', '글로벌', '도시', '도약', '약속']\n",
      "22번째 문장: ['김진태', '년', '내실', '다지', '어야', '진정', '하', 'ㄴ', '특별', '자치', '도', '위상', '세우', '겠', '다']\n",
      "23번째 문장: ['시민', '이', '체감', '하', '는', '크', 'ㄴ', '변화', '만들', 'ㄹ', '것', '박', '승원', '광명', '시장', '신년사']\n",
      "24번째 문장: ['해일', '북', '일본', '강진', '으로', '함', '경북', '도', '해안', '에', '특급', '경보', '발령']\n",
      "25번째 문장: ['크', 'ㄴ', '싸움', '벌이', 'ㄹ', '것', '이', '낙', '연', '이재명', '과', '만남', '이틀', '만', '에', '창당', '선언']\n",
      "26번째 문장: ['서울시', '의회', '김', '현기', '의장', '현', '충원', '참배', '로', '갑', '진년', '새해', '첫', '일정', '시작']\n",
      "27번째 문장: ['한동', '훈', '오', '는', '일', '대', '하', 'ㄴ', '노인회', '방문', '밀', 'ㄴ', '경우', '노인', '비하', '발언', '논란', '사과']\n",
      "28번째 문장: ['새해', '첫날', '포', '사격', '훈련', '신원', '식', '도발', '은', '파멸', '전주곡']\n",
      "29번째 문장: ['한국', '입국', '거부', '되', '었', '더', 'ㄴ', '극우', '각료', '야', '스', '쿠', '니', '신사', '참배', '외교부', '깊', '은', '실망']\n",
      "30번째 문장: ['신년사', '올', '상반기', '한미', '확장', '억제', '완성', '하', '어', '북', '핵', '봉쇄']\n",
      "31번째 문장: ['갤럽', '한동', '훈', '영남', '강세', '이재명', '호남', '앞서']\n",
      "32번째 문장: ['김', '정', '은', '딸', '주', '애', '에게', '공개', '석상', '서', '보', 'ㄹ', '뽀뽀', '가운데', '입장', '도', '양보']\n",
      "33번째 문장: ['국방부', '독도', '분쟁', '지역', '일본', '쓰나미', '주의보', '에', '독도', '자국', '영토', '표기']\n",
      "34번째 문장: ['핵', '증강', '위성', '도발', '예고', '상반기', '한미', '확장', '억제', '완성']\n",
      "35번째 문장: ['김', '정', '은', '언제', '든', '무력', '충돌', '가능성', '딸', '주', '애', '와', '공연', '관람']\n",
      "36번째 문장: ['포토', '성북구', '해맞이', '행사']\n",
      "37번째 문장: ['포토', '신', '촌', '카운트다운', '콘서트']\n",
      "38번째 문장: ['이', '철', '규', '이양', '수권', '성동', '의정', '보고', '회', '잇따르', '아']\n",
      "39번째 문장: ['포토', '강북구', '해맞이', '행사']\n",
      "40번째 문장: ['나', '아', '경원', '살', '아', '있', '는', '여당', '되', '어야', '한동', '훈', '과', '신뢰', '가', '당', '정', '쇄신', '자산']\n",
      "41번째 문장: ['딸', '주', '애', '에', '보', 'ㄹ', '뽀뽀', '하', 'ㄴ', '김', '정', '은', '팔짱', '끼', '고', '애정', '과시']\n",
      "42번째 문장: ['영천', '제', '탄약', '창', '일대', '군사', '보호', '구역', '해제']\n",
      "43번째 문장: ['이재명', '더', '단합', '하', 'ㄹ', '것', '이', '낙', '열', 'ㄴ', '기득권', '세력', '과', '한판', '승부']\n",
      "44번째 문장: ['대통령', '실', '대통령', '파리', '기업', '총수', '술자리', '비용', '비공개']\n",
      "45번째 문장: ['한동', '훈', '동료', '시민', '과', '미래', '만들', 'ㄹ', '것', '이', '준석', '창당', '속도']\n",
      "46번째 문장: ['총선', '언급', '없', '었', '지만', '이념', '패거리', '카르텔', '타파']\n",
      "47번째 문장: ['민생', '만', '벌', 'ㄴ', '외치', 'ㄴ', '행동', '하', '는', '정부', '따뜻', '하', 'ㄴ', '정부']\n",
      "48번째 문장: ['민주', '패거리', '카르텔', '발언', '에', '척결', '하', '어야', '하', 'ㄹ', '건', '치', 'ㄴ', '윤', '카르텔']\n",
      "49번째 문장: ['한동', '훈', '국민', '의', '힘', '비대', '위원장', '내일', '대전', '방문']\n",
      "50번째 문장: ['더불', '어', '민주당', '지도부', '봉', '하', '마을', '노', '전', '대통령', '묘역', '참배']\n",
      "51번째 문장: ['대', '총선', '충청권', '표', '심', '향배', '관심']\n",
      "52번째 문장: ['박', '완수', '지사', '박종훈', '교육감', '등', '단체장', '충혼탑', '참배']\n",
      "53번째 문장: ['월', '총선', '때', '전', '북', '곳', '도의원', '재', '보궐', '선거']\n",
      "54번째 문장: ['여야', '정치권', '내일', '부산', '서', '총선', '승리', '다짐']\n",
      "55번째 문장: ['현존', '최강', '아파치', '헬기', '직접', '타', '아', '보', '니', '암흑', '의', '도살자']\n",
      "56번째 문장: ['김', '정은', '육성', '보도', '하', '며', '배경', '에', '한미', '일', '정상', '회의', '사진', '언제', '든', '무력', '충돌']\n",
      "57번째 문장: ['광주', '총선', '여론', '조사', '내일', '부터', '공개']\n",
      "58번째 문장: ['달빛', '철도법', '군', '공항', '이전', '하', '어', '넘기', 'ㄴ', '숙제', '들']\n",
      "59번째 문장: ['자기', '네', '땅', '도', '아니', 'ㄴ데', '독도', '에', '해일', '주의보', '내리', 'ㄴ', '일본']\n",
      "60번째 문장: ['경기도', '체육인', '농어민', '기후', '행동', '아동', '돌', '봄', '기회', '소득', '신설']\n",
      "61번째 문장: ['도발', '에', '강력', '응징', '새해', '첫날', '포', '사격', '훈련']\n",
      "62번째 문장: ['남조선', '평정', '선언', '하', 'ㄴ', '김', '정은', '시진', '핑', '괄', '는', '축전', '조', '중', '친선', '의', '해']\n",
      "63번째 문장: ['조국', '대통령', '실', '학', '폭', '터지', 'ㄴ', '날', '공교', '롭', '게', '이', '선', '균', '수사', '착수']\n",
      "64번째 문장: ['뉴스', '하이', '킥', '돈', '앞', '에서', '어떻', '게', '살', 'ㄹ', '것', '이', 'ㄴ가', '황금', '종이', '조정래', '작가', '가', '던지', '는', '질문']\n",
      "65번째 문장: ['년', '우리', '의', '정치', '경제', '사회', '는', '여론', '조사']\n",
      "66번째 문장: ['월', '총선', '정부', '견제', '론', '정부', '지원', '론', '에', '앞서', '코리아', '리', '서치', '입소스']\n",
      "67번째 문장: ['희망', '대', '총선', '민주당', '텃밭', '에', '제', '지대', '신당', '바람', '이', 'ㄹ까']\n",
      "68번째 문장: ['한국', '올해', '부터', '년', '간', '유엔', '안보리', '비상임', '이사국']\n",
      "69번째 문장: ['김', '정은', '지시', '따르', '아', '북', '외무상', '최', '선희', '주도', '로', '대남', '사업', '기구', '정리', '착수']\n",
      "70번째 문장: ['이', '낙', '연', '행주', '산성', '서', '크', 'ㄴ', '싸움', '벌이', 'ㄹ', '것', '이', '준석', '겨냥', '뜻대로', '안되', '면', '카르텔', '지목']\n",
      "71번째 문장: ['김', '정', '은', '언제', '든', '무력', '충돌', '생기', 'ㄹ', '수', '있', '어']\n",
      "72번째 문장: ['유', '승', '민', '이대', '로', '가', '면', '나라', '망해', '권력', '의', '졸개', '노릇', '하', '며', '대통령', '에', '찍소리', '못하', '어']\n",
      "73번째 문장: ['차기', '대선', '주자', '이재명', '한동', '훈', '은', '이재명', '은', '한동', '훈']\n",
      "74번째 문장: ['이재명', '참배', '더', '단합', '하', 'ㄹ', '것', '신년', '회', '불참', '으로', '기류', '바뀌', '어']\n",
      "75번째 문장: ['한동', '훈', '연평도', '포격', '때', '쉬', 'ㄹ', '곳', '제공', '하', 'ㄴ', '찜질', '방', '사장님', '처럼', '동료', '의식', '실천']\n",
      "76번째 문장: ['정의', '당', '녹색', '당', '낡', '은', '정치', '구도', '바꾸', '어야']\n",
      "77번째 문장: ['총선', '모드', '국민', '의', '힘', '한동', '훈', '표', '정치', '구체화']\n",
      "78번째 문장: ['딸', '주', '애', '와', '친밀감', '과시', '김', '정', '은', '대남', '기구', '정리', '착수']\n",
      "79번째 문장: ['개혁', '보수', '신당', '계획', '공유', '하', 'ㄴ', '이', '준석', '나', '를', '빼', 'ㄴ', '여당', '도로', '자유', '한국', '당']\n",
      "80번째 문장: ['이권', '이념', '기반', '패거리', '카르텔', '반드시', '타파이', '달', '신년', '기자', '회견', '검토']\n",
      "81번째 문장: ['금', '갈', '는', '민주당', '이재명', '정통성', '으로', '돌파구']\n",
      "82번째 문장: ['대', '무당', '층', '총선', '승패', '가르', '나', '남성', '이탈', '크', 'ㄴ', '폭', '증가']\n",
      "83번째 문장: ['총선', '설명서', '스', '어', '반장', '김', '반장', '조사', '의', '착시']\n",
      "84번째 문장: ['총선', '설명서', '스', '어', '반장', '김', '반장', '떠나가', 'ㄴ', '어디', '로']\n",
      "85번째 문장: ['김', '정은', '시진', '핑', '과', '축전', '교환', '년', '은', '조', '중', '친선', '의', '해']\n",
      "86번째 문장: ['김', '정은', '통일', '불가', '구체화', '대남', '사업', '기구', '정리', '착수']\n",
      "87번째 문장: ['신년사', '경기도', '의회', '민주', '남', '종섭', '대표', '의원', '도민', '과', '함께', '농부', '의', '마음', '으로', '희망', '의', '밭', '을', '일구', '어', '나가', 'ㄹ', '것']\n",
      "88번째 문장: ['총선', '정부', '견제', '론', '높', '지만', '민주당', '지지율', '로', '안', '이어지', '어']\n",
      "89번째 문장: ['세대', '퇴진', '론', '찬성', '김', '건희', '특검', '거부', '말', '아야']\n",
      "90번째 문장: ['이별', '예감', '속', '봉', '하', '찾', '은', '이재명', '단합', '이', '낙', '연', '은', '새', '선택지']\n",
      "91번째 문장: ['한동', '훈', '동료', '의식', '실천', '하', '는', '당', '만들', 'ㄹ', '것', '이', '준석', '이달', '중순', '창당', '마무리']\n",
      "92번째 문장: ['차기', '대선', '양자', '대결', '이재명', '한동', '훈', '서울', '인천', '경기', '우세']\n",
      "93번째 문장: ['구름', '뚫', '고', '나오', 'ㄴ', '새해', '한라산', '백록담', '장엄', '하', 'ㄴ', '일출']\n",
      "94번째 문장: ['이', '준석', '개혁', '신당', '이달', '중순', '창당', '여', '문병', '호', '합류', '종합']\n",
      "95번째 문장: ['함경북도', '청진', '에', '쓰나미', '특급', '경보', '발령']\n",
      "96번째 문장: ['내일', '총선', '이', '면', '심판', '론']\n",
      "97번째 문장: ['잘하', 'ㄴ다', '중도', '층', '지지율', '하락폭', '크', '어']\n",
      "98번째 문장: ['김', '건희', '특검', '거부권', '반대', '총선', '이후', '특검']\n",
      "99번째 문장: ['국', '힘', '민주', '총선', '지지', '도', '막상', '막하']\n",
      "100번째 문장: ['이', '낙', '연', '국민', '께', '양자택일', '아니', 'ㄴ', '새', '롭', 'ㄴ', '선택지', '드리', '어야', '신당', '공식화']\n",
      "101번째 문장: ['윤', '대통령', '패거리', '카르텔', '타파', '새해', '국정', '도', '다시', '이념', '앞', '으로']\n",
      "102번째 문장: ['미이', 'ㄹ', '다음', '중국', '과', '협력', '순진', '하', 'ㄴ', '발상', '신년', '인터뷰']\n",
      "103번째 문장: ['독도', '는', '일본', '땅', '우기', '는', '쓰나미', '주의보', '대상', '에', '도', '독', '도', '포함']\n",
      "104번째 문장: ['광복회', '이완용', '두둔', '도', '독도', '파문', '신원', '식', '국방', '친', '일', '인식', '때문']\n",
      "105번째 문장: ['이념', '다시', '꺼내', '든', '윤', '대통령', '패거리', '카르텔', '반드시', '타파']\n",
      "106번째 문장: ['윤', '대통령', '신년사', '카르텔', '타파', '행동', '하', '는', '정부', '되', 'ㄹ', '것']\n",
      "107번째 문장: ['활발', '하', 'ㄴ', '제', '지대', '움직임', '이', '준석', '세력', '교체', '이', '낙', '연', '크', 'ㄴ', '싸움']\n",
      "108번째 문장: ['남북', '적대', '관계', '규정', '하', '더니', '김', '정', '은', '군', '지휘관', '소집', '하', '어', '내리', 'ㄴ', '지시']\n",
      "109번째 문장: ['차기', '대통령', '선호도', '이재명', '한동', '훈', '코리아', '리서치']\n",
      "110번째 문장: ['민주당', '총선', '에서', '표로', '정권', '심판', '하', '겠', '다', '정통성', '강조']\n",
      "111번째 문장: ['북한', '함', '북', '해안', '에', '지진', '해일', '특급', '경보', '발령']\n",
      "112번째 문장: ['한동', '훈', '오', '는', '일', '대', '하', 'ㄴ', '노인회', '방문', '노', '이', 'ㄴ', '폄하', '논란', '직접', '사과']\n",
      "113번째 문장: ['이', '준석', '이', '낙', '연과', '연대', '설', '에', '상호', '보완', '적', '결합', '하', 'ㄹ', '수', '있', '는', '대상']\n",
      "114번째 문장: ['한동', '훈', '일', '대', '하', 'ㄴ', '노인회', '방문', '민', '경우', '노인', '비하', '발언', '재차', '사과']\n",
      "115번째 문장: ['신년사', '경기도', '의회', '국', '힘', '김정호', '대표', '의원', '강구', '연월', '위', '하', '어', '불', '철', '주야', '달리', '겠', '다']\n",
      "116번째 문장: ['국민', '의', '힘', '정교', '하', 'ㄴ', '정책', '준비', '하', 'ㄹ', '것', '이', '기', '는', '공천', '이', '어야']\n",
      "117번째 문장: ['외교부', '현재', '까지', '일본', '지진', '교민', '피해', '접수', '없', '어']\n",
      "118번째 문장: ['국정', '안정', '국정', '견제', '국민', '의', '힘', '더불', '어', '민주당']\n",
      "119번째 문장: ['정부', '견제', '론', '우세', '하', '지만', '야당', '에', '투표', '쏠리', 'ㅁ', '은', '없', '었', '다']\n",
      "120번째 문장: ['한동', '훈', '대', '하', 'ㄴ', '노인회', '방문', '하', 'ㄴ다', '노인', '비하', '발언', '사과']\n",
      "121번째 문장: ['여론', '조사', '이', '준석', '이', '낙', '연', '신당', '출범', '시', '영향력', '은']\n",
      "122번째 문장: ['개월', '장관', '비판', '속', '방문', '규', '출판', '기념회', '홍보', '메시지', '도마']\n",
      "123번째 문장: ['차기', '대통령', '감', '한동', '훈', '이재명', '다', '자', '대결', '첫', '우위']\n",
      "124번째 문장: ['크', '고', '단단', '하', 'ㄴ', '하나', '크', 'ㄴ', '싸움', '벌이', '어야', '사실상', '결별', '수순']\n",
      "125번째 문장: ['한동', '훈', '일', '대', '하', 'ㄴ', '노인회', '방문', '민', '경우', '전', '비대', '위원', '노인', '비하', '사과']\n",
      "126번째 문장: ['지방', '소멸', '위기', '스', '어', '천과', '괴', '산', '은', '정말', '사라지', 'ㄹ까']\n",
      "127번째 문장: ['한동', '훈', '동료', '시민', '위하', '어', '이', '준석', '멋들어지', 'ㄴ', '용어', '쓰', 'ㄴ다고', '바뀌', '는', '것', '아냐']\n",
      "128번째 문장: ['총선', '일', '앞두', 'ㄴ', '여야', '수도권', '지지율', '사법', '리스크', '변수', '정', '다운', '의', '뉴', '스톡']\n",
      "129번째 문장: ['한동', '훈', '일', '대', '하', 'ㄴ', '노인회', '찾아가', '민경우', '노인', '비하', '발언', '재차', '사과']\n",
      "130번째 문장: ['여론', '조사', '대선', '주자', '선호도', '이재명', '한동', '훈', '신당', '중', '위', '는', '이', '준석', '신당']\n",
      "131번째 문장: ['뉴스', '하이', '킥', '의사', '이자', '경제', '학자', '나', '를', '만들', 'ㄴ', '것', '은', '할', '이', '이것']\n",
      "132번째 문장: ['나', '아', '경원', '한동', '훈', '과의', '신뢰', '를', '당', '정', '관계', '자산', '으로', '쓰', '어야']\n",
      "133번째 문장: ['대하', 'ㄴ', '노인회', '찾', '는', '한동', '훈민', '경우', '노인', '비하', '발언', '사과']\n",
      "134번째 문장: ['여론', '조사', '총선', '민주당', '국민', '의', '힘', '지지도', '경합']\n",
      "135번째 문장: ['이', '택', '구', '대전', '스', '어', '구을', '예비', '후보', '년', '고인물', '퍼내', '는', '갑', '진년', '되', '기', '를']\n",
      "136번째 문장: ['외교부', '일본', '강진', '한국인', '피해', '여부', '확인', '중', '현재', '까지', '는', '없', '어']\n",
      "137번째 문장: ['이', '준석', '신당', '이달', '중순', '창', '당국', '힘', '문병', '호', '전', '의원', '합류', '종합']\n",
      "138번째 문장: ['북한', '강진', '으로', '함', '북', '해안', '에', '지진', '해일', '특급', '경보']\n",
      "139번째 문장: ['여론', '조사', '야당', '후보', '당선', '되', '어야', '여당', '후보', '당선', '되', '어야']\n",
      "140번째 문장: ['한동', '훈', '밀', 'ㄴ', '경우', '노', '이', 'ㄴ', '폄하', '발언', '논란', '대', '하', 'ㄴ', '노인회', '찾', '아', '사과', '키', '로']\n",
      "141번째 문장: ['김', '정', '은', '딸', '주', '애', '와', '팔짱', '끼', '고', '뽀뽀', '간부', '들', '은', '물개', '박수']\n",
      "142번째 문장: ['북한', '강진', '에', '함경북도', '해안', '지진', '해일', '특급', '경보']\n",
      "143번째 문장: ['한동', '훈', '노인', '비하', '사과', '차', '오', '는', '일', '대', '하', 'ㄴ', '노인회', '방문']\n",
      "144번째 문장: ['군', '새해', '첫날', '포탄', '사격', '훈련', '북한', '은', '언제', '든', '무력', '충돌', '가능']\n",
      "145번째 문장: ['윤', '대통령', '신년사', '이념', '패거리', '카르텔', '타파']\n",
      "146번째 문장: ['한동', '훈', '일', '대', '하', 'ㄴ', '노인회', '방문', '밀', 'ㄴ', '경우', '노인', '비하', '발언', '사과']\n",
      "147번째 문장: ['김', '정은', '통일', '불가', '북', '핵', '원천', '봉쇄']\n",
      "148번째 문장: ['이재명', '김대중', '노무현', '찾', '아', '통합', '과시', '이', '낙', '연', '새', '롭', 'ㄴ', '선택']\n",
      "149번째 문장: ['수도권', '향', '하', 'ㄴ', '사람', '들', '청년층', '잡기', '고군', '분투', '역부족']\n",
      "150번째 문장: ['외교부', '지진', '관련', '우리', '국민', '피해', '접수', '되', '지', '않', '아']\n",
      "151번째 문장: ['동료', '시민', '앞세우', 'ㄴ', '한동', '훈김', '건희', '특검', '법', '놓', '고', '이', '준석', '과', '대리']\n",
      "152번째 문장: ['여론', '조사', '국정', '운영', '잘못하', 'ㄴ다', '특검', '거부권', '동의', '안', '해']\n",
      "153번째 문장: ['이', '준석', '개혁', '신당', '이달', '출범', '목표']\n",
      "154번째 문장: ['총선', '신인', '출사표', '년', '국정', '경험', '토대', '가', '덕', '신공항', '배후', '관광', '단지', '추진']\n",
      "155번째 문장: ['반칙', '특권', '없', '는', '세상', '으로', '묘역', '찾', '아', '통합', '행보']\n",
      "156번째 문장: ['지역', '민심', '듣', '고', '정책', '마련', '전국', '순회', '외연', '확장', '기치']\n",
      "157번째 문장: ['상반기', '한미', '억제', '체제', '완성', '패거리', '카르텔', '깨', 'ㄹ', '것']\n",
      "158번째 문장: ['산', '은', '부산', '이전', '을', '시민', '찬성']\n",
      "159번째 문장: ['한동', '훈', '비대', '위', '찬성', '이', '준석', '이', '낙', '연', '신당', '지지']\n",
      "160번째 문장: ['올해', '는', '재', '도약', '전환점', '국민', '의', '삶', '바꾸', '는', '민생', '정책', '추진']\n",
      "161번째 문장: ['총선', '신년', '여론', '조사', '시도', '지사', '긍정', '부정', '평가']\n",
      "162번째 문장: ['현역', '교체', '원하', 'ㄴ다', '경남', '부산', '울산']\n",
      "163번째 문장: ['국정', '안정', '론', '견제', '론', '응답', '률', '비슷', '지지도', '한동', '훈', '비대', '위', '변수']\n",
      "164번째 문장: ['대', '야권', '지지', '무당', '층', '많', '아', '경남', '울산', '온도차']\n",
      "165번째 문장: ['앵커', '의', '마침표', '비상', '하', '는', '푸르', 'ㄴ', '용', '처럼']\n",
      "166번째 문장: ['청룡', '의', '해', '해병', '청룡', '부대', '방문', '신원', '식', '적', '도발', '시', '처절', '하', '게', '응징', '하', '어', '초토화']\n",
      "167번째 문장: ['김', '정', '은', '딸', '주', '애', '에게', '보', 'ㄹ', '뽀뽀', '공개', '석상', '서', '애정', '과시']\n",
      "168번째 문장: ['총선', '한동', '훈', '이재명', '새해', '첫날', '부터', '필승', '각오', '종합', '보']\n",
      "169번째 문장: ['노이', 'ㄴ', '폄하', '논란', '에', '한동', '훈', '일', '대', '하', 'ㄴ', '노인회', '방문']\n",
      "170번째 문장: ['총선', '꼼수', '위성', '정당', '사라지', '나', '병립형', '으로', '갈', 'ㄹ', '듯']\n",
      "171번째 문장: ['총선', '이재명', '하', 'ㄴ', '동', '훈', '리더십', '대결', '국민', '눈높이', '공천', '에', '달리', '었', '다']\n",
      "172번째 문장: ['정치적', '빚', '없', '지만', '인재', '도', '깜깜', '한동', '훈', '사단', '에', '여의도', '촉각']\n",
      "173번째 문장: ['김', '정', '은', '거침없', '는', '애정', '표현', '땋', 'ㄹ', '김', '주', '애', '팔짱', '끼', '고', '보', 'ㄹ', '뽀뽀']\n",
      "174번째 문장: ['정치', '톡톡', '동료', '의식', '주권', '재', '민']\n",
      "175번째 문장: ['신년사', '에', '민생', '경제', '강조', '갈등', '정쟁', '부추기', '어']\n",
      "176번째 문장: ['함경북도', '해안', '에', '지진', '해일', '특급', '경보', '발령']\n",
      "177번째 문장: ['패거리', '카르텔', '깨트리', '어야', '운동권', '청산', '한동', '훈', '에', '힘', '싣', '어', '주', '기']\n",
      "178번째 문장: ['대통령', '패거리', '카르텔', '반드시', '타파']\n",
      "179번째 문장: ['손', '맞잡', '은', '이재명', '과', '한동', '훈', '왜', '불길', '하', 'ㄹ까']\n",
      "180번째 문장: ['윤', '대통령', '기자', '들', '에', '올해', '는', '김치찌개', '같이', '먹자', '기자', '회견', '에', '는', '생각', '중']\n",
      "181번째 문장: ['인구', '절벽', '내몰리', 'ㄴ', '지방', '초', '광역', '협력', '서', '답', '을', '찾', '다']\n",
      "182번째 문장: ['경북', '울', '진', '다세대', '주택', '화재', '로', '부자', '숨지', '어', '새해', '첫날', '사고', '잇따르', '아']\n",
      "183번째 문장: ['한국', '년', '간', '안보리', '비상임', '이사국', '임기', '시작']\n",
      "184번째 문장: ['대전', '남녀', '다', '둥', '이', '네', '다자녀', '행복', '많', '은', '사람', '들', '느끼', '기', '를', '바라']\n",
      "185번째 문장: ['김', '정', '은', '딸', '주', '애', '팔짱', '끼', '고', '뽀뽀', '애정', '과시']\n",
      "186번째 문장: ['북', '일본', '강진', '으로', '함', '북', '해안', '에', '지진', '해일', '특급', '경보']\n",
      "187번째 문장: ['언제', '든', '무력', '충돌', '생기', 'ㄹ', '수', '있', '어', '힘', '에', '의하', 'ㄴ', '평화', '구현', '박차']\n",
      "188번째 문장: ['도발적', '망동', '파멸', '의', '전주곡']\n",
      "189번째 문장: ['윤', '대통령', '신년사', '문제', '를', '해결', '하', '는', '행동', '하', '는', '정부', '되', 'ㄹ', '것']\n",
      "190번째 문장: ['연일', '말', '폭탄', '김', '정', '은', '가차', '없이', '짓', '부시', '어']\n",
      "191번째 문장: ['기자', '들', '만난', '오', 'ㄹ', '핸', '김치찌개', '같이', '먹', '는', '시간', '갖', '겠', '다']\n",
      "192번째 문장: ['신년사', '신원', '식', '새해', '도', '안보', '상황', '엄중', '강', '하', 'ㄴ', '힘', '갖추', '어야', '평화']\n",
      "193번째 문장: ['군', '새해', '첫날', '포', '사격', '훈련', '으로', '압도적', '화력', '과시']\n",
      "194번째 문장: ['새해', '이렇게', '달라지', 'ㅂ니다', '다국적', '기업', '최저', '하', 'ㄴ', '세', '혼인', '출산', '때', '양가', '총', '억', '원', '공제']\n",
      "195번째 문장: ['여랑', '야랑', '윤', '대통령', '다시', '카르텔']\n",
      "196번째 문장: ['자막', '뉴스', '김', '정은', '과', '멀찍이', '매체', '도', '집중', '보도', '하', 'ㄴ', '리', '설주', '위치']\n",
      "197번째 문장: ['이', '선', '균', '협박', '범', '유흥업소', '실장', '마약', '최초', '제보자', '이', '었', '다']\n",
      "198번째 문장: ['한동', '훈', '노', '이', 'ㄴ', '폄하', '사과', '에', '도', '비판', '이어지', '자', '일', '대', '하', 'ㄴ', '노인회', '방문']\n",
      "199번째 문장: ['김', '정은', '공연', '관람', '하', '며', '딸', '에게', '뽀뽀', '언제', '든', '무력', '충돌']\n",
      "200번째 문장: ['이', '낙', '연', '크', 'ㄴ', '싸움', '이', '준석', '정치', '세력', '교체']\n",
      "201번째 문장: ['이재명', '봉', '하', '찾', '아', '단합', '행보']\n",
      "202번째 문장: ['오로지', '총선', '승리', '대통령', '실', '명', '선거', '출마']\n",
      "203번째 문장: ['대통령', '실', '일본', '강진', '에', '안전', '조치', '만전', '피해', '가능성', '예의', '주시']\n",
      "204번째 문장: ['한동', '훈', '공정', '하', '고', '멋지', 'ㄴ', '이기', '는', '공천']\n",
      "205번째 문장: ['이', '준석', '이', '낙', '연', '과', '상호', '보완', '가능', '이', '낙', '연', '새', '선택지', '드리', '어야']\n",
      "206번째 문장: ['알', '는', '기자', '여야', '총력전', '결과', '는', '박빙']\n",
      "207번째 문장: ['국민', '이', '곧', '주인', '민생', '강조', '하', 'ㄴ', '이재명', '새해', '첫날', '부터', '부울', 'ㄹ', '경', '광폭', '행보']\n",
      "208번째 문장: ['총선', '총선', '승패', '스윙', '보', '터', '선거구', '곳', '이', '가르', 'ㄴ다']\n",
      "209번째 문장: ['총선', '국민', '의', '힘', '민주', '차', '초', '박빙']\n",
      "210번째 문장: ['안', '철수', '규모', '지진', '외통', '위원', '으로서', '교민', '안전', '확인', '에', '만전']\n",
      "211번째 문장: ['새해', '맞', '은', '한동', '훈', '이기', '는', '공천', '동료', '의식', '실천', '하', '는', '당', '으로']\n",
      "212번째 문장: ['호남선', '고속', '화', '철도', '관통', '노루벌', '국가', '정원', '암초']\n",
      "213번째 문장: ['인천', '시민', '경인', '무료', '화', '경인선', '지하', '화', '꼭', '해결', '되', '기', '를', '총선']\n",
      "214번째 문장: ['권역', '별', '맞춤', '형', '정책', '삶', '의', '질', '향상', '노력']\n",
      "215번째 문장: ['한동', '훈', '이재명', '차기', '대통령', '다', '자', '대결', '첫', '우위']\n",
      "216번째 문장: ['년', '국제', '정치', '기상도', '대', '만', '미국', '잇달', '아', '대선', '그', '후', '폭풍', '중국', '의', '대', '만', '침공']\n",
      "217번째 문장: ['대통령', '실', '신년', '업무', '보고', '국민', '과', '함께', '민생', '토론회', '형식']\n",
      "218번째 문장: ['예산', '등', '정책', '홀', '대', '에', '싸', '아', '늘', '어느', '쪽', '찍', '을지', '확률', '아직', '반반']\n",
      "219번째 문장: ['야권', '표', '분산', '시키', 'ㄹ', '이', '낙', '연', '신당', '에', '는', '우려']\n",
      "220번째 문장: ['총선', '여론', '조사', '김', '승', '남', '문', '금주', '강', '중', '구도']\n",
      "221번째 문장: ['작년', '에', '는', '없', '더', 'ㄴ', '거론', '확장', '억제', '상반기', '완성']\n",
      "222번째 문장: ['저출산', '겨냥', '하이브리드', '근무', '꺼내']\n",
      "223번째 문장: ['나라', '어렵', 'ㄴ데', '밀어주', '어야', '지지', '여전']\n",
      "224번째 문장: ['한동', '훈', '효과', '로', '서울', '지지율', '상승', '인천', '경기선', '강세']\n",
      "225번째 문장: ['이권', '이념', '에', '기반', '두', 'ㄴ', '패거리', '카르텔', '타파', '윤', '대통령', '신년사']\n",
      "226번째 문장: ['차기', '대선', '주자', '순위', '갤럽', '조사서', '첫', '역전']\n",
      "227번째 문장: ['총선', '여론', '조사', '광주', '서구', '갑', '송', '갑석', '강', '위원', '양', '강']\n",
      "228번째 문장: ['총선', '여론', '조사', '광주', '스', '어', '구을', '양부', '남', '김', '경', '만']\n",
      "229번째 문장: ['한국', '유엔', '안보리', '비상임', '이사국', '활동', '시작']\n",
      "230번째 문장: ['새', '선택지', '띄우', 'ㄴ', '이', '낙', '연기', '득', '권', '세력', '과', '한', '판', '승부', '가', '되', 'ㄹ', '것']\n",
      "231번째 문장: ['외교부', '일본', '강진', '관련', '우리', '국민', '피해', '접수', '없', '어']\n",
      "232번째 문장: ['유엔', '안보리', '이사국', '년', '간', '활동', '시작']\n",
      "233번째 문장: ['독도', '파문', '확산', '광복회', '정신', '나간', '국방부', '교재', '신원', '식', '의', '비뚤어지', 'ㄴ', '인식']\n",
      "234번째 문장: ['이곳', '이', '기면', '승리', '선거', '족집게', '대전', '구애', '작전', '돌입', '하', 'ㄴ', '여야']\n",
      "235번째 문장: ['총선', '앞두', 'ㄴ', '민주당', '텃밭', '민심', '은', '현역', '좌불안석']\n",
      "236번째 문장: ['김', '종', '이', 'ㄴ', '운동권', '청산', '론', '그러', 'ㄴ', '것', '은', '시대정신', '이', '되', 'ㄹ', '수', '가', '없', '다']\n",
      "237번째 문장: ['김', '정은', '연설', '보도', '하', '며', '한미', '일', '정상', '사진', '내보내']\n",
      "238번째 문장: ['유', '승', '민', '윤', '신년사', '에', '무', '성찰', '무책임', '김', '건희', '리스크', '해소', '하', '어야']\n",
      "239번째 문장: ['김', '정은', '지휘관', '불르', '어', '언제', '든', '무력', '충돌', '생기', 'ㄹ', '수', '있', '어']\n",
      "240번째 문장: ['대통령', '업무', '보고', '민생', '토론회', '로', '진행']\n",
      "241번째 문장: ['총선', '여론', '조사', '광주', '광산', '갑', '이용', '빌', 'ㄴ', '박', '균', '택', '초', '접전']\n",
      "242번째 문장: ['정부', '년', '차', '키워드', '는', '경제', '회복', '안보', '강화', '통', '하', 'ㄴ', '민생', '안정', '윤', '대통령', '신년사']\n",
      "243번째 문장: ['총선', '여론', '조사', '광주', '동남', '을', '김', '성환', '안도', '걸이', '병', '훈', '파전']\n",
      "244번째 문장: ['총선', '여론', '조사', '광주', '동남', '갑', '파전', '경쟁', '치열']\n",
      "245번째 문장: ['이재명', '단결', '외치', '며', '참배', '통합', '행보', '가속화']\n",
      "246번째 문장: ['이', '낙', '연', '결별', '이후', '명', '행주', '산성', '행']\n",
      "247번째 문장: ['새해', '첫날', '이념', '패거리', '카르텔', '운동권', '겨냥']\n",
      "248번째 문장: ['한동', '훈', '등판', '뒤', '지지율', '깻잎', '차이']\n",
      "249번째 문장: ['일', '도', '안', '남', '은', '총선', '여야', '심판', '론', '맞불']\n",
      "250번째 문장: ['연평도', '포격', '당시', '쉼터', '제공', '하', 'ㄴ', '찜질', '방', '사장님', '언급']\n",
      "251번째 문장: ['한동', '훈', '이재명', '새해', '첫날', '초', '조우']\n",
      "252번째 문장: ['단독', '한동', '훈', '노', '이', 'ㄴ', '폄하', '사과', '차', '오', '는', '일', '대', '하', 'ㄴ', '노인회', '방문']\n",
      "253번째 문장: ['이재명', '새해', '첫', '걸음', '호국', '영령', '의', '숭고', '하', 'ㄴ', '희생', '잊', '지', '않', '겠', '습니다', '서울', '포토']\n",
      "254번째 문장: ['한동', '훈', '공관', '위원장', '공정', '하', '고', '이기', '는', '공천', '하', 'ㄹ', '사람', '찾', '겠', '다']\n",
      "255번째 문장: ['새해', '첫날', '한동', '훈', '동료', '시민', '들', '과', '함께', '대한민국', '의', '미래', '를', '만들', '어', '가', '겠', '습니다', '서울', '포토']\n",
      "256번째 문장: ['에', '입국', '거부', '전력', '각료', '새해', '첫날', '야', '스', '쿠', '니', '신사', '참배', '종합']\n",
      "257번째 문장: ['김', '정', '은', '적대', '국가', '위협', '하루', '뒤', '신년', '경축연', '관람', '딸', '주', '애', '와', '보', 'ㄹ', '뽀뽀', '도']\n",
      "258번째 문장: ['외교부', '각료', '새해', '첫날', '야', '스', '쿠', '니', '참배', '깊', '은', '실망', '과', '유감']\n",
      "259번째 문장: ['소멸', '위기', '인구', '만명', '단양군', '생활', '인구', '는', '만명']\n",
      "260번째 문장: ['총선', '확정', '못하', 'ㄴ', '총선', '변수', '선거제', '신당', '셈', '법', '복잡']\n",
      "261번째 문장: ['지방', '공', '기관', '채용', '시험', '토익', '등', '어학', '성적', '최대', '년', '까지', '인정']\n",
      "262번째 문장: ['총선', '총선', '의', '해', '밝', '았', '다', '여야', '명운', '걸리', 'ㄴ', '정면', '승부']\n",
      "263번째 문장: ['한동', '훈', '동료', '의식', '실천', '이재명', '똘똘', '뭉치', '자']\n",
      "264번째 문장: ['총선', '일간', '의', '레이스', '시작', '정책', '강조', '하', 'ㄴ', '통합', '다지', 'ㄴ']\n",
      "265번째 문장: ['이', '낙', '연', '창당', '초읽기', '비명', '계', '얼마나', '합류', '하', 'ㄹ까']\n",
      "266번째 문장: ['대통령', '신년사', '엇갈리', 'ㄴ', '반응', '방향', '제시', '불통', '독주']\n",
      "267번째 문장: ['국민', '삶', '나아', '지도', '록', '선거', '의', '해', '저마다', '새', '롭', 'ㄴ', '정치', '약속']\n",
      "268번째 문장: ['강타', '하', 'ㄴ', '강진', '외교부', '현재', '까지', '국민', '피해', '접수', '없', '어']\n",
      "269번째 문장: ['윤', '대통령', '신년사', '패거리', '카르텔', '타파', '대', '개혁', '흔들림', '없이']\n",
      "270번째 문장: ['외교부', '강진', '한국인', '피해', '여부', '확인', '중', '현재', '까지', '는', '접수', '없', '어']\n",
      "271번째 문장: ['이재명', '새해', '첫날', '노무현', '묘역', '참배', '하', '며', '민주당', '적통', '강조']\n",
      "272번째 문장: ['민생', '벌', 'ㄴ', '언급', '하', 'ㄴ', '경제', '회복', '온기', '구석구석', '전', '해지', '게', '하', 'ㄹ', '것']\n",
      "273번째 문장: ['막', '오르', 'ㄴ', '명', '낙', '대전', '이재명', '단단', '하', 'ㄴ', '하나', '이', '낙', '연', '크', 'ㄴ', '싸움', '벌이', 'ㄹ', '것']\n",
      "274번째 문장: ['분열', '가시화', '폭풍', '전야', '이', '낙', '연', '크', 'ㄴ', '싸움', '벌이', '게', '되', 'ㄹ', '것']\n",
      "275번째 문장: ['한동', '훈', '비대', '위', '키워드', '동료', '시민', '계산', '없', '는', '선의', '정책', '화']\n",
      "276번째 문장: ['윤', '대통령', '민생', '구조', '개혁', '위', '하', '어', '행동', '하', '는', '정부', '되', '겠', '다']\n",
      "277번째 문장: ['이', '준석', '개혁', '신당', '월', '말', '공천', '착수', '허', '은', '아', '아', '합류', '예정']\n",
      "278번째 문장: ['비대', '위원장', '의', '한동', '훈', '조언', '공관', '위원장', '은', '과', '거리', '멀', 'ㄴ', '검찰', '인사', '로']\n",
      "279번째 문장: ['이재명', '새해', '첫', '행보', '는', '민주당', '정통성', '과', '통합', '묘역', '참배']\n",
      "280번째 문장: ['광복회', '친', '일', '매국', '의', '장관', '언동', '이', '정신', '나간', '교재', '만들', '어']\n",
      "281번째 문장: ['허', '경영', '아바', '타로', '신년', '인사', '불로', '유', '논란', '은', '언급', '없', '어']\n",
      "282번째 문장: ['총선', '이', '낙', '연', '신당', '이', '최대', '변수', '기득', '권', '타파', '하', '는', '당', '이', '승리']\n",
      "283번째 문장: ['정당', '현수막', '줄이', '고', '떠넘기', '어', '지', '는', '핑퐁', '민원', '없애', 'ㄴ다']\n",
      "284번째 문장: ['기구', '설치', '자유', '로', '워', '지', 'ㄴ', '지자체', '국장', '현안', '대응', '탄력']\n",
      "285번째 문장: ['이상', '기후', '일상', '이', '되', 'ㄴ', '시대', '예측', '시뮬레이션', '으로', '선제', '대응', '재난', '안전', '대한민국']\n",
      "286번째 문장: ['국내', '양대', '경제', '축', '국제', '비즈니스', '거점', '특별법', '으로', '못', '박', '는', '다', '리', '뉴', '얼', '부산']\n",
      "287번째 문장: ['한동', '훈', '이기', '는', '공천', '하', 'ㄹ', '것', '이', '재명', '절박', '하', 'ㅁ', '으로', '승리']\n",
      "288번째 문장: ['나', '아', '경원', '한동', '훈', '당정', '관계', '쇄신', '에', '과의', '신뢰', '자산', '으로', '쓰', '어야']\n",
      "289번째 문장: ['신년', '여론', '조사', '어떻', '게', '조사', '하', '었', '나']\n",
      "290번째 문장: ['신년', '여론', '조사', '광주시', '복합', '쇼핑몰', '추진', '성과', '긍정']\n",
      "291번째 문장: ['신년', '여론', '조사', '광주', '시민', '경제', '활성', '화일', '자리', '창출', '이', '가장', '시급']\n",
      "292번째 문장: ['신년', '여론', '조사', '광주', '전', '남', '신당', '투표', '의', '향', '아직', '은', '미풍']\n",
      "293번째 문장: ['신년', '여론', '조사', '전', '남도', '민', '의과', '대학', '신설', '최', '우선', '과제']\n",
      "294번째 문장: ['신년', '여론', '조사', '광주', '전', '남', '국회의원', '선택', '기준', '지역', '활동', '선호']\n",
      "295번째 문장: ['신년', '여론', '조사', '민주당', '텃밭', '광주', '전', '남', '지지도']\n",
      "296번째 문장: ['신년', '여론', '조사', '광주', '군', '민간', '공항', '무안', '이전', '찬성', '높', '다']\n",
      "297번째 문장: ['문', '재인', '전', '대통령', '나라', '걱정', '많', '아', '지', '었', '지만', '새', '희망', '찾', '을', '것']\n",
      "298번째 문장: ['신년', '여론', '조사', '이', '고', '흥보', '성장', '흥', '강진', '김', '승', '남', '선두', '지역별', '선호도', '편차']\n",
      "299번째 문장: ['신년', '여론', '조사', '하', '어', '남', '완도', '진도', '박지원', '현역', '보다', '높', '아']\n",
      "300번째 문장: ['뉴스', '초점', '윤', '대통령', '대국민', '신년사', '여야', '새해', '일정', '시작']\n",
      "301번째 문장: ['월남전', '유공자', '도', '영웅', '의', '제복', '입', '는', '다']\n",
      "302번째 문장: ['김', '정', '은', '딸', '주', '애', '에', '보', 'ㄹ', '뽀뽀', '이설', '주', '는', '한걸음', '뒤']\n",
      "303번째 문장: ['신년', '여론', '조사', '광주', '광산', '갑', '이용', '빌', 'ㄴ', '박', '균', '택', '친명', '파전']\n",
      "304번째 문장: ['한동', '훈', '의', '공천', '두', '가지', '기준', '공정', '하', '고', '멋지', '면서', '이기', '는', '공천']\n",
      "305번째 문장: ['신년', '여론', '조사', '광주', '북', '구을', '이형석', '선두', '전', '진숙', '추격']\n",
      "306번째 문장: ['신년', '여론', '조사', '광주', '스', '어', '구을', '양부', '남', '법률', '위원장', '오차', '범위', '밖', '위']\n",
      "307번째 문장: ['신년', '여론', '조사', '광주', '서구', '갑', '선', '도전', '송', '갑석', '우세']\n",
      "308번째 문장: ['신년', '기획', '국내', '대', '이슈', '제대', '총선']\n",
      "309번째 문장: ['신년', '여론', '조사', '광주', '동남', '을', '김', '성환', '선두', '이병', '훈', '안', '도', '걸', 'ㄹ', '파전']\n",
      "310번째 문장: ['신년', '여론', '조사', '광주', '동남', '갑', '노형', '욱', '정진', '욱', '공동', '위', '현역', '위']\n",
      "311번째 문장: ['내가', '민주당', '적통', '이재명', '찾', '은', '봉', '하', '마을', '에', '당', '지도부', '집결']\n",
      "312번째 문장: ['국', '힘', '전석', '탈환', '민주', '석', '확보', '변수', '는', '외풍', '총선', '도전자', '들']\n",
      "313번째 문장: ['신년', '여론', '조사', '현역', '고전', '신당', '아직', '은', '공항', '무안', '복', '쇼', '압도적', '찬성']\n",
      "314번째 문장: ['데일리', '안', '오늘', '뉴스', '종합', '대통령', '이권', '카르텔', '혁파', '다짐', '이', '선', '균', '협박', '범', '유흥업소', '실장', '과', '사이', '틀어지', '자', '마약', '제보', '등']\n",
      "315번째 문장: ['북', '강서', '분리', '가능성', '희박', '남구', '합', '구', '때', 'ㄴ', '현역', '빅', '매치']\n",
      "316번째 문장: ['당', '보', '구', '찍', '나', '아', '유', '살림', '도움', '되', '는', '쪽', '찍', '어', '유', '심층', '기획', '대', '총선', '풍향계']\n",
      "317번째 문장: ['현역', '들', '불신', '커', '어', '한동', '훈', '제대', '로', '물갈이', '안', '하', '겠', '나', '심층', '기획', '대', '총선', '풍향계']\n",
      "318번째 문장: ['정권', '심판', '하', '어야', '민주당', '도', '사실', '별로랑께', '요', '심층', '기획', '대', '총선', '풍향계']\n",
      "319번째 문장: ['최', '선희', '북', '외무상', '김', '정은', '지시', '에', '대남', '기구', '정리', '착수']\n",
      "320번째 문장: ['문', '전', '대통령', '겨울', '지', '나', '새봄', '오', '듯', '새롭', 'ㄴ', '희망', '찾', '기', '를']\n",
      "321번째 문장: ['이', '준석', '신당', '이달', '중순', '창당', '마무리', '목표', '문병', '호', '합류', '종합']\n",
      "322번째 문장: ['기자', '들', '만', '나', '올해', '는', '김치찌개', '같이', '먹', '는', '시간', '갖', '겠', '다']\n",
      "323번째 문장: ['녀', 'ㄴ', '개', '정찰', '위성', '추가', '추가', '발사', '언제쯤']\n",
      "324번째 문장: ['경제', '번민', '생', '벌', 'ㄴ', '언급', '국민', '삶', '에', '경기', '회복', '온기', '뉴스', '투데이']\n",
      "325번째 문장: ['국', '힘', '출마', '러시', '속', '민주', '는', '낙동강', '벨트', '수성', '에', '사력', '총선', '도전자', '들']\n",
      "326번째 문장: ['광복회', '국방부', '일본군', '뿌리', '삼고', '정신', '나간', '독도', '교재', '만들', '어']\n",
      "327번째 문장: ['윤', '석', '열', '대통령', '지지율', '수도권', '세대', '서', '상승']\n",
      "328번째 문장: ['녹색', '당', '손잡', '은', '정의', '당', '제', '공화국', '개헌', '위', '하', 'ㄴ', '총선']\n",
      "329번째 문장: ['국', '힘', '싹쓸이', '민주', '석이', '목표', '총선', '도전자', '들']\n",
      "330번째 문장: ['개혁', '신당', '이달', '창당', '마무리', '이', '준석', '패거리', '카르텔', '이', '카르텔', '몰이']\n",
      "331번째 문장: ['윤', '석', '열', '대통령', '이권', '이념', '기반', '패거리', '카르텔', '타파']\n",
      "332번째 문장: ['윤', '대통령', '참모', '들', '과', '떡국', '조찬', '민생', '깊이', '파고들', '어야']\n",
      "333번째 문장: ['수도권', '스윙', '지역구', '곳', '여야', '총선', '승패', '바로미터']\n",
      "334번째 문장: ['이재명', '신년', '이', 'ㄴ', '사회', '불참', '검토', '김', '건희', '특검', '거부권', '때문']\n",
      "335번째 문장: ['김', '종', '이', 'ㄴ', '이', '준석', '당선', '시키', '는', '데', '기여', '당', '이', '품', '었', '어야']\n",
      "336번째 문장: ['총선', '일', '앞', '으로', '한동', '훈', '동료', '시민', '이재명', '단합', '강조']\n",
      "337번째 문장: ['이재명', '단단', '하', 'ㄴ', '하나', '이', '낙', '연', '크', 'ㄴ', '싸움', '벌이', 'ㄹ', '것', '새해', '막', '오르', 'ㄴ', '명', '낙', '대전']\n",
      "338번째 문장: ['패거리', '카르텔', '정조준', '구조', '개혁', '속도', '유연', '근무제', '로', '노동', '개혁', '저출산', '해소', '나서', 'ㄴ다']\n",
      "339번째 문장: ['신년사', '키워드', '민생', '회복', '이권', '카르텔', '혁파', '강조']\n",
      "340번째 문장: ['이', '준석', '을', '옹호', '하', '는', '언론', '들', '그', '의', '정치', '가', '남기', 'ㄴ', '것', '을', '보라']\n",
      "341번째 문장: ['김', '정', '은', '언제', '든', '무력', '충돌', '생기', 'ㄹ', '수', '있', '어']\n",
      "342번째 문장: ['어느', '쪽', '도', '잘하', 'ㄴ', '것', '없', '어', '수도권', '여야', '동시', '심판']\n",
      "343번째 문장: ['한동', '훈', '동료', '시민', '향', '하', 'ㄴ', '선의', '를', '정책', '으로', '실천', '쇄신', '깃발', '들', '고', '전국', '순회']\n",
      "344번째 문장: ['민주', '결국', '분열', '현실화', '행보', '에', '쏠리', 'ㄴ', '눈']\n",
      "345번째 문장: ['여야', '총선', '새해', '첫', '행보', '한동', '훈', '확장', '이재명', '통하']\n",
      "346번째 문장: ['신원', '식', '한강', '하', '구', '청룡', '부대', '방문', '적', '도발', '시', '초토화', '주문', '종합']\n",
      "347번째 문장: ['윤', '대통령', '저출산', '해결', '위', '하', '어', '지방', '균형', '발전', '확실히', '추진']\n",
      "348번째 문장: ['이재명', '노무현', '묘역', '참배', '반칙', '특권', '없', '는', '세상', '꼭', '만들', '겠', '다']\n",
      "349번째 문장: ['수', '년', '째', '안', '없', '어', '지', '는', '김', '정은', '의', '볼', '뾰루지', '건강', '상태', '이상']\n",
      "350번째 문장: ['년대', '일지매', '이', '고', '응', '호', '감독', '별세']\n",
      "351번째 문장: ['윤', '대통령', '야권', '겨냥', '이념', '소환', '패거리', '카르텔', '타파']\n",
      "352번째 문장: ['신년사', '경기도', '의회', '염', '종', '현', '의장', '의회', '의', '가치', '로', '도민', '삶', '빛내', '는', '년', '을', '만들', '겠', '다']\n",
      "353번째 문장: ['월남전', '유공자', '에', '도', '영웅', '의', '제복', '전달하', 'ㄴ다']\n",
      "354번째 문장: ['대권', '선호', '이재명', '하', 'ㄴ', '동', '훈', '각축', '총선', '투표', '정당', '은', '양당', '차']\n",
      "355번째 문장: ['이재명', '대표', '새해', '봉', '하', '방문', '노', '전', '대통령', '묘역', '참배']\n",
      "356번째 문장: ['이태원', '참사', '분향소', '찾', '은', '윤', '희숙', '진보당', '상임', '대표']\n",
      "357번째 문장: ['올해', '는', '민생', '회복', '의', '해', '패거리', '카르텔', '반드시', '타파', '하', '겠', '다']\n",
      "358번째 문장: ['이', '낙', '연', '행주', '산성', '서', '대첩', '선언', '현역', '들', '기다리', '어', '드리', 'ㄹ', '것']\n",
      "359번째 문장: ['한동', '훈', '과정', '멋있', '고', '이기', '는', '공천', '하', '어야', '공관', '위원장', '신중히', '고르', 'ㄹ', '것']\n",
      "360번째 문장: ['한동', '훈', '의', '대표', '상품', '동료', '시민', '다수결', '폭정', '막', '을', '공화주의']\n",
      "361번째 문장: ['총선', '원', '희룡', '박민', '식', '등', '장관', '용', '산', '참모', '여명', '국회', '입성', '하', 'ㄹ까']\n",
      "362번째 문장: ['국무', '위원', '과', '떡국', '조찬', '문제', '생기', '면', '즉각', '해결', '민생', '깊이', '파고들', '어야']\n",
      "363번째 문장: ['최', '상목', '영세', '소', '상공인', '만명', '에', '인', '당', '만원', '전기', '요금', '감면']\n",
      "364번째 문장: ['윤', '대통령', '카르텔', '타파', '이', '준석', '언론인', '들', '방송', '하차', '뜻대로', '안되', '면', '카르텔']\n",
      "365번째 문장: ['이권', '이념', '에', '기반', '두', 'ㄴ', '패거리', '카르텔', '타파']\n",
      "366번째 문장: ['새해', '첫날', '이념', '공세', '윤', '패거리', '카르텔', '타파', '질문', '없이', '발표', '만']\n",
      "367번째 문장: ['대통령', '실', '패거리', '카르텔', '민주당', '해석', '에', '개혁', '방해', '세력', '지칭']\n",
      "368번째 문장: ['해병대', '장병', '들', '과', '기념', '촬영', '하', '는', '신원', '식', '장관']\n",
      "369번째 문장: ['진보당', '광주시', '당', '망월', '묘역', '서', '총선', '승리', '다짐']\n",
      "370번째 문장: ['진보당', '광주시', '당', '민족', '민주', '열사', '묘역', '서', '총선', '승리', '다짐']\n",
      "371번째 문장: ['진보당', '광주시', '당', '민족', '민주', '열사', '묘역', '참배']\n",
      "372번째 문장: ['진보당', '광주시', '당', '민주', '묘지', '참배']\n",
      "373번째 문장: ['합참', '의장', '하늘', '의', '지휘소', '피스', '아이', '타', '고', '새해', '대비', '태세', '점검']\n",
      "374번째 문장: ['해병대', '장병', '들', '과', '식사', '하', '는', '신원', '식', '장관']\n",
      "375번째 문장: ['해병대', '제사', '단', '방문', '하', 'ㄴ', '신원', '식', '장관']\n",
      "376번째 문장: ['해병대', '장병', '들', '격려', '하', '는', '신원', '식', '장관']\n",
      "377번째 문장: ['남북', '새해', '첫날', '부터', '낳', 'ㄹ', '선', '공방', '남조선', '평정', '위협', '에', '도발', '은', '파멸', '맞불']\n",
      "378번째 문장: ['이', 'ㄴ', '가구용', '소형', '주택', '확대', '재', '건축', '원점', '재검토']\n",
      "379번째 문장: ['포토', '은평구', '새해', '해맞이', '행사']\n",
      "380번째 문장: ['저', '출생', '해결', '윤', '대통령', '의', '여성', '없', '는', '신년사']\n",
      "전처리 중 오류 발생: java.lang.NullPointerException\n",
      "오류가 발생한 문장:          \n",
      "이전 문장: 한동훈 과정 멋있고 이기는 공천해야 공관위원장 신중히 고를 것\n",
      "382번째 문장: ['군', '새해', '첫날', '포', '사격', '훈련', '압도적', '화력', '과시']\n",
      "383번째 문장: ['새해', '첫날', '훈련', '현장', '찾', '은', '박', '안수', '참모', '총장']\n",
      "384번째 문장: ['승진', '훈련장', '찾', '아', '수', '기사', '장병', '들', '과', '기념', '촬영', '하', '는', '박', '안수', '참모', '총장']\n",
      "385번째 문장: ['북한', '최', '선희', '김', '정은', '지시', '따르', '아', '대남', '기구', '정리', '착수']\n",
      "386번째 문장: ['가축', '방역', '현장', '점검', '하', '는', '송', '미령', '장관']\n",
      "387번째 문장: ['총선', '의식', '하', '었', '나', '부', 'ㄴ', '생', '중계', '서', '민생', '벌', 'ㄴ', '반복', '하', 'ㄴ']\n",
      "388번째 문장: ['윤', '대통령', '북', '핵', '위협', '원천', '봉쇄', '김', '정', '은', '괴멸']\n",
      "389번째 문장: ['신년사', '늘', 'ㄹ', '송구', '사과', '로', '시작', '이념', '카르텔', '타파', '강조하', '었', '다']\n",
      "390번째 문장: ['대선', '지선', '이기', 'ㄴ', '조직', '세', '강', '하', 'ㄴ', '민심', '은', '여전히', '팽팽', '심층', '기획', '대', '총선', '풍향계']\n",
      "391번째 문장: ['총선', '앞', '지지율', '박빙', '정권', '심판', '론', '오', '차', '밖', '우위']\n",
      "392번째 문장: ['포토', '양천구', '용왕', '산', '해맞이', '행사']\n",
      "393번째 문장: ['육군', '새해', '첫날', '자주포', '로', '화력', '도', '발', '대비', '포탄', '사격', '훈련']\n",
      "394번째 문장: ['육', '참', '총장', '전투', '사격장', '찾', '아', '차별적', '우위', '로', '적', '압도', '항', '상', '승리', '하', '라']\n",
      "395번째 문장: ['한', '총리', '신년사', '경기', '회복세', '경제', '전반', '으로', '확산', '하', '어', '나가', 'ㄹ', '것']\n",
      "396번째 문장: ['윤', '대통령', '신년사', '에', '민생', '위', '하', '어', '오', 'ㄴ', '힘', '고집', '과', '불통']\n",
      "397번째 문장: ['새해', '일출', '속', '피스', '아이', '비행']\n",
      "398번째 문장: ['차기', '대통령', '선호', '한동', '훈', '이재명']\n",
      "399번째 문장: ['총선', '국민', '의', '힘', '민주당', '지지율', '오차', '범위', '정부', '견제', '론', '우세']\n",
      "400번째 문장: ['신원', '식', '국방장관', '해병대', '청룡', '부대', '방문', '무적', '해병', '정신', '강조', '장병', '격려']\n",
      "401번째 문장: ['포토', '해맞이', '행사', '참석', '하', 'ㄴ', '조', '성명', '강남구', '청장']\n",
      "402번째 문장: ['육군', '참모', '총장', '훈련', '중인', '부대', '찾', '아', '대비', '태세', '점검']\n",
      "403번째 문장: ['김', '정은', '땋', 'ㄹ', '바보', '행보', '보', 'ㄹ', '뽀뽀', '쪽']\n",
      "404번째 문장: ['군', '새해', '첫날', '포', '사격', '훈련', '으로', '압도적', '화력', '과시', '종합']\n",
      "405번째 문장: ['민주당', '에', '드리우', 'ㄴ', '분열', '그림자', '이', '낙', '연', '신당', '후', '폭풍', '에', '촉각']\n",
      "406번째 문장: ['이재명', '총선', '승리', '하', '어', '국민', '지키', '는', '사명', '뿐']\n",
      "407번째 문장: ['정권', '심판', '야당', '심판', '총선', '표', '심', '아직', '은', '팽팽']\n",
      "408번째 문장: ['김', '정은', '시진', '핑', '새해', '첫날', '친선', '의', '해', '선포']\n",
      "409번째 문장: ['이', '낙', '연', '국민', '께', '새', '선택지', '크', 'ㄴ', '싸움', '벌이', 'ㄹ', '것']\n",
      "410번째 문장: ['과정', '은', '공정', '하', '게', '이기', '는', '공천', '하', 'ㄹ', '것']\n",
      "411번째 문장: ['여의도', '사람', '없', '는', '한동', '훈', '부채', '없', '지만', '인재', '풀', '에', '는', '한계']\n",
      "412번째 문장: ['김', '정은', '연설', '육성', '보도', '하', '며', '영상', '에', '한미', '일', '정상', '회의', '사진']\n",
      "413번째 문장: ['사회', '민주당', '혁신적', '복지', '국가', '로', '신년', '인사']\n",
      "414번째 문장: ['포토', '일출', '명소', '선', '유교', '찾', '은', '최호', '권', '영등포구', '청장']\n",
      "415번째 문장: ['이재명', '새해', '벽두', '참배', '에', '예방', '정통성', '통합', '부각']\n",
      "416번째 문장: ['이재명', '노', '전', '대통령', '묘역', '참배', '더', '단합', '하', '겠', '다']\n",
      "417번째 문장: ['총선', '참모진', '장관', '출신', '도', '출격', '윤', '의', '사람', '들', '총선', '으로']\n",
      "418번째 문장: ['갑', '진년', '새해', '첫날', '대통령', '여야', '지도부', '현', '충원', '참배', '로', '공식', '일정', '시작']\n",
      "419번째 문장: ['개혁', '신당', '이달', '창당', '마무리', '이', '준석', '이', '낙', '연', '과', '상호', '보완', '기대']\n",
      "420번째 문장: ['한동', '훈', '김', '건희', '특검', '묻', '었', '더니', '도이치', '특검', '은', '총선', '용', '악법']\n",
      "421번째 문장: ['승진', '훈련장', '찾', '은', '박', '안수', '육군', '참모', '총장']\n",
      "422번째 문장: ['수', '기사', '예하', '부대', '전술', '지휘소', '방문', '하', 'ㄴ', '박', '안수', '육군', '참모', '총장']\n",
      "423번째 문장: ['김', '정', '은', '두', '개', '의', '조선', '론', '은', '흡수', '통일', '정권', '붕괴', '회피', '전략']\n",
      "424번째 문장: ['북한', '대남', '기구', '정리', '작업', '착수', '최', '서', '는', '희', '협의', '진행']\n",
      "425번째 문장: ['대통령', '실', '민생', '토론회', '형식', '새해', '업무', '보고', '진행']\n",
      "426번째 문장: ['김', '정은', '군사적', '대비', '태세', '완벽히', '딸', '주', '애', '팔짱', '끼', '고', '공개', '뽀뽀']\n",
      "427번째 문장: ['김', '정', '은', '남북', '동족', '아니', 'ㄴ', '두', '국가', '규정', '언제', '가', '아도', '통일', '성사', '안되', '어']\n",
      "428번째 문장: ['이재명', '단결', '외치', '며', '참배', '이재명', '선', '퇴진', '찬성']\n",
      "429번째 문장: ['월남전', '유공자', '에게', '도', '영웅', '제복', '지급', '하', 'ㄴ다']\n",
      "430번째 문장: ['유엔', '안보리', '이사국', '활동', '개시', '북한', '문제', '공론', '화']\n",
      "431번째 문장: ['새해', '첫날', '행주', '산성', '찾', '은', '이', '낙', '연기', '득', '권', '유지', '세력', '과', '한판', '승부']\n",
      "432번째 문장: ['한동', '훈', '위원장', '공격적', '성향', '은', '총선', '에', '역효과', '시사', '종이', '땡', '땡땡']\n",
      "433번째 문장: ['광복회', '정신', '나간', '장병', '정신', '교육', '신원', '식', '친', '일', '인식', '이', '원인']\n",
      "434번째 문장: ['공천', '키', '잡', '은', '한동', '훈', '중진', '물갈이', '로', '혁신', '재가동', '하나']\n",
      "435번째 문장: ['이재명', '정부', '대한민국', '고사', '시키', '어', '칼', '로', '죽이', '는', '것', '과', '차이', '없', '다']\n",
      "436번째 문장: ['최', '상목', '부총리', '새해', '첫날', '취임', '첫', '민생', '현장', '방문']\n",
      "437번째 문장: ['취임', '첫', '민생', '현장', '찾', '은', '최상', '목', '부총리']\n",
      "438번째 문장: ['최', '상목', '부총리', '취임', '첫', '민생', '현장', '방문']\n",
      "439번째 문장: ['이재명', '노무현', '묘역', '참배', '더', '단합', '하', '어', '선거', '준비', '하', '겠', '다']\n",
      "440번째 문장: ['김', '건희', '특검', '타격', '보다', '거부권', '역풍', '이', '낫', '다', '고집', '에', '담기', 'ㄴ', '셈', '법']\n",
      "441번째 문장: ['지', '작사', '새해', '첫', '날', '경계', '태세', '현장', '점검']\n",
      "442번째 문장: ['문', '재인', '전', '대통령', '나라', '걱정', '많', '아', '지', '었', '지만', '우리', '는', '새', '희망', '찾', '을', '것']\n",
      "443번째 문장: ['여야', '지지도', '오차', '범위', '내', '접전', '신년', '여론', '조사']\n",
      "444번째 문장: ['홍', '대', '걷', '고', '싶', '은', '거리', '찾', '은', '최상', '목', '부총리']\n",
      "445번째 문장: ['이념', '기반', '패거리', '카르텔', '타파', '재택', '하이브리드', '등', '유연', '근무', '형태', '장려']\n",
      "446번째 문장: ['한국', '안보리', '비상임', '이사국', '활동', '개시', '북', '핵', '문제', '주도', '하', 'ㄹ', '계기', '마련']\n",
      "447번째 문장: ['정당', '현수막', '읍면동', '별', '개', '씩', '만', '설치', '가능']\n",
      "448번째 문장: ['총선', '앞두', '고', '옥외', '광고', '물법', '개정안', '시행', '예정']\n",
      "449번째 문장: ['총선', '정당', '현수막', '은', '읍면동', '별', '개', '씩', '만']\n",
      "450번째 문장: ['정당', '현수막', '읍면동', '별로', '두개', '씩', '만']\n",
      "451번째 문장: ['정당', '현수막', '이번', '달', '부터', '읍면동', '별', '개', '씩']\n",
      "452번째 문장: ['년', '대통령', '신년사', '중계방송', '지켜보', '는', '상인']\n",
      "453번째 문장: ['전통', '시장', '에서', '대통령', '신년사', '듣', '는', '상인']\n",
      "454번째 문장: ['대통령', '년', '신년', '사', '아', '지켜보', '는', '전통', '시장', '상인']\n",
      "455번째 문장: ['민생', '의', '현장', '에서']\n",
      "456번째 문장: ['윤', '석', '열', '대통령', '신년사', '지켜보', '는', '상인']\n",
      "457번째 문장: ['대통령', '새해', '신년사', '지켜보', '는', '상인']\n",
      "458번째 문장: ['국민', '의', '힘', '춘천', '갑', '당원', '협의회', '새해', '결의', '대회']\n",
      "459번째 문장: ['총선', '출렁이', '는', '여론', '오차', '범위', '내', '초', '접전', '여론', '풍향계']\n",
      "460번째 문장: ['김', '정은', '군사적', '대비', '태세', '완벽히', '주', '애', '팔짱', '끼', '고', '뽀뽀', '종합']\n",
      "461번째 문장: ['강원', '국회의원', '들', '새해', '부터', '의정', '보고', '회', '집중']\n",
      "462번째 문장: ['인물', '공중전', '에서', '는', '한동', '훈', '이', '기선', '제압', '지상전', '은', '총선']\n",
      "463번째 문장: ['새해', '첫날', '총선', '승리', '결기', '다지', 'ㄴ', '한동', '훈', '선의', '정책', '실천', '이재명', '함께', '손잡', '자', '총선']\n",
      "464번째 문장: ['이', '행', '숙', '인천시', '전', '정무', '부시장', '검', '단', '의', '푸른', '도약', '다짐', '총선', '나도', '뛰', 'ㄴ다']\n",
      "465번째 문장: ['유', '승', '민', '이대', '로', '가', '면', '나라', '망하', 'ㄴ다', '대통령', '신년사', '오만', '독선']\n",
      "466번째 문장: ['새해', '첫날', '국립', '서울', '현', '충원', '찾', '은', '정치인', '들', '뉴', '시스']\n",
      "467번째 문장: ['김', '동', '연호', '공약', '결실', '의', '해', '밝', '았', '다', '신년', '특집']\n",
      "468번째 문장: ['문', '재인', '전', '대통령', '새해', '인사', '어려워지', 'ㄴ', '경제', '높', '은', '물가', '팍팍', '해지', 'ㄴ', '삶', '을', '잘', '견디', '어', '주', '시', '었', '다']\n",
      "469번째 문장: ['공약', '이행', '대부분', '저조', '여야', '정', '협치', '공약', '지키', 'ㄹ', '열쇠', '신년', '특집']\n",
      "470번째 문장: ['정부', '견제', '여론', '높', '은데', '민주당', '지지율', '로', '안', '이어지', '어', '총선']\n",
      "471번째 문장: ['대통령', '패거리', '카르텔', '타파이', '준석', '돼지', '의', '눈', '에', '는', '돼지', '만']\n",
      "472번째 문장: ['손', '식', '사령관', '적', '도발', '시', '즉각', '단호', '하', 'ㄴ', '응징', '해안', '경계', '방공', '태세', '점검']\n",
      "473번째 문장: ['오', 'ㄹ', '핸', '김치찌개', '같이', '먹', '자', '새해', '첫날', '찾아가', 'ㄴ', '곳', '은']\n",
      "474번째 문장: ['신원', '식', '새해', '청룡', '부대', '방문', '북', '상시', '도발', '가능', '강조']\n",
      "475번째 문장: ['노', '원', '눈썰매', '장', '개장', '인사말', '하', '는', '오승', '록', '구청장']\n",
      "476번째 문장: ['대구', '소방', '본부장', '직급', '급', '소방', '주', 'ㄴ', '감급', '소방감', '상향', '조정']\n",
      "477번째 문장: ['카르텔', '타파', '외치', 'ㄴ', '향', '하', '어', '민주당', '누구', '를', '또', '괴롭히', '려고']\n",
      "478번째 문장: ['신년사', '신원', '식', '북', '에', '도발', '파멸', '전주곡', '뼈저리', '게', '느끼', '게', '하', '어야', '종합']\n",
      "479번째 문장: ['청룡', '부대', '격려', '하', '는', '신원', '식', '장관']\n",
      "480번째 문장: ['새해', '첫', '날', '해병대', '찾', '은', '신원', '식', '국방부', '장관']\n",
      "481번째 문장: ['이재명', '김대중', '노무현', '묘역', '참배', '단합', '하', '어', '선거', '잘', '준비', '하', '겠', '다']\n",
      "482번째 문장: ['문재', '이', 'ㄴ', '나라', '걱정', '많', '아', '지', '었', '지만', '새봄', '오', '듯', '희망', '찾', '을', '것']\n",
      "483번째 문장: ['경기도', '저출산', '대책', '천', '억', '원', '편성', '모자', '보건', '사업', '추진']\n",
      "484번째 문장: ['신원', '식', '서부', '최전방', '부대', '방문', '적', '도발', '시', '초토화']\n",
      "485번째 문장: ['오', '영주', '장관', '새해', '첫날', '민생', '현장', '방문']\n",
      "486번째 문장: ['국제', '질서', '생존', '에서', '관여', '로', '한국', '일', '부터', '유엔', '안보리', '비상임', '이사국', '임무']\n",
      "487번째 문장: ['김', '정은', '연설', '보도', '때', '대통령', '사진', '왜', '바', '이', '든', '기시', '다', '다', '나오', '아']\n",
      "488번째 문장: ['나', '아', '경원', '한동', '훈', '당정', '관계', '에서', '과의', '신뢰', '를', '자산', '으로', '쓰', '어야']\n",
      "489번째 문장: ['달빛', '철도', '균형', '투자', '방', '폐물', '미래', '걸리', 'ㄴ', '대', '법안', '차질', '없이', '추진', '되', '어야']\n",
      "490번째 문장: ['현', '충원', '방명록', '에', '민생', '경제', '매진', '참모', '들', '과', '떡국', '조찬']\n",
      "491번째 문장: ['민생', '강조', '갈등', '부추기', '어', '여야', '엇갈리', 'ㄴ', '신년사', '평가']\n",
      "492번째 문장: ['현장', '소통', '강화', '장관', '업무', '보고', '에', '국민', '도', '참여']\n",
      "493번째 문장: ['일본', '도야마', '북쪽', '에', '최대', '강진', '쓰나미', '경보']\n",
      "494번째 문장: ['그래픽', '대통령', '신년사', '키워드']\n",
      "495번째 문장: ['오', '세', '훈', '서울', '따스', '하', '게', '채우', '어', '가', '겠', '다', '노숙', '생활', '극복', '하', 'ㄴ', '시민', '들', '과', '첫', '점심']\n",
      "496번째 문장: ['기자', '들', '만', '나', '올해', '는', '김치찌개', '같이', '먹', '는', '시간', '갖', '자']\n",
      "497번째 문장: ['특검', '법', '반대', '하', '지만', '김', '여사', '리스크', '역풍', '불', 'ㄹ까', '고심', '하', '는']\n",
      "498번째 문장: ['강도', '형', '신임', '해수', '부', '장관', '수산물', '물가', '현장', '점검']\n",
      "499번째 문장: ['수산물', '물가', '점검', '하', '는', '강도', '형', '신임', '해양', '수산부', '장관']\n",
      "500번째 문장: ['김', '정', '은', '언제', '든', '무력', '충돌', '생기', 'ㄹ', '수', '있', '다', '북한', '한미', '일', '정상', '모습', '방영']\n",
      "501번째 문장: ['김', '정', '은', '대남', '기구', '정리', '지시', '에', '최', '선희', '외무상', '주도로', '실무', '진행', '종합']\n",
      "502번째 문장: ['단독', '부정', '경선', '실제', '해보', '니', '위장', '전입', '분', '이', '면', '충분', '하', '었', '다', '열린', '경선', '과', '그적', '들', '총선', '리포트']\n",
      "503번째 문장: ['신원', '식', '해병대', '청룡', '부대', '방문', '적', '도발', '시', '초토화', '주문']\n",
      "504번째 문장: ['대통령', '참모', '들', '에게', '민생', '깊이', '파고들', '어야']\n",
      "505번째 문장: ['이재명', '새해', '첫날', '봉', '하', '방문', '선거', '잘', '준비', '하', '겠', '다']\n",
      "506번째 문장: ['민주', '대통령', '신년사', '에', '패', '거리', '카르텔', '들먹이', '며', '국민', '갈등', '부추기', '어']\n",
      "507번째 문장: ['총선', '여론', '조사', '차기', '대통령', '정당', '지지', '희비', '교차']\n",
      "508번째 문장: ['한동', '훈', '동료', '의식', '실천', '하', '는', '당', '으로', '이재명', '모든', '권력', '국민', '향', '하', '어', '있', '어야']\n",
      "509번째 문장: ['문', '재인', '새해', '인사', '나라', '걱정', '많', '아', '지', '었', '지만', '새', '희망', '찾', '을', '것']\n",
      "510번째 문장: ['당', '결속', '분주', '하', 'ㄴ', '이재명', '신당', '꺼내', '든', '이', '낙', '연분', '당', '으로', '새해', '연', '민주당']\n",
      "511번째 문장: ['강', '명구', '총선', '구미', '을', '예비', '후보', '불체포', '특권', '포기', '정치', '불신', '크', 'ㄴ', '요인']\n",
      "512번째 문장: ['이', '낙', '연', '이재명', '겨냥', '크', 'ㄴ', '싸움', '을', '벌이', '어야', '하', 'ㄴ다']\n",
      "513번째 문장: ['철원군', '생활', '인구', '등록', '인구', '는', '마', 'ㄴ', '여명']\n",
      "514번째 문장: ['윤', '대통령', '기자', '들', '에게', '올해', '에', '는', '김치찌개', '같이', '먹자', '국무', '위원', '참모', '와', '떡국', '조찬']\n",
      "515번째 문장: ['이', '준석', '대통령', '카르텔', '발언', '직격', '돼지', '눈', '에', '는', '돼지', '만', '보이', 'ㄴ다']\n",
      "516번째 문장: ['신당', '창당', '의지', '이', '낙', '연', '우리', 'ㄴ', '크', 'ㄴ', '싸움', '벌이', '어야', '하', 'ㄴ다', '국민', '께', '새롭', 'ㄴ', '선택지', '드리', '어야']\n",
      "517번째 문장: ['소금', '판매', '현황', '점검', '하', '는', '강도', '형', '장관']\n",
      "518번째 문장: ['신원', '식', '장관', '서해', '최전방', '관측소', '방문', '도', '발', '시', '처절', '하', '게', '응징']\n",
      "519번째 문장: ['수산물', '물가', '현장', '점검', '하', '는', '강도', '형', '장관']\n",
      "520번째 문장: ['김', '진', '표', '국회', '의장', '의', '방명록']\n",
      "521번째 문장: ['방명록', '작성', '하', '는', '김', '진', '표', '국회', '의장']\n",
      "522번째 문장: ['외무상', '김', '정은', '지시', '에', '대남', '기구', '정리', '나서']\n",
      "523번째 문장: ['이', '준석', '겨냥', '패거리', '카르텔', '몰이', '가', '소시민', '희망', '앗', '아', '가']\n",
      "524번째 문장: ['이', '준석', '뜻대로', '안', '되', '면', '카르텔', '로', '지목']\n",
      "525번째 문장: ['신년사', '윤', '원', '균', '용인', '특례', '시의회', '의장', '만', '용인', '시민', '행복', '위', '하', '어', '더', '가까이']\n",
      "526번째 문장: ['특검', '왜', '거부', '하', '나', '죄', '짓', '었', '으니까', '과거', '발언', '재조명']\n",
      "527번째 문장: ['단독', '경선', '승리', '법칙', '보', '니', '개', '월', '짜리', '당원', '급', '구', '원', '당비', '내주', '며', '덩치', '불리', '기', '열린', '경선', '과', '그적', '들', '총선', '리포트']\n",
      "528번째 문장: ['민주', '패거리', '카르텔', '신년사', '에', '정쟁', '부추기', '겠', '다는', '선언']\n",
      "529번째 문장: ['이', '준석', '신당', '에', '현직', '당', '협위', '원장', '합류', '돼지', '눈', '에', '는', '돼지', '만']\n",
      "530번째 문장: ['영등포', '보', '현', '종합', '지원', '센터', '방문', '하', 'ㄴ', '오', '세', '훈', '시장']\n",
      "531번째 문장: ['경제', '안보', '융합', '민생', '강조', '하', 'ㄴ', '국민', '삶', '변화', '북', '핵', '위협', '원천', '봉쇄']\n",
      "532번째 문장: ['한국', '유엔', '안보리', '이사국', '활동', '개시', '하', 'ㄴ', '미일', '공조', '박차']\n",
      "533번째 문장: ['유', '승', '민', '나라', '정치', '망', '하', '는', '가장', '크', 'ㄴ', '책임', '은', '김', '건희', '리스크', '도', '해소', '하', '어야']\n",
      "534번째 문장: ['한동', '훈', '이재명', '차기', '대통령', '선호도', '조사']\n",
      "535번째 문장: ['강원', '자치', '도내', '정당', '들', '새해', '맞', '아', '총선', '필승', '다짐']\n",
      "536번째 문장: ['집권', '녀', 'ㄴ', '차', '민생', '에', '방점', '체감', '경기', '회복', '문제', '해결', '정부', '강조']\n",
      "537번째 문장: ['새해', '첫', '날', '강조', '하', 'ㄴ', '이념', '패거리', '카르텔', '운동권', '겨냥', '하', '었', '나']\n",
      "538번째 문장: ['총선', '사활', '걸', 'ㄴ', '여야', '연초', '부터', '특검', '법', '정면', '충돌', '불가피']\n",
      "539번째 문장: ['여론', '조사', '차기', '대선', '주자', '선호도', '이재명', '한동', '훈']\n",
      "540번째 문장: ['이', '준석', '여권', '때리', '며', '새해', '첫', '일정', '소화', '이달', '말', '공천', '작업']\n",
      "541번째 문장: ['경북', '영천', '체류', '인구', '등록', '인구', '의', '배', '정부', '생활', '인구', '첫', '공표']\n",
      "542번째 문장: ['이재명', '김', '건희', '특검', '거부권', '에', '신년', '이', 'ㄴ', '사회', '불참', '검토']\n",
      "543번째 문장: ['참모', '들', '과', '떡국', '조찬', '기자', '들', '에', '는', '김치찌개', '먹', '는', '시간', '갖', '자']\n",
      "544번째 문장: ['이념', '카르텔', '타파', '외치', 'ㄴ', '대통령', '운동권', '겨냥', '하', '었', '나', '종합']\n",
      "545번째 문장: ['이재명', '새해', '첫날', '노무현', '김대중', '묘역', '참배']\n",
      "546번째 문장: ['한동', '훈', '공관', '위원장', '공정', '하', '게', '이기', '는', '사람', '고르', 'ㄹ', '것']\n",
      "547번째 문장: ['이', '준석', '권력', '만', '노리', '는', '패거리', '카르텔', '이', '상대', '를', '패거리', '카르텔', '로', '지목']\n",
      "548번째 문장: ['이재명', '묘역', '참배', '더', '노력', '하', '어서', '선거', '잘', '준비', '단합', '하', 'ㄹ', '것']\n",
      "549번째 문장: ['돼지', '눈', '으로', '세상', '보', '면', '돼지', '만', '보이', '어', '이', '준석', '정치', '세력', '교체', '강조']\n",
      "550번째 문장: ['육군', '새해', '첫', '포탄', '사격', '훈련', '장병', '여명', '자주포', '문', '투입']\n",
      "551번째 문장: ['한동', '훈', '국민', '에게', '동료', '의식', '실천', '하', '는', '당', '으로', '거듭나', '겠', '다']\n",
      "552번째 문장: ['정부', '와', '함께', '활력', '넘치', '는', '경제', '만들', '겠', '다']\n",
      "553번째 문장: ['한동', '훈', '동료', '시민', '에', '대하', 'ㄴ', '계산', '없', '는', '선의', '를', '총선', '정책', '으로']\n",
      "554번째 문장: ['이', '준석', '또다시', '자유', '한국', '당', '만들', '나', '때리', '며', '존재', '감', '부각']\n",
      "555번째 문장: ['신년', '여론', '조사', '민주당', '국민', '의', '힘', '무당', '층']\n",
      "556번째 문장: ['단독', '비리', '얼룩지', 'ㄴ', '경선', '마을', '이', '두쪽나', '었', '다', '열린', '경선', '과', '그적', '들', '총선', '리포트']\n",
      "557번째 문장: ['특검', '법', '은', '반', '대지', '만', '김', '여사', '리스크', '역풍', '불', 'ㄹ까', '노심초사']\n",
      "558번째 문장: ['총선', '성적표', '따르', '아', '갈리', 'ㄹ', '여야', '대선', '주자', '운명']\n",
      "559번째 문장: ['새해', '첫날', '노무현', '참배', '하', 'ㄴ', '이재명', '단합', '하', '어', '총선', '서', '반드시', '승리', '종합']\n",
      "560번째 문장: ['신년사', '키워드', '민생', '회복', '경제', '도약', '개혁', '속도', '강한', '안보']\n",
      "561번째 문장: ['문재', '이', 'ㄴ', '나라', '걱정', '많', '아', '지', '었', '지만', '우리', '는', '새', '희망', '찾', '을', '것']\n",
      "562번째 문장: ['윤', '대통령', '참모', '들', '과', '새해', '떡국', '조찬', '민생', '깊이', '파고들', '어야']\n",
      "563번째 문장: ['신년사', '에서', '또', '패', '거리', '카르텔', '타파', '민주당', '저격', '하', '었', '나']\n",
      "564번째 문장: ['여론', '조사', '야당', '후보', '당선', '되', '어야', '여당', '후보', '당선', '되', '어야']\n",
      "565번째 문장: ['총선', '의', '해', '밝', '았', '다', '그', '어야', '심판', '정권', '심판', '하', 'ㄴ', '동', '훈', '이재명', '차기', '대선', '전초전']\n",
      "566번째 문장: ['이', '낙', '연', '이재명', '겨냥', '크', 'ㄴ', '싸움', '벌이', '어야', '시간', '많', '지', '않', '아']\n",
      "567번째 문장: ['김', '주', '애', '새해', '첫날', '부터', '등장', '김', '정은', '과', '공연', '관람']\n",
      "568번째 문장: ['새해', '첫날', '훈련', '경계', '근무', '구슬땀', '합참', '의장', '군', '대비', '태세', '점검', '뉴', '시스']\n",
      "569번째 문장: ['저출산', '고령화', '가장', '시급', '지지율', '낮', '지만', '도', '못', '믿', '어', '한국', '일보', '신년', '여론', '조사']\n",
      "570번째 문장: ['총선', '투표', '에', '고려', '하', '겠', '다', '김', '건희', '특검', '이재명', '재판', '한국', '일보', '신년', '여론', '조사']\n",
      "571번째 문장: ['이', '준석', '뜻대로', '안', '되', '면', '패거리', '카르텔', '지목', '신년사', '직격']\n",
      "572번째 문장: ['이', '낙', '연', '탈당', '신당', '창당', '초읽기']\n",
      "573번째 문장: ['벌써', '정부', '년', '차', '배', '늘어나', 'ㄴ', '신년사', '에', '담기', 'ㄴ', '마리', '토끼']\n",
      "574번째 문장: ['총선', '의', '해', '첫날', '한동', '훈', '이재명', '필승', '이', '낙', '연', '이', '준석', '새', '희망']\n",
      "575번째 문장: ['이재명', '전', '대통령', '묘역', '참배', '내일', '예방']\n",
      "576번째 문장: ['대통령', '신년', '업무', '보고', '국민', '과', '함께', '받', '는', '다']\n",
      "577번째 문장: ['뉴스', '초점', '김', '정은', '군사적', '대비', '태세', '완벽히', '올해', '한반도', '정세', '는']\n",
      "578번째 문장: ['년', '여명', '도시', '와', '사람', '인천', '의', '새', '희망', '신년', '특집']\n",
      "579번째 문장: ['국민', '의', '힘', '대통령', '신년사', '에', '정부', '와', '경제', '활력', '에', '최선']\n",
      "580번째 문장: ['이', '준석', '뜻대로', '안되', '면', '카르텔', '지목', '정치', '세력', '교체', '하', '어야']\n",
      "581번째 문장: ['손', '식', '지', '작사', '령', '관', '적', '도발', '시', '선', '조치', '후', '보고', '즉각', '단호', '하', '게', '응징']\n",
      "582번째 문장: ['이재명', '노무현', '묘역', '참배', '반칙', '특권', '없', '는', '세상', '만들', '겠', '다']\n",
      "583번째 문장: ['최', '선희', '김', '정은', '지시', '따르', '아', '대남', '기구', '정리', '착수']\n",
      "584번째 문장: ['윤', '신년사', '에', '여', '민생', '경제', '오', 'ㄴ', '힘', '다짐', '야', '국민', '갈등', '정쟁', '부추기', '어', '종합']\n",
      "585번째 문장: ['대통령', '실', '기자', '회견', '여부', '국민', '과', '어떻', '게', '소통', '하', 'ㄹ', '지', '생각', '중']\n",
      "586번째 문장: ['권', '양', '숙', '여사', '봉', '하', '찾', '은', '이재명', '에', '흔들리', '지', '않', '고', '크', '는', '거목', '어딨', '겠', '나']\n",
      "587번째 문장: ['노인', '기초', '연금', '인', '가구', '기준', '월', '만원', '부터', '고급', '자동차', '배기량', '기준', '폐지']\n",
      "588번째 문장: ['행동', '하', '는', '정부', '이념', '기반', '패거리', '카르텔', '타파']\n",
      "589번째 문장: ['이', '준석', '패거리', '카르텔', '뜻대로', '안', '되', '면', '괴롭히', '어', '세대', '교체', '하', '어야']\n",
      "590번째 문장: ['대통령', '신년사', '평가', '엇갈리', '어', '국민', '의', '힘', '민생', '강조', '민주', '갈등', '부채질']\n",
      "591번째 문장: ['윤', '대통령', '상반기', '한미', '확장', '억제', '완성', '북', '핵', '위협', '원천', '봉쇄', '종합']\n",
      "592번째 문장: ['새해', '부터', '대전', '찾', '는', '한동', '훈', '중원', '표', '심', '쐐기', '박', '낳']\n",
      "593번째 문장: ['손', '식', '지', '작사', '령', '관', '적', '도발', '시', '선', '조치', '후', '보고', '즉각', '단호', '하', '게', '응징', '하', '어야']\n",
      "594번째 문장: ['새해', '대비', '태세', '점검', '하', '는', '손', '식', '지', '작사', '령', '관']\n",
      "595번째 문장: ['신년사', '에', '여', '윤', '정부', '와', '최선', '야', '국민', '갈등', '부추기', '어', '종합']\n",
      "596번째 문장: ['딸', '주', '애', '에게', '뽀뽀', '하', '는', '김', '정', '은', '북한', '국무', '위원장']\n",
      "597번째 문장: ['딸', '주', '애', '와', '팔짱', '끼', '고', '녀', 'ㄴ', '신년', '경축', '공연', '입장', '하', '는', '김', '정', '은']\n",
      "598번째 문장: ['광복회', '독도', '논란', '은', '국방부', '장관', '의', '편향', '되', 'ㄴ', '역사', '인식', '때문']\n",
      "599번째 문장: ['대통령', '실', '구조적', '개혁', '방해', '하', '는', '세력', '이', '패거리', '카르텔']\n",
      "600번째 문장: ['민주', '윤', '패거리', '카르텔', '에', '반성', '없이', '독주', '정쟁', '부추기', '어']\n",
      "601번째 문장: ['대통령', '실', '신년', '업무', '보고', '국민', '이', '함께', '하', '는', '민생', '토론회', '로', '실시']\n",
      "602번째 문장: ['대통령', '참모', '들', '과', '떡국', '먹', '으며', '민생', '깊이', '파고들', '어야', '종합']\n",
      "603번째 문장: ['대통령', '실', '신년', '업무', '보고', '주제별', '로', '현장', '찾', '아', '국민', '과', '함께', '민생', '토론']\n",
      "604번째 문장: ['한동', '훈', '다양', '하', 'ㄴ', '배경', '가지', 'ㄴ', '분', '합치', '어야', '강', '해지', '어', '극우', '공세', '차단']\n",
      "605번째 문장: ['이재명', '새해', '첫날', '찾', '아', '통합', '정통성', '강조', '균열', '커지', '는', '민주당']\n",
      "606번째 문장: ['김', '정', '은', '언제', '든', '무력', '충돌', '가능', '총선', '차', '핵', '실험', '관측', '도']\n",
      "607번째 문장: ['북한', '김', '정은', '국무', '위원장', '신년', '경', '축대', '공연', '관람']\n",
      "608번째 문장: ['김', '정', '은', '북한', '국무', '위원장', '딸', '주', '애', '와', '신년', '경', '축대', '공연', '관람']\n",
      "609번째 문장: ['북한', '김', '정은', '국무', '위원장', '딸', '주', '애', '와', '신년', '경', '축대', '공연', '관람']\n",
      "610번째 문장: ['벤츠', '마이', '바', '흐', '에', '서', '내리', '는', '김', '정', '은']\n",
      "611번째 문장: ['대통령', '신년', '업무', '보고', '국민', '참여', '토론회', '로']\n",
      "612번째 문장: ['새해', '첫', '날', '총선', '은', '일', '앞', '으로']\n",
      "613번째 문장: ['이', '낙', '연', '이재명', '겨냥', '거짓말', '정치', '말자', '명과', '행주', '산성', '행']\n",
      "614번째 문장: ['일', '남', '은', '국회', '의원', '선거']\n",
      "615번째 문장: ['올해', '월', '국회의원', '선거']\n",
      "616번째 문장: ['정치권', '주요', '인사', '새해', '맞', '아', '새롭', 'ㄴ', '정치', '약속', '신년사', '종합']\n",
      "617번째 문장: ['정부', '안보리', '비상임', '이사국', '개시', '북한', '문제', '띄우', 'ㄴ다']\n",
      "618번째 문장: ['북한군', '이', '가장', '두려워하', '는', '사단', '백골', '포병', '여단', '새해', '첫날', '포탄', '사격', '훈련']\n",
      "619번째 문장: ['대통령', '실', '신년', '업무', '보고', '주제별', '로', '현장', '서', '민생', '토론회', '로']\n",
      "620번째 문장: ['국무', '위원', '참모', '들', '에', '올해', '는', '문제', '생기', '면', '즉각', '해결']\n",
      "621번째 문장: ['경기도', '가구', '당', '사교육비', '월', '만원', '년']\n",
      "622번째 문장: ['이재명', '노무현', '전', '대통령', '묘역', '참배', '반칙', '특권', '없', '는', '세상', '만들', '겠', '다']\n",
      "623번째 문장: ['이재명', '새해', '첫날', '봉', '하', '방문', '더', '단합', '하', '어', '선거', '잘', '준비', '하', '겠', '다', '종합']\n",
      "624번째 문장: ['신년사', '진정', '하', 'ㄴ', '민생', '추진', '패거리', '카르텔', '타파']\n",
      "625번째 문장: ['이재명', '동지', '에서', '적', '으로', '이', '낙', '연의', '시간', '은', '오', 'ㄹ까']\n",
      "626번째 문장: ['국', '힘', '윤', '정부', '와', '활력', '넘치', '는', '경제', '만들', '기', '위하', '어', '최선', '다하', 'ㄹ', '것']\n",
      "627번째 문장: ['한동', '훈', '비대', '위', '요직', '에', '충', '청', '인사', '장동', '혁', '홍', '영림', '임명']\n",
      "628번째 문장: ['월남전', '참전', '유공자', '만', '명', '전원', '에게', '영웅', '제복', '지급', '하', 'ㄴ다']\n",
      "629번째 문장: ['국회의원', '선거']\n",
      "630번째 문장: ['일', '앞', '으로', '다가오', 'ㄴ', '국회의원', '선거']\n",
      "631번째 문장: ['대', '국회의원', '선거', '일', '앞', '으로']\n",
      "632번째 문장: ['일', '앞두', 'ㄴ', '총선']\n",
      "633번째 문장: ['국회의원', '선거', '일', '앞', '으로']\n",
      "634번째 문장: ['대통령', '실', '신년', '업무', '보', '고는', '민생', '토론회', '형식', '국민', '들', '도', '참여']\n",
      "635번째 문장: ['대통령', '국무', '위원', '참모', '와', '떡국', '조찬', '민생', '경제', '안정', '기원']\n",
      "636번째 문장: ['이재명', '노무현', '참배', '권', '양', '숙', '예방', '신년', '회', '참석', '재검토', '중']\n",
      "637번째 문장: ['전직', '대통령', '묘소', '찾', '은', '한동', '훈', '비대', '위원장', '사진관']\n",
      "638번째 문장: ['딸', '주', '애', '에게', '뽀뽀', '하', '는', '김', '정', '은']\n",
      "전처리 중 오류 발생: java.lang.NullPointerException\n",
      "오류가 발생한 문장:              \n",
      "이전 문장: 김주애 새해 첫날부터 등장김정은과 공연 관람\n",
      "640번째 문장: ['차기', '대통령', '한동', '훈', '이재명', '국정', '지지율', '도', '상승']\n",
      "641번째 문장: ['오', '세', '훈', '어울림', '의', '가치', '기억', '서울', '따스', '하', '게', '채우', '어', '가', '겠', '다']\n",
      "642번째 문장: ['김', '정', '은', '딸', '주', '애', '와', '팔짱', '끼', '고', '신년', '경축', '공연장', '입장']\n",
      "643번째 문장: ['이', '준석', '개혁', '신당', '이달', '창당', '마무리', '목표', '공천', '작업', '본격화']\n",
      "644번째 문장: ['이', '준석', '돼지', '눈', '으로', '보', '면', '돼지', '만', '보이', 'ㄹ', '것', '세력', '교체', '주장']\n",
      "645번째 문장: ['한동', '훈', '동료', '시민', '정책', '마련', '총선', '승리', '다짐', '이', '준석', '신당', '창당', '속도전', '종합']\n",
      "646번째 문장: ['개혁', '신당', '이', '준석', '돼지', '눈', '으로', '세상', '보', '면', '돼지', '만', '보여', '세력', '교체', '하', '어야']\n",
      "647번째 문장: ['합참', '의장', '새해', '첫날', '하늘', '의', '지휘소', '타고', '대비', '태세', '점검']\n",
      "648번째 문장: ['참모', '들', '에게', '올해', '는', '문제', '생기', '면', '즉각', '해결', '민생', '파고', '듣', '어야']\n",
      "649번째 문장: ['여당', '윤', '석', '열', '정부', '와', '경제', '활력', '만들기', '최선', '다하', 'ㄹ', '것']\n",
      "650번째 문장: ['신년', '업무', '보고', '국민', '과', '함께', '받', '는', '다', '민생', '토론회', '형식']\n",
      "651번째 문장: ['김', '하', 'ㄴ', '길', '동행', '주제', '로', '도박', '학교', '폭력', '탈', '북', '민', '등', '현안', '개선']\n",
      "652번째 문장: ['지자체', '실', '국장급', '조직', '운영', '지방', '정부', '재량', '에', '맡기', 'ㄴ다']\n",
      "653번째 문장: ['윤', '국민', '과', '함께', '하', '는', '민생', '토론회', '신년', '업무', '보고', '기자', '회견', '에', '는', '소통', '생각', '중']\n",
      "654번째 문장: ['차기', '대통령', '감', '은', '한동', '훈', '이재명', '갤럽']\n",
      "655번째 문장: ['한동', '훈', '김', '건희', '특검', '질문', '에', '도이치', '특검', '국민', '눈', '귀', '가리', '는', '악법']\n",
      "656번째 문장: ['김', '정은', '에', '무력', '충돌', '기정사실', '화', '하라', '더', '거칠어지', '었', '다']\n",
      "657번째 문장: ['노', '컷', '브이', '국민', '이', '권력', '여야', '갑', '진년', '벽두', '부터', '신경전']\n",
      "658번째 문장: ['개혁', '신당', '이', '준석', '국민', '의', '힘', '저', '빼', '고', '김', '종인', '빼', '면', '자유', '한국', '당']\n",
      "659번째 문장: ['북', '최', '선희', '김', '정은', '지시', '따르', '아', '대남', '기구', '폐지', '착수']\n",
      "660번째 문장: ['대통령', '실', '윤', '패거리', '카르텔', '민주', '해석', '에', '개혁', '방해', '하', '는', '세력', '지칭']\n",
      "661번째 문장: ['신년', '업무', '보고', '는', '주제별', '로', '노동', '교육', '연금', '개혁', '포함', '되', 'ㄹ까']\n",
      "662번째 문장: ['북한', '대남', '기구', '정리', '시작하', '었', '다', '통일', '불가', '김', '정은', '지시', '이행']\n",
      "663번째 문장: ['새해', '첫날', '묘역', '참배', '하', 'ㄴ', '이재명', '반칙', '과', '특권', '없', '는', '세상', '만들', '겠', '다']\n",
      "664번째 문장: ['농', '식품', '부', '장관', '장수군', '찾', '아', '확산', '방지', '에', '총력', '주문']\n",
      "665번째 문장: ['대통령', '실', '대통령', '파리', '술자리', '비용', '비공개', '국익', '해치', 'ㄹ', '우려']\n",
      "666번째 문장: ['민생', '파고들', '어야', '업무', '보고', '국민', '제안', '모두', '현장', '에서']\n",
      "667번째 문장: ['사과', '배', '등', '과일', '가격', '강세', '미국산', '계란', '만', '개', '도입']\n",
      "668번째 문장: ['동계', '청소년', '올림픽', '대회', '선수촌', '빈대', '예방', '점검', '실시']\n",
      "669번째 문장: ['한동', '훈', '공관', '위원장', '과정', '이', '공정', '하', '고', '이기', '는', '공천', '하', 'ㄹ', '분', '고르', 'ㄹ', '것']\n",
      "670번째 문장: ['강원', '특별', '자치', '도', '월', '팀장', '급', '이하', '명', '승진', '예정']\n",
      "671번째 문장: ['올해', '업무', '보고', '민생', '토론', '회로', '기자단', '과', '김치찌개', '도', '먹', '는', '다']\n",
      "672번째 문장: ['윤', '참모', '들', '에', '오', 'ㄹ', '핸', '문제', '즉각', '해결', '민생', '깊이', '파고들', '어야']\n",
      "673번째 문장: ['이', '준석', '겨냥', '돼지', '의', '눈', '에', '는', '돼지', '만', '보이', '어', '뜻대로', '안', '되', '면', '카르텔', '로', '지목']\n",
      "674번째 문장: ['한', '총리', '새해', '첫날', '환경', '공무', '관', '격려', '고되', 'ㄴ', '일', '에', '감사']\n",
      "675번째 문장: ['김명수', '합참', '의장', '피스', '아이', '항공', '통', '제기', '타', '고', '새해', '첫', '지휘', '비행']\n",
      "676번째 문장: ['김', '정은', '지시', '따르', '아', '대남', '기구', '정리', '돌입', '외무상', '최선희', '가', '주도']\n",
      "677번째 문장: ['바', '이', '든', '시진', '핑', '새해', '첫', '날', '축전', '교환', '양국', '관계', '발전', '기대']\n",
      "678번째 문장: ['청룡', '의', '해']\n",
      "679번째 문장: ['한동', '훈', '특검', '법', '국민', '눈', '과', '귀', '를', '가리', '는', '총선', '용', '악법']\n",
      "680번째 문장: ['총선', '일', '앞', '으로', '여야', '뜨겁', 'ㄴ', '신경전']\n",
      "681번째 문장: ['북한', '최', '선희', '외무상', '대남', '기구', '정리', '착수']\n",
      "682번째 문장: ['합참', '의장', '새해', '지휘', '비행', '과', '감하', '게', '행동', '하', '라']\n",
      "683번째 문장: ['광복회', '논란', '되', 'ㄴ', '정신', '전력', '교재', '는', '신원', '식', '장관', '인식', '반영', '되', 'ㄴ', '것']\n",
      "684번째 문장: ['총선', '여야', '새해', '맞', '아', '총선', '행보', '본격화']\n",
      "685번째 문장: ['육군', '새해', '첫', '포탄', '사격', '훈련', '장병', '여', '명', '참가']\n",
      "686번째 문장: ['이', '준석', '개혁', '신당', '이달', '중순', '창당', '마무리', '허', '은', '아', '아도', '합류', '예정']\n",
      "687번째 문장: ['한동', '훈', '포격', '때', '찜질', '방', '내', '어', '어', '주', 'ㄴ', '박', '사장님', '동료', '시민', '실천', '하', 'ㄹ', '것']\n",
      "688번째 문장: ['새해', '부터', '병사', '월급', '인상', '병장', '기준', '만원']\n",
      "689번째 문장: ['새해', '부터', '병사', '월급', '병장', '기준', '만원', '오르', 'ㄴ', '만원']\n",
      "690번째 문장: ['새해', '부터', '병사', '월급', '인상']\n",
      "691번째 문장: ['여야', '대표', '현', '충원', '참배', '로', '신년', '일정', '시작']\n",
      "692번째 문장: ['국무', '위원', '참모', '와', '떡국', '조찬', '올해', '는', '문제', '생기', '면', '즉각', '해결']\n",
      "693번째 문장: ['이', '준석', '신당', '이달', '중순', '창당', '마무리', '신년', '에', '는', '악몽', '가시길']\n",
      "694번째 문장: ['연합', '뉴스', '이', '시각', '헤드', '라인']\n",
      "695번째 문장: ['영상', '평', '창', '충전', '소', '가스', '누출', '로', '연쇄', '폭발', '블랙', '박스', '영상']\n",
      "696번째 문장: ['국민', '절반', '소득', '만', '달러', '중추', '국가', '도약', '눈앞']\n",
      "697번째 문장: ['강원도', '청', '지난해', '수의', '계약', '억', '원']\n",
      "698번째 문장: ['동해시', '내일', '부터', '한', '달', '간', '농업', '이', 'ㄴ', '수당', '신청', '접수']\n",
      "699번째 문장: ['강원도', '전통', '시장', '활성화', '부문', '국비', '억', '원', '확보']\n",
      "700번째 문장: ['돈', '내', '는', '것', '이', '맞기', 'ㄴ', '한데', '하', '속', '만', '썩이', '는', '핀', '테크', '업체', '들', '무슨', '일']\n",
      "701번째 문장: ['한국', '조선', '지난해', '수주', '줄', '며', '년', '연속', '위']\n",
      "702번째 문장: ['태영', '건설', '대출', '보증', '규모', '조원', '채권단', '에', '소집', '통보']\n",
      "703번째 문장: ['반도체', '디지털', '전환', '전문', '인력', '양성', '에', '집중', '하', 'ㄹ', '것']\n",
      "704번째 문장: ['포토', '소비', '기한', '표시', '제', '본격', '시행']\n",
      "705번째 문장: ['새해', '첫날', '열도', '강타', '하', 'ㄴ', '강진', '산사태', '화재', '도로', '파손', '등', '이어지', '어']\n",
      "706번째 문장: ['중국', '헝', '다', '전', '기차', '주식', '매각', '거래', '종료']\n",
      "707번째 문장: ['중국', '자동차', '회사', '년', '판매', '목표', '만대', '로', '상향', '조정']\n",
      "708번째 문장: ['오리', '건', '주간지', '횡령', '으로', '전', '직원', '해고', '인쇄', '중단']\n",
      "709번째 문장: ['중진', '공', '조원', '예산', '확정', '납품', '발주', '서로', '자금', '대출', '신규', '편성']\n",
      "710번째 문장: ['중국', '에', '수출', '오히려', '적자', '년', '만', '에', '한국', '최대', '수출국', '되', 'ㄴ', '미국']\n",
      "711번째 문장: ['인사', '한국', '마사회']\n",
      "712번째 문장: ['최저', '임금', '원부', '모', '모두', '육아', '휴직', '하', '면', '최대', '만원']\n",
      "713번째 문장: ['해양', '수산', '소식', '항만', '내', '위험', '구역', '한', '눈', '에', '알아보', 'ㄹ', '수', '있', '다']\n",
      "714번째 문장: ['이시', '카', '와', '현', '서', '규모', '넘', '는', '강진', '남북한', '에', '도', '지진', '해일', '경보']\n",
      "715번째 문장: ['최', '상목', '소', '상공인', '만', '명', '인', '당', '만', '원', '전기', '요금', '감면']\n",
      "716번째 문장: ['사과', '배', '과일', '가격', '강세', '미국산', '계란', '만', '개', '도입']\n",
      "717번째 문장: ['모태', '아세아', '상선', '설립', '주도', '송', '윤', '재', '전', '고문', '별세']\n",
      "718번째 문장: ['송', '미령', '농', '식품', '부', '장관', '산란계', '농장', '한층', '강화', '되', 'ㄴ', '방역', '필요']\n",
      "719번째 문장: ['강원', '도', '지난해', '수의', '계약', '억', '원']\n",
      "720번째 문장: ['올해', '농축', '산', '식품', '분야', '에', '억', '원', '투자']\n",
      "721번째 문장: ['경산', '역', '정차', '하루', '회회', '증편']\n",
      "722번째 문장: ['가처분', '소득', '대', '늘', '었', '는데', '먹거리', '물가', '대', '껑충']\n",
      "723번째 문장: ['수산물', '방사능', '검사', '결과', '적합']\n",
      "724번째 문장: ['한', '은', '총재', '부동산', '등', '금융', '불안', '철저', '대비']\n",
      "725번째 문장: ['지난해', '무역', '수지', '적자', '억', '달러', '육박', '반도체', '개선', '흐름']\n",
      "726번째 문장: ['대구', '경북', '섬유', '수출', '크', 'ㄴ', '폭', '하락']\n",
      "727번째 문장: ['사우디', '국부', '펀드', '지난해', '세계', '국부', '펀드', '지출', '분의', '차지']\n",
      "728번째 문장: ['대구', '오피스텔', '상가', '기준시', '가', '크', 'ㄴ', '폭', '하락']\n",
      "729번째 문장: ['브라질', '페트', '로', '브라스', '세', '페', '티', '바', '생산', '시작']\n",
      "730번째 문장: ['제주', '방문', '을', '환영', '하', 'ㅂ니다', '첫', '관광객', '환영', '행사', '열리', '어']\n",
      "731번째 문장: ['부동산', '위험', '신호', '감', '지', '이', '창', '용', '한', '은', '총재', '의', '경고']\n",
      "732번째 문장: ['공사', '비용', '녀', 'ㄴ', '새', '급등', '건설', '경기', '올해', '도', '침체', '지속']\n",
      "733번째 문장: ['전자', '에', '글', '램', '핑', '용', '본보', '야지', '업그레이드', '버전', '공개', '포토', '뉴스']\n",
      "734번째 문장: ['태영', '건설', '워크', '아웃', '신청', '하루', '만', '에', '유동성', '확보', '약속', '파기']\n",
      "735번째 문장: ['증', '평', '지역', '상품권', '구매', '한도', '만', '원', '으로', '축소']\n",
      "736번째 문장: ['한국', '무역', '협회', '강원', '지역', '본부장', '에', '한', '창회', '지부장']\n",
      "737번째 문장: ['영동', '국악', '와인', '열차', '지난해', '관광객', '천', '여', '명', '이용']\n",
      "738번째 문장: ['반갑', '어', '년', '포토', '뉴스']\n",
      "739번째 문장: ['거문고', '줄', '고치', '듯', '변화', '강조', '하', 'ㄴ', '최', '태원']\n",
      "740번째 문장: ['금감', '원장', '부실', '기업', '자기', '책임', '원칙', '엄수']\n",
      "741번째 문장: ['인구', '감소', '지역', '주민', '보다', '머물', '다', '간', '사람', '이', '더', '많', '았', '다']\n",
      "742번째 문장: ['자회사', '서', '조', '중간', '배당', '하', 'ㄴ', '전', '채권', '조', '추가', '발행', '여력', '생기', '어']\n",
      "743번째 문장: ['여행', '지출액', '절반', '환급', '강진군', '반값', '관광', '의', '해', '추진']\n",
      "744번째 문장: ['충청북도', '노인', '일자리', '확대']\n",
      "745번째 문장: ['에너지', '분야', '한국판', '실리콘밸리', '꿈꾸', '는', '전', '남']\n",
      "746번째 문장: ['금산군', '양수', '발전소', '유치', '성공', '경제', '활성화', '기대']\n",
      "747번째 문장: ['기술', '보증', '기금', '기후', '기술', '기업', '우대', '보증', '상품', '출시']\n",
      "748번째 문장: ['전', '북', '근로자', '일', '생활', '균형', '수준', '전국', '하위권']\n",
      "749번째 문장: ['전라', '북도', '새해', '바이오', '등', '미래', '성장', '산업', '관련', '기업', '유치']\n",
      "750번째 문장: ['부산', '시티', '투어', '버스', '일', '부터', '일부', '노선', '운영', '재개']\n",
      "751번째 문장: ['년', '여', '만', '에', '뒤바뀌', 'ㄴ', '무역', '판도', '월간', '대미', '수출', '대중', '수출', '제치', '었', '다']\n",
      "752번째 문장: ['발걸음', '참', '무겁', '네요', '새해', '밝', '았', '지만', '자동차', '철강', '회사', '들', '불안', '불안']\n",
      "753번째 문장: ['신년사', '이', '창', '용', '부동산', '위험', '신호', '감지', '금융', '불안', '가능성', '에', '대비', '하', '어야']\n",
      "754번째 문장: ['해', '수부', '설', '앞두', '고', '선원', '임금', '체불', '특별', '근로', '감독']\n",
      "755번째 문장: ['국가', '고객', '만족도', '조사', '삼성물산', '래미', '안', '헤스티아', '로', '입주민', '경험', '차별화']\n",
      "756번째 문장: ['국가', '고객', '만족도', '조사', '롯데', '글로벌', '면세', '시장', '공략', '위', '하', 'ㄴ', '외연', '확장', '가속화']\n",
      "757번째 문장: ['국가', '고객', '만족도', '조사', '디지털', '기반', '글로벌', '금융', '기업', '지향']\n",
      "758번째 문장: ['고속도로', '지하', '화', '속도', '상부', '는', '공원', '으로', '상습', '정체', '해소', '도']\n",
      "759번째 문장: ['포토', '안', '오르', 'ㄴ', '것', '이', '없', '네', '작년', '먹거리', '물가', '상승']\n",
      "760번째 문장: ['반도체', '자동차', '가', '반등', '이끌', 'ㄴ', '다년', '만', '에', '무역', '흑자', '기대']\n",
      "761번째 문장: ['소비', '심리', '여전히', '겨울', '이지만', '자영업자', '들', '봄', '날', '오', '았', '으면']\n",
      "762번째 문장: ['해', '수부', '패류', '독소', '안전', '관리', '강화', '생산', '해역', '곳', '서', '조사']\n",
      "763번째 문장: ['대구시', '국립', '치의', '학', '연구원', '유치', '본격화', '산업', '크', 'ㄹ', '러', '스터', '구축', '시너지']\n",
      "764번째 문장: ['단독', '태영', '그룹', '워크', '아웃', '신청', '하루', '만', '에', '유동성', '확보', '약속', '어기', '었', '다']\n",
      "765번째 문장: ['최', '상목', '소', '상공인', '인', '당', '전기료', '만원', '감면']\n",
      "766번째 문장: ['경제계', '민생', '강조', '대통령', '신년사', '에', '일제히', '환영']\n",
      "767번째 문장: ['년', '물가', '상승률', '로', '마무리', '녀', 'ㄴ', '전망', '실현', '되', 'ㄹ까']\n",
      "768번째 문장: ['새해', '부터', '수산', '정책', '자금', '공급', '규모', '억', '원', '확대', '어업', '경영', '자금', '대출', '한도', '억', '원', '상향']\n",
      "769번째 문장: ['신년', '기대감', '없', '다', '소', '상공인', '전통', '시장', '전망', '경기', '찬바람']\n",
      "770번째 문장: ['지난해', '하반기', '듣', '어', '수출', '회복세', '새해', '반도체', '실적', '늘', 'ㄹ', '것']\n",
      "771번째 문장: ['월', '대미', '수출', '대중', '수출', '추월', '중국', '경기', '악화', '영향']\n",
      "772번째 문장: ['금리', '떨어지', 'ㄹ', '듯', '예상', '속속', '새해', '부동산', '시장', '전망', '은']\n",
      "773번째 문장: ['현실', '이', '되', '나']\n",
      "774번째 문장: ['한', '달', '수익률', '다시', '살아나', '는', '바이오']\n",
      "775번째 문장: ['고금리', '이', '고', '물가', '난제', '올해', '내수', '훈풍', '언제', '불', 'ㄹ까']\n",
      "776번째 문장: ['세계', '최', '고층', '빌딩', '건설', '삼성', '현대', '대우', '불참', '확정']\n",
      "777번째 문장: ['단독', '해외', '자원', '개발', '길', '트', '어', '주', 'ㄴ다', '실패', '하', '어도', '원리금', '상환', '부담', '낮추', '어', '주', '어']\n",
      "778번째 문장: ['반도체', '가', '반도체', '하', '었', '다', '개월', '연속', '한국', '수출', '증가', '이끌', '어']\n",
      "779번째 문장: ['좀', '더', '살', 'ㄹ래', '집', '빼기', '로', '하', '었', '다가', '말', '바꾸', 'ㄴ', '세입자', '대법', '판단', '은']\n",
      "780번째 문장: ['상거래', '채권', '갚', '겠', '다', '덜', 'ㄴ', '태영', '건설', '외', '담대', '빼', '었', '다', '협력사', '자금난', '우려']\n",
      "781번째 문장: ['미', '연', '주', 'ㄴ', '은', '균열', '을', '보', 'ㄴ', '것', '이', 'ㄴ가']\n",
      "782번째 문장: ['올', '수출', '나', '홀로', '강세', '예상', '내수', '부진', '탓', '경기', '회복', '은', '난망']\n",
      "783번째 문장: ['원안', '위', '동해안', '원전', '해일', '견디', '어', '일본', '지진', '영향', '없', '어']\n",
      "784번째 문장: ['새해', '에', '는', '이자', '부담', '라도', '더', '줄이', '자', '상품별', '대출', '금리', '제일', '낮', '은', '은행', '은', '어디', '멀', '니', '뭐', '니']\n",
      "785번째 문장: ['대구', '오피스텔', '기준', '가', '년', '이후', '가장', '크', 'ㄴ', '폭', '하락']\n",
      "786번째 문장: ['명', '에', '만원', '이요', '호텔', '딸기', '뷔페', '가격', '상승', '에', '도', '자리', '없', '어요']\n",
      "787번째 문장: ['아트', '텔', '링', '대덕', '특구', '에', '메타', '버스', '관련', '연구소', '기업', '설립']\n",
      "788번째 문장: ['스', '어', '국', '동', '농협', '손', '보', '대표', '이사', '취임']\n",
      "789번째 문장: ['급격', '하', 'ㄴ', '인구', '감소', '경제', '는', '마이너스', '성장']\n",
      "790번째 문장: ['훌륭', '하', 'ㄴ', '연구', '성과', '라더', '니', '돌아오', 'ㄴ', '건', '후', '폭풍', '벌써', '시작', '되', '었', '다']\n",
      "791번째 문장: ['특허', '완료', '앞두', 'ㄴ', '빅', '파마', '메가', '디', 'ㄹ', '늘리', '었', '다']\n",
      "792번째 문장: ['수입', '차', '덜컥', '사', '었', '다가', '후회', '천만', '원', '이상', '보유', '어르신', '기초', '연금', '못', '받', '는', '다']\n",
      "793번째 문장: ['자회사', '서', '조', '수혈', '한전', '채권', '조', '추가', '발행', '숨통']\n",
      "794번째 문장: ['돈', '잔치', '눈총', '에', '희망', '퇴직', '조건', '나빠지', 'ㄴ', '은행권']\n",
      "795번째 문장: ['불확실', '성', '커지', 'ㄴ', '경제', '환경', '도전', '과', '혁신', '으로', '뛰어넘', '자']\n",
      "796번째 문장: ['전자', '서', '혁신', '제품', '대거', '선보이', 'ㄴ다']\n",
      "797번째 문장: ['새해', '밝히', '는', '롯데', '월드', '타워', '불꽃', '쇼']\n",
      "798번째 문장: ['영세', '소', '상공인', '만명', '이', 'ㄴ', '당', '만원', '전기', '요금', '감면', '받', '는', '다']\n",
      "799번째 문장: ['침체', '에', '빠지', 'ㄴ', '내수', '올해', '경제', '발목', '잡', '나']\n",
      "800번째 문장: ['무역', '적자', '억', '달러', '중국', '에', '첫', '적자']\n",
      "801번째 문장: ['최', '상목', '영세', '소', '상공인', '만명', '전기', '요금', '이', 'ㄴ', '당', '만원', '감면']\n",
      "802번째 문장: ['동해안', '서', '지진', '해일', '관측', '시간', '지속', '되', 'ㄹ', '수도']\n",
      "803번째 문장: ['실', '손', '청구', '전산화', '상품', '비교', '추천', '플랫폼', '보험', '디지털', '대전환']\n",
      "804번째 문장: ['송', '호', '주', 'ㄴ', '에코', '프로', '대표', '기술', '리더십', '없', '으면', '시장', '승자', '되', 'ㄹ', '수', '없', '다']\n",
      "805번째 문장: ['중기', '부', '작년', '사업', '전환', '역대', '최대', '건', '승인']\n",
      "806번째 문장: ['오', '영주', '중기', '부', '장관', '새해', '첫', '행보', '로', '청년', '기업', '전통', '시장', '방문']\n",
      "807번째 문장: ['할인', '에', '도', '닫히', 'ㄴ', '지갑', '수출', '도', '안개', '속']\n",
      "808번째 문장: ['파리', '바', '것', '이', '뜨', '는', '프리미엄', '브랜드', '싱', '가', '아', '포', '르', '베이커리', '강풍', '신년', '기획', '기회', '의', '땅', '동남아', '인도', '를', '가닿']\n",
      "809번째 문장: ['중기', '부', '지역', '특화', '프로젝트', '레', '전드', '추진']\n",
      "810번째 문장: ['새해', '첫', '제주', '입도', '관광객', '환영', '행사', '열리', '어']\n",
      "811번째 문장: ['강도', '형', '해수', '장관', '첫', '행보', '로', '수산물', '물가', '현장', '점검', '수산물', '가격', '안정', '최선']\n",
      "812번째 문장: ['현지', '힙', '플레이', '스', '죠', '동남아', '서', '성공', '가능성', '엿보', '았', '다', '신년', '기획', '기회', '의', '땅', '동남아', '인도', '를', '가닿']\n",
      "813번째 문장: ['경북', '도', '아프리카', '돼지', '열병', '차단', '방역', '강화']\n",
      "814번째 문장: ['새해', '서울', '아파트', '전', '셋', '값', '오르', 'ㄴ다']\n",
      "815번째 문장: ['고용', '노동부', '청주', '지청', '사업장', '안전', '위반', '건', '적발']\n",
      "816번째 문장: ['도시', '가', '젊', '어', '지', '고', '인구', '가', '늘어나', 'ㄴ다', '충청권', '인구', '선도', '지역', '주목']\n",
      "817번째 문장: ['부산', '시티', '투어', '버스', '일', '부터', '해운대', '노선', '운영', '재개']\n",
      "818번째 문장: ['깁미쪼꼬', '렛', '한국', '전쟁', '그', '초콜릿', '이', '남자', '가', '만들', '었', '죠', '추동', '훈', '의', '흥부전']\n",
      "819번째 문장: ['태국', '내수', '목표', '포스', '코', '타이', '녹', '스의', '이유', '있', '는', '자신감', '신년', '기획', '기회', '의', '땅', '동남아', '인도', '를', '가닿']\n",
      "820번째 문장: ['중기', '부', '지역', '집중', '육성', '레', '전드', '본격', '추진']\n",
      "821번째 문장: ['월', '만', '원', '노인', '부부', '도', '기초', '연금', '받', '는', '다']\n",
      "822번째 문장: ['농', '식품', '부', '장관', '장수군', '찾', '아', '확산', '방지', '당부']\n",
      "823번째 문장: ['송', '호', '주', 'ㄴ', '에코', '프로', '대표', '기술', '리더십', '없', '으면', '시장', '승자', '되', 'ㄹ', '수', '없', '어']\n",
      "824번째 문장: ['만원', '덜', '받', '아도', '삼성', '보다', '낫', '다', '연봉', '깎', '아도', '가', '고', '싶', '은', '꿈', '의', '회사', '어디']\n",
      "825번째 문장: ['지금', '집', '안', '사면', '못', '사', '죠', '영', '끄', 'ㄹ', '족', '에', '대', '빚', '뛰어넘', '어']\n",
      "826번째 문장: ['인도', '열풍', '일으키', 'ㄴ', '현대', '차', '년', '만대', '생산', '신년', '기획', '기회', '의', '땅', '동남아', '인도', '를', '가닿']\n",
      "827번째 문장: ['공', '깃', '밥', '이', '천', '원', '고물가', '에', '소비', '년', '만', '에', '뒷걸음', '질', '경기', '회복', '변수', '는']\n",
      "828번째 문장: ['롯데', '신세계', '현대', '반값', '할인', '으로', '새해', '연달']\n",
      "829번째 문장: ['전', '계열사', '와', '함께', '시너지', '커브', '신화', '꿈', '커지', 'ㄴ다', '신년', '기획', '기회', '의', '땅', '동남아', '인도', '를', '가닿']\n",
      "830번째 문장: ['한국', '진입', '때', 'ㄴ', '국가', '가치', '조', '수직', '상승', '수출', '늘', '고', '신', '인도', '상승']\n",
      "831번째 문장: ['인', '니', '공기업', '과', '우량', '대기업', '을', '주', '고객', '으로', '대', '은행', '명성', '되찾', '을', '것', '신년', '기획', '기회', '의', '땅', '동남아', '인도', '를', '가닿']\n",
      "832번째 문장: ['당국', '태영', '오너', '자구', '노력', '약속', '안', '지키', '어']\n",
      "833번째 문장: ['포토', '우리은행', '장', '새해', '첫', '행보']\n",
      "834번째 문장: ['바닥', '찍', '은', '무역', '적자', '억', '달러', '아래', '로', '윤', '대통령', '수출', '로', '경제', '회복']\n",
      "835번째 문장: ['한국', '반쪽', '짜리', '선진국', '마저', '못', '되', 'ㄹ', '판', '경제', '강국', '필수', '조건', '이것', '빨갛', 'ㄴ', '불']\n",
      "836번째 문장: ['쇼핑', '외식', '휴식', '까지', '베트남', '중산층', '소비', '문화', '바꾸', '었', '다', '신년', '기획', '기회', '의', '땅', '동남아', '인도', '를', '가닿']\n",
      "837번째 문장: ['넥스트', '마켓', '인도', '아세안', '에서', '미래', '를', '보다', '신년', '기획', '기회', '의', '땅', '동남아', '인도', '를', '가닿']\n",
      "838번째 문장: ['원안', '위', '일본', '지진', '동해안', '원전', '진동', '감지', '없', '어']\n",
      "839번째 문장: ['롯데', '손', '보', '새해', '맞', '아', '여성', '전용', '포', '미', '언제나', '언니', '출시']\n",
      "840번째 문장: ['강도', '형', '신임', '해수', '장관', '수산물', '물가', '관리', '역량', '집중', '체감', '성과', '내', 'ㄹ', '것']\n",
      "841번째 문장: ['농협', '손', '보', '스', '어', '국', '동', '신임', '대표', '이사', '취임']\n",
      "842번째 문장: ['한국', '경제', '창간', '년', '독자', '께', '드리', '는', '가지', '약속']\n",
      "843번째 문장: ['민생', '번', '외치', 'ㄴ', '윤', '대통령', '이념', '기반', '패거리', '카르텔', '타파']\n",
      "844번째 문장: ['르포', '멈추', '어', '선', '현대', '건설', '대조', '구역', '현장', '에', '는', '불법', '주차', '만']\n",
      "845번째 문장: ['원안', '위', '동해안', '원전', '해일', '에', '도', '견디', '어', '일본', '지진', '영향', '없', '다']\n",
      "846번째 문장: ['한국', '항공', '우주학', '회장', '에', '황', '창', '전', '항', '우연', '책임', '연구원']\n",
      "847번째 문장: ['문화', '넘', '어', '금융', '까지', '세계', '뒤흔들', 'ㄹ', '의', '혁신', '신년', '기획', '산', '업계', '글로벌', '전략']\n",
      "848번째 문장: ['미', '중', '일', '반도체', '산업', '파격', '지원', '한국', '도', '서두르', '어야']\n",
      "849번째 문장: ['최대', '무역', '흑자국', '년', '만', '에', '로', '교체']\n",
      "850번째 문장: ['이', '창', '용', '재정', '의존', '임기', '응변', '식', '성장', '시대', '끝나']\n",
      "851번째 문장: ['이복', '혀', 'ㄴ', '부실기업', '에', '자기', '책임', '원칙', '엄격', '적용']\n",
      "852번째 문장: ['주요', '총수', '들', '신년사', '불확실', '성', '커', '어', '관행', '버리', '고', '혁신', '도', '전', '종합']\n",
      "853번째 문장: ['태영', '건설', '워크', '아웃', '일', '채권단', '동의', '받', '을까']\n",
      "854번째 문장: ['이끌', '고', '반도체', '뒷심', '수출', '부진', '수출', '로', '버티', '었', '다', '올', '수출', '빛', '이', '보이', 'ㄴ다']\n",
      "855번째 문장: ['서한', '서문', '시장', '지구', '재개발', '우선', '협상', '대상자', '로', '선정']\n",
      "856번째 문장: ['올해', '대전', '부동산', '전망', '은', '전문가', '이', 'ㄴ', '보합', '내지', '하락']\n",
      "857번째 문장: ['세', '팩', '에', '원', '이', '마', '트의', '이', '라면', '실험']\n",
      "858번째 문장: ['소비', '심리', '깨우', '자', '백화점', '연초', '부터', '세일']\n",
      "859번째 문장: ['박이', '추', '명장', '여', '경옥', '셰프', '유명', '인사', '와', '신', '상품']\n",
      "860번째 문장: ['곡물', '값', '안정화', '식품', '사', '아', '웃', '나']\n",
      "861번째 문장: ['자막', '뉴스', '백화점', '도', '처절', '하', 'ㄴ', '생존', '경쟁', '유통', '업계', '에', '닥치', 'ㄴ', '공습', '경보']\n",
      "862번째 문장: ['오', 'ㄹ', '세', '번', '의', '금리', '인하', '예고', '하', 'ㄴ', '연', '주', 'ㄴ', '연', '착륙', '수순', '밟', '는', '경제', '뉴', '노멀', '시대', '의', '전략']\n",
      "863번째 문장: ['대전', '지역', '인', '가구', '부부', '가', '구', '년', '새', '지속', '증가', '사망', '출생', '수', '역전']\n",
      "864번째 문장: ['연초', '주요', '선고', '촉각', '오', '는', '일', '이재', '용', '양', '승', '태', '재판']\n",
      "865번째 문장: ['재정', '확대', '로', '소비', '수출', '뒷받침', '성장률', '달성', '자신감', '뉴', '노멀', '시대', '의', '전략']\n",
      "866번째 문장: ['지난해', '수출', '감소', '년', '연속', '적자', '새해', '에', '는', '반등', '기대감']\n",
      "867번째 문장: ['슈퍼', '엔저', '특수', '에', '최대', '수출', '실적', '년', '경기', '침체', '벗어나', '었', '다', '뉴', '노멀', '시대', '의', '전략']\n",
      "868번째 문장: ['스마트', '팩토리', '무장', '하', 'ㄴ', '배터리', '전', '세계', '생산', '라인', '확장', '신년', '기획', '엔진', '을', '다시', '켜', '라']\n",
      "869번째 문장: ['제조업', '일꾼', '으로', '뛰', '는', '로봇', '고품질', '제품', '생산', '늘', '었', '다', '뉴', '노멀', '시대', '디지털', '전환']\n",
      "870번째 문장: ['삼성', '애플', '중국', '삼국지', '깨', '지', '나', '구', '글', '도', '참전', '폰', '대전']\n",
      "871번째 문장: ['금융권', '자금', '시장', '긴장', '에', '정부', '채', '안', '펀드', '증액', '카드', '만', '지', '작종하']\n",
      "872번째 문장: ['기획', '또', '불어나', 'ㄴ', '태영', '건설', '배', '커지', 'ㄴ']\n",
      "873번째 문장: ['줄', '도', '산', '위기감', '커지', '는', '건설', '업계', '공급', '절벽', '부르', '나']\n",
      "874번째 문장: ['개통', '주', '년', '슬로건', '엠', '블', 'ㄹ', '럼', '선보이', '어']\n",
      "875번째 문장: ['새해', '가장', '비싸', 'ㄴ', '단독', '주택', '은', '억', '원', '누', '가', '살', '는지', '알아보', '니']\n",
      "876번째 문장: ['제철', '과일', '도', '못', '사먹', '겠', '네', '한', '달', '만', '에', '치솟', '은', '감귤', '값']\n",
      "전처리 중 오류 발생: java.lang.NullPointerException\n",
      "오류가 발생한 문장:       \n",
      "이전 문장: 신년 기대감 없다소상공인전통시장 전망경기 찬바람\n",
      "878번째 문장: ['경제', '단체', '윤', '대통령', '신년사', '환영', '경제', '활력', '제고', '중요', '하', 'ㄴ', '시점']\n",
      "879번째 문장: ['태영', '건설', '워크', '아웃', '파장', '에', '새해', '첫', '날', '부터', '모인', '멤버', '들']\n",
      "880번째 문장: ['평생', '직장', '옛말', '원하', '는', '만큼', '일하', 'ㄴ다', '뜨', '는', '긱워', '커']\n",
      "881번째 문장: ['지진', '으로', '만', '가구', '정전', '동해안', '에', '도', '지진', '해일', '도달']\n",
      "882번째 문장: ['마', '윈', '지운', '앤', '트', '고', '룹', '재', '도전']\n",
      "883번째 문장: ['오픈', '지난해', '매출', '급증']\n",
      "884번째 문장: ['고금리', '에', '움츠러들', 'ㄴ', '시장', '올해', '는', '기지개']\n",
      "885번째 문장: ['새해', '축전', '주고받', '은', '정상', '관계', '발전', '지속', '공감대']\n",
      "886번째 문장: ['삼성', '반도체', '올', '조', '영', '업익', '내', 'ㄴ다']\n",
      "887번째 문장: ['김', '주', '현', '부동산', '연착륙', '지원', '이복', '현', '금융', '범죄', '근절']\n",
      "888번째 문장: ['이', '창', '용', '물가', '안정', '정책', '최', '우선', '으로', '추진']\n",
      "889번째 문장: ['부동산', '가', '아', '금융권', '최대', '리스크', '외형', '확대', '보다', '내실', '강화']\n",
      "890번째 문장: ['우리', '고종', '황제', '참배', '로', '새해', '시작', '조병', '규', '행장', '은행', '사회적', '책임', '확대']\n",
      "891번째 문장: ['경제', '정책', '자금', '낭비', '하', '는', '한계', '기업', '과감', '하', '게', '정리', '하', '어야']\n",
      "892번째 문장: ['증시', '외국인', '투', '자금', '가', '아', '떠나', '었', '다']\n",
      "893번째 문장: ['위기', '경고', '없', '었', '다', '신', '평사', '신용', '등급', '뒷', '북', '대응']\n",
      "894번째 문장: ['차', '전지', '인', '버스', '상장', '첫날', '주가', '로', '개미', '들', '억', '순', '매수', '하', '었', '지만', '결국', '손실']\n",
      "895번째 문장: ['통합', '셀', '트리', '오', 'ㄴ', '일', '상장', '잭', '팟', '트', '어', '지나']\n",
      "896번째 문장: ['한국', '경제', '좀', '낫', '겠', '지만', '크', 'ㄴ', '기대', '금물', '반도체', '부활', '증시', '는', '낙관']\n",
      "897번째 문장: ['국내', '주식', '해외', '주식', '채권', '분산', '투자', '금리', '하락', '대비']\n",
      "898번째 문장: ['치킨', '에', '깜짝', '놀라', 'ㄴ', '베트남', '사람', '들', '치킨', '과', '는', '차원', '이', '다르', '네']\n",
      "899번째 문장: ['랠리', '기대', '속', '숨', '고르', '기', '가능성', '제조업', '서비스', '지수', '는', '변수', '주간', '증시', '전망']\n",
      "900번째 문장: ['남편', '조기', '퇴직', '으로', '외', '벌', '이', '되', 'ㄴ', '대', '아내', '노후', '준비', '막', '막', '하', '어', '재테크']\n",
      "901번째 문장: ['글로벌', '전', '기차', '시장', '주도', '하', 'ㄹ', '초', '격차', '양극', '재', '기업', '에', '투자', '이런', '펀드', '어', '때', '요']\n",
      "902번째 문장: ['삼성전기', '스마트', '폰', '부품', '수요', '늘', '며', '수혜', '슐랭', '가이드']\n",
      "903번째 문장: ['사진', '뉴스', '맥', '키스', '컴퍼니', '선양', '맨몸', '러닝', '페', '스타', '성', '료']\n",
      "904번째 문장: ['올해', '신', '차', '키워드', '보급', '형', '전', '기차']\n",
      "905번째 문장: ['싱', '가', '아', '포', '르', '올해', '의', '자동차', '에', '현대', '차', '아이오', '닉', '선정']\n",
      "906번째 문장: ['최', '태원', '해', '현', '경장', '자세', '로', '다듬', '자', '박', '정원', '투자', '는', '미래', '를', '위하', 'ㄴ', '도전']\n",
      "907번째 문장: ['전자', '로봇', '솔루션', '확대', '핵심', '사업', '으로', '키우', 'ㄴ다']\n",
      "908번째 문장: ['스', '어', '최적화', '차량', '용', '솔루션', '대거', '공개']\n",
      "909번째 문장: ['태영', '건설', '대출', '보증', '이상', '채권단', '만', '여', '곳', '난제']\n",
      "910번째 문장: ['탄소', '배출', '저감', '앞장', '네트워크', '장비', '치', 'ㄴ', '환경', '포장']\n",
      "911번째 문장: ['취약', '층', '희망', '메신저', '우', '보', 'ㄴ', '국민', '체감', '우편', '서비스', '확대']\n",
      "912번째 문장: ['주파수', '더', '닿', 'ㄹ라', '경쟁사', '격차', '벌어지', 'ㄹ라', '긴장']\n",
      "913번째 문장: ['반도체', '배터리', '디스플레이', '원천', '기술', '선점', '글로벌', '주도권', '쥐', 'ㄴ다', '녀', 'ㄴ', '과기', '정통부', '과제', '초', '격차', '기술', '확보']\n",
      "914번째 문장: ['남성', '비만', '경고등', '해외', '유명', '인사', '비만', '약도', '논란']\n",
      "915번째 문장: ['새해', '카운트다운', '은', '서울', '에서', '글로벌', '축제', '되', 'ㄴ', '보신각', '타종']\n",
      "916번째 문장: ['엑스포', '열기', '되살리', '어', '부산', '브랜드', '띄우기', '본격화', '리', '뉴', '얼', '부산']\n",
      "917번째 문장: ['올해', '진흥', '기금', '조', '억', '전년', '증가']\n",
      "918번째 문장: ['성장', '궤도', '올르', '아', '탄', '스타트', '업', '채용', '늘리', '어', '넥스트', '스텝', '준비']\n",
      "919번째 문장: ['빅딜', '절호', '의', '기회', '새해', '부터', '분주', '하', 'ㄴ', '제약', '바이오']\n",
      "920번째 문장: ['한기', '정', '공정', '위원장', '소수', '플랫폼', '독식', '피해', '빈번', '플랫', '폼', '법', '제정', '적극', '대응', '하', '어야']\n",
      "921번째 문장: ['제일제당', '소', '상공인', '전문', '관', '오픈']\n",
      "922번째 문장: ['하림', '마늘', '듬뿍', '닭볶음탕', '밀', 'ㄹ', '키트']\n",
      "923번째 문장: ['파리', '바', '게뜨', '아메리카', '노', '한잔', '에', '원']\n",
      "924번째 문장: ['신세계', '세', 'ㄴ', '텀', '시티', '지역', '백화점', '최초', '연', '매출', '조', '달성']\n",
      "925번째 문장: ['우리은행', '고종', '황제', '참배', '로', '녀', 'ㄴ', '희망차', 'ㄴ', '출발', '다짐']\n",
      "926번째 문장: ['소비', '한파', '녹이', '어', '라', '백화점', '신년', '세일', '돌입']\n",
      "927번째 문장: ['포스', '코', '이', '앤', '씨', '더', '샵', '의정부', '역', '링크', '시티', '와', 'ㄴ', '판']\n",
      "928번째 문장: ['서울', '아파트', '증여', '년', '만', '에', '최저']\n",
      "929번째 문장: ['삼성물산', '과', '천주', '공', '단지', '재', '건축', '수주']\n",
      "930번째 문장: ['아파트', '빼', '고', '서울', '상가', '토지', '거래', '늘', '었', '다']\n",
      "931번째 문장: ['공사비', '년', '만', '에', '오르', '아', '건설업', '올해', '도', '어렵', '다']\n",
      "932번째 문장: ['전세', '보증', '에', '리스크', '까지', '재정', '이', '위험', '하', '다']\n",
      "933번째 문장: ['평', '택', '항', '하루', '대', '선적', '연말', '까지', '야근']\n",
      "934번째 문장: ['한국', '펫', '산업', '연합회', '갑', '진년', '새해', '산업', '발전', '하', '어야', '동물', '복지', '가능']\n",
      "935번째 문장: ['세계', '억', '명', '이', '투표소', '로', '향하', 'ㄴ다', '한국', '경제', '흔들', 'ㄹ', '폴리', '코', '노', '미']\n",
      "936번째 문장: ['조', '외자', '유치', '효과', '복합', '리조트', '건립', '기대', '리', '뉴', '얼', '부산']\n",
      "937번째 문장: ['신년', '특집', '청룡', '의', '해', '년', '한국', '경제', '용', '이', '되', '나', '이무기', '로', '주저앉', '나']\n",
      "938번째 문장: ['올해', '환율', '달러', '는', '상고', '하저', '엔화', '는', '상', '저하', '고']\n",
      "939번째 문장: ['고객', '사', '아', '고민', '줄이', '어', '주', 'ㄴ', '클라우드', '디지털', '전환', '해법', '제시', '하', 'ㄹ', '것', '이', '사람']\n",
      "940번째 문장: ['최', '부총리', '소', '상공인', '만명', '이', 'ㄴ', '당', '만원', '전기', '요금', '감면']\n",
      "941번째 문장: ['서울시', '온실', '가스', '줄이', '는', '친', '환경', '녹색', '건축물', '확대', '계획']\n",
      "942번째 문장: ['신년', '기획', '해외', '대', '이슈', '세계', '정치', '빅뱅']\n",
      "943번째 문장: ['신년', '기획', '국내', '대', '이슈', '저출산', '심화']\n",
      "944번째 문장: ['신년', '기획', '국내', '대', '이슈', '가계', '부채', '심화']\n",
      "945번째 문장: ['신년', '기획', '쿠팡', '독주', '비결', '은', '독보적', '투자', '와', '운영']\n",
      "946번째 문장: ['신년', '기획', '네이버', '글로벌', '기업', '우뚝', '콘텐츠', '서비스', '플랫폼', '차별화', '강점']\n",
      "947번째 문장: ['신년', '기획', '롯데', '쇼핑', '로', '고객', '경험', '차별화', '유통', '넘', '어', '신', '사업', '까지', '창출']\n",
      "948번째 문장: ['신년', '기획', '국내', '대', '이슈', '수출', '반등']\n",
      "949번째 문장: ['신년', '기획', '한국', '분석']\n",
      "950번째 문장: ['신년', '기획', '우아', '하', 'ㄴ', '형제', '들', '배달', '혁명', '주역', '은', '메뉴', '추천', '부터', '배차', '까지']\n",
      "951번째 문장: ['건설업', '부동산', '연착륙', '유도', '하', 'ㄹ', '맞춤', '대응', '관심', '신년', '특집']\n",
      "952번째 문장: ['세입자', '명', '중', '명', '월세', '로', '내몰리', '어', '월세', '상승', '지속', '신년', '특집']\n",
      "953번째 문장: ['삼성전자', '말', 'ㄴ', '전자', '넘보', 'ㄴ다', '네이버', '삼바', '도', '용틀임', '시작']\n",
      "954번째 문장: ['거래', '도', '급감', '금융권', '차환', '리스크', '우려']\n",
      "955번째 문장: ['상생', '금융', '관리', '어깨', '무겁', '어', '지', 'ㄴ', '금융권']\n",
      "956번째 문장: ['최', '태원', '년', '꺼내', '든', '사자', '성어', '하', '어', '현', '경장']\n",
      "957번째 문장: ['핸드백', '대신', '도박', '카지노', '매출', '폭등']\n",
      "958번째 문장: ['오', '영주', '장관', '옛것', '에', '새', '것', '더하', '어', '지속', '가능', '해진', '광장', '시장', '너무', '귀하', '어']\n",
      "959번째 문장: ['태영', '채권단', '윤', '세영', '회장', '일가', '억', '사재', '출연', '요구']\n",
      "960번째 문장: ['엔', '비디아', '호', '실적', '계속', '되', 'ㄴ다', '일라', '이리', 'ㄹ', '리', '새', '비만', '치료제', '주목']\n",
      "961번째 문장: ['시장', '왜곡', '하', 'ㄴ', '규제', '철폐', '부동산', '시장', '정상화', '시키', '었', '다']\n",
      "962번째 문장: ['조병', '규', '우리은행', '장', '새해', '첫날', '홍유', '릉', '찾', '아', '고종', '황제', '참배']\n",
      "963번째 문장: ['기술', '경쟁', '후', '끈', '반', '에', '크', '반도체', '관심']\n",
      "964번째 문장: ['비올', '실적', '순항', '딥', '노', '이드', '는', '턴', '어', '라운드']\n",
      "965번째 문장: ['영세', '소', '상공인', '만명', '전기', '요금', '만원', '씩', '감면', '받', '는', '다']\n",
      "966번째 문장: ['인구', '감소', '지역', '생활', '인구', '특성', '알아보', '니', '충북', '단양', '체류', '인구', '비율', '가장', '높', '아']\n",
      "967번째 문장: ['이순', '호', '예탁', '원장', '새해', '디지털', '혁신', '에', '매진', '하', '겠', '다', '신년', '사']\n",
      "968번째 문장: ['태영', '건설', '지급', '보증', '안', '하', 'ㄴ', '곳', '많', '아', '협력', '업체', '비상']\n",
      "969번째 문장: ['나', '아', '델', 'ㄹ라', '녀', 'ㄴ', '선정', '에', '크', 'ㄴ', '영향']\n",
      "전처리 중 오류 발생: java.lang.NullPointerException\n",
      "오류가 발생한 문장:        \n",
      "이전 문장:  이끌고 반도체 뒷심 수출 부진 수출로 버텼다 올 수출 빛이 보인다\n",
      "971번째 문장: ['바닥', '찍', '은', '오르', 'ㄴ다']\n",
      "972번째 문장: ['이', '창', '용', '재정', '확대', '저금리', '로', '성장', '하', '는', '시대', '끝나']\n",
      "973번째 문장: ['증시', '작년', '뛰', '어', '곳', '사상', '최다', '올해', '도', '강', '소기업', '밀물']\n",
      "974번째 문장: ['서울시', '종', '상향', '재', '건축', '공공', '기여', '덜', '내고', '용적률', '더', '받', '는', '다', '집', '슐랭']\n",
      "975번째 문장: ['서울시', '온실', '가스', '줄이', '는', '친', '환경', '녹색', '건축물', '확대']\n",
      "976번째 문장: ['공사비', '녀', 'ㄴ', '새', '껑충', '건설업', '올해', '도', '가시밭길', '집', '슐랭']\n",
      "977번째 문장: ['오', 'ㄹ', '기초', '연금', '기준', '만원', '지난해', '보다', '만원', '오르', 'ㄴ다']\n",
      "978번째 문장: ['분양', '캘린더', '광명', '자이', '힐', '스테이트', '뷰', '등', '전국', '개', '단지', '가구', '분양']\n",
      "979번째 문장: ['스타', '즈', '강원', '랜드', '복합', '리조트', '경쟁력', '높이', '어', '실적', '회복', '잰걸음']\n",
      "980번째 문장: ['중소', '기업계', '대통령', '신년사', '에', '킬러', '규제', '혁파', '환영']\n",
      "981번째 문장: ['송', '미령', '장관', '취임', '첫', '행보', '가축', '방역', '현장', '찾', '아', '확산', '차단', '만전']\n",
      "982번째 문장: ['인도', '공과', '대', '입주', '사', '마다', '교수', '멘토링', '연구실', '지원', '창업', '하', '면', '법인세', '년', '면제']\n",
      "983번째 문장: ['마', 'ㄴ', '공부', '하', '어도', '받', '는', '다']\n",
      "984번째 문장: ['사진', '최', '상목', '소', '상공인', '만명', '만원', '씩', '전기료', '감면']\n",
      "985번째 문장: ['이번', '주', '추천', '주', '하이닉스', '수요', '급증', '수혜', '전망']\n",
      "986번째 문장: ['외국인', '투자', '년', '새', '억', '급증', '공급', '망', '린치', '핀', '되', 'ㄴ', '인도']\n",
      "987번째 문장: ['월', '수출', '증가', '반도체', '뒷심', '강하', '었', '다']\n",
      "988번째 문장: ['대형', '성장주', '고수익', '기대', '인도', '주식', '도', '주목']\n",
      "989번째 문장: ['송', '미령', '농', '식품', '장관', '방역', '상황', '점검', '취임', '첫', '행보']\n",
      "990번째 문장: ['한류', '가', '키우', 'ㄴ', '푸드', '이젠', '한류', '주도', '하', 'ㄴ다']\n",
      "991번째 문장: ['금리', '차례', '인하', '하', 'ㄹ', '듯', '시장', '반응', '보', '며', '주식', '분할', '매수']\n",
      "992번째 문장: ['청룡', '의', '기운', '품', '고', '솟구치', '어', '라', '수출', '코리아']\n",
      "993번째 문장: ['암호', '화폐', '봄바람', '제대', '로', '타', '었', '다', '이', '더리', '움', '비트', '코', '인', '넘어서', 'ㄹ', '것']\n",
      "994번째 문장: ['김', '김치', '이', '라면', '수출', '대박', '오', 'ㄹ', '핸', '떡볶이', '핫', '도', '그', '가', '대열', '합류']\n",
      "995번째 문장: ['올', '예금', '금리', '대', '중반', '전문가', '가', '꼽', '은', '투자', '전략', '은']\n",
      "996번째 문장: ['반도체', '업', '황', '개선', '에', '작년', '상', '저하', '이', '고', '수출', '올해', '부터', '본격', '회복']\n",
      "997번째 문장: ['로터리', '새해', '산', '에', '오르', '다']\n",
      "998번째 문장: ['년', '만', '에', '미국', '이', '한국', '최대', '수출국', '되', '었', '다']\n",
      "999번째 문장: ['저물', '는', '긴축', '시대', '채권', '이', '뜨', 'ㄴ다', '장기채', '유망']\n",
      "1000번째 문장: ['신세계', '세', 'ㄴ', '텀', '시티', '지역', '백화점', '첫', '연', '매출', '조']\n",
      "1001번째 문장: ['달러', '때', 'ㄴ', '금값', '고공', '행진', '원유', '보다', '농산물', '주목', '하', '라']\n",
      "1002번째 문장: ['위기', '의', '자영업자', '구세주', '배민']\n",
      "1003번째 문장: ['와', 'ㄴ', '판', '램', '값', '반등', '삼성', '실적', '청신호']\n",
      "1004번째 문장: ['차세대', '차량', '앞', '뒷좌석', '에', '디스플레이', '깔리', 'ㄴ다']\n",
      "1005번째 문장: ['여년', '만', '에', '대미', '수출', '대중', '추월']\n",
      "1006번째 문장: ['부자', '프레임', '에', '지원', '주저', '하', 'ㄹ', '때', '파격', '대우', '로', '다국적', '기업', '유치']\n",
      "1007번째 문장: ['이달', '가격', '동결', '소비자', '부담', '경감', '차원']\n",
      "1008번째 문장: ['홍', '석천', '건물', '채로', '억', '원', '차익', '추산', '이', '태원', '상권', '도', '부활', '날갯짓', '이슈', '풀', '어', '주리']\n",
      "1009번째 문장: ['전자', '는', '글', '램', '핑', '주거', '공간', '선보이', '어']\n",
      "1010번째 문장: ['반포', '방', '배', '대치', '강남', '로또', '청약', '쏟아지', 'ㄴ다']\n",
      "1011번째 문장: ['인도', '제조업', '육성', '초당', '적', '공감대', '총선', '이후', '에', '도', '변하', 'ㅁ', '없', '을', '것']\n",
      "1012번째 문장: ['월급', '깎', '고', '차도', '반납', '허리띠', '졸라매', '는', '조합장', '들']\n",
      "1013번째 문장: ['혁신', '역량', '은', '이미', '최고', '노동', '경직성', '규제', '허들', '넘', '어야']\n",
      "1014번째 문장: ['한국', '진입', '성공', '때', 'ㄴ', '국가', '브랜드', '가치', '조원', '껑충']\n",
      "1015번째 문장: ['매', '경', '년', '연속', '프로젝트', '올해', '는', '담대', '하', 'ㄴ', '도전']\n",
      "1016번째 문장: ['고소득', '에', '도', '못가', '노르웨이', '싱', '가', '아', '포', '르', '인구', '의', '덫']\n",
      "1017번째 문장: ['갈', 'ㄹ', '것', '확신', '하', '지만', '저출산', '탈출', '못하', '면', '발목', '잡히', '어']\n",
      "1018번째 문장: ['과', '천주', '공', '래미', '안', '브랜드', '단다']\n",
      "1019번째 문장: ['표', '외국', '환율', '고시']\n",
      "1020번째 문장: ['카카오', '페', '이', '대출', '환', '승', '이자', '연', '만원', '절감']\n",
      "1021번째 문장: ['지난달', '가계', '대출', '늘', '어', '증가', '주춤']\n",
      "1022번째 문장: ['새해', '첫날', '회의', '채권', '펀드', '조', '증액', '검토']\n",
      "1023번째 문장: ['스타트', '업', '도전', '급감', '유니콘', '퇴장', '녀', 'ㄴ', '보릿고개', '더', '심하', '어', '지나']\n",
      "1024번째 문장: ['소비자', '금융', '정보', '이용료', '에', '속앓이', '하', '는', '핀', '테크', '업체', '들']\n",
      "1025번째 문장: ['월급', '늘', 'ㄹ', '때', '물가', '는', '배', '이상', '올르', '아', '먹거리', '상승세', '배', '육박', '이러', '니', '힘들', 'ㄹ', '수', '밖에']\n",
      "1026번째 문장: ['경', '착륙', '엘니뇨', '공급', '불안', '오', 'ㄹ', '세계', '경제', '숨', '어', '있', '는', '리스크']\n",
      "1027번째 문장: ['태영', '리스크', '커지', 'ㄴ다', '정부', '채', '안', '펀드', '조원', '증액', '만지작']\n",
      "1028번째 문장: ['최', '상목', '소', '상공인', '만', '명', '에', '인', '당', '만', '원', '전기', '요금', '감면']\n",
      "1029번째 문장: ['부진', '메우', 'ㄴ', '최대', '수출', '시장', '등극', '올해', '반도체', '로', '쌍끌이']\n",
      "1030번째 문장: ['수출', '회복', '에', '도', '화색']\n",
      "1031번째 문장: ['소', '상공인', '인', '당', '전기료', '만원', '감면']\n",
      "1032번째 문장: ['농림', '장관', '쌀값', '폭락', '없', '도록', '수급', '관리']\n",
      "1033번째 문장: ['지역', '미래', '이끌', 'ㄹ', '중기', '키우', 'ㄴ다']\n",
      "1034번째 문장: ['소득', '말', 'ㄴ', '중추', '국가', '눈앞']\n",
      "1035번째 문장: ['시장', '침체', '고금리', '공사비', '급증', '건설업', '삼중고']\n",
      "1036번째 문장: ['지역', '특화', '프로젝트', '레', '전드', '공고']\n",
      "1037번째 문장: ['빅딜', '이', '실종', '되', '었', '다']\n",
      "1038번째 문장: ['공장', '짓', '고', '현지', '입맛', '맞추', '고', '해외', '시장', '공세', '나선', '푸드']\n",
      "1039번째 문장: ['다가오', '는', '반도체', '의', '봄', '수출', '개', '월', '째', '플러스']\n",
      "1040번째 문장: ['상품', '소비', '년', '만', '에', '마이너스', '꽁꽁', '닫히', 'ㄴ', '지갑']\n",
      "1041번째 문장: ['작년', '수출', '줄', '었', '지만', '반등', '기미', '새해', '수출', '청신호']\n",
      "1042번째 문장: ['사업', '전환', '이용', '하', 'ㄴ', '중소기업', '매출', '고용']\n",
      "1043번째 문장: ['연말', '개인', '매물', '폭탄', '없', '었', '다']\n",
      "1044번째 문장: ['이', '창', '용', '재정', '확대', '부채', '의존', '하', 'ㄴ', '임기응변', '식', '성장', '시대', '는', '끝나', '었', '다']\n",
      "1045번째 문장: ['조명', '강자', '아이', '엘', '사이언스', '부품', '도전장']\n",
      "1046번째 문장: ['장관', '새해', '첫', '행보', '는', '청년', '기업', '방문']\n",
      "1047번째 문장: ['굴착기', '앞', '유리', '에', '정보', '뜨', '네', '모듈', '붙이', '어', '디스플레이', '로', '변신']\n",
      "1048번째 문장: ['선장', '없', '는', '옴부즈', '만', '도대체', '언제', '까지', '표류', '하나']\n",
      "1049번째 문장: ['최', '상목', '부총리', '말', 'ㄴ', '소', '상공인', '에', '인', '당', '만', '원', '전기료', '감면']\n",
      "1050번째 문장: ['일진', '전기', '초고압', '변압기', '특수']\n",
      "1051번째 문장: ['최', '태원', '성장', '만큼', '내실', '갖추', '어야', '허', '태수', '크', 'ㄴ', '걸음', '디디', 'ㄹ', '시간']\n",
      "1052번째 문장: ['소', '상공인', '만명', '에', '전기', '요금', '만원', '감면']\n",
      "1053번째 문장: ['일', '경제계', '신년', '이', 'ㄴ', '사회', '대', '그룹', '총수', '참석']\n",
      "1054번째 문장: ['긴축', '완화', '에', '기술', '수출', '연쇄', '빅딜', '비만', '신약', '급', '성장', '기대']\n",
      "1055번째 문장: ['대', '금융', '회장', '새해', '화두', '지속', '가능', '하', 'ㄴ', '성장', '주력']\n",
      "전처리 중 오류 발생: java.lang.NullPointerException\n",
      "오류가 발생한 문장:   \n"
     ]
    },
    {
     "ename": "KeyError",
     "evalue": "1054",
     "output_type": "error",
     "traceback": [
      "\u001b[0;31m---------------------------------------------------------------------------\u001b[0m",
      "\u001b[0;31mException\u001b[0m                                 Traceback (most recent call last)",
      "\u001b[0;31mException\u001b[0m: Java Exception",
      "\nThe above exception was the direct cause of the following exception:\n",
      "\u001b[0;31mjava.lang.NullPointerException\u001b[0m            Traceback (most recent call last)",
      "\u001b[0;32m/tmp/ipykernel_32/1319187390.py\u001b[0m in \u001b[0;36mpreprocessing\u001b[0;34m(data)\u001b[0m\n\u001b[1;32m      7\u001b[0m             \u001b[0;31m#- 토큰화\u001b[0m\u001b[0;34m\u001b[0m\u001b[0;34m\u001b[0m\u001b[0m\n\u001b[0;32m----> 8\u001b[0;31m             \u001b[0mtokenized_sentence\u001b[0m \u001b[0;34m=\u001b[0m \u001b[0mtokenizer\u001b[0m\u001b[0;34m.\u001b[0m\u001b[0mmorphs\u001b[0m\u001b[0;34m(\u001b[0m\u001b[0msentence\u001b[0m\u001b[0;34m)\u001b[0m\u001b[0;34m\u001b[0m\u001b[0;34m\u001b[0m\u001b[0m\n\u001b[0m\u001b[1;32m      9\u001b[0m             \u001b[0mprint\u001b[0m\u001b[0;34m(\u001b[0m\u001b[0;34mf\"{i + 1}번째 문장: {tokenized_sentence}\"\u001b[0m\u001b[0;34m)\u001b[0m\u001b[0;34m\u001b[0m\u001b[0;34m\u001b[0m\u001b[0m\n",
      "\u001b[0;32m/opt/conda/lib/python3.9/site-packages/konlpy/tag/_kkma.py\u001b[0m in \u001b[0;36mmorphs\u001b[0;34m(self, phrase)\u001b[0m\n\u001b[1;32m     83\u001b[0m \u001b[0;34m\u001b[0m\u001b[0m\n\u001b[0;32m---> 84\u001b[0;31m         \u001b[0;32mreturn\u001b[0m \u001b[0;34m[\u001b[0m\u001b[0ms\u001b[0m \u001b[0;32mfor\u001b[0m \u001b[0ms\u001b[0m\u001b[0;34m,\u001b[0m \u001b[0mt\u001b[0m \u001b[0;32min\u001b[0m \u001b[0mself\u001b[0m\u001b[0;34m.\u001b[0m\u001b[0mpos\u001b[0m\u001b[0;34m(\u001b[0m\u001b[0mphrase\u001b[0m\u001b[0;34m)\u001b[0m\u001b[0;34m]\u001b[0m\u001b[0;34m\u001b[0m\u001b[0;34m\u001b[0m\u001b[0m\n\u001b[0m\u001b[1;32m     85\u001b[0m \u001b[0;34m\u001b[0m\u001b[0m\n",
      "\u001b[0;32m/opt/conda/lib/python3.9/site-packages/konlpy/tag/_kkma.py\u001b[0m in \u001b[0;36mpos\u001b[0;34m(self, phrase, flatten, join)\u001b[0m\n\u001b[1;32m     54\u001b[0m \u001b[0;34m\u001b[0m\u001b[0m\n\u001b[0;32m---> 55\u001b[0;31m         \u001b[0msentences\u001b[0m \u001b[0;34m=\u001b[0m \u001b[0mself\u001b[0m\u001b[0;34m.\u001b[0m\u001b[0mjki\u001b[0m\u001b[0;34m.\u001b[0m\u001b[0mmorphAnalyzer\u001b[0m\u001b[0;34m(\u001b[0m\u001b[0mphrase\u001b[0m\u001b[0;34m)\u001b[0m\u001b[0;34m\u001b[0m\u001b[0;34m\u001b[0m\u001b[0m\n\u001b[0m\u001b[1;32m     56\u001b[0m         \u001b[0mmorphemes\u001b[0m \u001b[0;34m=\u001b[0m \u001b[0;34m[\u001b[0m\u001b[0;34m]\u001b[0m\u001b[0;34m\u001b[0m\u001b[0;34m\u001b[0m\u001b[0m\n",
      "\u001b[0;31mjava.lang.NullPointerException\u001b[0m: java.lang.NullPointerException",
      "\nDuring handling of the above exception, another exception occurred:\n",
      "\u001b[0;31mKeyError\u001b[0m                                  Traceback (most recent call last)",
      "\u001b[0;32m/opt/conda/lib/python3.9/site-packages/pandas/core/indexes/base.py\u001b[0m in \u001b[0;36mget_loc\u001b[0;34m(self, key, method, tolerance)\u001b[0m\n\u001b[1;32m   3360\u001b[0m             \u001b[0;32mtry\u001b[0m\u001b[0;34m:\u001b[0m\u001b[0;34m\u001b[0m\u001b[0;34m\u001b[0m\u001b[0m\n\u001b[0;32m-> 3361\u001b[0;31m                 \u001b[0;32mreturn\u001b[0m \u001b[0mself\u001b[0m\u001b[0;34m.\u001b[0m\u001b[0m_engine\u001b[0m\u001b[0;34m.\u001b[0m\u001b[0mget_loc\u001b[0m\u001b[0;34m(\u001b[0m\u001b[0mcasted_key\u001b[0m\u001b[0;34m)\u001b[0m\u001b[0;34m\u001b[0m\u001b[0;34m\u001b[0m\u001b[0m\n\u001b[0m\u001b[1;32m   3362\u001b[0m             \u001b[0;32mexcept\u001b[0m \u001b[0mKeyError\u001b[0m \u001b[0;32mas\u001b[0m \u001b[0merr\u001b[0m\u001b[0;34m:\u001b[0m\u001b[0;34m\u001b[0m\u001b[0;34m\u001b[0m\u001b[0m\n",
      "\u001b[0;32m/opt/conda/lib/python3.9/site-packages/pandas/_libs/index.pyx\u001b[0m in \u001b[0;36mpandas._libs.index.IndexEngine.get_loc\u001b[0;34m()\u001b[0m\n",
      "\u001b[0;32m/opt/conda/lib/python3.9/site-packages/pandas/_libs/index.pyx\u001b[0m in \u001b[0;36mpandas._libs.index.IndexEngine.get_loc\u001b[0;34m()\u001b[0m\n",
      "\u001b[0;32mpandas/_libs/hashtable_class_helper.pxi\u001b[0m in \u001b[0;36mpandas._libs.hashtable.Int64HashTable.get_item\u001b[0;34m()\u001b[0m\n",
      "\u001b[0;32mpandas/_libs/hashtable_class_helper.pxi\u001b[0m in \u001b[0;36mpandas._libs.hashtable.Int64HashTable.get_item\u001b[0;34m()\u001b[0m\n",
      "\u001b[0;31mKeyError\u001b[0m: 1054",
      "\nThe above exception was the direct cause of the following exception:\n",
      "\u001b[0;31mKeyError\u001b[0m                                  Traceback (most recent call last)",
      "\u001b[0;32m/tmp/ipykernel_32/30025652.py\u001b[0m in \u001b[0;36m<module>\u001b[0;34m\u001b[0m\n\u001b[0;32m----> 1\u001b[0;31m \u001b[0mtext_data\u001b[0m \u001b[0;34m=\u001b[0m \u001b[0mpreprocessing\u001b[0m\u001b[0;34m(\u001b[0m\u001b[0mdf\u001b[0m\u001b[0;34m[\u001b[0m\u001b[0;34m'news'\u001b[0m\u001b[0;34m]\u001b[0m\u001b[0;34m)\u001b[0m\u001b[0;34m\u001b[0m\u001b[0;34m\u001b[0m\u001b[0m\n\u001b[0m\u001b[1;32m      2\u001b[0m \u001b[0mprint\u001b[0m\u001b[0;34m(\u001b[0m\u001b[0mtext_data\u001b[0m\u001b[0;34m[\u001b[0m\u001b[0;36m0\u001b[0m\u001b[0;34m]\u001b[0m\u001b[0;34m)\u001b[0m\u001b[0;34m\u001b[0m\u001b[0;34m\u001b[0m\u001b[0m\n",
      "\u001b[0;32m/tmp/ipykernel_32/1319187390.py\u001b[0m in \u001b[0;36mpreprocessing\u001b[0;34m(data)\u001b[0m\n\u001b[1;32m     14\u001b[0m             \u001b[0mprint\u001b[0m\u001b[0;34m(\u001b[0m\u001b[0;34mf\"전처리 중 오류 발생: {e}\"\u001b[0m\u001b[0;34m)\u001b[0m\u001b[0;34m\u001b[0m\u001b[0;34m\u001b[0m\u001b[0m\n\u001b[1;32m     15\u001b[0m             \u001b[0mprint\u001b[0m\u001b[0;34m(\u001b[0m\u001b[0;34mf\"오류가 발생한 문장: {sentence}\"\u001b[0m\u001b[0;34m)\u001b[0m\u001b[0;34m\u001b[0m\u001b[0;34m\u001b[0m\u001b[0m\n\u001b[0;32m---> 16\u001b[0;31m             \u001b[0mprint\u001b[0m\u001b[0;34m(\u001b[0m\u001b[0;34mf\"이전 문장: {data[i-1] if i > 0 else '없음'}\"\u001b[0m\u001b[0;34m)\u001b[0m\u001b[0;34m\u001b[0m\u001b[0;34m\u001b[0m\u001b[0m\n\u001b[0m\u001b[1;32m     17\u001b[0m \u001b[0;34m\u001b[0m\u001b[0m\n\u001b[1;32m     18\u001b[0m     \u001b[0mtext_data\u001b[0m \u001b[0;34m=\u001b[0m \u001b[0mlist\u001b[0m\u001b[0;34m(\u001b[0m\u001b[0mmap\u001b[0m\u001b[0;34m(\u001b[0m\u001b[0;34m' '\u001b[0m\u001b[0;34m.\u001b[0m\u001b[0mjoin\u001b[0m\u001b[0;34m,\u001b[0m \u001b[0mtext_data\u001b[0m\u001b[0;34m)\u001b[0m\u001b[0;34m)\u001b[0m\u001b[0;34m\u001b[0m\u001b[0;34m\u001b[0m\u001b[0m\n",
      "\u001b[0;32m/opt/conda/lib/python3.9/site-packages/pandas/core/series.py\u001b[0m in \u001b[0;36m__getitem__\u001b[0;34m(self, key)\u001b[0m\n\u001b[1;32m    940\u001b[0m \u001b[0;34m\u001b[0m\u001b[0m\n\u001b[1;32m    941\u001b[0m         \u001b[0;32melif\u001b[0m \u001b[0mkey_is_scalar\u001b[0m\u001b[0;34m:\u001b[0m\u001b[0;34m\u001b[0m\u001b[0;34m\u001b[0m\u001b[0m\n\u001b[0;32m--> 942\u001b[0;31m             \u001b[0;32mreturn\u001b[0m \u001b[0mself\u001b[0m\u001b[0;34m.\u001b[0m\u001b[0m_get_value\u001b[0m\u001b[0;34m(\u001b[0m\u001b[0mkey\u001b[0m\u001b[0;34m)\u001b[0m\u001b[0;34m\u001b[0m\u001b[0;34m\u001b[0m\u001b[0m\n\u001b[0m\u001b[1;32m    943\u001b[0m \u001b[0;34m\u001b[0m\u001b[0m\n\u001b[1;32m    944\u001b[0m         \u001b[0;32mif\u001b[0m \u001b[0mis_hashable\u001b[0m\u001b[0;34m(\u001b[0m\u001b[0mkey\u001b[0m\u001b[0;34m)\u001b[0m\u001b[0;34m:\u001b[0m\u001b[0;34m\u001b[0m\u001b[0;34m\u001b[0m\u001b[0m\n",
      "\u001b[0;32m/opt/conda/lib/python3.9/site-packages/pandas/core/series.py\u001b[0m in \u001b[0;36m_get_value\u001b[0;34m(self, label, takeable)\u001b[0m\n\u001b[1;32m   1049\u001b[0m \u001b[0;34m\u001b[0m\u001b[0m\n\u001b[1;32m   1050\u001b[0m         \u001b[0;31m# Similar to Index.get_value, but we do not fall back to positional\u001b[0m\u001b[0;34m\u001b[0m\u001b[0;34m\u001b[0m\u001b[0m\n\u001b[0;32m-> 1051\u001b[0;31m         \u001b[0mloc\u001b[0m \u001b[0;34m=\u001b[0m \u001b[0mself\u001b[0m\u001b[0;34m.\u001b[0m\u001b[0mindex\u001b[0m\u001b[0;34m.\u001b[0m\u001b[0mget_loc\u001b[0m\u001b[0;34m(\u001b[0m\u001b[0mlabel\u001b[0m\u001b[0;34m)\u001b[0m\u001b[0;34m\u001b[0m\u001b[0;34m\u001b[0m\u001b[0m\n\u001b[0m\u001b[1;32m   1052\u001b[0m         \u001b[0;32mreturn\u001b[0m \u001b[0mself\u001b[0m\u001b[0;34m.\u001b[0m\u001b[0mindex\u001b[0m\u001b[0;34m.\u001b[0m\u001b[0m_get_values_for_loc\u001b[0m\u001b[0;34m(\u001b[0m\u001b[0mself\u001b[0m\u001b[0;34m,\u001b[0m \u001b[0mloc\u001b[0m\u001b[0;34m,\u001b[0m \u001b[0mlabel\u001b[0m\u001b[0;34m)\u001b[0m\u001b[0;34m\u001b[0m\u001b[0;34m\u001b[0m\u001b[0m\n\u001b[1;32m   1053\u001b[0m \u001b[0;34m\u001b[0m\u001b[0m\n",
      "\u001b[0;32m/opt/conda/lib/python3.9/site-packages/pandas/core/indexes/base.py\u001b[0m in \u001b[0;36mget_loc\u001b[0;34m(self, key, method, tolerance)\u001b[0m\n\u001b[1;32m   3361\u001b[0m                 \u001b[0;32mreturn\u001b[0m \u001b[0mself\u001b[0m\u001b[0;34m.\u001b[0m\u001b[0m_engine\u001b[0m\u001b[0;34m.\u001b[0m\u001b[0mget_loc\u001b[0m\u001b[0;34m(\u001b[0m\u001b[0mcasted_key\u001b[0m\u001b[0;34m)\u001b[0m\u001b[0;34m\u001b[0m\u001b[0;34m\u001b[0m\u001b[0m\n\u001b[1;32m   3362\u001b[0m             \u001b[0;32mexcept\u001b[0m \u001b[0mKeyError\u001b[0m \u001b[0;32mas\u001b[0m \u001b[0merr\u001b[0m\u001b[0;34m:\u001b[0m\u001b[0;34m\u001b[0m\u001b[0;34m\u001b[0m\u001b[0m\n\u001b[0;32m-> 3363\u001b[0;31m                 \u001b[0;32mraise\u001b[0m \u001b[0mKeyError\u001b[0m\u001b[0;34m(\u001b[0m\u001b[0mkey\u001b[0m\u001b[0;34m)\u001b[0m \u001b[0;32mfrom\u001b[0m \u001b[0merr\u001b[0m\u001b[0;34m\u001b[0m\u001b[0;34m\u001b[0m\u001b[0m\n\u001b[0m\u001b[1;32m   3364\u001b[0m \u001b[0;34m\u001b[0m\u001b[0m\n\u001b[1;32m   3365\u001b[0m         \u001b[0;32mif\u001b[0m \u001b[0mis_scalar\u001b[0m\u001b[0;34m(\u001b[0m\u001b[0mkey\u001b[0m\u001b[0;34m)\u001b[0m \u001b[0;32mand\u001b[0m \u001b[0misna\u001b[0m\u001b[0;34m(\u001b[0m\u001b[0mkey\u001b[0m\u001b[0;34m)\u001b[0m \u001b[0;32mand\u001b[0m \u001b[0;32mnot\u001b[0m \u001b[0mself\u001b[0m\u001b[0;34m.\u001b[0m\u001b[0mhasnans\u001b[0m\u001b[0;34m:\u001b[0m\u001b[0;34m\u001b[0m\u001b[0;34m\u001b[0m\u001b[0m\n",
      "\u001b[0;31mKeyError\u001b[0m: 1054"
     ]
    }
   ],
   "source": [
    "text_data = preprocessing(df['news'])\n",
    "print(text_data[0])"
   ]
  },
  {
   "cell_type": "code",
   "execution_count": 80,
   "id": "8aba0e57",
   "metadata": {},
   "outputs": [
    {
     "name": "stdout",
     "output_type": "stream",
     "text": [
      "전처리 중 오류 발생: java.lang.NullPointerException\n",
      "오류가 발생한 문장:          \n",
      "전처리 중 오류 발생: java.lang.NullPointerException\n",
      "오류가 발생한 문장:              \n",
      "전처리 중 오류 발생: java.lang.NullPointerException\n",
      "오류가 발생한 문장:       \n",
      "전처리 중 오류 발생: java.lang.NullPointerException\n",
      "오류가 발생한 문장:        \n",
      "전처리 중 오류 발생: java.lang.NullPointerException\n",
      "오류가 발생한 문장:   \n",
      "전처리 중 오류 발생: java.lang.NullPointerException\n",
      "오류가 발생한 문장:    \n",
      "전처리 중 오류 발생: java.lang.NullPointerException\n",
      "오류가 발생한 문장:            \n",
      "전처리 중 오류 발생: java.lang.NullPointerException\n",
      "오류가 발생한 문장:             \n",
      "신년사 통해 민생 회복 의 한 해 굳 약속 부동산 등 부각\n"
     ]
    }
   ],
   "source": [
    "text_data = preprocessing(df['news'])\n",
    "print(text_data[0])"
   ]
  },
  {
   "cell_type": "code",
   "execution_count": 54,
   "id": "66f8cce9",
   "metadata": {},
   "outputs": [
    {
     "name": "stdout",
     "output_type": "stream",
     "text": [
      "신년사 통해 민생 회복 해 굳 약속 부동산 부각\n"
     ]
    }
   ],
   "source": [
    "print(text_data[0])"
   ]
  },
  {
   "cell_type": "code",
   "execution_count": 81,
   "id": "045eb68b",
   "metadata": {},
   "outputs": [
    {
     "name": "stdout",
     "output_type": "stream",
     "text": [
      "1753\n"
     ]
    }
   ],
   "source": [
    "print(len(text_data))"
   ]
  },
  {
   "cell_type": "code",
   "execution_count": 82,
   "id": "db435c8f",
   "metadata": {},
   "outputs": [],
   "source": [
    "from sklearn.model_selection import train_test_split\n",
    "from sklearn.feature_extraction.text import CountVectorizer\n",
    "from sklearn.feature_extraction.text import TfidfTransformer\n",
    "from sklearn.naive_bayes import MultinomialNB\n",
    "from sklearn import metrics"
   ]
  },
  {
   "cell_type": "code",
   "execution_count": 83,
   "id": "8eef0e44",
   "metadata": {},
   "outputs": [],
   "source": [
    "X_train, X_test, y_train, y_test = train_test_split(df['news'].values, df['code'].values, random_state=0)"
   ]
  },
  {
   "cell_type": "code",
   "execution_count": 84,
   "id": "f5662b4c",
   "metadata": {},
   "outputs": [
    {
     "name": "stdout",
     "output_type": "stream",
     "text": [
      "훈련용 뉴스 기사의 개수 : 1320\n",
      "테스트용 뉴스 기사의 개수 :  441\n",
      "훈련용 레이블의 개수 :  1320\n",
      "테스트용 레이블의 개수 :  441\n"
     ]
    }
   ],
   "source": [
    "print('훈련용 뉴스 기사의 개수 :', len(X_train))\n",
    "print('테스트용 뉴스 기사의 개수 : ', len(X_test))\n",
    "print('훈련용 레이블의 개수 : ', len(y_train))\n",
    "print('테스트용 레이블의 개수 : ', len(y_test))"
   ]
  },
  {
   "cell_type": "code",
   "execution_count": 85,
   "id": "2c99841e",
   "metadata": {},
   "outputs": [],
   "source": [
    "#- 단어의 수를 카운트하는 사이킷런의 카운트벡터라이저입니다.\n",
    "count_vect = CountVectorizer()\n",
    "X_train_counts = count_vect.fit_transform(X_train)\n",
    "\n",
    "#- 카운트벡터라이저의 결과로부터 TF-IDF 결과를 얻습니다.\n",
    "tfidf_transformer = TfidfTransformer()\n",
    "X_train_tfidf = tfidf_transformer.fit_transform(X_train_counts)\n",
    "\n",
    "#- 나이브 베이즈 분류기를 수행합니다.\n",
    "#- X_train은 TF-IDF 벡터, y_train은 레이블입니다.\n",
    "clf = MultinomialNB().fit(X_train_tfidf, y_train)"
   ]
  },
  {
   "cell_type": "code",
   "execution_count": 86,
   "id": "eaca49f9",
   "metadata": {},
   "outputs": [],
   "source": [
    "def tfidf_vectorizer(data):\n",
    "  data_counts = count_vect.transform(data)\n",
    "  data_tfidf = tfidf_transformer.transform(data_counts)\n",
    "  return data_tfidf"
   ]
  },
  {
   "cell_type": "code",
   "execution_count": 95,
   "id": "117e2837",
   "metadata": {},
   "outputs": [
    {
     "name": "stdout",
     "output_type": "stream",
     "text": [
      "['정치']\n"
     ]
    }
   ],
   "source": [
    "new_sent = preprocessing([\"민주당 일각에서 법사위의 체계·자구 심사 기능을 없애야 한다는 \\\n",
    "                           주장이 나오는 데 대해 “체계·자구 심사가 법안 지연의 수단으로 \\\n",
    "                          쓰이는 것은 바람직하지 않다”면서도 “국회를 통과하는 법안 중 위헌\\\n",
    "                          법률이 1년에 10건 넘게 나온다. 그런데 체계·자구 심사까지 없애면 매우 위험하다”고 반박했다.\"])\n",
    "print(clf.predict(tfidf_vectorizer(new_sent)))"
   ]
  },
  {
   "cell_type": "code",
   "execution_count": 93,
   "id": "1ec82e49",
   "metadata": {},
   "outputs": [
    {
     "name": "stdout",
     "output_type": "stream",
     "text": [
      "['경제']\n"
     ]
    }
   ],
   "source": [
    "new_sent = preprocessing([\"반세기 만의 미국 달 착륙선은 결국 달 근처에도 가보지 못한 채 실패로 끝났다.\\\n",
    "                           미국의 우주기업 애스트로보틱은 9일(현지시각) “불행하게도 연료가 누출되는 상황임을 고려할 때\\\n",
    "                          페레그린 우주선이 달에 연착륙할 가능성은 없다”고 밝혔다.\"])\n",
    "print(clf.predict(tfidf_vectorizer(new_sent)))"
   ]
  },
  {
   "cell_type": "code",
   "execution_count": 94,
   "id": "c4c57df0",
   "metadata": {},
   "outputs": [
    {
     "name": "stdout",
     "output_type": "stream",
     "text": [
      "['경제']\n"
     ]
    }
   ],
   "source": [
    "new_sent = preprocessing([\"20분기 연속으로 적자에 시달리는 LG전자가 브랜드 이름부터 성능, 디자인까지 대대적인 변화를 \\\n",
    "                          적용한 LG 벨벳은 등장 전부터 온라인 커뮤니티를 뜨겁게 달궜다. 사용자들은 “디자인이 예쁘다”, \\\n",
    "                          “슬림하다”는 반응을 보이며 LG 벨벳에 대한 기대감을 드러냈다.\"])\n",
    "print(clf.predict(tfidf_vectorizer(new_sent)))"
   ]
  },
  {
   "cell_type": "code",
   "execution_count": 97,
   "id": "31fa3b84",
   "metadata": {},
   "outputs": [
    {
     "name": "stdout",
     "output_type": "stream",
     "text": [
      "              precision    recall  f1-score   support\n",
      "\n",
      "       IT/과학       0.64      0.13      0.21        70\n",
      "          경제       0.71      0.90      0.79       186\n",
      "          정치       0.85      0.87      0.86       185\n",
      "\n",
      "    accuracy                           0.77       441\n",
      "   macro avg       0.73      0.63      0.62       441\n",
      "weighted avg       0.76      0.77      0.73       441\n",
      "\n"
     ]
    }
   ],
   "source": [
    "y_pred = clf.predict(tfidf_vectorizer(X_test))\n",
    "print(metrics.classification_report(y_test, y_pred))"
   ]
  },
  {
   "cell_type": "markdown",
   "id": "b2e48bed",
   "metadata": {},
   "source": [
    "### 새로운 날짜데이터 추가 함수"
   ]
  },
  {
   "cell_type": "code",
   "execution_count": 121,
   "id": "fd93b9fe",
   "metadata": {},
   "outputs": [],
   "source": [
    "import pandas as pd\n",
    "\n",
    "# 기존의 make_total_data 함수\n",
    "def make_total_data(page_num, code_list, date):\n",
    "    df = None\n",
    "\n",
    "    for code in code_list:\n",
    "        url_list = make_urllist(page_num, code, date)\n",
    "        df_temp = make_data(url_list, code)\n",
    "        print(str(code)+'번 코드에 대한 데이터를 만들었습니다.')\n",
    "\n",
    "        if df is not None:\n",
    "            df = pd.concat([df, df_temp])\n",
    "        else:\n",
    "            df = df_temp\n",
    "\n",
    "    return df\n",
    "\n",
    "# 새로운 날짜의 데이터 추가 함수\n",
    "def add_new_date_data(page_num, code_list, new_date):\n",
    "    # 기존 데이터프레임 불러오기\n",
    "    existing_df = pd.read_csv('news_data_updated.csv')  # 현재 파일명\n",
    "\n",
    "    # 새로운 날짜의 데이터 수집 및 추가\n",
    "    for code in code_list:\n",
    "        url_list = make_urllist(page_num, code, new_date)\n",
    "        df_temp = make_data(url_list, code)\n",
    "        print(str(code)+'번 코드에 대한 데이터를 추가했습니다.')\n",
    "\n",
    "        existing_df = pd.concat([existing_df, df_temp])\n",
    "\n",
    "    # 새로운 데이터를 추가한 데이터프레임을 저장\n",
    "    existing_df.to_csv('news_data_updated_2.csv', index=False)  # 현재 파일명"
   ]
  },
  {
   "cell_type": "code",
   "execution_count": 100,
   "id": "e1fd2d46",
   "metadata": {},
   "outputs": [
    {
     "name": "stdout",
     "output_type": "stream",
     "text": [
      "100번 코드에 대한 데이터를 추가했습니다.\n",
      "105번 코드에 대한 데이터를 추가했습니다.\n"
     ]
    }
   ],
   "source": [
    "# 새로운 날짜의 데이터 추가 함수 호출\n",
    "code_list = [100, 105]\n",
    "\n",
    "add_new_date_data(30, code_list, 20240102)"
   ]
  },
  {
   "cell_type": "code",
   "execution_count": 101,
   "id": "1e43ec12",
   "metadata": {},
   "outputs": [
    {
     "name": "stdout",
     "output_type": "stream",
     "text": [
      "뉴스 기사의 개수:  1761\n"
     ]
    }
   ],
   "source": [
    "print('뉴스 기사의 개수: ',len(df))"
   ]
  },
  {
   "cell_type": "code",
   "execution_count": 102,
   "id": "d12aa70f",
   "metadata": {},
   "outputs": [
    {
     "data": {
      "text/html": [
       "<div>\n",
       "<style scoped>\n",
       "    .dataframe tbody tr th:only-of-type {\n",
       "        vertical-align: middle;\n",
       "    }\n",
       "\n",
       "    .dataframe tbody tr th {\n",
       "        vertical-align: top;\n",
       "    }\n",
       "\n",
       "    .dataframe thead th {\n",
       "        text-align: right;\n",
       "    }\n",
       "</style>\n",
       "<table border=\"1\" class=\"dataframe\">\n",
       "  <thead>\n",
       "    <tr style=\"text-align: right;\">\n",
       "      <th></th>\n",
       "      <th>news</th>\n",
       "      <th>code</th>\n",
       "    </tr>\n",
       "  </thead>\n",
       "  <tbody>\n",
       "    <tr>\n",
       "      <th>0</th>\n",
       "      <td>尹, 신년사 통해 “민생 회복의 한 해” 굳은 약속…부동산 등 부각</td>\n",
       "      <td>정치</td>\n",
       "    </tr>\n",
       "    <tr>\n",
       "      <th>1</th>\n",
       "      <td>“군 간부 1인 1실”…달라지는 국방 정책은?</td>\n",
       "      <td>정치</td>\n",
       "    </tr>\n",
       "    <tr>\n",
       "      <th>2</th>\n",
       "      <td>총선 승부처는? 쇄신 공천·수도권 싸움 ‘승패’</td>\n",
       "      <td>정치</td>\n",
       "    </tr>\n",
       "    <tr>\n",
       "      <th>3</th>\n",
       "      <td>강원 정당 새해 인사…‘총선 승리’ 다짐</td>\n",
       "      <td>정치</td>\n",
       "    </tr>\n",
       "    <tr>\n",
       "      <th>4</th>\n",
       "      <td>'김건희 특검' 아닌 '도이치 특검' 표현한 한동훈 속내는?</td>\n",
       "      <td>정치</td>\n",
       "    </tr>\n",
       "  </tbody>\n",
       "</table>\n",
       "</div>"
      ],
      "text/plain": [
       "                                    news code\n",
       "0  尹, 신년사 통해 “민생 회복의 한 해” 굳은 약속…부동산 등 부각   정치\n",
       "1              “군 간부 1인 1실”…달라지는 국방 정책은?   정치\n",
       "2             총선 승부처는? 쇄신 공천·수도권 싸움 ‘승패’   정치\n",
       "3                 강원 정당 새해 인사…‘총선 승리’ 다짐   정치\n",
       "4      '김건희 특검' 아닌 '도이치 특검' 표현한 한동훈 속내는?   정치"
      ]
     },
     "execution_count": 102,
     "metadata": {},
     "output_type": "execute_result"
    }
   ],
   "source": []
  },
  {
   "cell_type": "code",
   "execution_count": 103,
   "id": "6aa474d0",
   "metadata": {},
   "outputs": [
    {
     "data": {
      "text/plain": [
       "0              신년사 통해 민생 회복의 한 해 굳은 약속부동산 등 부각\n",
       "1                          군 간부 인 실달라지는 국방 정책은\n",
       "2                       총선 승부처는 쇄신 공천수도권 싸움 승패\n",
       "3                          강원 정당 새해 인사총선 승리 다짐\n",
       "4                 김건희 특검 아닌 도이치 특검 표현한 한동훈 속내는\n",
       "                         ...                  \n",
       "3403    신년사 박진효 브로드밴드 사장 모든 영역에서 의 일상화로 진일보할 것\n",
       "3404               일본 강진 원인 지하수활단층지질학적 특성 등 추정\n",
       "3405                     서머너즈 워 주년 맞이 년 이벤트 실시\n",
       "3406       신년사 조규곤 파수 대표 고객  활용 돕는  기업으로 거듭날 것\n",
       "3407                        클라우드 김동훈 대표 단독 체제로\n",
       "Name: news, Length: 3408, dtype: object"
      ]
     },
     "execution_count": 103,
     "metadata": {},
     "output_type": "execute_result"
    }
   ],
   "source": [
    "df['news'] = df['news'].str.replace(\"[^ㄱ-ㅎㅏ-ㅣ가-힣 ]\",\"\", regex=True)\n",
    "df['news']"
   ]
  },
  {
   "cell_type": "code",
   "execution_count": 104,
   "id": "0cd92bbf",
   "metadata": {},
   "outputs": [
    {
     "name": "stdout",
     "output_type": "stream",
     "text": [
      "news    6\n",
      "code    0\n",
      "dtype: int64\n",
      "news    0\n",
      "code    0\n",
      "dtype: int64\n"
     ]
    }
   ],
   "source": [
    "# 데이터 null 값 있는지 확인\n",
    "print(df.isnull().sum())\n",
    "# 있으면 지우기\n",
    "df = df.dropna()\n",
    "print(df.isnull().sum())"
   ]
  },
  {
   "cell_type": "code",
   "execution_count": 105,
   "id": "8fd307a3",
   "metadata": {},
   "outputs": [
    {
     "name": "stdout",
     "output_type": "stream",
     "text": [
      "뉴스 기사의 개수:  2871\n"
     ]
    }
   ],
   "source": [
    "df.drop_duplicates(subset=['news'], inplace=True)\n",
    "\n",
    "print('뉴스 기사의 개수: ',len(df))"
   ]
  },
  {
   "cell_type": "code",
   "execution_count": 106,
   "id": "bddcf69b",
   "metadata": {},
   "outputs": [
    {
     "data": {
      "text/plain": [
       "<AxesSubplot:>"
      ]
     },
     "execution_count": 106,
     "metadata": {},
     "output_type": "execute_result"
    },
    {
     "data": {
      "image/png": "[encoded data removed]",
      "text/plain": [
       "<Figure size 432x288 with 1 Axes>"
      ]
     },
     "metadata": {
      "needs_background": "light"
     },
     "output_type": "display_data"
    }
   ],
   "source": [
    "import matplotlib.pyplot as plt\n",
    "plt.rcParams[\"font.family\"] = \"NanumGothic\"\n",
    "\n",
    "df['code'].value_counts().plot(kind = 'bar')"
   ]
  },
  {
   "cell_type": "code",
   "execution_count": 107,
   "id": "534a9aa0",
   "metadata": {},
   "outputs": [
    {
     "name": "stdout",
     "output_type": "stream",
     "text": [
      "    code  count\n",
      "0  IT/과학    899\n",
      "1     경제    748\n",
      "2     정치   1224\n"
     ]
    }
   ],
   "source": [
    "print(df.groupby('code').size().reset_index(name = 'count'))"
   ]
  },
  {
   "cell_type": "code",
   "execution_count": 108,
   "id": "4b7ddee3",
   "metadata": {},
   "outputs": [
    {
     "name": "stdout",
     "output_type": "stream",
     "text": [
      "전처리 중 오류 발생: java.lang.NullPointerException\n",
      "오류가 발생한 문장:          \n",
      "전처리 중 오류 발생: java.lang.NullPointerException\n",
      "오류가 발생한 문장:              \n",
      "전처리 중 오류 발생: java.lang.NullPointerException\n",
      "오류가 발생한 문장:       \n",
      "전처리 중 오류 발생: java.lang.NullPointerException\n",
      "오류가 발생한 문장:        \n",
      "전처리 중 오류 발생: java.lang.NullPointerException\n",
      "오류가 발생한 문장:   \n",
      "전처리 중 오류 발생: java.lang.NullPointerException\n",
      "오류가 발생한 문장:    \n",
      "전처리 중 오류 발생: java.lang.NullPointerException\n",
      "오류가 발생한 문장:            \n",
      "전처리 중 오류 발생: java.lang.NullPointerException\n",
      "오류가 발생한 문장:             \n",
      "전처리 중 오류 발생: java.lang.NullPointerException\n",
      "오류가 발생한 문장:      \n",
      "윤 대통령 패거리 카르텔 타파 새해 국정 도 다시 이념 앞\n"
     ]
    }
   ],
   "source": [
    "text_data = preprocessing(df['news'])\n",
    "print(text_data[100])"
   ]
  },
  {
   "cell_type": "code",
   "execution_count": 109,
   "id": "852076a5",
   "metadata": {},
   "outputs": [
    {
     "name": "stdout",
     "output_type": "stream",
     "text": [
      "신년사 통해 민생 회복 의 한 해 굳 약속 부동산 등 부각\n"
     ]
    }
   ],
   "source": [
    "print(text_data[0])"
   ]
  },
  {
   "cell_type": "code",
   "execution_count": 111,
   "id": "175d88ac",
   "metadata": {},
   "outputs": [],
   "source": [
    "X_train, X_test, y_train, y_test = train_test_split(df['news'].values, df['code'].values, random_state=0)"
   ]
  },
  {
   "cell_type": "code",
   "execution_count": 112,
   "id": "abf72cd2",
   "metadata": {},
   "outputs": [
    {
     "name": "stdout",
     "output_type": "stream",
     "text": [
      "훈련용 뉴스 기사의 개수 : 2153\n",
      "테스트용 뉴스 기사의 개수 :  718\n",
      "훈련용 레이블의 개수 :  2153\n",
      "테스트용 레이블의 개수 :  718\n"
     ]
    }
   ],
   "source": [
    "print('훈련용 뉴스 기사의 개수 :', len(X_train))\n",
    "print('테스트용 뉴스 기사의 개수 : ', len(X_test))\n",
    "print('훈련용 레이블의 개수 : ', len(y_train))\n",
    "print('테스트용 레이블의 개수 : ', len(y_test))"
   ]
  },
  {
   "cell_type": "code",
   "execution_count": 113,
   "id": "fe1c6a2b",
   "metadata": {},
   "outputs": [],
   "source": [
    "count_vect = CountVectorizer()\n",
    "X_train_counts = count_vect.fit_transform(X_train)\n",
    "\n",
    "tfidf_transformer = TfidfTransformer()\n",
    "X_train_tfidf = tfidf_transformer.fit_transform(X_train_counts)\n",
    "\n",
    "clf = MultinomialNB().fit(X_train_tfidf, y_train)"
   ]
  },
  {
   "cell_type": "code",
   "execution_count": 114,
   "id": "230bf899",
   "metadata": {},
   "outputs": [],
   "source": [
    "def tfidf_vectorizer(data):\n",
    "  data_counts = count_vect.transform(data)\n",
    "  data_tfidf = tfidf_transformer.transform(data_counts)\n",
    "  return data_tfidf"
   ]
  },
  {
   "cell_type": "code",
   "execution_count": 117,
   "id": "1943837c",
   "metadata": {},
   "outputs": [
    {
     "name": "stdout",
     "output_type": "stream",
     "text": [
      "              precision    recall  f1-score   support\n",
      "\n",
      "       IT/과학       0.72      0.76      0.74       224\n",
      "          경제       0.79      0.40      0.53       191\n",
      "          정치       0.74      0.93      0.82       303\n",
      "\n",
      "    accuracy                           0.74       718\n",
      "   macro avg       0.75      0.70      0.70       718\n",
      "weighted avg       0.74      0.74      0.72       718\n",
      "\n"
     ]
    }
   ],
   "source": [
    "y_pred = clf.predict(tfidf_vectorizer(X_test))\n",
    "print(metrics.classification_report(y_test, y_pred))"
   ]
  },
  {
   "cell_type": "code",
   "execution_count": 125,
   "id": "182c45ef",
   "metadata": {},
   "outputs": [
    {
     "name": "stdout",
     "output_type": "stream",
     "text": [
      "100번 코드에 대한 데이터를 추가했습니다.\n",
      "101번 코드에 대한 데이터를 추가했습니다.\n",
      "105번 코드에 대한 데이터를 추가했습니다.\n"
     ]
    }
   ],
   "source": [
    "# 새로운 날짜 데이터 추가 함수 호출\n",
    "code_list = [100, 101, 105]\n",
    "\n",
    "add_new_date_data(20, code_list, 20240112)"
   ]
  },
  {
   "cell_type": "code",
   "execution_count": 126,
   "id": "fc054c37",
   "metadata": {},
   "outputs": [
    {
     "name": "stdout",
     "output_type": "stream",
     "text": [
      "뉴스 기사의 개수:  2871\n"
     ]
    }
   ],
   "source": [
    "print('뉴스 기사의 개수: ',len(df))"
   ]
  },
  {
   "cell_type": "code",
   "execution_count": 186,
   "id": "5bda0f79",
   "metadata": {},
   "outputs": [],
   "source": [
    "csv_path = os.getenv(\"HOME\") + \"/aiffel/news_crawler/news_data_updated_2.csv\"\n",
    "df = pd.read_table(csv_path, sep=',')"
   ]
  },
  {
   "cell_type": "code",
   "execution_count": 187,
   "id": "fd9e9b30",
   "metadata": {},
   "outputs": [
    {
     "name": "stdout",
     "output_type": "stream",
     "text": [
      "뉴스 기사의 개수:  4608\n"
     ]
    }
   ],
   "source": [
    "print('뉴스 기사의 개수: ',len(df))"
   ]
  },
  {
   "cell_type": "code",
   "execution_count": 188,
   "id": "390b4349",
   "metadata": {},
   "outputs": [
    {
     "data": {
      "text/plain": [
       "0        신년사 통해 민생 회복의 한 해 굳은 약속부동산 등 부각\n",
       "1                    군 간부 인 실달라지는 국방 정책은\n",
       "2                 총선 승부처는 쇄신 공천수도권 싸움 승패\n",
       "3                    강원 정당 새해 인사총선 승리 다짐\n",
       "4           김건희 특검 아닌 도이치 특검 표현한 한동훈 속내는\n",
       "                      ...               \n",
       "4603        대 고령자도 웨어러블 로봇 입고 가뿐히 북한산 등반\n",
       "4604       저커버그 직접 키운 소고기 먹방온실가스 어쩌려고 비난\n",
       "4605            화제 만발 비서 래빗사전 주문에 만대 몰려 \n",
       "4606              밀리의 서재 오브제북 지니서 무료로 본다\n",
       "4607     워게이밍 월드오브탱크 영화 스내치 테마 배틀 패스 선보여\n",
       "Name: news, Length: 4608, dtype: object"
      ]
     },
     "execution_count": 188,
     "metadata": {},
     "output_type": "execute_result"
    }
   ],
   "source": [
    "df['news'] = df['news'].str.replace(\"[^ㄱ-ㅎㅏ-ㅣ가-힣 ]\",\"\", regex=True)\n",
    "df['news']"
   ]
  },
  {
   "cell_type": "code",
   "execution_count": 189,
   "id": "5e85403e",
   "metadata": {},
   "outputs": [
    {
     "name": "stdout",
     "output_type": "stream",
     "text": [
      "news    6\n",
      "code    0\n",
      "dtype: int64\n",
      "news    0\n",
      "code    0\n",
      "dtype: int64\n"
     ]
    }
   ],
   "source": [
    "print(df.isnull().sum())\n",
    "# 있으면 지우기\n",
    "df = df.dropna()\n",
    "print(df.isnull().sum())"
   ]
  },
  {
   "cell_type": "code",
   "execution_count": 190,
   "id": "c197b47f",
   "metadata": {},
   "outputs": [
    {
     "name": "stdout",
     "output_type": "stream",
     "text": [
      "뉴스 기사의 개수:  2932\n"
     ]
    }
   ],
   "source": [
    "df.drop_duplicates(subset=['news'], inplace=True)\n",
    "print('뉴스 기사의 개수: ',len(df))"
   ]
  },
  {
   "cell_type": "code",
   "execution_count": 191,
   "id": "e3d36a4e",
   "metadata": {},
   "outputs": [
    {
     "name": "stdout",
     "output_type": "stream",
     "text": [
      "    code  count\n",
      "0  IT/과학    918\n",
      "1     경제    772\n",
      "2     정치   1242\n"
     ]
    },
    {
     "data": {
      "image/png": "[encoded data removed]",
      "text/plain": [
       "<Figure size 432x288 with 1 Axes>"
      ]
     },
     "metadata": {
      "needs_background": "light"
     },
     "output_type": "display_data"
    }
   ],
   "source": [
    "import matplotlib.pyplot as plt\n",
    "plt.rcParams[\"font.family\"] = \"NanumGothic\"\n",
    "\n",
    "df['code'].value_counts().plot(kind = 'bar')\n",
    "print(df.groupby('code').size().reset_index(name = 'count'))"
   ]
  },
  {
   "cell_type": "code",
   "execution_count": 192,
   "id": "2c511700",
   "metadata": {},
   "outputs": [],
   "source": [
    "X_train, X_test, y_train, y_test = train_test_split(df['news'].values, df['code'].values, random_state=0)"
   ]
  },
  {
   "cell_type": "code",
   "execution_count": 193,
   "id": "fdfff873",
   "metadata": {},
   "outputs": [
    {
     "name": "stdout",
     "output_type": "stream",
     "text": [
      "훈련용 뉴스 기사의 개수 : 2199\n",
      "테스트용 뉴스 기사의 개수 :  733\n",
      "훈련용 레이블의 개수 :  2199\n",
      "테스트용 레이블의 개수 :  733\n"
     ]
    }
   ],
   "source": [
    "print('훈련용 뉴스 기사의 개수 :', len(X_train))\n",
    "print('테스트용 뉴스 기사의 개수 : ', len(X_test))\n",
    "print('훈련용 레이블의 개수 : ', len(y_train))\n",
    "print('테스트용 레이블의 개수 : ', len(y_test))"
   ]
  },
  {
   "cell_type": "code",
   "execution_count": 194,
   "id": "a3702c98",
   "metadata": {},
   "outputs": [],
   "source": [
    "# stopwords = [\"으로\", \"은\", \"는\", \"ㄴ\", \"이\", \"가\", \"하\", \"것\", \"ㅁ\", \"ㄹ\",\n",
    "#              \"어\", \"등\", \"도\", \"었\", \"겠\", \"만\", \"와\", \"과\", \"의\", \"에\",\n",
    "#              \"아니\", \"없\", \"되\", \"로\", \"며\", \"지\", \"언급\", \"위\", \"때문\", \"로\",\n",
    "#              \"기\", \"를\", \"찾\", \"곳\", \"어야\", \"김\", \"습니다\", \"다\", \"ㄴ다\", \"만들\"]\n",
    "\n",
    "stopwords = [\"으로\", \"은\", \"는\", \"던\", \"이\", \"가\", \"하\", \"것\", \"수\", \"한\",\n",
    "             \"어\", \"등\", \"도\", \"었\", \"겠\", \"만\", \"와\", \"과\", \"의\", \"에\",\n",
    "             \"아니\", \"없\", \"되\", \"로\", \"며\", \"지\", \"언급\", \"위\", \"때문\", \"로\",\n",
    "             \"기\", \"을\", \"를\", \"찾\", \"곳\", \"어야\", \"김\", \"습니다\", \"다\", \"낳\",\n",
    "             \"만들\", \"러\", \"엥\", \"명\", \"외\", \"또\", \"준비\", \"제시\", \"고\", \"님\", \"한다\"]"
   ]
  },
  {
   "cell_type": "code",
   "execution_count": 195,
   "id": "a9303bf5",
   "metadata": {},
   "outputs": [],
   "source": [
    "def preprocessing(data):\n",
    "    text_data = []\n",
    "\n",
    "    for sentence in data:\n",
    "        try:\n",
    "            temp_data = []\n",
    "            #- 토큰화\n",
    "            temp_data = tokenizer.morphs(sentence)\n",
    "            #- 불용어 제거\n",
    "            temp_data = [word for word in temp_data if word not in stopwords]\n",
    "            text_data.append(temp_data)\n",
    "        except Exception as e:\n",
    "            print(f\"전처리 중 오류 발생: {e}\")\n",
    "            print(f\"오류가 발생한 문장: {sentence}\")\n",
    "\n",
    "    text_data = list(map(' '.join, text_data))\n",
    "\n",
    "    return text_data"
   ]
  },
  {
   "cell_type": "code",
   "execution_count": 196,
   "id": "7a28c6ed",
   "metadata": {},
   "outputs": [
    {
     "name": "stdout",
     "output_type": "stream",
     "text": [
      "윤 대통령 패거리 카르텔 타파 새해 국정 다시 이념 앞\n"
     ]
    }
   ],
   "source": [
    "text_data = preprocessing(df['news'])\n",
    "print(text_data[100])"
   ]
  },
  {
   "cell_type": "code",
   "execution_count": 197,
   "id": "2f504219",
   "metadata": {},
   "outputs": [
    {
     "name": "stdout",
     "output_type": "stream",
     "text": [
      "훈련용 뉴스 기사의 개수 : 2199\n",
      "테스트용 뉴스 기사의 개수 :  733\n",
      "훈련용 레이블의 개수 :  2199\n",
      "테스트용 레이블의 개수 :  733\n"
     ]
    }
   ],
   "source": [
    "X_train, X_test, y_train, y_test = train_test_split(df['news'].values, df['code'].values, random_state=0)\n",
    "print('훈련용 뉴스 기사의 개수 :', len(X_train))\n",
    "print('테스트용 뉴스 기사의 개수 : ', len(X_test))\n",
    "print('훈련용 레이블의 개수 : ', len(y_train))\n",
    "print('테스트용 레이블의 개수 : ', len(y_test))"
   ]
  },
  {
   "cell_type": "code",
   "execution_count": 198,
   "id": "685c5bd3",
   "metadata": {},
   "outputs": [],
   "source": [
    "count_vect = CountVectorizer()\n",
    "X_train_counts = count_vect.fit_transform(X_train)\n",
    "\n",
    "tfidf_transformer = TfidfTransformer()\n",
    "X_train_tfidf = tfidf_transformer.fit_transform(X_train_counts)\n",
    "\n",
    "clf = MultinomialNB().fit(X_train_tfidf, y_train)"
   ]
  },
  {
   "cell_type": "code",
   "execution_count": 199,
   "id": "0f769673",
   "metadata": {},
   "outputs": [],
   "source": [
    "def tfidf_vectorizer(data):\n",
    "  data_counts = count_vect.transform(data)\n",
    "  data_tfidf = tfidf_transformer.transform(data_counts)\n",
    "  return data_tfidf"
   ]
  },
  {
   "cell_type": "code",
   "execution_count": 200,
   "id": "55d41f9e",
   "metadata": {},
   "outputs": [
    {
     "name": "stdout",
     "output_type": "stream",
     "text": [
      "              precision    recall  f1-score   support\n",
      "\n",
      "       IT/과학       0.70      0.73      0.71       224\n",
      "          경제       0.74      0.39      0.51       193\n",
      "          정치       0.74      0.94      0.83       316\n",
      "\n",
      "    accuracy                           0.73       733\n",
      "   macro avg       0.73      0.68      0.68       733\n",
      "weighted avg       0.73      0.73      0.71       733\n",
      "\n"
     ]
    }
   ],
   "source": [
    "y_pred = clf.predict(tfidf_vectorizer(X_test))\n",
    "print(metrics.classification_report(y_test, y_pred))"
   ]
  },
  {
   "cell_type": "code",
   "execution_count": 201,
   "id": "2fae528a",
   "metadata": {},
   "outputs": [
    {
     "name": "stdout",
     "output_type": "stream",
     "text": [
      "SVM F1 Score: 0.7515690042362821\n"
     ]
    }
   ],
   "source": [
    "from sklearn.svm import SVC\n",
    "from sklearn.feature_extraction.text import CountVectorizer, TfidfTransformer\n",
    "from sklearn.model_selection import train_test_split\n",
    "from sklearn.pipeline import Pipeline\n",
    "from sklearn.metrics import f1_score\n",
    "\n",
    "X_train, X_test, y_train, y_test = train_test_split(df['news'].values, df['code'].values, random_state=0)\n",
    "\n",
    "svm_clf = Pipeline([\n",
    "    ('vect', CountVectorizer()),\n",
    "    ('tfidf', TfidfTransformer()),\n",
    "    ('clf', SVC(kernel='linear'))\n",
    "])\n",
    "\n",
    "svm_clf.fit(X_train, y_train)\n",
    "\n",
    "y_pred_svm = svm_clf.predict(X_test)\n",
    "\n",
    "f1_svm = f1_score(y_test, y_pred_svm, average='weighted')\n",
    "print('SVM F1 Score:', f1_svm)"
   ]
  },
  {
   "cell_type": "code",
   "execution_count": 202,
   "id": "14ff6468",
   "metadata": {},
   "outputs": [
    {
     "name": "stdout",
     "output_type": "stream",
     "text": [
      "Random Forest F1 Score: 0.7061031102004319\n"
     ]
    }
   ],
   "source": [
    "from sklearn.ensemble import RandomForestClassifier\n",
    "from sklearn.feature_extraction.text import CountVectorizer, TfidfTransformer\n",
    "from sklearn.model_selection import train_test_split\n",
    "from sklearn.pipeline import Pipeline\n",
    "from sklearn.metrics import f1_score\n",
    "\n",
    "X_train, X_test, y_train, y_test = train_test_split(df['news'].values, df['code'].values, random_state=0)\n",
    "\n",
    "rf_clf = Pipeline([\n",
    "    ('vect', CountVectorizer()),\n",
    "    ('tfidf', TfidfTransformer()),\n",
    "    ('clf', RandomForestClassifier(n_estimators=100))  # You can experiment with the number of trees\n",
    "])\n",
    "\n",
    "rf_clf.fit(X_train, y_train)\n",
    "\n",
    "y_pred_rf = rf_clf.predict(X_test)\n",
    "\n",
    "f1_rf = f1_score(y_test, y_pred_rf, average='weighted')\n",
    "print('Random Forest F1 Score:', f1_rf)"
   ]
  },
  {
   "cell_type": "code",
   "execution_count": 203,
   "id": "c3029191",
   "metadata": {},
   "outputs": [
    {
     "name": "stdout",
     "output_type": "stream",
     "text": [
      "Best SVM F1 Score: 0.7515690042362821\n",
      "Best Parameters: {'clf__C': 1, 'clf__gamma': 'scale', 'clf__kernel': 'linear'}\n"
     ]
    }
   ],
   "source": [
    "from sklearn.model_selection import GridSearchCV\n",
    "from sklearn.svm import SVC\n",
    "from sklearn.feature_extraction.text import CountVectorizer, TfidfTransformer\n",
    "from sklearn.model_selection import train_test_split\n",
    "from sklearn.pipeline import Pipeline\n",
    "from sklearn.metrics import f1_score\n",
    "\n",
    "X_train, X_test, y_train, y_test = train_test_split(df['news'].values, df['code'].values, random_state=0)\n",
    "\n",
    "svm_clf = Pipeline([\n",
    "    ('vect', CountVectorizer()),\n",
    "    ('tfidf', TfidfTransformer()),\n",
    "    ('clf', SVC(kernel='linear'))\n",
    "])\n",
    "\n",
    "parameters = {\n",
    "    'clf__C': [0.1, 1, 10, 100],  \n",
    "    'clf__gamma': ['scale', 'auto'],\n",
    "    'clf__kernel': ['linear', 'rbf', 'poly']\n",
    "}\n",
    "\n",
    "grid_search = GridSearchCV(svm_clf, parameters, cv=5, n_jobs=-1, scoring='f1_weighted')\n",
    "\n",
    "grid_search.fit(X_train, y_train)\n",
    "\n",
    "best_svm_clf = grid_search.best_estimator_\n",
    "\n",
    "y_pred_best_svm = best_svm_clf.predict(X_test)\n",
    "\n",
    "f1_best_svm = f1_score(y_test, y_pred_best_svm, average='weighted')\n",
    "print('Best SVM F1 Score:', f1_best_svm)\n",
    "\n",
    "print('Best Parameters:', grid_search.best_params_)"
   ]
  },
  {
   "cell_type": "markdown",
   "id": "c55d5a8b",
   "metadata": {},
   "source": [
    "### 프로젝트 회고\n",
    "\n",
    "\n",
    "- Step1) 형태소 분석기 변경해 보기\n",
    "- Step2) 불용어 추가하기\n",
    "- Step3) 다른 날짜 데이터 추가하기 \n",
    "- Kkma를 선택했고, 데이터를 처음에 10배로 하니 너무 정확도가 낮아 40배로 만들어놓은 후 진행했다. \n",
    "- Kkma로 나온 결과를 보니 Mecab과 달리 ‘ㄴ’ 과 같은 형태소까지 분석되어 불용어를 추가했다. 특정 단어보다는 뉴스 별 공통적으로 빈도수가 많이 나올 것 같은 단어 조사나 어말어미 같은 것 위주로 추가하였다.\n",
    "\n",
    "- 그리고 데이터를 추가하였다. 한 번에 100배 불러오는 건 못해도 10배씩 더 불러온 뒤에 그걸 기존 데이터에 합치는 작업으로 진행했다. \n",
    "\n",
    "회고, 어려운 건 데이터 불러오는 거 그리고 중간에 Kkma를 사용하니 \n",
    "전처리 중 오류 발생: java.lang.NullPointerException 하여 예외처리를 하는 데 시간이 오래걸렸다. 카테고리에 대한 것도 영향을 끼칠 수 있다고 생각했따. 예를 들어 사회 경제는 분류하기 애매할 수도 있지 않을까? 하는 생각.. 그치만 처음에는 모든 기사를 자꾸 정치기사로 분류해서 정말 난감했다… 그리고 Mecab을 다시 썼다. \n",
    "\n",
    "다른 그루들과도 계속해서 얘기해보았는데 공통적으로 어려운 점들이라고 하면 널값, 데이터 로딩, 불용어 추가 등… 데이터를 넣고 뺴고 같이 진행했고 데이터 공유도 함께 해보았다. 다른 모델로도 돌려봤는데 크게 오르진 않아서 다함께 논의해보고 여러 방향을 찾아가는 과정이 즐거웠다. 오늘은 코딩하느라 생각을 많이 했는데 다음에는 다른 방법과 이론에 대해서도 같이 얘기해보고 싶다. 그루들과 \n"
   ]
  },
  {
   "cell_type": "markdown",
   "id": "aef54d69",
   "metadata": {},
   "source": [
    "### 추가\n",
    "그리고 내부에 카테고리를 4개로 하니 정치분야는 90이 넘기도 하였다! \n",
    "역시 정치파트가 가장 특징이 강한가보다!\n",
    "\n",
    "https://github.com/inseonseo/AIFFEL_Quest/blob/main/Quest_0111/News_category4.ipynb"
   ]
  },
  {
   "cell_type": "code",
   "execution_count": null,
   "id": "c928f54c",
   "metadata": {},
   "outputs": [],
   "source": []
  }
 ],
 "metadata": {
  "kernelspec": {
   "display_name": "Python 3 (ipykernel)",
   "language": "python",
   "name": "python3"
  },
  "language_info": {
   "codemirror_mode": {
    "name": "ipython",
    "version": 3
   },
   "file_extension": ".py",
   "mimetype": "text/x-python",
   "name": "python",
   "nbconvert_exporter": "python",
   "pygments_lexer": "ipython3",
   "version": "3.9.7"
  }
 },
 "nbformat": 4,
 "nbformat_minor": 5
}
