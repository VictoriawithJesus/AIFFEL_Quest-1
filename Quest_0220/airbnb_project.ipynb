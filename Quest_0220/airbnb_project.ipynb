{
 "cells": [
  {
   "cell_type": "markdown",
   "id": "aad11619",
   "metadata": {},
   "source": [
    "# ML Project\n",
    "## Airbnb(New York City)\n",
    "- 미국 NYC Airbnb 목록(2019)\n",
    "- 프로젝트 목적: 가격 예측(price)\n",
    "- 제공 데이터(3개): train.csv, test.csv, y_test(최종 채점용)\n",
    "\n",
    "- 평가 방식: MSE (평균제곱오차/ 실제 값과 예측 값 차이 : 제곱해 평균)\n",
    "- [데이터 출처 바로가기](https://www.kaggle.com/datasets/dgomonov/new-york-city-airbnb-open-data) / License CC0: Public Domain"
   ]
  },
  {
   "cell_type": "markdown",
   "id": "769ec637",
   "metadata": {},
   "source": [
    "### Baseline"
   ]
  },
  {
   "cell_type": "code",
   "execution_count": 63,
   "id": "8d967f64",
   "metadata": {},
   "outputs": [],
   "source": [
    "# 라이브러리 \n",
    "import pandas as pd"
   ]
  },
  {
   "cell_type": "code",
   "execution_count": 64,
   "id": "1d344ce1",
   "metadata": {},
   "outputs": [],
   "source": [
    "# 데이터 불러오기\n",
    "train = pd.read_csv('/aiffel/data/train.csv')\n",
    "test = pd.read_csv('/aiffel/data/test.csv')"
   ]
  },
  {
   "cell_type": "markdown",
   "id": "5ead7213",
   "metadata": {},
   "source": [
    "### EDA"
   ]
  },
  {
   "cell_type": "code",
   "execution_count": 3,
   "id": "cef3c00b",
   "metadata": {},
   "outputs": [
    {
     "data": {
      "text/plain": [
       "((39116, 16), (9779, 15))"
      ]
     },
     "execution_count": 3,
     "metadata": {},
     "output_type": "execute_result"
    }
   ],
   "source": [
    "# 데이터 크기\n",
    "train.shape, test.shape"
   ]
  },
  {
   "cell_type": "code",
   "execution_count": 4,
   "id": "28a16ca2",
   "metadata": {},
   "outputs": [
    {
     "data": {
      "text/html": [
       "<div>\n",
       "<style scoped>\n",
       "    .dataframe tbody tr th:only-of-type {\n",
       "        vertical-align: middle;\n",
       "    }\n",
       "\n",
       "    .dataframe tbody tr th {\n",
       "        vertical-align: top;\n",
       "    }\n",
       "\n",
       "    .dataframe thead th {\n",
       "        text-align: right;\n",
       "    }\n",
       "</style>\n",
       "<table border=\"1\" class=\"dataframe\">\n",
       "  <thead>\n",
       "    <tr style=\"text-align: right;\">\n",
       "      <th></th>\n",
       "      <th>id</th>\n",
       "      <th>name</th>\n",
       "      <th>host_id</th>\n",
       "      <th>host_name</th>\n",
       "      <th>neighbourhood_group</th>\n",
       "      <th>neighbourhood</th>\n",
       "      <th>latitude</th>\n",
       "      <th>longitude</th>\n",
       "      <th>room_type</th>\n",
       "      <th>price</th>\n",
       "      <th>minimum_nights</th>\n",
       "      <th>number_of_reviews</th>\n",
       "      <th>last_review</th>\n",
       "      <th>reviews_per_month</th>\n",
       "      <th>calculated_host_listings_count</th>\n",
       "      <th>availability_365</th>\n",
       "    </tr>\n",
       "  </thead>\n",
       "  <tbody>\n",
       "    <tr>\n",
       "      <th>0</th>\n",
       "      <td>14963583</td>\n",
       "      <td>Room in South Harlem near Central Park</td>\n",
       "      <td>94219511</td>\n",
       "      <td>Gilles</td>\n",
       "      <td>Manhattan</td>\n",
       "      <td>Harlem</td>\n",
       "      <td>40.80167</td>\n",
       "      <td>-73.95781</td>\n",
       "      <td>Private room</td>\n",
       "      <td>70</td>\n",
       "      <td>3</td>\n",
       "      <td>3</td>\n",
       "      <td>2019-01-01</td>\n",
       "      <td>0.09</td>\n",
       "      <td>2</td>\n",
       "      <td>0</td>\n",
       "    </tr>\n",
       "    <tr>\n",
       "      <th>1</th>\n",
       "      <td>9458704</td>\n",
       "      <td>Large 1BR Apartment, near Times Sq (2nd Floor)</td>\n",
       "      <td>49015331</td>\n",
       "      <td>Iradj</td>\n",
       "      <td>Manhattan</td>\n",
       "      <td>Hell's Kitchen</td>\n",
       "      <td>40.76037</td>\n",
       "      <td>-73.99016</td>\n",
       "      <td>Entire home/apt</td>\n",
       "      <td>240</td>\n",
       "      <td>2</td>\n",
       "      <td>64</td>\n",
       "      <td>2019-06-30</td>\n",
       "      <td>1.68</td>\n",
       "      <td>2</td>\n",
       "      <td>262</td>\n",
       "    </tr>\n",
       "  </tbody>\n",
       "</table>\n",
       "</div>"
      ],
      "text/plain": [
       "         id                                            name   host_id  \\\n",
       "0  14963583          Room in South Harlem near Central Park  94219511   \n",
       "1   9458704  Large 1BR Apartment, near Times Sq (2nd Floor)  49015331   \n",
       "\n",
       "  host_name neighbourhood_group   neighbourhood  latitude  longitude  \\\n",
       "0    Gilles           Manhattan          Harlem  40.80167  -73.95781   \n",
       "1     Iradj           Manhattan  Hell's Kitchen  40.76037  -73.99016   \n",
       "\n",
       "         room_type  price  minimum_nights  number_of_reviews last_review  \\\n",
       "0     Private room     70               3                  3  2019-01-01   \n",
       "1  Entire home/apt    240               2                 64  2019-06-30   \n",
       "\n",
       "   reviews_per_month  calculated_host_listings_count  availability_365  \n",
       "0               0.09                               2                 0  \n",
       "1               1.68                               2               262  "
      ]
     },
     "metadata": {},
     "output_type": "display_data"
    },
    {
     "data": {
      "text/html": [
       "<div>\n",
       "<style scoped>\n",
       "    .dataframe tbody tr th:only-of-type {\n",
       "        vertical-align: middle;\n",
       "    }\n",
       "\n",
       "    .dataframe tbody tr th {\n",
       "        vertical-align: top;\n",
       "    }\n",
       "\n",
       "    .dataframe thead th {\n",
       "        text-align: right;\n",
       "    }\n",
       "</style>\n",
       "<table border=\"1\" class=\"dataframe\">\n",
       "  <thead>\n",
       "    <tr style=\"text-align: right;\">\n",
       "      <th></th>\n",
       "      <th>id</th>\n",
       "      <th>name</th>\n",
       "      <th>host_id</th>\n",
       "      <th>host_name</th>\n",
       "      <th>neighbourhood_group</th>\n",
       "      <th>neighbourhood</th>\n",
       "      <th>latitude</th>\n",
       "      <th>longitude</th>\n",
       "      <th>room_type</th>\n",
       "      <th>minimum_nights</th>\n",
       "      <th>number_of_reviews</th>\n",
       "      <th>last_review</th>\n",
       "      <th>reviews_per_month</th>\n",
       "      <th>calculated_host_listings_count</th>\n",
       "      <th>availability_365</th>\n",
       "    </tr>\n",
       "  </thead>\n",
       "  <tbody>\n",
       "    <tr>\n",
       "      <th>0</th>\n",
       "      <td>30913224</td>\n",
       "      <td>Cozy and Sunny Room Williamsburg, Luxury Building</td>\n",
       "      <td>33771081</td>\n",
       "      <td>Rémy</td>\n",
       "      <td>Brooklyn</td>\n",
       "      <td>Williamsburg</td>\n",
       "      <td>40.70959</td>\n",
       "      <td>-73.94652</td>\n",
       "      <td>Private room</td>\n",
       "      <td>3</td>\n",
       "      <td>2</td>\n",
       "      <td>2019-05-08</td>\n",
       "      <td>0.31</td>\n",
       "      <td>1</td>\n",
       "      <td>0</td>\n",
       "    </tr>\n",
       "    <tr>\n",
       "      <th>1</th>\n",
       "      <td>971247</td>\n",
       "      <td>Sunny Artist Live/Work Apartment</td>\n",
       "      <td>5308961</td>\n",
       "      <td>Larry</td>\n",
       "      <td>Manhattan</td>\n",
       "      <td>Upper West Side</td>\n",
       "      <td>40.79368</td>\n",
       "      <td>-73.96487</td>\n",
       "      <td>Entire home/apt</td>\n",
       "      <td>3</td>\n",
       "      <td>159</td>\n",
       "      <td>2019-07-03</td>\n",
       "      <td>2.09</td>\n",
       "      <td>1</td>\n",
       "      <td>244</td>\n",
       "    </tr>\n",
       "  </tbody>\n",
       "</table>\n",
       "</div>"
      ],
      "text/plain": [
       "         id                                               name   host_id  \\\n",
       "0  30913224  Cozy and Sunny Room Williamsburg, Luxury Building  33771081   \n",
       "1    971247                   Sunny Artist Live/Work Apartment   5308961   \n",
       "\n",
       "  host_name neighbourhood_group    neighbourhood  latitude  longitude  \\\n",
       "0      Rémy            Brooklyn     Williamsburg  40.70959  -73.94652   \n",
       "1     Larry           Manhattan  Upper West Side  40.79368  -73.96487   \n",
       "\n",
       "         room_type  minimum_nights  number_of_reviews last_review  \\\n",
       "0     Private room               3                  2  2019-05-08   \n",
       "1  Entire home/apt               3                159  2019-07-03   \n",
       "\n",
       "   reviews_per_month  calculated_host_listings_count  availability_365  \n",
       "0               0.31                               1                 0  \n",
       "1               2.09                               1               244  "
      ]
     },
     "metadata": {},
     "output_type": "display_data"
    }
   ],
   "source": [
    "# 데이터 샘플\n",
    "display(train.head(2))\n",
    "display(test.head(2))"
   ]
  },
  {
   "cell_type": "code",
   "execution_count": 5,
   "id": "214d7b2d",
   "metadata": {},
   "outputs": [
    {
     "name": "stdout",
     "output_type": "stream",
     "text": [
      "<class 'pandas.core.frame.DataFrame'>\n",
      "RangeIndex: 39116 entries, 0 to 39115\n",
      "Data columns (total 16 columns):\n",
      " #   Column                          Non-Null Count  Dtype  \n",
      "---  ------                          --------------  -----  \n",
      " 0   id                              39116 non-null  int64  \n",
      " 1   name                            39104 non-null  object \n",
      " 2   host_id                         39116 non-null  int64  \n",
      " 3   host_name                       39099 non-null  object \n",
      " 4   neighbourhood_group             39116 non-null  object \n",
      " 5   neighbourhood                   39116 non-null  object \n",
      " 6   latitude                        39116 non-null  float64\n",
      " 7   longitude                       39116 non-null  float64\n",
      " 8   room_type                       39116 non-null  object \n",
      " 9   price                           39116 non-null  int64  \n",
      " 10  minimum_nights                  39116 non-null  int64  \n",
      " 11  number_of_reviews               39116 non-null  int64  \n",
      " 12  last_review                     31122 non-null  object \n",
      " 13  reviews_per_month               31122 non-null  float64\n",
      " 14  calculated_host_listings_count  39116 non-null  int64  \n",
      " 15  availability_365                39116 non-null  int64  \n",
      "dtypes: float64(3), int64(7), object(6)\n",
      "memory usage: 4.8+ MB\n"
     ]
    }
   ],
   "source": [
    "# 데이터 타입\n",
    "train.info()"
   ]
  },
  {
   "cell_type": "code",
   "execution_count": 15,
   "id": "08ff4730",
   "metadata": {
    "scrolled": true
   },
   "outputs": [
    {
     "data": {
      "text/plain": [
       "id                                0.000000\n",
       "name                              0.000307\n",
       "host_id                           0.000000\n",
       "host_name                         0.000435\n",
       "neighbourhood_group               0.000000\n",
       "neighbourhood                     0.000000\n",
       "latitude                          0.000000\n",
       "longitude                         0.000000\n",
       "room_type                         0.000000\n",
       "price                             0.000000\n",
       "minimum_nights                    0.000000\n",
       "number_of_reviews                 0.000000\n",
       "last_review                       0.204366\n",
       "reviews_per_month                 0.204366\n",
       "calculated_host_listings_count    0.000000\n",
       "availability_365                  0.000000\n",
       "dtype: float64"
      ]
     },
     "execution_count": 15,
     "metadata": {},
     "output_type": "execute_result"
    }
   ],
   "source": [
    "# 결측치(train)\n",
    "# 12, 17, 7994, 7994\n",
    "train.isna().mean()"
   ]
  },
  {
   "cell_type": "code",
   "execution_count": 13,
   "id": "2dd519a4",
   "metadata": {},
   "outputs": [
    {
     "data": {
      "text/plain": [
       "id                                0.000000\n",
       "name                              0.000409\n",
       "host_id                           0.000000\n",
       "host_name                         0.000409\n",
       "neighbourhood_group               0.000000\n",
       "neighbourhood                     0.000000\n",
       "latitude                          0.000000\n",
       "longitude                         0.000000\n",
       "room_type                         0.000000\n",
       "minimum_nights                    0.000000\n",
       "number_of_reviews                 0.000000\n",
       "last_review                       0.210451\n",
       "reviews_per_month                 0.210451\n",
       "calculated_host_listings_count    0.000000\n",
       "availability_365                  0.000000\n",
       "dtype: float64"
      ]
     },
     "execution_count": 13,
     "metadata": {},
     "output_type": "execute_result"
    }
   ],
   "source": [
    "# 결측치(test) \n",
    "#2058\n",
    "test.isna().mean()"
   ]
  },
  {
   "cell_type": "code",
   "execution_count": 8,
   "id": "e3b5440a",
   "metadata": {},
   "outputs": [
    {
     "data": {
      "text/plain": [
       "<AxesSubplot:>"
      ]
     },
     "execution_count": 8,
     "metadata": {},
     "output_type": "execute_result"
    },
    {
     "data": {
      "image/png": "[encoded data removed]",
      "text/plain": [
       "<Figure size 432x288 with 1 Axes>"
      ]
     },
     "metadata": {
      "needs_background": "light"
     },
     "output_type": "display_data"
    }
   ],
   "source": [
    "# target(hist)\n",
    "train['price'].hist(bins=100)"
   ]
  },
  {
   "cell_type": "code",
   "execution_count": 9,
   "id": "3925e8a5",
   "metadata": {},
   "outputs": [
    {
     "data": {
      "text/plain": [
       "count    39116.000000\n",
       "mean       152.751150\n",
       "std        241.752501\n",
       "min          0.000000\n",
       "25%         69.000000\n",
       "50%        105.000000\n",
       "75%        175.000000\n",
       "max      10000.000000\n",
       "Name: price, dtype: float64"
      ]
     },
     "execution_count": 9,
     "metadata": {},
     "output_type": "execute_result"
    }
   ],
   "source": [
    "# target(describe)\n",
    "train['price'].describe()"
   ]
  },
  {
   "cell_type": "code",
   "execution_count": 10,
   "id": "fc4821fb",
   "metadata": {},
   "outputs": [
    {
     "data": {
      "text/plain": [
       "219517861    256\n",
       "107434423    181\n",
       "30283594      99\n",
       "137358866     82\n",
       "12243051      80\n",
       "            ... \n",
       "73369106       1\n",
       "26620387       1\n",
       "176660539      1\n",
       "26004891       1\n",
       "2609535        1\n",
       "Name: host_id, Length: 30845, dtype: int64"
      ]
     },
     "execution_count": 10,
     "metadata": {},
     "output_type": "execute_result"
    }
   ],
   "source": [
    "# 피처(host_id)\n",
    "train['host_id'].value_counts()"
   ]
  },
  {
   "cell_type": "markdown",
   "id": "67d6f0c0",
   "metadata": {},
   "source": [
    "### Data preprocessing"
   ]
  },
  {
   "cell_type": "code",
   "execution_count": 65,
   "id": "6b862697",
   "metadata": {},
   "outputs": [],
   "source": [
    "# 결측치 컬럼 삭제(last_review)\n",
    "train.drop(columns=['last_review'], inplace=True)"
   ]
  },
  {
   "cell_type": "code",
   "execution_count": 27,
   "id": "c0060178",
   "metadata": {},
   "outputs": [],
   "source": [
    "# 결측치 채우기\n",
    "indexs_to_drop = train[train['host_name'].isna() & train['name'].isna()].index"
   ]
  },
  {
   "cell_type": "code",
   "execution_count": 34,
   "id": "214cc5d3",
   "metadata": {},
   "outputs": [
    {
     "data": {
      "text/plain": [
       "Int64Index([], dtype='int64')"
      ]
     },
     "execution_count": 34,
     "metadata": {},
     "output_type": "execute_result"
    }
   ],
   "source": [
    "indexs_to_drop"
   ]
  },
  {
   "cell_type": "code",
   "execution_count": 29,
   "id": "f3dc288b",
   "metadata": {},
   "outputs": [],
   "source": [
    "train.drop(indexs_to_drop, inplace=True)"
   ]
  },
  {
   "cell_type": "code",
   "execution_count": 33,
   "id": "b88b21a3",
   "metadata": {},
   "outputs": [
    {
     "data": {
      "text/plain": [
       "id                                0.000000\n",
       "name                              0.000307\n",
       "host_id                           0.000000\n",
       "host_name                         0.000435\n",
       "neighbourhood_group               0.000000\n",
       "neighbourhood                     0.000000\n",
       "latitude                          0.000000\n",
       "longitude                         0.000000\n",
       "room_type                         0.000000\n",
       "price                             0.000000\n",
       "minimum_nights                    0.000000\n",
       "number_of_reviews                 0.000000\n",
       "calculated_host_listings_count    0.000000\n",
       "availability_365                  0.000000\n",
       "dtype: float64"
      ]
     },
     "execution_count": 33,
     "metadata": {},
     "output_type": "execute_result"
    }
   ],
   "source": [
    "train.isna().mean()"
   ]
  },
  {
   "cell_type": "code",
   "execution_count": 66,
   "id": "7083a649",
   "metadata": {},
   "outputs": [],
   "source": [
    "con1 = ((train['number_of_reviews']==0) & (train['reviews_per_month'].isna())).sum()\n",
    "con2 = train['reviews_per_month'].isna().sum()"
   ]
  },
  {
   "cell_type": "code",
   "execution_count": 67,
   "id": "9c187505",
   "metadata": {},
   "outputs": [],
   "source": [
    "# 결측치 확인\n",
    "\n",
    "if con1 == con2:\n",
    "    train['reviews_per_month'] = train['reviews_per_month'].fillna(0)\n",
    "else:\n",
    "    print(\"결측치가 다름\")"
   ]
  },
  {
   "cell_type": "code",
   "execution_count": 68,
   "id": "3d7702cf",
   "metadata": {
    "scrolled": true
   },
   "outputs": [
    {
     "data": {
      "text/plain": [
       "id                                0.000000\n",
       "name                              0.000307\n",
       "host_id                           0.000000\n",
       "host_name                         0.000435\n",
       "neighbourhood_group               0.000000\n",
       "neighbourhood                     0.000000\n",
       "latitude                          0.000000\n",
       "longitude                         0.000000\n",
       "room_type                         0.000000\n",
       "price                             0.000000\n",
       "minimum_nights                    0.000000\n",
       "number_of_reviews                 0.000000\n",
       "reviews_per_month                 0.000000\n",
       "calculated_host_listings_count    0.000000\n",
       "availability_365                  0.000000\n",
       "dtype: float64"
      ]
     },
     "execution_count": 68,
     "metadata": {},
     "output_type": "execute_result"
    }
   ],
   "source": [
    "train.isna().mean()"
   ]
  },
  {
   "cell_type": "code",
   "execution_count": null,
   "id": "dd751482",
   "metadata": {},
   "outputs": [],
   "source": [
    "# 가격 값 복사\n"
   ]
  },
  {
   "cell_type": "code",
   "execution_count": 75,
   "id": "fef68f40",
   "metadata": {},
   "outputs": [],
   "source": [
    "# 수치형 피처 선택\n",
    "features = train.select_dtypes(include=['number']).columns\n",
    "features = [ 'id', 'host_id', 'latitude', 'longitude', 'minimum_nights',\n",
    "       'number_of_reviews', 'reviews_per_month',\n",
    "       'calculated_host_listings_count', 'availability_365']"
   ]
  },
  {
   "cell_type": "markdown",
   "id": "dfaa8079",
   "metadata": {},
   "source": [
    "### Train, Validation split\n",
    "- Train 데이터로 학습(훈련), Validation(검증용) 데이터로 예측"
   ]
  },
  {
   "cell_type": "code",
   "execution_count": 14,
   "id": "8f046134",
   "metadata": {},
   "outputs": [
    {
     "ename": "NameError",
     "evalue": "name 'vectors' is not defined",
     "output_type": "error",
     "traceback": [
      "\u001b[0;31m---------------------------------------------------------------------------\u001b[0m",
      "\u001b[0;31mNameError\u001b[0m                                 Traceback (most recent call last)",
      "\u001b[0;32m/tmp/ipykernel_158/1385921924.py\u001b[0m in \u001b[0;36m<module>\u001b[0;34m\u001b[0m\n\u001b[1;32m      4\u001b[0m \u001b[0;34m\u001b[0m\u001b[0m\n\u001b[1;32m      5\u001b[0m \u001b[0mmodel\u001b[0m \u001b[0;34m=\u001b[0m \u001b[0mRandomForestClassifier\u001b[0m\u001b[0;34m(\u001b[0m\u001b[0mrandom_state\u001b[0m\u001b[0;34m=\u001b[0m\u001b[0;36m2022\u001b[0m\u001b[0;34m)\u001b[0m\u001b[0;34m\u001b[0m\u001b[0;34m\u001b[0m\u001b[0m\n\u001b[0;32m----> 6\u001b[0;31m \u001b[0mcross_val_score\u001b[0m\u001b[0;34m(\u001b[0m\u001b[0mmodel\u001b[0m\u001b[0;34m,\u001b[0m \u001b[0mvectors\u001b[0m\u001b[0;34m,\u001b[0m \u001b[0mdf\u001b[0m\u001b[0;34m[\u001b[0m\u001b[0;34m'label'\u001b[0m\u001b[0;34m]\u001b[0m\u001b[0;34m,\u001b[0m \u001b[0mscoring\u001b[0m\u001b[0;34m=\u001b[0m\u001b[0;34m'f1'\u001b[0m\u001b[0;34m,\u001b[0m \u001b[0mcv\u001b[0m\u001b[0;34m=\u001b[0m\u001b[0;36m5\u001b[0m\u001b[0;34m)\u001b[0m\u001b[0;34m\u001b[0m\u001b[0;34m\u001b[0m\u001b[0m\n\u001b[0m",
      "\u001b[0;31mNameError\u001b[0m: name 'vectors' is not defined"
     ]
    }
   ],
   "source": [
    "# 머신러닝 -> 교차검증(f1)\n",
    "from sklearn.ensemble import RandomForestClassifier\n",
    "from sklearn.model_selection import cross_val_score\n",
    "\n",
    "model = RandomForestClassifier(random_state=2022)\n",
    "cross_val_score(model, train, train['price'], scoring='f1', cv=5)"
   ]
  },
  {
   "cell_type": "code",
   "execution_count": 43,
   "id": "8ed1e93a",
   "metadata": {},
   "outputs": [],
   "source": [
    "from sklearn.model_selection import train_test_split\n",
    "\n",
    "X=train.drop('price', axis=1)\n",
    "y=train['price']\n",
    "\n",
    "# 검증 데이터 분리\n",
    "def make_dataset():\n",
    "    X_train, X_test, y_train, y_test = train_test_split(X, y, test_size=0.2, random_state=1004)\n",
    "    return X_train, X_test, y_train, y_test\n",
    "\n",
    "X_train, X_test, y_train, y_test = make_dataset()"
   ]
  },
  {
   "cell_type": "code",
   "execution_count": null,
   "id": "abc3393c",
   "metadata": {},
   "outputs": [],
   "source": []
  },
  {
   "cell_type": "markdown",
   "id": "1e8ad331",
   "metadata": {},
   "source": [
    "### Machine Learning"
   ]
  },
  {
   "cell_type": "code",
   "execution_count": 16,
   "id": "e625c8b5",
   "metadata": {
    "scrolled": true
   },
   "outputs": [
    {
     "data": {
      "text/plain": [
       "54421.829"
      ]
     },
     "execution_count": 16,
     "metadata": {},
     "output_type": "execute_result"
    }
   ],
   "source": [
    "# 머신러닝(회귀)\n",
    "from sklearn.linear_model import LinearRegression\n",
    "from sklearn.metrics import mean_squared_error\n",
    "\n",
    "model = LinearRegression()\n",
    "model.fit(X_train, y_train)\n",
    "pred = model.predict(X_test)\n",
    "round(mean_squared_error(y_test, pred),3)"
   ]
  },
  {
   "cell_type": "markdown",
   "id": "619fc29c",
   "metadata": {},
   "source": [
    "- train 1 : 54421.829\n"
   ]
  },
  {
   "cell_type": "code",
   "execution_count": 17,
   "id": "d4834c7d",
   "metadata": {
    "scrolled": true
   },
   "outputs": [
    {
     "name": "stderr",
     "output_type": "stream",
     "text": [
      "/opt/conda/lib/python3.9/site-packages/sklearn/linear_model/_ridge.py:156: LinAlgWarning: Ill-conditioned matrix (rcond=2.83285e-19): result may not be accurate.\n",
      "  return linalg.solve(A, Xy, sym_pos=True, overwrite_a=True).T\n"
     ]
    },
    {
     "data": {
      "text/plain": [
       "54425.087"
      ]
     },
     "execution_count": 17,
     "metadata": {},
     "output_type": "execute_result"
    }
   ],
   "source": [
    "# 릿지 회귀\n",
    "from sklearn.linear_model import Ridge\n",
    "\n",
    "model = Ridge() # 기본 알파값이 1\n",
    "model.fit(X_train, y_train)\n",
    "pred = model.predict(X_test)\n",
    "round(mean_squared_error(y_test, pred),3)"
   ]
  },
  {
   "cell_type": "markdown",
   "id": "710f554d",
   "metadata": {},
   "source": [
    "- train 1 : 54425.087\n"
   ]
  },
  {
   "cell_type": "code",
   "execution_count": 18,
   "id": "36d862b7",
   "metadata": {},
   "outputs": [
    {
     "data": {
      "text/plain": [
       "55149.055"
      ]
     },
     "execution_count": 18,
     "metadata": {},
     "output_type": "execute_result"
    }
   ],
   "source": [
    "# 라쏘 회귀\n",
    "from sklearn.linear_model import Lasso\n",
    "\n",
    "model = Lasso()\n",
    "model.fit(X_train, y_train)\n",
    "pred = model.predict(X_test)\n",
    "round(mean_squared_error(y_test, pred),3)"
   ]
  },
  {
   "cell_type": "markdown",
   "id": "8c47ee91",
   "metadata": {},
   "source": [
    "- train 1 : 55149.055"
   ]
  },
  {
   "cell_type": "code",
   "execution_count": 19,
   "id": "d5c10fbf",
   "metadata": {},
   "outputs": [
    {
     "name": "stdout",
     "output_type": "stream",
     "text": [
      "when alpha = 0.0001 : mse = 54426.003\n",
      "when alpha = 0.001 : mse = 54491.461\n",
      "when alpha = 0.01 : mse = 55160.319\n",
      "when alpha = 0.1 : mse = 55848.662\n",
      "when alpha = 0.2 : mse = 55915.16\n",
      "when alpha = 0.3 : mse = 55939.031\n",
      "when alpha = 0.4 : mse = 55951.671\n",
      "when alpha = 0.5 : mse = 55959.722\n",
      "when alpha = 0.6 : mse = 55965.449\n",
      "when alpha = 0.7 : mse = 55969.834\n",
      "when alpha = 0.8 : mse = 55973.316\n",
      "when alpha = 0.9 : mse = 55976.168\n"
     ]
    }
   ],
   "source": [
    "# 엘라스틱넷 회귀\n",
    "from sklearn.linear_model import ElasticNet\n",
    "\n",
    "alpha=[0.0001, 0.001, 0.01, 0.1, 0.2, 0.3, 0.4, 0.5, 0.6, 0.7, 0.8, 0.9]\n",
    "for i in alpha:\n",
    "    model = ElasticNet(alpha=i, l1_ratio=0.6) # defalut=0.5(반반)\n",
    "    model.fit(X_train, y_train)\n",
    "    pred = model.predict(X_test)\n",
    "    print(f\"when alpha = {i} : mse = {round(mean_squared_error(y_test, pred),3)}\")"
   ]
  },
  {
   "cell_type": "markdown",
   "id": "210ad0df",
   "metadata": {},
   "source": [
    "- train 1 : 55976.168"
   ]
  },
  {
   "cell_type": "code",
   "execution_count": 20,
   "id": "0cef7b9d",
   "metadata": {},
   "outputs": [
    {
     "data": {
      "text/plain": [
       "47489.829"
      ]
     },
     "execution_count": 20,
     "metadata": {},
     "output_type": "execute_result"
    }
   ],
   "source": [
    "# 랜덤포레스트\n",
    "from sklearn.ensemble import RandomForestRegressor\n",
    "\n",
    "model = RandomForestRegressor()\n",
    "model.fit(X_train, y_train)\n",
    "pred = model.predict(X_test)\n",
    "round(mean_squared_error(y_test, pred),3)"
   ]
  },
  {
   "cell_type": "markdown",
   "id": "ba9d38d8",
   "metadata": {},
   "source": [
    "- train 1 : 47489.829"
   ]
  },
  {
   "cell_type": "code",
   "execution_count": 21,
   "id": "06b36ffe",
   "metadata": {},
   "outputs": [
    {
     "name": "stderr",
     "output_type": "stream",
     "text": [
      "/opt/conda/lib/python3.9/site-packages/pkg_resources/__init__.py:122: PkgResourcesDeprecationWarning: 0.996-ko-0.9.2 is an invalid version and will not be supported in a future release\n",
      "  warnings.warn(\n"
     ]
    },
    {
     "data": {
      "text/plain": [
       "50502.806"
      ]
     },
     "execution_count": 21,
     "metadata": {},
     "output_type": "execute_result"
    }
   ],
   "source": [
    "# Xgboost\n",
    "from xgboost import XGBRegressor\n",
    "\n",
    "model = XGBRegressor()\n",
    "model.fit(X_train, y_train)\n",
    "pred = model.predict(X_test)\n",
    "mean_squared_error(y_test, pred)\n",
    "round(mean_squared_error(y_test, pred),3)"
   ]
  },
  {
   "cell_type": "markdown",
   "id": "08d28bae",
   "metadata": {},
   "source": [
    "- train 1 : 50502.806"
   ]
  },
  {
   "cell_type": "code",
   "execution_count": 24,
   "id": "09d9e669",
   "metadata": {
    "scrolled": true
   },
   "outputs": [
    {
     "data": {
      "text/plain": [
       "((9779, 1), (9779, 15), (39116, 10))"
      ]
     },
     "execution_count": 24,
     "metadata": {},
     "output_type": "execute_result"
    }
   ],
   "source": [
    "y_test.shape, test.shape, train.shape"
   ]
  },
  {
   "cell_type": "code",
   "execution_count": null,
   "id": "4ddb5ed0",
   "metadata": {},
   "outputs": [],
   "source": []
  },
  {
   "cell_type": "code",
   "execution_count": 29,
   "id": "3c98c72f",
   "metadata": {},
   "outputs": [],
   "source": [
    "test1 = test.select_dtypes(include=['number'])"
   ]
  },
  {
   "cell_type": "markdown",
   "id": "08dc671f",
   "metadata": {},
   "source": [
    "### Evaluation"
   ]
  },
  {
   "cell_type": "code",
   "execution_count": 54,
   "id": "12f41589",
   "metadata": {},
   "outputs": [],
   "source": [
    "# test 데이터 예측 및 평가\n",
    "y_test = pd.read_csv('/aiffel/data/y_test.csv')"
   ]
  },
  {
   "cell_type": "code",
   "execution_count": 39,
   "id": "019c776b",
   "metadata": {},
   "outputs": [
    {
     "data": {
      "text/plain": [
       "49318.063"
      ]
     },
     "execution_count": 39,
     "metadata": {},
     "output_type": "execute_result"
    }
   ],
   "source": [
    "# Xgboost\n",
    "pred = model.predict(test1)\n",
    "round(mean_squared_error(y_test, pred),3)"
   ]
  },
  {
   "cell_type": "code",
   "execution_count": 38,
   "id": "4d349e3d",
   "metadata": {},
   "outputs": [
    {
     "name": "stdout",
     "output_type": "stream",
     "text": [
      "나의 점수는 49318.063 입니다.\n"
     ]
    }
   ],
   "source": [
    "# baseline score(mse 51xxx) 보다 점수가 낮게 나오도록 도전해 보세요! \n",
    "print(f\"나의 점수는 {try1} 입니다.\")"
   ]
  },
  {
   "cell_type": "markdown",
   "id": "c9fcd2a4",
   "metadata": {},
   "source": [
    "1. 나의 점수는 49318.063 입니다."
   ]
  },
  {
   "cell_type": "markdown",
   "id": "78047f29",
   "metadata": {},
   "source": [
    "### 성능 향상"
   ]
  },
  {
   "cell_type": "code",
   "execution_count": 45,
   "id": "608c3bb7",
   "metadata": {},
   "outputs": [],
   "source": [
    "# 하이퍼파라미터\n",
    "params={'learning_rate':[0.07, 0.05], \n",
    "        'max_depth':[3, 5, 7], \n",
    "        'n_estimators':[100, 200],\n",
    "        'subsample':[0.9, 0.8, 0.7]\n",
    "        }"
   ]
  },
  {
   "cell_type": "code",
   "execution_count": null,
   "id": "9d3730ae",
   "metadata": {},
   "outputs": [],
   "source": [
    "# GridSearch\n",
    "from sklearn.model_selection import GridSearchCV\n",
    "\n",
    "xgb = XGBRegressor()\n",
    "grid = GridSearchCV(xgb, params, cv=3, n_jobs=-1)\n",
    "grid.fit(X, y)"
   ]
  },
  {
   "cell_type": "code",
   "execution_count": null,
   "id": "a017d7c0",
   "metadata": {},
   "outputs": [],
   "source": [
    "# 최적의 하이퍼파라미터 찾기\n",
    "grid.best_params_"
   ]
  },
  {
   "cell_type": "code",
   "execution_count": 46,
   "id": "10125c3b",
   "metadata": {},
   "outputs": [
    {
     "data": {
      "text/plain": [
       "65417.68663144974"
      ]
     },
     "execution_count": 46,
     "metadata": {},
     "output_type": "execute_result"
    }
   ],
   "source": [
    "from sklearn.model_selection import train_test_split\n",
    "\n",
    "X_train, X_test, y_train, y_test = train_test_split(X, y, test_size=0.2, random_state=42)\n",
    "\n",
    "# 하이퍼파라미터 튜닝\n",
    "xgb = XGBRegressor(\n",
    "    learning_rate = 0.05,\n",
    "    max_depth = 3, \n",
    "    n_estimators = 100, \n",
    "    subsample = 0.7\n",
    ")\n",
    "xgb.fit(X_train, y_train)\n",
    "pred = xgb.predict(X_test)\n",
    "mean_squared_error(y_test, pred)"
   ]
  },
  {
   "cell_type": "code",
   "execution_count": 47,
   "id": "8dc17e39",
   "metadata": {
    "scrolled": true
   },
   "outputs": [
    {
     "name": "stderr",
     "output_type": "stream",
     "text": [
      "/opt/conda/lib/python3.9/site-packages/pkg_resources/__init__.py:122: PkgResourcesDeprecationWarning: 0.996-ko-0.9.2 is an invalid version and will not be supported in a future release\n",
      "  warnings.warn(\n",
      "/opt/conda/lib/python3.9/site-packages/pkg_resources/__init__.py:122: PkgResourcesDeprecationWarning: 0.996-ko-0.9.2 is an invalid version and will not be supported in a future release\n",
      "  warnings.warn(\n"
     ]
    },
    {
     "data": {
      "text/plain": [
       "RandomizedSearchCV(cv=3,\n",
       "                   estimator=XGBRegressor(base_score=None, booster=None,\n",
       "                                          colsample_bylevel=None,\n",
       "                                          colsample_bynode=None,\n",
       "                                          colsample_bytree=None, gamma=None,\n",
       "                                          gpu_id=None, importance_type='gain',\n",
       "                                          interaction_constraints=None,\n",
       "                                          learning_rate=None,\n",
       "                                          max_delta_step=None, max_depth=None,\n",
       "                                          min_child_weight=None, missing=nan,\n",
       "                                          monotone_constraints=None,\n",
       "                                          n_estimators=100, n_jobs=None,\n",
       "                                          num_parallel_tree=None,\n",
       "                                          random_state=None, reg_alpha=None,\n",
       "                                          reg_lambda=None,\n",
       "                                          scale_pos_weight=None, subsample=None,\n",
       "                                          tree_method=None,\n",
       "                                          validate_parameters=None,\n",
       "                                          verbosity=None),\n",
       "                   n_jobs=-1,\n",
       "                   param_distributions={'learning_rate': [0.07, 0.05],\n",
       "                                        'max_depth': [3, 5, 7],\n",
       "                                        'n_estimators': [100, 200],\n",
       "                                        'subsample': [0.9, 0.8, 0.7]})"
      ]
     },
     "execution_count": 47,
     "metadata": {},
     "output_type": "execute_result"
    }
   ],
   "source": [
    "from sklearn.model_selection import b\n",
    "\n",
    "xgb = XGBRegressor()\n",
    "grid = RandomizedSearchCV(xgb, params, cv=3, n_iter=10, n_jobs=-1)\n",
    "grid.fit(X, y)"
   ]
  },
  {
   "cell_type": "code",
   "execution_count": null,
   "id": "564f11a4",
   "metadata": {},
   "outputs": [
    {
     "name": "stdout",
     "output_type": "stream",
     "text": [
      "Fitting 5 folds for each of 100 candidates, totalling 500 fits\n"
     ]
    },
    {
     "name": "stderr",
     "output_type": "stream",
     "text": [
      "/opt/conda/lib/python3.9/site-packages/pkg_resources/__init__.py:122: PkgResourcesDeprecationWarning: 0.996-ko-0.9.2 is an invalid version and will not be supported in a future release\n",
      "  warnings.warn(\n",
      "/opt/conda/lib/python3.9/site-packages/pkg_resources/__init__.py:122: PkgResourcesDeprecationWarning: 0.996-ko-0.9.2 is an invalid version and will not be supported in a future release\n",
      "  warnings.warn(\n"
     ]
    },
    {
     "name": "stdout",
     "output_type": "stream",
     "text": [
      "[CV 1/5; 1/100] START max_depth=3, min_child_weight=3...........................\n",
      "[CV 1/5; 1/100] END max_depth=3, min_child_weight=3;, score=-50178.355 total time= 3.0min\n",
      "[CV 3/5; 1/100] START max_depth=3, min_child_weight=3...........................\n",
      "[CV 3/5; 1/100] END max_depth=3, min_child_weight=3;, score=-58555.233 total time= 3.0min\n",
      "[CV 5/5; 1/100] START max_depth=3, min_child_weight=3...........................\n",
      "[CV 5/5; 1/100] END max_depth=3, min_child_weight=3;, score=-46353.434 total time= 2.9min\n",
      "[CV 2/5; 2/100] START max_depth=8, min_child_weight=1...........................\n",
      "[CV 2/5; 2/100] END max_depth=8, min_child_weight=1;, score=-47580.020 total time= 6.0min\n",
      "[CV 4/5; 2/100] START max_depth=8, min_child_weight=1...........................\n",
      "[CV 4/5; 2/100] END max_depth=8, min_child_weight=1;, score=-62188.888 total time= 6.9min\n",
      "[CV 1/5; 3/100] START max_depth=9, min_child_weight=1...........................\n",
      "[CV 1/5; 3/100] END max_depth=9, min_child_weight=1;, score=-45959.269 total time= 9.5min\n",
      "[CV 3/5; 3/100] START max_depth=9, min_child_weight=1...........................\n",
      "[CV 3/5; 3/100] END max_depth=9, min_child_weight=1;, score=-54539.657 total time= 9.8min\n",
      "[CV 5/5; 3/100] START max_depth=9, min_child_weight=1...........................\n",
      "[CV 5/5; 3/100] END max_depth=9, min_child_weight=1;, score=-44072.814 total time= 9.2min\n",
      "[CV 2/5; 4/100] START max_depth=8, min_child_weight=5...........................\n",
      "[CV 2/5; 4/100] END max_depth=8, min_child_weight=5;, score=-47337.017 total time= 8.1min\n",
      "[CV 4/5; 4/100] START max_depth=8, min_child_weight=5...........................\n",
      "[CV 4/5; 4/100] END max_depth=8, min_child_weight=5;, score=-61792.983 total time= 8.3min\n",
      "[CV 1/5; 5/100] START max_depth=5, min_child_weight=1...........................\n",
      "[CV 1/5; 5/100] END max_depth=5, min_child_weight=1;, score=-48556.720 total time= 5.4min\n",
      "[CV 3/5; 5/100] START max_depth=5, min_child_weight=1...........................\n",
      "[CV 3/5; 5/100] END max_depth=5, min_child_weight=1;, score=-55528.982 total time= 5.3min\n",
      "[CV 5/5; 5/100] START max_depth=5, min_child_weight=1...........................\n",
      "[CV 5/5; 5/100] END max_depth=5, min_child_weight=1;, score=-44255.852 total time= 4.8min\n",
      "[CV 2/5; 6/100] START max_depth=3, min_child_weight=1...........................\n",
      "[CV 2/5; 6/100] END max_depth=3, min_child_weight=1;, score=-52765.249 total time= 2.9min\n",
      "[CV 4/5; 6/100] START max_depth=3, min_child_weight=1...........................\n",
      "[CV 4/5; 6/100] END max_depth=3, min_child_weight=1;, score=-69834.629 total time= 2.8min\n",
      "[CV 1/5; 7/100] START max_depth=8, min_child_weight=4...........................\n",
      "[CV 1/5; 7/100] END max_depth=8, min_child_weight=4;, score=-50699.520 total time= 9.0min\n",
      "[CV 3/5; 7/100] START max_depth=8, min_child_weight=4...........................\n",
      "[CV 3/5; 7/100] END max_depth=8, min_child_weight=4;, score=-56551.694 total time= 7.9min\n",
      "[CV 5/5; 7/100] START max_depth=8, min_child_weight=4...........................\n",
      "[CV 5/5; 7/100] END max_depth=8, min_child_weight=4;, score=-46239.088 total time= 8.8min\n",
      "[CV 2/5; 8/100] START max_depth=7, min_child_weight=1...........................\n",
      "[CV 2/5; 8/100] END max_depth=7, min_child_weight=1;, score=-47929.510 total time= 8.0min\n",
      "[CV 4/5; 8/100] START max_depth=7, min_child_weight=1...........................\n",
      "[CV 4/5; 8/100] END max_depth=7, min_child_weight=1;, score=-61771.471 total time= 5.6min\n",
      "[CV 1/5; 9/100] START max_depth=5, min_child_weight=1...........................\n",
      "[CV 1/5; 9/100] END max_depth=5, min_child_weight=1;, score=-48556.720 total time= 3.5min\n",
      "[CV 3/5; 9/100] START max_depth=5, min_child_weight=1...........................\n",
      "[CV 3/5; 9/100] END max_depth=5, min_child_weight=1;, score=-55528.982 total time= 2.8min\n",
      "[CV 5/5; 9/100] START max_depth=5, min_child_weight=1...........................\n",
      "[CV 5/5; 9/100] END max_depth=5, min_child_weight=1;, score=-44255.852 total time= 2.8min\n",
      "[CV 2/5; 10/100] START max_depth=7, min_child_weight=5..........................\n",
      "[CV 2/5; 10/100] END max_depth=7, min_child_weight=5;, score=-47181.226 total time= 4.6min\n",
      "[CV 4/5; 10/100] START max_depth=7, min_child_weight=5..........................\n",
      "[CV 4/5; 10/100] END max_depth=7, min_child_weight=5;, score=-61470.342 total time= 4.4min\n",
      "[CV 1/5; 11/100] START max_depth=3, min_child_weight=4..........................\n",
      "[CV 1/5; 11/100] END max_depth=3, min_child_weight=4;, score=-49142.074 total time= 2.0min\n",
      "[CV 2/5; 11/100] START max_depth=3, min_child_weight=4..........................\n",
      "[CV 2/5; 11/100] END max_depth=3, min_child_weight=4;, score=-49016.570 total time= 2.4min\n",
      "[CV 4/5; 11/100] START max_depth=3, min_child_weight=4..........................\n",
      "[CV 4/5; 11/100] END max_depth=3, min_child_weight=4;, score=-67784.036 total time= 2.3min\n",
      "[CV 1/5; 12/100] START max_depth=4, min_child_weight=5..........................\n",
      "[CV 1/5; 12/100] END max_depth=4, min_child_weight=5;, score=-48776.473 total time= 2.6min\n",
      "[CV 3/5; 12/100] START max_depth=4, min_child_weight=5..........................\n",
      "[CV 3/5; 12/100] END max_depth=4, min_child_weight=5;, score=-56596.684 total time= 2.6min\n",
      "[CV 5/5; 12/100] START max_depth=4, min_child_weight=5..........................\n",
      "[CV 5/5; 12/100] END max_depth=4, min_child_weight=5;, score=-45993.274 total time= 2.0min\n",
      "[CV 2/5; 13/100] START max_depth=5, min_child_weight=1..........................\n",
      "[CV 2/5; 13/100] END max_depth=5, min_child_weight=1;, score=-50978.667 total time= 3.1min\n",
      "[CV 4/5; 13/100] START max_depth=5, min_child_weight=1..........................\n",
      "[CV 4/5; 13/100] END max_depth=5, min_child_weight=1;, score=-63928.981 total time= 3.0min\n",
      "[CV 1/5; 14/100] START max_depth=6, min_child_weight=3..........................\n",
      "[CV 1/5; 14/100] END max_depth=6, min_child_weight=3;, score=-50532.823 total time= 3.9min\n",
      "[CV 3/5; 14/100] START max_depth=6, min_child_weight=3..........................\n",
      "[CV 3/5; 14/100] END max_depth=6, min_child_weight=3;, score=-57039.201 total time= 3.5min\n",
      "[CV 5/5; 14/100] START max_depth=6, min_child_weight=3..........................\n",
      "[CV 5/5; 14/100] END max_depth=6, min_child_weight=3;, score=-44421.741 total time= 4.6min\n",
      "[CV 2/5; 15/100] START max_depth=9, min_child_weight=4..........................\n",
      "[CV 2/5; 15/100] END max_depth=9, min_child_weight=4;, score=-47057.479 total time= 6.6min\n",
      "[CV 4/5; 15/100] START max_depth=9, min_child_weight=4..........................\n",
      "[CV 4/5; 15/100] END max_depth=9, min_child_weight=4;, score=-62810.556 total time= 7.2min\n",
      "[CV 1/5; 16/100] START max_depth=8, min_child_weight=2..........................\n",
      "[CV 1/5; 16/100] END max_depth=8, min_child_weight=2;, score=-47692.014 total time= 5.9min\n",
      "[CV 3/5; 16/100] START max_depth=8, min_child_weight=2..........................\n",
      "[CV 3/5; 16/100] END max_depth=8, min_child_weight=2;, score=-56783.847 total time= 6.1min\n",
      "[CV 5/5; 16/100] START max_depth=8, min_child_weight=2..........................\n",
      "[CV 5/5; 16/100] END max_depth=8, min_child_weight=2;, score=-45225.992 total time= 5.2min\n",
      "[CV 2/5; 17/100] START max_depth=6, min_child_weight=1..........................\n",
      "[CV 2/5; 17/100] END max_depth=6, min_child_weight=1;, score=-47887.340 total time= 4.3min\n",
      "[CV 4/5; 17/100] START max_depth=6, min_child_weight=1..........................\n",
      "[CV 4/5; 17/100] END max_depth=6, min_child_weight=1;, score=-62738.526 total time= 4.3min\n",
      "[CV 1/5; 18/100] START max_depth=5, min_child_weight=2..........................\n",
      "[CV 1/5; 18/100] END max_depth=5, min_child_weight=2;, score=-49588.069 total time= 4.4min\n",
      "[CV 3/5; 18/100] START max_depth=5, min_child_weight=2..........................\n",
      "[CV 3/5; 18/100] END max_depth=5, min_child_weight=2;, score=-57947.228 total time= 4.9min\n",
      "[CV 5/5; 18/100] START max_depth=5, min_child_weight=2..........................\n",
      "[CV 5/5; 18/100] END max_depth=5, min_child_weight=2;, score=-45049.297 total time= 5.6min\n",
      "[CV 2/5; 19/100] START max_depth=3, min_child_weight=3..........................\n",
      "[CV 2/5; 19/100] END max_depth=3, min_child_weight=3;, score=-51938.070 total time= 2.9min\n",
      "[CV 4/5; 19/100] START max_depth=3, min_child_weight=3..........................\n",
      "[CV 2/5; 1/100] START max_depth=3, min_child_weight=3...........................\n",
      "[CV 2/5; 1/100] END max_depth=3, min_child_weight=3;, score=-51938.070 total time= 3.3min\n",
      "[CV 4/5; 1/100] START max_depth=3, min_child_weight=3...........................\n",
      "[CV 4/5; 1/100] END max_depth=3, min_child_weight=3;, score=-67572.474 total time= 2.8min\n",
      "[CV 1/5; 2/100] START max_depth=8, min_child_weight=1...........................\n",
      "[CV 1/5; 2/100] END max_depth=8, min_child_weight=1;, score=-46131.362 total time= 6.8min\n",
      "[CV 3/5; 2/100] START max_depth=8, min_child_weight=1...........................\n",
      "[CV 3/5; 2/100] END max_depth=8, min_child_weight=1;, score=-54625.922 total time= 6.0min\n",
      "[CV 5/5; 2/100] START max_depth=8, min_child_weight=1...........................\n",
      "[CV 5/5; 2/100] END max_depth=8, min_child_weight=1;, score=-44751.115 total time= 8.2min\n",
      "[CV 2/5; 3/100] START max_depth=9, min_child_weight=1...........................\n",
      "[CV 2/5; 3/100] END max_depth=9, min_child_weight=1;, score=-47958.751 total time= 9.8min\n",
      "[CV 4/5; 3/100] START max_depth=9, min_child_weight=1...........................\n",
      "[CV 4/5; 3/100] END max_depth=9, min_child_weight=1;, score=-63864.434 total time= 9.1min\n",
      "[CV 1/5; 4/100] START max_depth=8, min_child_weight=5...........................\n",
      "[CV 1/5; 4/100] END max_depth=8, min_child_weight=5;, score=-49741.338 total time= 8.9min\n",
      "[CV 3/5; 4/100] START max_depth=8, min_child_weight=5...........................\n",
      "[CV 3/5; 4/100] END max_depth=8, min_child_weight=5;, score=-56597.447 total time= 9.1min\n",
      "[CV 5/5; 4/100] START max_depth=8, min_child_weight=5...........................\n",
      "[CV 5/5; 4/100] END max_depth=8, min_child_weight=5;, score=-47415.169 total time= 8.0min\n",
      "[CV 2/5; 5/100] START max_depth=5, min_child_weight=1...........................\n",
      "[CV 2/5; 5/100] END max_depth=5, min_child_weight=1;, score=-50978.667 total time= 4.7min\n",
      "[CV 4/5; 5/100] START max_depth=5, min_child_weight=1...........................\n",
      "[CV 4/5; 5/100] END max_depth=5, min_child_weight=1;, score=-63928.981 total time= 5.2min\n",
      "[CV 1/5; 6/100] START max_depth=3, min_child_weight=1...........................\n",
      "[CV 1/5; 6/100] END max_depth=3, min_child_weight=1;, score=-50240.652 total time= 3.2min\n",
      "[CV 3/5; 6/100] START max_depth=3, min_child_weight=1...........................\n",
      "[CV 3/5; 6/100] END max_depth=3, min_child_weight=1;, score=-59912.213 total time= 2.8min\n",
      "[CV 5/5; 6/100] START max_depth=3, min_child_weight=1...........................\n",
      "[CV 5/5; 6/100] END max_depth=3, min_child_weight=1;, score=-45353.998 total time= 3.0min\n",
      "[CV 2/5; 7/100] START max_depth=8, min_child_weight=4...........................\n",
      "[CV 2/5; 7/100] END max_depth=8, min_child_weight=4;, score=-47491.391 total time= 8.4min\n",
      "[CV 4/5; 7/100] START max_depth=8, min_child_weight=4...........................\n",
      "[CV 4/5; 7/100] END max_depth=8, min_child_weight=4;, score=-62313.409 total time= 8.6min\n",
      "[CV 1/5; 8/100] START max_depth=7, min_child_weight=1...........................\n",
      "[CV 1/5; 8/100] END max_depth=7, min_child_weight=1;, score=-46956.459 total time= 7.5min\n",
      "[CV 3/5; 8/100] START max_depth=7, min_child_weight=1...........................\n",
      "[CV 3/5; 8/100] END max_depth=7, min_child_weight=1;, score=-55351.510 total time= 7.7min\n",
      "[CV 5/5; 8/100] START max_depth=7, min_child_weight=1...........................\n",
      "[CV 5/5; 8/100] END max_depth=7, min_child_weight=1;, score=-45066.205 total time= 5.6min\n",
      "[CV 2/5; 9/100] START max_depth=5, min_child_weight=1...........................\n",
      "[CV 2/5; 9/100] END max_depth=5, min_child_weight=1;, score=-50978.667 total time= 2.8min\n",
      "[CV 4/5; 9/100] START max_depth=5, min_child_weight=1...........................\n",
      "[CV 4/5; 9/100] END max_depth=5, min_child_weight=1;, score=-63928.981 total time= 3.0min\n",
      "[CV 1/5; 10/100] START max_depth=7, min_child_weight=5..........................\n",
      "[CV 1/5; 10/100] END max_depth=7, min_child_weight=5;, score=-50538.171 total time= 4.1min\n",
      "[CV 3/5; 10/100] START max_depth=7, min_child_weight=5..........................\n",
      "[CV 3/5; 10/100] END max_depth=7, min_child_weight=5;, score=-56304.404 total time= 4.4min\n",
      "[CV 5/5; 10/100] START max_depth=7, min_child_weight=5..........................\n",
      "[CV 5/5; 10/100] END max_depth=7, min_child_weight=5;, score=-45316.531 total time= 5.3min\n",
      "[CV 3/5; 11/100] START max_depth=3, min_child_weight=4..........................\n",
      "[CV 3/5; 11/100] END max_depth=3, min_child_weight=4;, score=-58151.069 total time= 2.2min\n",
      "[CV 5/5; 11/100] START max_depth=3, min_child_weight=4..........................\n",
      "[CV 5/5; 11/100] END max_depth=3, min_child_weight=4;, score=-46844.451 total time= 2.2min\n",
      "[CV 2/5; 12/100] START max_depth=4, min_child_weight=5..........................\n",
      "[CV 2/5; 12/100] END max_depth=4, min_child_weight=5;, score=-45774.476 total time= 2.6min\n",
      "[CV 4/5; 12/100] START max_depth=4, min_child_weight=5..........................\n",
      "[CV 4/5; 12/100] END max_depth=4, min_child_weight=5;, score=-64636.154 total time= 2.5min\n",
      "[CV 1/5; 13/100] START max_depth=5, min_child_weight=1..........................\n",
      "[CV 1/5; 13/100] END max_depth=5, min_child_weight=1;, score=-48556.720 total time= 2.7min\n",
      "[CV 3/5; 13/100] START max_depth=5, min_child_weight=1..........................\n",
      "[CV 3/5; 13/100] END max_depth=5, min_child_weight=1;, score=-55528.982 total time= 3.2min\n",
      "[CV 5/5; 13/100] START max_depth=5, min_child_weight=1..........................\n",
      "[CV 5/5; 13/100] END max_depth=5, min_child_weight=1;, score=-44255.852 total time= 2.6min\n",
      "[CV 2/5; 14/100] START max_depth=6, min_child_weight=3..........................\n",
      "[CV 2/5; 14/100] END max_depth=6, min_child_weight=3;, score=-48204.672 total time= 4.3min\n",
      "[CV 4/5; 14/100] START max_depth=6, min_child_weight=3..........................\n",
      "[CV 4/5; 14/100] END max_depth=6, min_child_weight=3;, score=-63535.992 total time= 3.8min\n",
      "[CV 1/5; 15/100] START max_depth=9, min_child_weight=4..........................\n",
      "[CV 1/5; 15/100] END max_depth=9, min_child_weight=4;, score=-49087.709 total time= 7.2min\n",
      "[CV 3/5; 15/100] START max_depth=9, min_child_weight=4..........................\n",
      "[CV 3/5; 15/100] END max_depth=9, min_child_weight=4;, score=-56119.199 total time= 7.0min\n",
      "[CV 5/5; 15/100] START max_depth=9, min_child_weight=4..........................\n",
      "[CV 5/5; 15/100] END max_depth=9, min_child_weight=4;, score=-46333.224 total time= 6.5min\n",
      "[CV 2/5; 16/100] START max_depth=8, min_child_weight=2..........................\n",
      "[CV 2/5; 16/100] END max_depth=8, min_child_weight=2;, score=-46707.897 total time= 6.3min\n",
      "[CV 4/5; 16/100] START max_depth=8, min_child_weight=2..........................\n",
      "[CV 4/5; 16/100] END max_depth=8, min_child_weight=2;, score=-61268.643 total time= 6.0min\n",
      "[CV 1/5; 17/100] START max_depth=6, min_child_weight=1..........................\n",
      "[CV 1/5; 17/100] END max_depth=6, min_child_weight=1;, score=-47688.700 total time= 4.3min\n",
      "[CV 3/5; 17/100] START max_depth=6, min_child_weight=1..........................\n",
      "[CV 3/5; 17/100] END max_depth=6, min_child_weight=1;, score=-54492.961 total time= 3.9min\n",
      "[CV 5/5; 17/100] START max_depth=6, min_child_weight=1..........................\n",
      "[CV 5/5; 17/100] END max_depth=6, min_child_weight=1;, score=-44610.992 total time= 4.5min\n",
      "[CV 2/5; 18/100] START max_depth=5, min_child_weight=2..........................\n",
      "[CV 2/5; 18/100] END max_depth=5, min_child_weight=2;, score=-47545.422 total time= 5.2min\n",
      "[CV 4/5; 18/100] START max_depth=5, min_child_weight=2..........................\n",
      "[CV 4/5; 18/100] END max_depth=5, min_child_weight=2;, score=-63771.477 total time= 4.8min\n",
      "[CV 1/5; 19/100] START max_depth=3, min_child_weight=3..........................\n",
      "[CV 1/5; 19/100] END max_depth=3, min_child_weight=3;, score=-50178.355 total time= 2.8min\n",
      "[CV 3/5; 19/100] START max_depth=3, min_child_weight=3..........................\n",
      "[CV 3/5; 19/100] END max_depth=3, min_child_weight=3;, score=-58555.233 total time= 2.7min\n",
      "[CV 5/5; 19/100] START max_depth=3, min_child_weight=3..........................\n",
      "[CV 5/5; 19/100] END max_depth=3, min_child_weight=3;, score=-46353.434 total time= 3.3min\n",
      "[CV 2/5; 20/100] START max_depth=8, min_child_weight=3..........................\n"
     ]
    }
   ],
   "source": [
    "from sklearn.model_selection import RandomizedSearchCV\n",
    "from xgboost import XGBRegressor\n",
    "from scipy.stats import randint\n",
    "\n",
    "param_dist = {\n",
    " 'max_depth': randint(3, 10), # 정수 범위 지정\n",
    " 'min_child_weight': randint(1, 6) # 정수 범위 지정\n",
    "}\n",
    "\n",
    "# XGBRegressor 인스턴스 생성\n",
    "xgb = XGBRegressor(learning_rate=0.1, n_estimators=1000, gamma=0, subsample=0.8, colsample_bytree=0.8, seed=2019)\n",
    "\n",
    "# RandomizedSearchCV 인스턴스 생성\n",
    "rsearch = RandomizedSearchCV(estimator=xgb, param_distributions=param_dist, n_iter=100, scoring='neg_mean_squared_error', n_jobs=-1, cv=5, verbose=10, random_state=2019)\n",
    "\n",
    "# 학습 데이터에 맞춰 랜덤 서치 수행\n",
    "rsearch.fit(X, y)\n",
    "\n",
    "# 결과 출력\n",
    "print(rsearch.cv_results_)\n",
    "print(rsearch.best_params_)\n",
    "print(rsearch.best_score_)"
   ]
  },
  {
   "cell_type": "markdown",
   "id": "4dd13b05",
   "metadata": {},
   "source": [
    "[CV 5/5; 3/100] END max_depth=9, min_child_weight=1;, score=-44072.814 total time= 9.2min\n",
    "[CV 5/5; 12/100] END max_depth=4, min_child_weight=5;, score=-45993.274 total time= 2.0min\n",
    "[CV 5/5; 14/100] END max_depth=6, min_child_weight=3;, score=-44421.741 total time= 4.6min\n",
    "[CV 5/5; 8/100] END max_depth=7, min_child_weight=1;, score=-45066.205 total time= 5.6min\n",
    "[CV 2/5; 12/100] END max_depth=4, min_child_weight=5;, score=-45774.476 total time= 2.6min\n",
    "[CV 5/5; 13/100] END max_depth=5, min_child_weight=1;, score=-44255.852 total time= 2.6min\n"
   ]
  },
  {
   "cell_type": "code",
   "execution_count": null,
   "id": "45933862",
   "metadata": {},
   "outputs": [],
   "source": []
  },
  {
   "cell_type": "code",
   "execution_count": 48,
   "id": "3c77f7f3",
   "metadata": {
    "scrolled": true
   },
   "outputs": [
    {
     "data": {
      "text/plain": [
       "{'subsample': 0.8, 'n_estimators': 100, 'max_depth': 7, 'learning_rate': 0.05}"
      ]
     },
     "execution_count": 48,
     "metadata": {},
     "output_type": "execute_result"
    }
   ],
   "source": [
    "# 최적의 하이퍼파라미터 찾기\n",
    "grid.best_params_"
   ]
  },
  {
   "cell_type": "markdown",
   "id": "5262bb09",
   "metadata": {},
   "source": [
    "- base 49318.063\n",
    "\n",
    "- {'subsample': 0.8, 'n_estimators': 100, 'max_depth': 7, 'learning_rate': 0.05}\n",
    ": 48632.573\n"
   ]
  },
  {
   "cell_type": "code",
   "execution_count": 49,
   "id": "3714d4d0",
   "metadata": {},
   "outputs": [
    {
     "data": {
      "text/plain": [
       "62766.41328960267"
      ]
     },
     "execution_count": 49,
     "metadata": {},
     "output_type": "execute_result"
    }
   ],
   "source": [
    "# 찾은 최적의 하이퍼파라미터로 모델을 돌려 mse를 측정하세요.\n",
    "xgb = XGBRegressor(\n",
    "    learning_rate = 0.05,\n",
    "    max_depth = 7,\n",
    "    n_estimators = 100,\n",
    "    subsample = 0.8\n",
    ")\n",
    "xgb.fit(X_train, y_train)\n",
    "pred = xgb.predict(X_test)\n",
    "mean_squared_error(y_test, pred)"
   ]
  },
  {
   "cell_type": "code",
   "execution_count": 80,
   "id": "02f8051e",
   "metadata": {
    "scrolled": false
   },
   "outputs": [
    {
     "data": {
      "text/plain": [
       "((39116, 9), (39116,))"
      ]
     },
     "execution_count": 80,
     "metadata": {},
     "output_type": "execute_result"
    }
   ],
   "source": [
    "X.shape, y.shape"
   ]
  },
  {
   "cell_type": "code",
   "execution_count": 81,
   "id": "71602d3d",
   "metadata": {},
   "outputs": [
    {
     "data": {
      "text/plain": [
       "((9779, 9), (9779, 1))"
      ]
     },
     "execution_count": 81,
     "metadata": {},
     "output_type": "execute_result"
    }
   ],
   "source": [
    "test1.shape, y_test.shape"
   ]
  },
  {
   "cell_type": "code",
   "execution_count": 56,
   "id": "8c9b6709",
   "metadata": {},
   "outputs": [
    {
     "data": {
      "text/plain": [
       "48632.573"
      ]
     },
     "execution_count": 56,
     "metadata": {},
     "output_type": "execute_result"
    }
   ],
   "source": [
    "# Xgboost\n",
    "pred = xgb.predict(test1)\n",
    "round(mean_squared_error(y_test, pred),3)"
   ]
  },
  {
   "cell_type": "code",
   "execution_count": 57,
   "id": "73f4afb7",
   "metadata": {},
   "outputs": [
    {
     "data": {
      "text/plain": [
       "((9779, 9), (9779, 1))"
      ]
     },
     "execution_count": 57,
     "metadata": {},
     "output_type": "execute_result"
    }
   ],
   "source": [
    "test1.shape, y_test.shape"
   ]
  },
  {
   "cell_type": "markdown",
   "id": "a11b79ba",
   "metadata": {},
   "source": [
    "### scaler"
   ]
  },
  {
   "cell_type": "code",
   "execution_count": 71,
   "id": "f9ab5f46",
   "metadata": {},
   "outputs": [],
   "source": [
    "from sklearn.preprocessing import StandardScaler\n",
    "scaler = StandardScaler()\n",
    "X_scaled = scaler.fit_transform(X)"
   ]
  },
  {
   "cell_type": "code",
   "execution_count": 76,
   "id": "46278580",
   "metadata": {},
   "outputs": [],
   "source": [
    "X_scaled = pd.DataFrame(X_scaled, columns=features)"
   ]
  },
  {
   "cell_type": "code",
   "execution_count": 78,
   "id": "80481a18",
   "metadata": {},
   "outputs": [
    {
     "name": "stdout",
     "output_type": "stream",
     "text": [
      "RMSE scores: [224.68640919 227.34489818 244.39407515 258.481559   218.18652321]\n"
     ]
    }
   ],
   "source": [
    "from sklearn.model_selection import cross_val_score\n",
    "import numpy as np\n",
    "from xgboost import XGBRegressor\n",
    "\n",
    "# X = train.drop('price', axis=1)  # 타겟 변수를 제외한 나머지 피처들\n",
    "# y = train['price']  # 타겟 변수\n",
    "\n",
    "model = XGBRegressor(random_state=2022)\n",
    "scores = cross_val_score(model, X_scaled, y, scoring='neg_mean_squared_error', cv=5)\n",
    "rmse_scores = np.sqrt(-scores)\n",
    "print(\"RMSE scores:\", rmse_scores)"
   ]
  },
  {
   "cell_type": "markdown",
   "id": "d7355d57",
   "metadata": {},
   "source": [
    "### 데이터"
   ]
  },
  {
   "cell_type": "code",
   "execution_count": null,
   "id": "1c82ca7d",
   "metadata": {},
   "outputs": [],
   "source": [
    "train"
   ]
  },
  {
   "cell_type": "code",
   "execution_count": 64,
   "id": "81161533",
   "metadata": {},
   "outputs": [
    {
     "data": {
      "text/html": [
       "<div>\n",
       "<style scoped>\n",
       "    .dataframe tbody tr th:only-of-type {\n",
       "        vertical-align: middle;\n",
       "    }\n",
       "\n",
       "    .dataframe tbody tr th {\n",
       "        vertical-align: top;\n",
       "    }\n",
       "\n",
       "    .dataframe thead th {\n",
       "        text-align: right;\n",
       "    }\n",
       "</style>\n",
       "<table border=\"1\" class=\"dataframe\">\n",
       "  <thead>\n",
       "    <tr style=\"text-align: right;\">\n",
       "      <th></th>\n",
       "      <th>id</th>\n",
       "      <th>host_id</th>\n",
       "      <th>latitude</th>\n",
       "      <th>longitude</th>\n",
       "      <th>minimum_nights</th>\n",
       "      <th>number_of_reviews</th>\n",
       "      <th>reviews_per_month</th>\n",
       "      <th>calculated_host_listings_count</th>\n",
       "      <th>availability_365</th>\n",
       "    </tr>\n",
       "  </thead>\n",
       "  <tbody>\n",
       "    <tr>\n",
       "      <th>0</th>\n",
       "      <td>30913224</td>\n",
       "      <td>33771081</td>\n",
       "      <td>40.70959</td>\n",
       "      <td>-73.94652</td>\n",
       "      <td>3</td>\n",
       "      <td>2</td>\n",
       "      <td>0.31</td>\n",
       "      <td>1</td>\n",
       "      <td>0</td>\n",
       "    </tr>\n",
       "    <tr>\n",
       "      <th>1</th>\n",
       "      <td>971247</td>\n",
       "      <td>5308961</td>\n",
       "      <td>40.79368</td>\n",
       "      <td>-73.96487</td>\n",
       "      <td>3</td>\n",
       "      <td>159</td>\n",
       "      <td>2.09</td>\n",
       "      <td>1</td>\n",
       "      <td>244</td>\n",
       "    </tr>\n",
       "    <tr>\n",
       "      <th>2</th>\n",
       "      <td>414801</td>\n",
       "      <td>319077</td>\n",
       "      <td>40.68722</td>\n",
       "      <td>-73.96289</td>\n",
       "      <td>1</td>\n",
       "      <td>54</td>\n",
       "      <td>0.65</td>\n",
       "      <td>4</td>\n",
       "      <td>365</td>\n",
       "    </tr>\n",
       "    <tr>\n",
       "      <th>3</th>\n",
       "      <td>21815842</td>\n",
       "      <td>1931990</td>\n",
       "      <td>40.68859</td>\n",
       "      <td>-73.96035</td>\n",
       "      <td>3</td>\n",
       "      <td>2</td>\n",
       "      <td>0.13</td>\n",
       "      <td>1</td>\n",
       "      <td>0</td>\n",
       "    </tr>\n",
       "    <tr>\n",
       "      <th>4</th>\n",
       "      <td>13576581</td>\n",
       "      <td>78325795</td>\n",
       "      <td>40.80573</td>\n",
       "      <td>-73.94994</td>\n",
       "      <td>1</td>\n",
       "      <td>160</td>\n",
       "      <td>4.31</td>\n",
       "      <td>3</td>\n",
       "      <td>246</td>\n",
       "    </tr>\n",
       "    <tr>\n",
       "      <th>...</th>\n",
       "      <td>...</td>\n",
       "      <td>...</td>\n",
       "      <td>...</td>\n",
       "      <td>...</td>\n",
       "      <td>...</td>\n",
       "      <td>...</td>\n",
       "      <td>...</td>\n",
       "      <td>...</td>\n",
       "      <td>...</td>\n",
       "    </tr>\n",
       "    <tr>\n",
       "      <th>9774</th>\n",
       "      <td>16024539</td>\n",
       "      <td>1622733</td>\n",
       "      <td>40.72413</td>\n",
       "      <td>-73.95090</td>\n",
       "      <td>2</td>\n",
       "      <td>14</td>\n",
       "      <td>0.70</td>\n",
       "      <td>1</td>\n",
       "      <td>93</td>\n",
       "    </tr>\n",
       "    <tr>\n",
       "      <th>9775</th>\n",
       "      <td>35235326</td>\n",
       "      <td>96659533</td>\n",
       "      <td>40.69447</td>\n",
       "      <td>-73.91364</td>\n",
       "      <td>2</td>\n",
       "      <td>5</td>\n",
       "      <td>4.17</td>\n",
       "      <td>2</td>\n",
       "      <td>301</td>\n",
       "    </tr>\n",
       "    <tr>\n",
       "      <th>9776</th>\n",
       "      <td>33471805</td>\n",
       "      <td>252191305</td>\n",
       "      <td>40.69090</td>\n",
       "      <td>-73.73193</td>\n",
       "      <td>1</td>\n",
       "      <td>34</td>\n",
       "      <td>11.21</td>\n",
       "      <td>1</td>\n",
       "      <td>61</td>\n",
       "    </tr>\n",
       "    <tr>\n",
       "      <th>9777</th>\n",
       "      <td>28534405</td>\n",
       "      <td>2891643</td>\n",
       "      <td>40.82146</td>\n",
       "      <td>-73.94598</td>\n",
       "      <td>1</td>\n",
       "      <td>0</td>\n",
       "      <td>NaN</td>\n",
       "      <td>1</td>\n",
       "      <td>0</td>\n",
       "    </tr>\n",
       "    <tr>\n",
       "      <th>9778</th>\n",
       "      <td>24395331</td>\n",
       "      <td>6059987</td>\n",
       "      <td>40.67718</td>\n",
       "      <td>-73.95566</td>\n",
       "      <td>1</td>\n",
       "      <td>2</td>\n",
       "      <td>0.17</td>\n",
       "      <td>1</td>\n",
       "      <td>0</td>\n",
       "    </tr>\n",
       "  </tbody>\n",
       "</table>\n",
       "<p>9779 rows × 9 columns</p>\n",
       "</div>"
      ],
      "text/plain": [
       "            id    host_id  latitude  longitude  minimum_nights  \\\n",
       "0     30913224   33771081  40.70959  -73.94652               3   \n",
       "1       971247    5308961  40.79368  -73.96487               3   \n",
       "2       414801     319077  40.68722  -73.96289               1   \n",
       "3     21815842    1931990  40.68859  -73.96035               3   \n",
       "4     13576581   78325795  40.80573  -73.94994               1   \n",
       "...        ...        ...       ...        ...             ...   \n",
       "9774  16024539    1622733  40.72413  -73.95090               2   \n",
       "9775  35235326   96659533  40.69447  -73.91364               2   \n",
       "9776  33471805  252191305  40.69090  -73.73193               1   \n",
       "9777  28534405    2891643  40.82146  -73.94598               1   \n",
       "9778  24395331    6059987  40.67718  -73.95566               1   \n",
       "\n",
       "      number_of_reviews  reviews_per_month  calculated_host_listings_count  \\\n",
       "0                     2               0.31                               1   \n",
       "1                   159               2.09                               1   \n",
       "2                    54               0.65                               4   \n",
       "3                     2               0.13                               1   \n",
       "4                   160               4.31                               3   \n",
       "...                 ...                ...                             ...   \n",
       "9774                 14               0.70                               1   \n",
       "9775                  5               4.17                               2   \n",
       "9776                 34              11.21                               1   \n",
       "9777                  0                NaN                               1   \n",
       "9778                  2               0.17                               1   \n",
       "\n",
       "      availability_365  \n",
       "0                    0  \n",
       "1                  244  \n",
       "2                  365  \n",
       "3                    0  \n",
       "4                  246  \n",
       "...                ...  \n",
       "9774                93  \n",
       "9775               301  \n",
       "9776                61  \n",
       "9777                 0  \n",
       "9778                 0  \n",
       "\n",
       "[9779 rows x 9 columns]"
      ]
     },
     "execution_count": 64,
     "metadata": {},
     "output_type": "execute_result"
    }
   ],
   "source": [
    "test1"
   ]
  },
  {
   "cell_type": "code",
   "execution_count": 50,
   "id": "8dca33e7",
   "metadata": {},
   "outputs": [
    {
     "data": {
      "text/html": [
       "<div>\n",
       "<style scoped>\n",
       "    .dataframe tbody tr th:only-of-type {\n",
       "        vertical-align: middle;\n",
       "    }\n",
       "\n",
       "    .dataframe tbody tr th {\n",
       "        vertical-align: top;\n",
       "    }\n",
       "\n",
       "    .dataframe thead th {\n",
       "        text-align: right;\n",
       "    }\n",
       "</style>\n",
       "<table border=\"1\" class=\"dataframe\">\n",
       "  <thead>\n",
       "    <tr style=\"text-align: right;\">\n",
       "      <th></th>\n",
       "      <th>price</th>\n",
       "    </tr>\n",
       "  </thead>\n",
       "  <tbody>\n",
       "    <tr>\n",
       "      <th>0</th>\n",
       "      <td>80</td>\n",
       "    </tr>\n",
       "    <tr>\n",
       "      <th>1</th>\n",
       "      <td>190</td>\n",
       "    </tr>\n",
       "    <tr>\n",
       "      <th>2</th>\n",
       "      <td>500</td>\n",
       "    </tr>\n",
       "    <tr>\n",
       "      <th>3</th>\n",
       "      <td>93</td>\n",
       "    </tr>\n",
       "    <tr>\n",
       "      <th>4</th>\n",
       "      <td>129</td>\n",
       "    </tr>\n",
       "    <tr>\n",
       "      <th>...</th>\n",
       "      <td>...</td>\n",
       "    </tr>\n",
       "    <tr>\n",
       "      <th>9774</th>\n",
       "      <td>75</td>\n",
       "    </tr>\n",
       "    <tr>\n",
       "      <th>9775</th>\n",
       "      <td>70</td>\n",
       "    </tr>\n",
       "    <tr>\n",
       "      <th>9776</th>\n",
       "      <td>50</td>\n",
       "    </tr>\n",
       "    <tr>\n",
       "      <th>9777</th>\n",
       "      <td>50</td>\n",
       "    </tr>\n",
       "    <tr>\n",
       "      <th>9778</th>\n",
       "      <td>95</td>\n",
       "    </tr>\n",
       "  </tbody>\n",
       "</table>\n",
       "<p>9779 rows × 1 columns</p>\n",
       "</div>"
      ],
      "text/plain": [
       "      price\n",
       "0        80\n",
       "1       190\n",
       "2       500\n",
       "3        93\n",
       "4       129\n",
       "...     ...\n",
       "9774     75\n",
       "9775     70\n",
       "9776     50\n",
       "9777     50\n",
       "9778     95\n",
       "\n",
       "[9779 rows x 1 columns]"
      ]
     },
     "execution_count": 50,
     "metadata": {},
     "output_type": "execute_result"
    }
   ],
   "source": [
    "y_test"
   ]
  }
 ],
 "metadata": {
  "kernelspec": {
   "display_name": "Python 3 (ipykernel)",
   "language": "python",
   "name": "python3"
  },
  "language_info": {
   "codemirror_mode": {
    "name": "ipython",
    "version": 3
   },
   "file_extension": ".py",
   "mimetype": "text/x-python",
   "name": "python",
   "nbconvert_exporter": "python",
   "pygments_lexer": "ipython3",
   "version": "3.9.7"
  }
 },
 "nbformat": 4,
 "nbformat_minor": 5
}
